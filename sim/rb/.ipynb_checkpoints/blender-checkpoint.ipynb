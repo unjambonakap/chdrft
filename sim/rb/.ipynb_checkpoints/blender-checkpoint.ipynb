{
 "cells": [
  {
   "cell_type": "code",
   "execution_count": 1,
   "id": "95a178a6",
   "metadata": {
    "ExecuteTime": {
     "end_time": "2022-04-15T22:11:04.360728Z",
     "start_time": "2022-04-15T22:11:02.080678Z"
    }
   },
   "outputs": [
    {
     "data": {
      "text/html": [
       "<style>.container { width:90% !important; }</style>"
      ],
      "text/plain": [
       "<IPython.core.display.HTML object>"
      ]
     },
     "metadata": {},
     "output_type": "display_data"
    },
    {
     "name": "stdout",
     "output_type": "stream",
     "text": [
      "Got exception No module named 'unicorn'\n",
      "False\n"
     ]
    }
   ],
   "source": [
    "init_jupyter()"
   ]
  },
  {
   "cell_type": "code",
   "execution_count": 2,
   "id": "46ddd1ef",
   "metadata": {
    "ExecuteTime": {
     "end_time": "2022-04-15T22:11:09.979676Z",
     "start_time": "2022-04-15T22:11:06.353079Z"
    }
   },
   "outputs": [
    {
     "name": "stdout",
     "output_type": "stream",
     "text": [
      "model:Launchers Pack/Rockets/SpaceX/F93_S2FuelTank\n",
      "model:Launchers Pack/Rockets/SpaceX/m1d/M1DV+\n",
      "model:Launchers Pack/Rockets/SpaceX/F9_FC\n",
      "model:Launchers Pack/Rockets/SpaceX/F9_1875mmPA\n",
      "model:Launchers Pack/Rockets/SpaceX/SpaceX_FalconPayloadFairing\n",
      "model:Launchers Pack/Rockets/SpaceX/KK_SpX_FRH\n",
      "model:Launchers Pack/Rockets/SpaceX/m1d/KK_Mvac_skirt\n",
      "model:Launchers Pack/Rockets/SpaceX/F93_Interstage\n",
      "model:Launchers Pack/Rockets/SpaceX/F93_S1FuelTank\n",
      "model:Launchers Pack/Rockets/SpaceX/KK_F9FT_landingLeg/KK_F9FT_landingLeg\n",
      "model:Launchers Pack/Rockets/SpaceX/F9FT_InterstageRCS\n",
      "model:Launchers Pack/Rockets/SpaceX/F92_Octaweb\n",
      "model:Launchers Pack/Rockets/SpaceX/m1d/KK_SpX_newMerlin_sf\n",
      "model:Squad/Parts/Utility/launchClamp1/model\n",
      "model:Launchers Pack/Rockets/SpaceX/FalconGridfin_FT\n"
     ]
    },
    {
     "data": {
      "text/plain": [
       "{'FINISHED'}"
      ]
     },
     "execution_count": 2,
     "metadata": {},
     "output_type": "execute_result"
    }
   ],
   "source": [
    "import bpy\n",
    "import sys\n",
    "import traceback as tb\n",
    "import addon_utils\n",
    "from mathutils import Matrix\n",
    "from chdrft.display.blender import clear_scene\n",
    "\n",
    "addon_utils.enable('io_kspblender')\n",
    "clear_scene()\n",
    "bpy.context.preferences.addons.get('io_object_mu').preferences.GameData = '/home/benoit/work/links/Kerbal Space Program/GameData'\n",
    "\n",
    "#bpy.ops.import_object.ksp_mu(filepath=\"/home/benoit/programmation/projects/ksp/assets/M1DV+.mu\")\n",
    "bpy.ops.import_object.ksp_craft(filepath=\"/home/benoit/work/links/Kerbal Space Program/saves/aaa/Ships/VAB/SpaceX Falcon 9 Block 5.craft\")\n",
    "\n",
    "#bpy.ops.export_mesh2.stl(filepath='/tmp/res.stl', use_selection=True, use_mesh_modifiers=False)\n",
    "#return\n"
   ]
  },
  {
   "cell_type": "code",
   "execution_count": 39,
   "id": "5843b5bf",
   "metadata": {},
   "outputs": [],
   "source": [
    "b = bpy.data.objects['KK.SPX.Merlin1DV+']\n",
    "a = bpy.data.collections['KK.SPX.Merlin1D++:partmodel']"
   ]
  },
  {
   "cell_type": "code",
   "execution_count": 41,
   "id": "41bc9970",
   "metadata": {},
   "outputs": [
    {
     "name": "stdout",
     "output_type": "stream",
     "text": [
      "name = KK_SPX_Merlin1D++\n",
      "module = Part\n",
      "author = Kartoffelkuchen\n",
      "scale = 1\n",
      "rescaleFactor = 1\n",
      "node_stack_top = 0.0, 0.514296, 0.0, 0.0, 1.0, 0.0, 0\n",
      "TechRequired = advRocketry\n",
      "entryCost = 10000\n",
      "cost = 4000\n",
      "category = Propulsion\n",
      "subcategory = 0\n",
      "title = SpaceX Merlin 1D Full Thrust+\n",
      "manufacturer = KK Research and Development Laboratory\n",
      "description = An uprated-uprated Merlin 1D engine. There are no structural differences, the only change was that a computer got a new variable for the throttle. The thrust was increased by 11.78%.\n",
      "attachRules = 1,0,1,0,0\n",
      "mass = 0.49\n",
      "heatConductivity = 0.1\n",
      "skinInternalConductionMult = 3.0\n",
      "emissiveConstant = 0.85\n",
      "dragModelType = default\n",
      "maximum_drag = 0.2\n",
      "minimum_drag = 0.2\n",
      "angularDrag = 2\n",
      "crashTolerance = 7\n",
      "breakingForce = 200\n",
      "breakingTorque = 200\n",
      "maxTemp = 2000\n",
      "bulkheadProfiles = size3\n",
      "MODEL {\n",
      "    model = Launchers Pack/Rockets/SpaceX/m1d/KK_SpX_newMerlin_sf\n",
      "    scale = 1,1,1\n",
      "}\n",
      "\n",
      "EFFECTS {\n",
      "    engine_running_closed {\n",
      "        AUDIO {\n",
      "            channel = Ship\n",
      "            clip = sound_rocket_hard\n",
      "            volume = 0.0 0.0\n",
      "            volume = 1.0 1.0\n",
      "            pitch = 0.0 0.2\n",
      "            pitch = 1.0 1.0\n",
      "            loop = true\n",
      "        }\n",
      "\n",
      "        PREFAB_PARTICLE {\n",
      "            prefabName = fx_smokeTrail_light\n",
      "            transformName = smokePoint\n",
      "            emission = 0.0 0.0\n",
      "            emission = 0.05 0.0\n",
      "            emission = 0.075 0.25\n",
      "            emission = 1.0 1.25\n",
      "            speed = 0.0 0.25\n",
      "            speed = 1.0 1.0\n",
      "            localOffset = 0, 0, 1\n",
      "        }\n",
      "\n",
      "        MODEL_MULTI_PARTICLE {\n",
      "            modelName = Squad/FX/ksX_Exhaust\n",
      "            transformName = thrustTransform\n",
      "            emission = 0.0 0.0\n",
      "            emission = 0.05 0.0\n",
      "            emission = 0.075 0.25\n",
      "            emission = 1.0 1.25\n",
      "            speed = 0.0 0.5\n",
      "            speed = 1.0 1.2\n",
      "        }\n",
      "\n",
      "    }\n",
      "\n",
      "    engage {\n",
      "        AUDIO {\n",
      "            channel = Ship\n",
      "            clip = sound_vent_soft\n",
      "            volume = 1.0\n",
      "            pitch = 2.0\n",
      "            loop = false\n",
      "        }\n",
      "\n",
      "    }\n",
      "\n",
      "    flameout {\n",
      "        PREFAB_PARTICLE {\n",
      "            prefabName = fx_exhaustSparks_flameout_2\n",
      "            transformName = thrustTransform\n",
      "            oneShot = true\n",
      "        }\n",
      "\n",
      "        AUDIO {\n",
      "            channel = Ship\n",
      "            clip = sound_explosion_low\n",
      "            volume = 1.0\n",
      "            pitch = 2.0\n",
      "            loop = false\n",
      "        }\n",
      "\n",
      "    }\n",
      "\n",
      "}\n",
      "\n",
      "MODULE {\n",
      "    name = ModuleEnginesFX\n",
      "    thrustVectorTransformName = thrustTransform\n",
      "    engineID = M1D_nozzle\n",
      "    runningEffectName = engine_running_closed\n",
      "    exhaustDamage = True\n",
      "    ignitionThreshold = 0.1\n",
      "    minThrust = 0\n",
      "    maxThrust = 425\n",
      "    useEngineResponseTime = True\n",
      "    engineAccelerationSpeed = 5\n",
      "    engineDecelerationSpeed = 20\n",
      "    heatProduction = 350\n",
      "    fxOffset = 0, 0, 1.5\n",
      "    EngineType = LiquidFuel\n",
      "    PROPELLANT {\n",
      "        name = LiquidFuel\n",
      "        ratio = 0.9\n",
      "        DrawGauge = True\n",
      "    }\n",
      "\n",
      "    PROPELLANT {\n",
      "        name = Oxidizer\n",
      "        ratio = 1.1\n",
      "    }\n",
      "\n",
      "    atmosphereCurve {\n",
      "        key = 0 260\n",
      "        key = 1 230\n",
      "        key = 5 0.001\n",
      "    }\n",
      "\n",
      "}\n",
      "\n",
      "MODULE {\n",
      "    name = ModuleGimbal\n",
      "    gimbalTransformName = gimbal\n",
      "    gimbalRange = 4.0\n",
      "    gimbalResponseSpeed = 20\n",
      "    useGimbalResponseSpeed = true\n",
      "}\n",
      "\n",
      "MODULE {\n",
      "    name = FXModuleAnimateThrottle\n",
      "    animationName = KK_SpX_newMerlin_sf_heat\n",
      "    responseSpeed = 0.0025\n",
      "    dependOnEngineState = True\n",
      "    dependOnThrottle = True\n",
      "}\n",
      "\n",
      "MODULE {\n",
      "    name = ModuleSurfaceFX\n",
      "    thrustProviderModuleIndex = 0\n",
      "    fxMax = 1\n",
      "    maxDistance = 100\n",
      "    falloff = 2\n",
      "    thrustTransformName = thrustTransform\n",
      "}\n",
      "\n",
      "MODULE {\n",
      "    name = KOSNameTag\n",
      "}\n",
      "\n",
      "\n",
      "Saved session recovery to '/tmp/quit.blend'\n",
      "Writing userprefs: '/home/benoit/.config/blender/3.0/config/userpref.blend' ok\n",
      "Info: Preferences saved\n",
      "\taddon_utils.disable io_anim_bvh\n",
      "\taddon_utils.disable io_curve_svg\n",
      "\taddon_utils.disable io_mesh_ply\n",
      "Exception in module unregister(): '/usr/share/blender/3.0/scripts/addons/io_mesh_stl/__init__.py'\n",
      "\taddon_utils.disable io_mesh_stl\n",
      "\taddon_utils.disable io_mesh_uv_layout\n",
      "\taddon_utils.disable io_scene_fbx\n",
      "\taddon_utils.disable io_scene_gltf2\n",
      "\taddon_utils.disable io_scene_obj\n",
      "\taddon_utils.disable io_scene_x3d\n",
      "\taddon_utils.disable cycles\n",
      "\taddon_utils.disable pose_library\n",
      "\taddon_utils.disable io_object_mu\n",
      "\taddon_utils.disable io_mesh_stl2\n"
     ]
    },
    {
     "name": "stderr",
     "output_type": "stream",
     "text": [
      "Traceback (most recent call last):\n",
      "  File \"/usr/share/blender/3.0/scripts/modules/addon_utils.py\", line 439, in disable\n",
      "    mod.unregister()\n",
      "  File \"/usr/share/blender/3.0/scripts/addons/io_mesh_stl/__init__.py\", line 440, in unregister\n",
      "    bpy.utils.unregister_class(cls)\n",
      "RuntimeError: unregister_class(...):, missing bl_rna attribute from 'RNAMeta' instance (may not be registered)\n"
     ]
    }
   ],
   "source": [
    "print(a.mumodelprops.config)"
   ]
  },
  {
   "cell_type": "code",
   "execution_count": 38,
   "id": "8829f730",
   "metadata": {},
   "outputs": [
    {
     "name": "stdout",
     "output_type": "stream",
     "text": [
      ">>>  craft_collection <<< \n",
      ">>>  KK.SPX.F9.1875mmPA:partmodel <<< name = KK_\n",
      ">>>  KK.SPX.F9.Octaweb:partmodel <<< name = KK_\n",
      ">>>  KK.SPX.F93.interstage:partmodel <<< name = KK_\n",
      ">>>  KK.SPX.F93.S1tank:partmodel <<< name = KK_\n",
      ">>>  KK.SPX.F93.S2tank:partmodel <<< name = KK_\n",
      ">>>  KK.SPX.F9FT.Interstage.RCS:partmodel <<< name = KK_\n",
      ">>>  KK.SPX.F9LandingLeg:partmodel <<< name = KK_\n",
      ">>>  KK.SPX.Falcon9.FC:partmodel <<< name = KK_\n",
      ">>>  KK.SPX.FalconGridfin.FT:partmodel <<< name = KK_\n",
      ">>>  KK.SPX.FalconPayloadFairing:partmodel <<< name = KK_\n",
      ">>>  KK.SpX.FRH:partmodel <<< name = KK_\n",
      ">>>  KK.SPX.Merlin1D++:partmodel <<< name = KK_\n",
      ">>>  KK.SPX.Merlin1DV+:partmodel <<< name = KK_\n",
      ">>>  KK.SpX.Mvac.skirt:partmodel <<< name = KK_\n",
      ">>>  launchClamp1:partmodel <<< name = lau\n",
      ">>>  loaded_models <<< \n",
      ">>>  loaded_parts <<< \n",
      ">>>  model:Launchers Pack/Rockets/SpaceX/F92_Octaweb <<< \n",
      ">>>  model:Launchers Pack/Rockets/SpaceX/F93_Interstage <<< \n",
      ">>>  model:Launchers Pack/Rockets/SpaceX/F93_S1FuelTank <<< \n",
      ">>>  model:Launchers Pack/Rockets/SpaceX/F93_S2FuelTank <<< \n",
      ">>>  model:Launchers Pack/Rockets/SpaceX/F9_1875mmPA <<< \n",
      ">>>  model:Launchers Pack/Rockets/SpaceX/F9_FC <<< \n",
      ">>>  model:Launchers Pack/Rockets/SpaceX/F9FT_InterstageRCS <<< \n",
      ">>>  model:Launchers Pack/Rockets/SpaceX/FalconGridfin_FT <<< \n",
      ">>>  model:Launchers Pack/Rockets/SpaceX/KK_F9FT_landingLeg/KK_F9FT_ <<< \n",
      ">>>  model:Launchers Pack/Rockets/SpaceX/KK_SpX_FRH <<< \n",
      ">>>  model:Launchers Pack/Rockets/SpaceX/m1d/KK_Mvac_skirt <<< \n",
      ">>>  model:Launchers Pack/Rockets/SpaceX/m1d/KK_SpX_newMerlin_sf <<< \n",
      ">>>  model:Launchers Pack/Rockets/SpaceX/m1d/M1DV+ <<< \n",
      ">>>  model:Launchers Pack/Rockets/SpaceX/SpaceX_FalconPayloadFairing <<< \n",
      ">>>  model:Squad/Parts/Utility/launchClamp1/model <<< \n",
      ">>>  SpaceX Falcon 9 Block 5 <<< \n"
     ]
    }
   ],
   "source": [
    "for x in bpy.data.collections:\n",
    "    print('>>> ', x.name, '<<<', x.mumodelprops.config[:10])"
   ]
  },
  {
   "cell_type": "code",
   "execution_count": 34,
   "id": "bbd6476b",
   "metadata": {},
   "outputs": [
    {
     "ename": "AttributeError",
     "evalue": "'Object' object has no attribute 'mumodelprops'",
     "output_type": "error",
     "traceback": [
      "\u001b[0;31m---------------------------------------------------------------------------\u001b[0m",
      "\u001b[0;31mAttributeError\u001b[0m                            Traceback (most recent call last)",
      "Input \u001b[0;32mIn [34]\u001b[0m, in \u001b[0;36m<module>\u001b[0;34m\u001b[0m\n\u001b[0;32m----> 1\u001b[0m \u001b[43mb\u001b[49m\u001b[38;5;241;43m.\u001b[39;49m\u001b[43mmumodelprops\u001b[49m\u001b[38;5;241m.\u001b[39mconfig\n",
      "\u001b[0;31mAttributeError\u001b[0m: 'Object' object has no attribute 'mumodelprops'"
     ]
    }
   ],
   "source": [
    "b.mumodelprops.config"
   ]
  },
  {
   "cell_type": "code",
   "execution_count": 30,
   "id": "7fc8a091",
   "metadata": {},
   "outputs": [
    {
     "data": {
      "text/plain": [
       "bpy.data.objects['KK.SPX.Merlin1DV+'].muproperties"
      ]
     },
     "execution_count": 30,
     "metadata": {},
     "output_type": "execute_result"
    }
   ],
   "source": [
    "b.muproperties.i"
   ]
  },
  {
   "cell_type": "code",
   "execution_count": 13,
   "id": "a783fe85",
   "metadata": {},
   "outputs": [],
   "source": [
    "u = x.to_mesh()"
   ]
  },
  {
   "cell_type": "code",
   "execution_count": 9,
   "id": "4a8d896f",
   "metadata": {},
   "outputs": [
    {
     "name": "stdout",
     "output_type": "stream",
     "text": [
      "<bpy_struct, Object(\"KK_SpX_MvacDp\") at 0x7f4c3dfc5008>\n",
      "<bpy_struct, Object(\"top\") at 0x7f4c3dfc5608>\n",
      "<bpy_struct, Object(\"gimbal\") at 0x7f4c3dfc5c08>\n",
      "<bpy_struct, Object(\"main\") at 0x7f4c3dfc6208>\n",
      "<bpy_struct, Object(\"a1\") at 0x7f4c3dfc6808>\n",
      "<bpy_struct, Object(\"Cube_000\") at 0x7f4c3dfc6e08>\n",
      "<bpy_struct, Object(\"Cube_002\") at 0x7f4c3dfc7408>\n",
      "<bpy_struct, Object(\"Cylinder_004\") at 0x7f4c3dfc7a08>\n",
      "<bpy_struct, Object(\"a2\") at 0x7f4c3dcf4008>\n",
      "<bpy_struct, Object(\"Cube_001\") at 0x7f4c3dcf4608>\n",
      "<bpy_struct, Object(\"Cube_003\") at 0x7f4c3dcf4c08>\n",
      "<bpy_struct, Object(\"Cylinder_005\") at 0x7f4c3dcf5208>\n",
      "<bpy_struct, Object(\"fuelpipes\") at 0x7f4c3dcf5808>\n",
      "<bpy_struct, Object(\"holderringbig\") at 0x7f4c3dcf5e08>\n",
      "<bpy_struct, Object(\"nozzle\") at 0x7f4c3dcf6408>\n",
      "<bpy_struct, Object(\"nozzle_collider\") at 0x7f4c3dcf6a08>\n",
      "<bpy_struct, Object(\"smokePoint\") at 0x7f4c3dfb9008>\n",
      "<bpy_struct, Object(\"thrustTransform\") at 0x7f4c3dfb9608>\n",
      "<bpy_struct, Object(\"ringbig\") at 0x7f4c3dfb9c08>\n",
      "<bpy_struct, Object(\"turbopump\") at 0x7f4c3dfba208>\n"
     ]
    }
   ],
   "source": [
    "for x in a.objects:\n",
    "    print(x)"
   ]
  },
  {
   "cell_type": "code",
   "execution_count": 9,
   "id": "ee8ee20d",
   "metadata": {},
   "outputs": [
    {
     "ename": "NameError",
     "evalue": "name 'MeshExporter' is not defined",
     "output_type": "error",
     "traceback": [
      "\u001b[0;31m---------------------------------------------------------------------------\u001b[0m",
      "\u001b[0;31mNameError\u001b[0m                                 Traceback (most recent call last)",
      "Input \u001b[0;32mIn [9]\u001b[0m, in \u001b[0;36m<module>\u001b[0;34m\u001b[0m\n\u001b[1;32m      3\u001b[0m objname \u001b[38;5;241m=\u001b[39m \u001b[38;5;124m'\u001b[39m\u001b[38;5;124mKK.SPX.F9FT.Interstage.RCS\u001b[39m\u001b[38;5;124m'\u001b[39m\n\u001b[1;32m      4\u001b[0m obj \u001b[38;5;241m=\u001b[39m bpy\u001b[38;5;241m.\u001b[39mdata\u001b[38;5;241m.\u001b[39mobjects[objname]\n\u001b[0;32m----> 5\u001b[0m me \u001b[38;5;241m=\u001b[39m \u001b[43mMeshExporter\u001b[49m(bl\u001b[38;5;241m=\u001b[39m\u001b[38;5;28;01mlambda\u001b[39;00m x: \u001b[38;5;124m'\u001b[39m\u001b[38;5;124mlaunchClamp\u001b[39m\u001b[38;5;124m'\u001b[39m \u001b[38;5;129;01min\u001b[39;00m x \u001b[38;5;129;01mor\u001b[39;00m \u001b[38;5;124m'\u001b[39m\u001b[38;5;124mKK.SpX.FRH\u001b[39m\u001b[38;5;124m'\u001b[39m \u001b[38;5;129;01min\u001b[39;00m x \u001b[38;5;129;01mor\u001b[39;00m \u001b[38;5;124m'\u001b[39m\u001b[38;5;124mGridfin\u001b[39m\u001b[38;5;124m'\u001b[39m \u001b[38;5;129;01min\u001b[39;00m x \u001b[38;5;129;01mor\u001b[39;00m \u001b[38;5;124m'\u001b[39m\u001b[38;5;124mLandingLeg\u001b[39m\u001b[38;5;124m'\u001b[39m \u001b[38;5;129;01min\u001b[39;00m x)\n\u001b[1;32m      6\u001b[0m me\u001b[38;5;241m.\u001b[39mwalk(obj, Matrix())\n\u001b[1;32m      7\u001b[0m \u001b[38;5;28mlen\u001b[39m(me\u001b[38;5;241m.\u001b[39mdata)\n",
      "\u001b[0;31mNameError\u001b[0m: name 'MeshExporter' is not defined"
     ]
    }
   ],
   "source": [
    "objname = 'KK_SpX_MvacDp'\n",
    "objname = 'SpaceX Falcon 9 Block 5'\n",
    "obj = bpy.data.objects[objname]\n",
    "me = MeshExporter(bl=lambda x: 'launchClamp' in x or 'KK.SpX.FRH' in x or 'Gridfin' in x or 'LandingLeg' in x)\n",
    "me.walk(obj, Matrix())\n",
    "len(me.data)"
   ]
  },
  {
   "cell_type": "code",
   "execution_count": 3,
   "id": "1005917e",
   "metadata": {
    "ExecuteTime": {
     "end_time": "2022-04-15T22:11:59.479300Z",
     "start_time": "2022-04-15T22:11:55.230085Z"
    }
   },
   "outputs": [
    {
     "name": "stderr",
     "output_type": "stream",
     "text": [
      "/home/benoit/.virtualenvs/env3.10/lib/python3.10/site-packages/meshio/stl/_stl.py:205: RuntimeWarning: invalid value encountered in true_divide\n",
      "  normals = (normals.T / nrm).T\n"
     ]
    }
   ],
   "source": [
    "from chdrft.display.blender import blender_obj_to_meshio\n",
    "filter_bad = lambda x: 'launchClamp' in x or 'KK.SpX.FRH' in x or 'Gridfin' in x or 'LandingLeg' in x\n",
    "\n",
    "objname = 'KK_SpX_MvacDp'\n",
    "objname = 'KK.SPX.F9FT.Interstage.RCS'\n",
    "objname = 'SpaceX Falcon 9 Block 5'\n",
    "obj = bpy.data.objects[objname]\n",
    "res = blender_obj_to_meshio(obj, filter_bad)"
   ]
  },
  {
   "cell_type": "code",
   "execution_count": 6,
   "id": "115533a2",
   "metadata": {
    "ExecuteTime": {
     "end_time": "2022-04-15T22:15:43.986382Z",
     "start_time": "2022-04-15T22:15:40.719345Z"
    }
   },
   "outputs": [
    {
     "name": "stderr",
     "output_type": "stream",
     "text": [
      "/home/benoit/.virtualenvs/env3.10/lib/python3.10/site-packages/meshio/stl/_stl.py:205: RuntimeWarning: invalid value encountered in true_divide\n",
      "  normals = (normals.T / nrm).T\n"
     ]
    }
   ],
   "source": [
    "res.write('/home/benoit/programmation/projects/rockets/data/block5.stl')"
   ]
  },
  {
   "cell_type": "code",
   "execution_count": 5,
   "id": "9f797a9e",
   "metadata": {
    "ExecuteTime": {
     "end_time": "2022-04-15T22:13:09.685604Z",
     "start_time": "2022-04-15T22:13:09.681393Z"
    }
   },
   "outputs": [
    {
     "data": {
      "text/plain": [
       "'/home/benoit'"
      ]
     },
     "execution_count": 5,
     "metadata": {},
     "output_type": "execute_result"
    }
   ],
   "source": [
    "import os\n",
    "os.getcwd()"
   ]
  },
  {
   "cell_type": "code",
   "execution_count": null,
   "id": "eb33f38a",
   "metadata": {},
   "outputs": [],
   "source": []
  },
  {
   "cell_type": "code",
   "execution_count": 28,
   "id": "81343298",
   "metadata": {},
   "outputs": [
    {
     "name": "stdout",
     "output_type": "stream",
     "text": [
      "['SpaceX Falcon 9 Block 5', 'KK.SPX.F93.S2tank', 'KK.SPX.F93.S2tank:model', 'KK.SPX.F93.S2tank:submodel', 'F913_S2FuelTank', 'F912_S2FuelTank']\n",
      "['SpaceX Falcon 9 Block 5', 'KK.SPX.F93.S2tank', 'KK.SPX.F93.S2tank:model', 'KK.SPX.F93.S2tank:submodel', 'F913_S2FuelTank', 'S2_RCS']\n",
      "['SpaceX Falcon 9 Block 5', 'KK.SPX.F93.S2tank', 'KK.SPX.F93.S2tank:model', 'KK.SPX.F93.S2tank:submodel', 'F913_S2FuelTank', 'S2_RCS.001']\n",
      "['SpaceX Falcon 9 Block 5', 'KK.SPX.Merlin1DV+', 'KK.SPX.Merlin1DV+:model', 'KK.SPX.Merlin1DV+:submodel', 'KK_SpX_MvacDp', 'gimbal', 'main', 'a1', 'Cube_000']\n",
      "['SpaceX Falcon 9 Block 5', 'KK.SPX.Merlin1DV+', 'KK.SPX.Merlin1DV+:model', 'KK.SPX.Merlin1DV+:submodel', 'KK_SpX_MvacDp', 'gimbal', 'main', 'a1', 'Cube_002']\n",
      "['SpaceX Falcon 9 Block 5', 'KK.SPX.Merlin1DV+', 'KK.SPX.Merlin1DV+:model', 'KK.SPX.Merlin1DV+:submodel', 'KK_SpX_MvacDp', 'gimbal', 'main', 'a1', 'Cylinder_004']\n",
      "['SpaceX Falcon 9 Block 5', 'KK.SPX.Merlin1DV+', 'KK.SPX.Merlin1DV+:model', 'KK.SPX.Merlin1DV+:submodel', 'KK_SpX_MvacDp', 'gimbal', 'main', 'a2', 'Cube_001']\n",
      "['SpaceX Falcon 9 Block 5', 'KK.SPX.Merlin1DV+', 'KK.SPX.Merlin1DV+:model', 'KK.SPX.Merlin1DV+:submodel', 'KK_SpX_MvacDp', 'gimbal', 'main', 'a2', 'Cube_003']\n",
      "['SpaceX Falcon 9 Block 5', 'KK.SPX.Merlin1DV+', 'KK.SPX.Merlin1DV+:model', 'KK.SPX.Merlin1DV+:submodel', 'KK_SpX_MvacDp', 'gimbal', 'main', 'a2', 'Cylinder_005']\n",
      "['SpaceX Falcon 9 Block 5', 'KK.SPX.Merlin1DV+', 'KK.SPX.Merlin1DV+:model', 'KK.SPX.Merlin1DV+:submodel', 'KK_SpX_MvacDp', 'gimbal', 'main', 'fuelpipes']\n",
      "['SpaceX Falcon 9 Block 5', 'KK.SPX.Merlin1DV+', 'KK.SPX.Merlin1DV+:model', 'KK.SPX.Merlin1DV+:submodel', 'KK_SpX_MvacDp', 'gimbal', 'main', 'holderringbig']\n",
      "['SpaceX Falcon 9 Block 5', 'KK.SPX.Merlin1DV+', 'KK.SPX.Merlin1DV+:model', 'KK.SPX.Merlin1DV+:submodel', 'KK_SpX_MvacDp', 'gimbal', 'main', 'nozzle']\n",
      "['SpaceX Falcon 9 Block 5', 'KK.SPX.Merlin1DV+', 'KK.SPX.Merlin1DV+:model', 'KK.SPX.Merlin1DV+:submodel', 'KK_SpX_MvacDp', 'gimbal', 'main', 'ringbig']\n",
      "['SpaceX Falcon 9 Block 5', 'KK.SPX.Merlin1DV+', 'KK.SPX.Merlin1DV+:model', 'KK.SPX.Merlin1DV+:submodel', 'KK_SpX_MvacDp', 'gimbal', 'main', 'turbopump']\n",
      "['SpaceX Falcon 9 Block 5', 'KK.SPX.Merlin1DV+', 'KK.SPX.Merlin1DV+:model', 'KK.SPX.Merlin1DV+:submodel', 'KK_SpX_MvacDp', 'gimbal', 'main']\n",
      "['SpaceX Falcon 9 Block 5', 'KK.SPX.Merlin1DV+', 'KK.SPX.Merlin1DV+:model', 'KK.SPX.Merlin1DV+:submodel', 'KK_SpX_MvacDp', 'top']\n",
      "['SpaceX Falcon 9 Block 5', 'KK.SPX.Falcon9.FC', 'KK.SPX.Falcon9.FC:model', 'KK.SPX.Falcon9.FC:submodel', 'Falcon9_flightcomputer', 'F9_fc']\n",
      "['SpaceX Falcon 9 Block 5', 'KK.SPX.F9.1875mmPA', 'KK.SPX.F9.1875mmPA:model', 'KK.SPX.F9.1875mmPA:submodel', 'Falcon1875mmPA', 'Falcon1875mmPA.001']\n",
      "['SpaceX Falcon 9 Block 5', 'KK.SPX.FalconPayloadFairing', 'KK.SPX.FalconPayloadFairing:model', 'KK.SPX.FalconPayloadFairing:submodel', 'Falcon_PayloadFairing', 'SpaceX_BigFairing']\n",
      "['SpaceX Falcon 9 Block 5', 'KK.SpX.Mvac.skirt', 'KK.SpX.Mvac.skirt:model', 'KK.SpX.Mvac.skirt:submodel', 'KK_Mvac_skirt', 'skirt_unity']\n",
      "['SpaceX Falcon 9 Block 5', 'KK.SPX.F93.interstage', 'KK.SPX.F93.interstage:model', 'KK.SPX.F93.interstage:submodel', 'F93_Interstage', 'F912_Interstage', 'Interstage']\n",
      "['SpaceX Falcon 9 Block 5', 'KK.SPX.F93.S1tank', 'KK.SPX.F93.S1tank:model', 'KK.SPX.F93.S1tank:submodel', 'F913_S1Fueltank', 'F913_S1FuelTank']\n",
      "['SpaceX Falcon 9 Block 5', 'KK.SPX.Falcon9.FC.001', 'KK.SPX.Falcon9.FC:model', 'KK.SPX.Falcon9.FC:submodel', 'Falcon9_flightcomputer', 'F9_fc']\n",
      "['SpaceX Falcon 9 Block 5', 'KK.SPX.F9FT.Interstage.RCS', 'KK.SPX.F9FT.Interstage.RCS:model', 'KK.SPX.F9FT.Interstage.RCS:submodel', 'F9FullThrust_InterstageRCS', 'F9FT_Interstage_RCS']\n",
      "['SpaceX Falcon 9 Block 5', 'KK.SPX.F9FT.Interstage.RCS.001', 'KK.SPX.F9FT.Interstage.RCS:model', 'KK.SPX.F9FT.Interstage.RCS:submodel', 'F9FullThrust_InterstageRCS', 'F9FT_Interstage_RCS']\n",
      "['SpaceX Falcon 9 Block 5', 'KK.SPX.F9.Octaweb', 'KK.SPX.F9.Octaweb:model', 'KK.SPX.F9.Octaweb:submodel', 'F92+_Octaweb', 'Octaweb', 'cover01']\n",
      "['SpaceX Falcon 9 Block 5', 'KK.SPX.F9.Octaweb', 'KK.SPX.F9.Octaweb:model', 'KK.SPX.F9.Octaweb:submodel', 'F92+_Octaweb', 'Octaweb', 'cover02']\n",
      "['SpaceX Falcon 9 Block 5', 'KK.SPX.F9.Octaweb', 'KK.SPX.F9.Octaweb:model', 'KK.SPX.F9.Octaweb:submodel', 'F92+_Octaweb', 'Octaweb', 'cover03']\n",
      "['SpaceX Falcon 9 Block 5', 'KK.SPX.F9.Octaweb', 'KK.SPX.F9.Octaweb:model', 'KK.SPX.F9.Octaweb:submodel', 'F92+_Octaweb', 'Octaweb', 'cover04']\n",
      "['SpaceX Falcon 9 Block 5', 'KK.SPX.F9.Octaweb', 'KK.SPX.F9.Octaweb:model', 'KK.SPX.F9.Octaweb:submodel', 'F92+_Octaweb', 'Octaweb', 'cover05']\n",
      "['SpaceX Falcon 9 Block 5', 'KK.SPX.F9.Octaweb', 'KK.SPX.F9.Octaweb:model', 'KK.SPX.F9.Octaweb:submodel', 'F92+_Octaweb', 'Octaweb', 'cover06']\n",
      "['SpaceX Falcon 9 Block 5', 'KK.SPX.F9.Octaweb', 'KK.SPX.F9.Octaweb:model', 'KK.SPX.F9.Octaweb:submodel', 'F92+_Octaweb', 'Octaweb', 'cover07']\n",
      "['SpaceX Falcon 9 Block 5', 'KK.SPX.F9.Octaweb', 'KK.SPX.F9.Octaweb:model', 'KK.SPX.F9.Octaweb:submodel', 'F92+_Octaweb', 'Octaweb', 'cover08']\n",
      "['SpaceX Falcon 9 Block 5', 'KK.SPX.F9.Octaweb', 'KK.SPX.F9.Octaweb:model', 'KK.SPX.F9.Octaweb:submodel', 'F92+_Octaweb', 'Octaweb', 'Octaweb.001']\n",
      "['SpaceX Falcon 9 Block 5', 'KK.SPX.Merlin1D++', 'KK.SPX.Merlin1D++:model', 'KK.SPX.Merlin1D++:submodel', 'KK_SpX_newMerlin_sf', 'rot', 'feed_ox']\n",
      "['SpaceX Falcon 9 Block 5', 'KK.SPX.Merlin1D++', 'KK.SPX.Merlin1D++:model', 'KK.SPX.Merlin1D++:submodel', 'KK_SpX_newMerlin_sf', 'rot', 'feed_turbo']\n",
      "['SpaceX Falcon 9 Block 5', 'KK.SPX.Merlin1D++', 'KK.SPX.Merlin1D++:model', 'KK.SPX.Merlin1D++:submodel', 'KK_SpX_newMerlin_sf', 'rot', 'gimbal.001', 'actuator_base', 'actuator', 'actuator_top']\n",
      "['SpaceX Falcon 9 Block 5', 'KK.SPX.Merlin1D++', 'KK.SPX.Merlin1D++:model', 'KK.SPX.Merlin1D++:submodel', 'KK_SpX_newMerlin_sf', 'rot', 'gimbal.001', 'actuator_base', 'actuator']\n",
      "['SpaceX Falcon 9 Block 5', 'KK.SPX.Merlin1D++', 'KK.SPX.Merlin1D++:model', 'KK.SPX.Merlin1D++:submodel', 'KK_SpX_newMerlin_sf', 'rot', 'gimbal.001', 'actuator_base']\n",
      "['SpaceX Falcon 9 Block 5', 'KK.SPX.Merlin1D++', 'KK.SPX.Merlin1D++:model', 'KK.SPX.Merlin1D++:submodel', 'KK_SpX_newMerlin_sf', 'rot', 'gimbal.001', 'actuator_base_001', 'actuator_001', 'actuator_top_001']\n",
      "['SpaceX Falcon 9 Block 5', 'KK.SPX.Merlin1D++', 'KK.SPX.Merlin1D++:model', 'KK.SPX.Merlin1D++:submodel', 'KK_SpX_newMerlin_sf', 'rot', 'gimbal.001', 'actuator_base_001', 'actuator_001']\n",
      "['SpaceX Falcon 9 Block 5', 'KK.SPX.Merlin1D++', 'KK.SPX.Merlin1D++:model', 'KK.SPX.Merlin1D++:submodel', 'KK_SpX_newMerlin_sf', 'rot', 'gimbal.001', 'actuator_base_001']\n",
      "['SpaceX Falcon 9 Block 5', 'KK.SPX.Merlin1D++', 'KK.SPX.Merlin1D++:model', 'KK.SPX.Merlin1D++:submodel', 'KK_SpX_newMerlin_sf', 'rot', 'gimbal.001', 'feed_lf']\n",
      "['SpaceX Falcon 9 Block 5', 'KK.SPX.Merlin1D++', 'KK.SPX.Merlin1D++:model', 'KK.SPX.Merlin1D++:submodel', 'KK_SpX_newMerlin_sf', 'rot', 'gimbal.001']\n",
      "['SpaceX Falcon 9 Block 5', 'KK.SPX.Merlin1D++', 'KK.SPX.Merlin1D++:model', 'KK.SPX.Merlin1D++:submodel', 'KK_SpX_newMerlin_sf', 'rot', 'turbo']\n",
      "['SpaceX Falcon 9 Block 5', 'KK.SPX.Merlin1D++.001', 'KK.SPX.Merlin1D++:model', 'KK.SPX.Merlin1D++:submodel', 'KK_SpX_newMerlin_sf', 'rot', 'feed_ox']\n",
      "['SpaceX Falcon 9 Block 5', 'KK.SPX.Merlin1D++.001', 'KK.SPX.Merlin1D++:model', 'KK.SPX.Merlin1D++:submodel', 'KK_SpX_newMerlin_sf', 'rot', 'feed_turbo']\n",
      "['SpaceX Falcon 9 Block 5', 'KK.SPX.Merlin1D++.001', 'KK.SPX.Merlin1D++:model', 'KK.SPX.Merlin1D++:submodel', 'KK_SpX_newMerlin_sf', 'rot', 'gimbal.001', 'actuator_base', 'actuator', 'actuator_top']\n",
      "['SpaceX Falcon 9 Block 5', 'KK.SPX.Merlin1D++.001', 'KK.SPX.Merlin1D++:model', 'KK.SPX.Merlin1D++:submodel', 'KK_SpX_newMerlin_sf', 'rot', 'gimbal.001', 'actuator_base', 'actuator']\n",
      "['SpaceX Falcon 9 Block 5', 'KK.SPX.Merlin1D++.001', 'KK.SPX.Merlin1D++:model', 'KK.SPX.Merlin1D++:submodel', 'KK_SpX_newMerlin_sf', 'rot', 'gimbal.001', 'actuator_base']\n",
      "['SpaceX Falcon 9 Block 5', 'KK.SPX.Merlin1D++.001', 'KK.SPX.Merlin1D++:model', 'KK.SPX.Merlin1D++:submodel', 'KK_SpX_newMerlin_sf', 'rot', 'gimbal.001', 'actuator_base_001', 'actuator_001', 'actuator_top_001']\n",
      "['SpaceX Falcon 9 Block 5', 'KK.SPX.Merlin1D++.001', 'KK.SPX.Merlin1D++:model', 'KK.SPX.Merlin1D++:submodel', 'KK_SpX_newMerlin_sf', 'rot', 'gimbal.001', 'actuator_base_001', 'actuator_001']\n",
      "['SpaceX Falcon 9 Block 5', 'KK.SPX.Merlin1D++.001', 'KK.SPX.Merlin1D++:model', 'KK.SPX.Merlin1D++:submodel', 'KK_SpX_newMerlin_sf', 'rot', 'gimbal.001', 'actuator_base_001']\n",
      "['SpaceX Falcon 9 Block 5', 'KK.SPX.Merlin1D++.001', 'KK.SPX.Merlin1D++:model', 'KK.SPX.Merlin1D++:submodel', 'KK_SpX_newMerlin_sf', 'rot', 'gimbal.001', 'feed_lf']\n",
      "['SpaceX Falcon 9 Block 5', 'KK.SPX.Merlin1D++.001', 'KK.SPX.Merlin1D++:model', 'KK.SPX.Merlin1D++:submodel', 'KK_SpX_newMerlin_sf', 'rot', 'gimbal.001']\n",
      "['SpaceX Falcon 9 Block 5', 'KK.SPX.Merlin1D++.001', 'KK.SPX.Merlin1D++:model', 'KK.SPX.Merlin1D++:submodel', 'KK_SpX_newMerlin_sf', 'rot', 'turbo']\n",
      "['SpaceX Falcon 9 Block 5', 'KK.SPX.Merlin1D++.002', 'KK.SPX.Merlin1D++:model', 'KK.SPX.Merlin1D++:submodel', 'KK_SpX_newMerlin_sf', 'rot', 'feed_ox']\n",
      "['SpaceX Falcon 9 Block 5', 'KK.SPX.Merlin1D++.002', 'KK.SPX.Merlin1D++:model', 'KK.SPX.Merlin1D++:submodel', 'KK_SpX_newMerlin_sf', 'rot', 'feed_turbo']\n",
      "['SpaceX Falcon 9 Block 5', 'KK.SPX.Merlin1D++.002', 'KK.SPX.Merlin1D++:model', 'KK.SPX.Merlin1D++:submodel', 'KK_SpX_newMerlin_sf', 'rot', 'gimbal.001', 'actuator_base', 'actuator', 'actuator_top']\n",
      "['SpaceX Falcon 9 Block 5', 'KK.SPX.Merlin1D++.002', 'KK.SPX.Merlin1D++:model', 'KK.SPX.Merlin1D++:submodel', 'KK_SpX_newMerlin_sf', 'rot', 'gimbal.001', 'actuator_base', 'actuator']\n",
      "['SpaceX Falcon 9 Block 5', 'KK.SPX.Merlin1D++.002', 'KK.SPX.Merlin1D++:model', 'KK.SPX.Merlin1D++:submodel', 'KK_SpX_newMerlin_sf', 'rot', 'gimbal.001', 'actuator_base']\n",
      "['SpaceX Falcon 9 Block 5', 'KK.SPX.Merlin1D++.002', 'KK.SPX.Merlin1D++:model', 'KK.SPX.Merlin1D++:submodel', 'KK_SpX_newMerlin_sf', 'rot', 'gimbal.001', 'actuator_base_001', 'actuator_001', 'actuator_top_001']\n",
      "['SpaceX Falcon 9 Block 5', 'KK.SPX.Merlin1D++.002', 'KK.SPX.Merlin1D++:model', 'KK.SPX.Merlin1D++:submodel', 'KK_SpX_newMerlin_sf', 'rot', 'gimbal.001', 'actuator_base_001', 'actuator_001']\n",
      "['SpaceX Falcon 9 Block 5', 'KK.SPX.Merlin1D++.002', 'KK.SPX.Merlin1D++:model', 'KK.SPX.Merlin1D++:submodel', 'KK_SpX_newMerlin_sf', 'rot', 'gimbal.001', 'actuator_base_001']\n",
      "['SpaceX Falcon 9 Block 5', 'KK.SPX.Merlin1D++.002', 'KK.SPX.Merlin1D++:model', 'KK.SPX.Merlin1D++:submodel', 'KK_SpX_newMerlin_sf', 'rot', 'gimbal.001', 'feed_lf']\n",
      "['SpaceX Falcon 9 Block 5', 'KK.SPX.Merlin1D++.002', 'KK.SPX.Merlin1D++:model', 'KK.SPX.Merlin1D++:submodel', 'KK_SpX_newMerlin_sf', 'rot', 'gimbal.001']\n",
      "['SpaceX Falcon 9 Block 5', 'KK.SPX.Merlin1D++.002', 'KK.SPX.Merlin1D++:model', 'KK.SPX.Merlin1D++:submodel', 'KK_SpX_newMerlin_sf', 'rot', 'turbo']\n",
      "['SpaceX Falcon 9 Block 5', 'KK.SPX.Merlin1D++.003', 'KK.SPX.Merlin1D++:model', 'KK.SPX.Merlin1D++:submodel', 'KK_SpX_newMerlin_sf', 'rot', 'feed_ox']\n",
      "['SpaceX Falcon 9 Block 5', 'KK.SPX.Merlin1D++.003', 'KK.SPX.Merlin1D++:model', 'KK.SPX.Merlin1D++:submodel', 'KK_SpX_newMerlin_sf', 'rot', 'feed_turbo']\n",
      "['SpaceX Falcon 9 Block 5', 'KK.SPX.Merlin1D++.003', 'KK.SPX.Merlin1D++:model', 'KK.SPX.Merlin1D++:submodel', 'KK_SpX_newMerlin_sf', 'rot', 'gimbal.001', 'actuator_base', 'actuator', 'actuator_top']\n",
      "['SpaceX Falcon 9 Block 5', 'KK.SPX.Merlin1D++.003', 'KK.SPX.Merlin1D++:model', 'KK.SPX.Merlin1D++:submodel', 'KK_SpX_newMerlin_sf', 'rot', 'gimbal.001', 'actuator_base', 'actuator']\n",
      "['SpaceX Falcon 9 Block 5', 'KK.SPX.Merlin1D++.003', 'KK.SPX.Merlin1D++:model', 'KK.SPX.Merlin1D++:submodel', 'KK_SpX_newMerlin_sf', 'rot', 'gimbal.001', 'actuator_base']\n",
      "['SpaceX Falcon 9 Block 5', 'KK.SPX.Merlin1D++.003', 'KK.SPX.Merlin1D++:model', 'KK.SPX.Merlin1D++:submodel', 'KK_SpX_newMerlin_sf', 'rot', 'gimbal.001', 'actuator_base_001', 'actuator_001', 'actuator_top_001']\n",
      "['SpaceX Falcon 9 Block 5', 'KK.SPX.Merlin1D++.003', 'KK.SPX.Merlin1D++:model', 'KK.SPX.Merlin1D++:submodel', 'KK_SpX_newMerlin_sf', 'rot', 'gimbal.001', 'actuator_base_001', 'actuator_001']\n",
      "['SpaceX Falcon 9 Block 5', 'KK.SPX.Merlin1D++.003', 'KK.SPX.Merlin1D++:model', 'KK.SPX.Merlin1D++:submodel', 'KK_SpX_newMerlin_sf', 'rot', 'gimbal.001', 'actuator_base_001']\n",
      "['SpaceX Falcon 9 Block 5', 'KK.SPX.Merlin1D++.003', 'KK.SPX.Merlin1D++:model', 'KK.SPX.Merlin1D++:submodel', 'KK_SpX_newMerlin_sf', 'rot', 'gimbal.001', 'feed_lf']\n",
      "['SpaceX Falcon 9 Block 5', 'KK.SPX.Merlin1D++.003', 'KK.SPX.Merlin1D++:model', 'KK.SPX.Merlin1D++:submodel', 'KK_SpX_newMerlin_sf', 'rot', 'gimbal.001']\n",
      "['SpaceX Falcon 9 Block 5', 'KK.SPX.Merlin1D++.003', 'KK.SPX.Merlin1D++:model', 'KK.SPX.Merlin1D++:submodel', 'KK_SpX_newMerlin_sf', 'rot', 'turbo']\n",
      "['SpaceX Falcon 9 Block 5', 'KK.SPX.Merlin1D++.004', 'KK.SPX.Merlin1D++:model', 'KK.SPX.Merlin1D++:submodel', 'KK_SpX_newMerlin_sf', 'rot', 'feed_ox']\n",
      "['SpaceX Falcon 9 Block 5', 'KK.SPX.Merlin1D++.004', 'KK.SPX.Merlin1D++:model', 'KK.SPX.Merlin1D++:submodel', 'KK_SpX_newMerlin_sf', 'rot', 'feed_turbo']\n",
      "['SpaceX Falcon 9 Block 5', 'KK.SPX.Merlin1D++.004', 'KK.SPX.Merlin1D++:model', 'KK.SPX.Merlin1D++:submodel', 'KK_SpX_newMerlin_sf', 'rot', 'gimbal.001', 'actuator_base', 'actuator', 'actuator_top']\n",
      "['SpaceX Falcon 9 Block 5', 'KK.SPX.Merlin1D++.004', 'KK.SPX.Merlin1D++:model', 'KK.SPX.Merlin1D++:submodel', 'KK_SpX_newMerlin_sf', 'rot', 'gimbal.001', 'actuator_base', 'actuator']\n",
      "['SpaceX Falcon 9 Block 5', 'KK.SPX.Merlin1D++.004', 'KK.SPX.Merlin1D++:model', 'KK.SPX.Merlin1D++:submodel', 'KK_SpX_newMerlin_sf', 'rot', 'gimbal.001', 'actuator_base']\n",
      "['SpaceX Falcon 9 Block 5', 'KK.SPX.Merlin1D++.004', 'KK.SPX.Merlin1D++:model', 'KK.SPX.Merlin1D++:submodel', 'KK_SpX_newMerlin_sf', 'rot', 'gimbal.001', 'actuator_base_001', 'actuator_001', 'actuator_top_001']\n",
      "['SpaceX Falcon 9 Block 5', 'KK.SPX.Merlin1D++.004', 'KK.SPX.Merlin1D++:model', 'KK.SPX.Merlin1D++:submodel', 'KK_SpX_newMerlin_sf', 'rot', 'gimbal.001', 'actuator_base_001', 'actuator_001']\n",
      "['SpaceX Falcon 9 Block 5', 'KK.SPX.Merlin1D++.004', 'KK.SPX.Merlin1D++:model', 'KK.SPX.Merlin1D++:submodel', 'KK_SpX_newMerlin_sf', 'rot', 'gimbal.001', 'actuator_base_001']\n",
      "['SpaceX Falcon 9 Block 5', 'KK.SPX.Merlin1D++.004', 'KK.SPX.Merlin1D++:model', 'KK.SPX.Merlin1D++:submodel', 'KK_SpX_newMerlin_sf', 'rot', 'gimbal.001', 'feed_lf']\n",
      "['SpaceX Falcon 9 Block 5', 'KK.SPX.Merlin1D++.004', 'KK.SPX.Merlin1D++:model', 'KK.SPX.Merlin1D++:submodel', 'KK_SpX_newMerlin_sf', 'rot', 'gimbal.001']\n",
      "['SpaceX Falcon 9 Block 5', 'KK.SPX.Merlin1D++.004', 'KK.SPX.Merlin1D++:model', 'KK.SPX.Merlin1D++:submodel', 'KK_SpX_newMerlin_sf', 'rot', 'turbo']\n",
      "['SpaceX Falcon 9 Block 5', 'KK.SPX.Merlin1D++.005', 'KK.SPX.Merlin1D++:model', 'KK.SPX.Merlin1D++:submodel', 'KK_SpX_newMerlin_sf', 'rot', 'feed_ox']\n",
      "['SpaceX Falcon 9 Block 5', 'KK.SPX.Merlin1D++.005', 'KK.SPX.Merlin1D++:model', 'KK.SPX.Merlin1D++:submodel', 'KK_SpX_newMerlin_sf', 'rot', 'feed_turbo']\n",
      "['SpaceX Falcon 9 Block 5', 'KK.SPX.Merlin1D++.005', 'KK.SPX.Merlin1D++:model', 'KK.SPX.Merlin1D++:submodel', 'KK_SpX_newMerlin_sf', 'rot', 'gimbal.001', 'actuator_base', 'actuator', 'actuator_top']\n",
      "['SpaceX Falcon 9 Block 5', 'KK.SPX.Merlin1D++.005', 'KK.SPX.Merlin1D++:model', 'KK.SPX.Merlin1D++:submodel', 'KK_SpX_newMerlin_sf', 'rot', 'gimbal.001', 'actuator_base', 'actuator']\n",
      "['SpaceX Falcon 9 Block 5', 'KK.SPX.Merlin1D++.005', 'KK.SPX.Merlin1D++:model', 'KK.SPX.Merlin1D++:submodel', 'KK_SpX_newMerlin_sf', 'rot', 'gimbal.001', 'actuator_base']\n",
      "['SpaceX Falcon 9 Block 5', 'KK.SPX.Merlin1D++.005', 'KK.SPX.Merlin1D++:model', 'KK.SPX.Merlin1D++:submodel', 'KK_SpX_newMerlin_sf', 'rot', 'gimbal.001', 'actuator_base_001', 'actuator_001', 'actuator_top_001']\n",
      "['SpaceX Falcon 9 Block 5', 'KK.SPX.Merlin1D++.005', 'KK.SPX.Merlin1D++:model', 'KK.SPX.Merlin1D++:submodel', 'KK_SpX_newMerlin_sf', 'rot', 'gimbal.001', 'actuator_base_001', 'actuator_001']\n",
      "['SpaceX Falcon 9 Block 5', 'KK.SPX.Merlin1D++.005', 'KK.SPX.Merlin1D++:model', 'KK.SPX.Merlin1D++:submodel', 'KK_SpX_newMerlin_sf', 'rot', 'gimbal.001', 'actuator_base_001']\n",
      "['SpaceX Falcon 9 Block 5', 'KK.SPX.Merlin1D++.005', 'KK.SPX.Merlin1D++:model', 'KK.SPX.Merlin1D++:submodel', 'KK_SpX_newMerlin_sf', 'rot', 'gimbal.001', 'feed_lf']\n",
      "['SpaceX Falcon 9 Block 5', 'KK.SPX.Merlin1D++.005', 'KK.SPX.Merlin1D++:model', 'KK.SPX.Merlin1D++:submodel', 'KK_SpX_newMerlin_sf', 'rot', 'gimbal.001']\n",
      "['SpaceX Falcon 9 Block 5', 'KK.SPX.Merlin1D++.005', 'KK.SPX.Merlin1D++:model', 'KK.SPX.Merlin1D++:submodel', 'KK_SpX_newMerlin_sf', 'rot', 'turbo']\n",
      "['SpaceX Falcon 9 Block 5', 'KK.SPX.Merlin1D++.006', 'KK.SPX.Merlin1D++:model', 'KK.SPX.Merlin1D++:submodel', 'KK_SpX_newMerlin_sf', 'rot', 'feed_ox']\n",
      "['SpaceX Falcon 9 Block 5', 'KK.SPX.Merlin1D++.006', 'KK.SPX.Merlin1D++:model', 'KK.SPX.Merlin1D++:submodel', 'KK_SpX_newMerlin_sf', 'rot', 'feed_turbo']\n",
      "['SpaceX Falcon 9 Block 5', 'KK.SPX.Merlin1D++.006', 'KK.SPX.Merlin1D++:model', 'KK.SPX.Merlin1D++:submodel', 'KK_SpX_newMerlin_sf', 'rot', 'gimbal.001', 'actuator_base', 'actuator', 'actuator_top']\n",
      "['SpaceX Falcon 9 Block 5', 'KK.SPX.Merlin1D++.006', 'KK.SPX.Merlin1D++:model', 'KK.SPX.Merlin1D++:submodel', 'KK_SpX_newMerlin_sf', 'rot', 'gimbal.001', 'actuator_base', 'actuator']\n",
      "['SpaceX Falcon 9 Block 5', 'KK.SPX.Merlin1D++.006', 'KK.SPX.Merlin1D++:model', 'KK.SPX.Merlin1D++:submodel', 'KK_SpX_newMerlin_sf', 'rot', 'gimbal.001', 'actuator_base']\n",
      "['SpaceX Falcon 9 Block 5', 'KK.SPX.Merlin1D++.006', 'KK.SPX.Merlin1D++:model', 'KK.SPX.Merlin1D++:submodel', 'KK_SpX_newMerlin_sf', 'rot', 'gimbal.001', 'actuator_base_001', 'actuator_001', 'actuator_top_001']\n",
      "['SpaceX Falcon 9 Block 5', 'KK.SPX.Merlin1D++.006', 'KK.SPX.Merlin1D++:model', 'KK.SPX.Merlin1D++:submodel', 'KK_SpX_newMerlin_sf', 'rot', 'gimbal.001', 'actuator_base_001', 'actuator_001']\n",
      "['SpaceX Falcon 9 Block 5', 'KK.SPX.Merlin1D++.006', 'KK.SPX.Merlin1D++:model', 'KK.SPX.Merlin1D++:submodel', 'KK_SpX_newMerlin_sf', 'rot', 'gimbal.001', 'actuator_base_001']\n",
      "['SpaceX Falcon 9 Block 5', 'KK.SPX.Merlin1D++.006', 'KK.SPX.Merlin1D++:model', 'KK.SPX.Merlin1D++:submodel', 'KK_SpX_newMerlin_sf', 'rot', 'gimbal.001', 'feed_lf']\n",
      "['SpaceX Falcon 9 Block 5', 'KK.SPX.Merlin1D++.006', 'KK.SPX.Merlin1D++:model', 'KK.SPX.Merlin1D++:submodel', 'KK_SpX_newMerlin_sf', 'rot', 'gimbal.001']\n",
      "['SpaceX Falcon 9 Block 5', 'KK.SPX.Merlin1D++.006', 'KK.SPX.Merlin1D++:model', 'KK.SPX.Merlin1D++:submodel', 'KK_SpX_newMerlin_sf', 'rot', 'turbo']\n",
      "['SpaceX Falcon 9 Block 5', 'KK.SPX.Merlin1D++.007', 'KK.SPX.Merlin1D++:model', 'KK.SPX.Merlin1D++:submodel', 'KK_SpX_newMerlin_sf', 'rot', 'feed_ox']\n",
      "['SpaceX Falcon 9 Block 5', 'KK.SPX.Merlin1D++.007', 'KK.SPX.Merlin1D++:model', 'KK.SPX.Merlin1D++:submodel', 'KK_SpX_newMerlin_sf', 'rot', 'feed_turbo']\n",
      "['SpaceX Falcon 9 Block 5', 'KK.SPX.Merlin1D++.007', 'KK.SPX.Merlin1D++:model', 'KK.SPX.Merlin1D++:submodel', 'KK_SpX_newMerlin_sf', 'rot', 'gimbal.001', 'actuator_base', 'actuator', 'actuator_top']\n",
      "['SpaceX Falcon 9 Block 5', 'KK.SPX.Merlin1D++.007', 'KK.SPX.Merlin1D++:model', 'KK.SPX.Merlin1D++:submodel', 'KK_SpX_newMerlin_sf', 'rot', 'gimbal.001', 'actuator_base', 'actuator']\n",
      "['SpaceX Falcon 9 Block 5', 'KK.SPX.Merlin1D++.007', 'KK.SPX.Merlin1D++:model', 'KK.SPX.Merlin1D++:submodel', 'KK_SpX_newMerlin_sf', 'rot', 'gimbal.001', 'actuator_base']\n",
      "['SpaceX Falcon 9 Block 5', 'KK.SPX.Merlin1D++.007', 'KK.SPX.Merlin1D++:model', 'KK.SPX.Merlin1D++:submodel', 'KK_SpX_newMerlin_sf', 'rot', 'gimbal.001', 'actuator_base_001', 'actuator_001', 'actuator_top_001']\n",
      "['SpaceX Falcon 9 Block 5', 'KK.SPX.Merlin1D++.007', 'KK.SPX.Merlin1D++:model', 'KK.SPX.Merlin1D++:submodel', 'KK_SpX_newMerlin_sf', 'rot', 'gimbal.001', 'actuator_base_001', 'actuator_001']\n",
      "['SpaceX Falcon 9 Block 5', 'KK.SPX.Merlin1D++.007', 'KK.SPX.Merlin1D++:model', 'KK.SPX.Merlin1D++:submodel', 'KK_SpX_newMerlin_sf', 'rot', 'gimbal.001', 'actuator_base_001']\n",
      "['SpaceX Falcon 9 Block 5', 'KK.SPX.Merlin1D++.007', 'KK.SPX.Merlin1D++:model', 'KK.SPX.Merlin1D++:submodel', 'KK_SpX_newMerlin_sf', 'rot', 'gimbal.001', 'feed_lf']\n",
      "['SpaceX Falcon 9 Block 5', 'KK.SPX.Merlin1D++.007', 'KK.SPX.Merlin1D++:model', 'KK.SPX.Merlin1D++:submodel', 'KK_SpX_newMerlin_sf', 'rot', 'gimbal.001']\n",
      "['SpaceX Falcon 9 Block 5', 'KK.SPX.Merlin1D++.007', 'KK.SPX.Merlin1D++:model', 'KK.SPX.Merlin1D++:submodel', 'KK_SpX_newMerlin_sf', 'rot', 'turbo']\n",
      "['SpaceX Falcon 9 Block 5', 'KK.SPX.Merlin1D++.008', 'KK.SPX.Merlin1D++:model', 'KK.SPX.Merlin1D++:submodel', 'KK_SpX_newMerlin_sf', 'rot', 'feed_ox']\n",
      "['SpaceX Falcon 9 Block 5', 'KK.SPX.Merlin1D++.008', 'KK.SPX.Merlin1D++:model', 'KK.SPX.Merlin1D++:submodel', 'KK_SpX_newMerlin_sf', 'rot', 'feed_turbo']\n",
      "['SpaceX Falcon 9 Block 5', 'KK.SPX.Merlin1D++.008', 'KK.SPX.Merlin1D++:model', 'KK.SPX.Merlin1D++:submodel', 'KK_SpX_newMerlin_sf', 'rot', 'gimbal.001', 'actuator_base', 'actuator', 'actuator_top']\n",
      "['SpaceX Falcon 9 Block 5', 'KK.SPX.Merlin1D++.008', 'KK.SPX.Merlin1D++:model', 'KK.SPX.Merlin1D++:submodel', 'KK_SpX_newMerlin_sf', 'rot', 'gimbal.001', 'actuator_base', 'actuator']\n",
      "['SpaceX Falcon 9 Block 5', 'KK.SPX.Merlin1D++.008', 'KK.SPX.Merlin1D++:model', 'KK.SPX.Merlin1D++:submodel', 'KK_SpX_newMerlin_sf', 'rot', 'gimbal.001', 'actuator_base']\n",
      "['SpaceX Falcon 9 Block 5', 'KK.SPX.Merlin1D++.008', 'KK.SPX.Merlin1D++:model', 'KK.SPX.Merlin1D++:submodel', 'KK_SpX_newMerlin_sf', 'rot', 'gimbal.001', 'actuator_base_001', 'actuator_001', 'actuator_top_001']\n",
      "['SpaceX Falcon 9 Block 5', 'KK.SPX.Merlin1D++.008', 'KK.SPX.Merlin1D++:model', 'KK.SPX.Merlin1D++:submodel', 'KK_SpX_newMerlin_sf', 'rot', 'gimbal.001', 'actuator_base_001', 'actuator_001']\n",
      "['SpaceX Falcon 9 Block 5', 'KK.SPX.Merlin1D++.008', 'KK.SPX.Merlin1D++:model', 'KK.SPX.Merlin1D++:submodel', 'KK_SpX_newMerlin_sf', 'rot', 'gimbal.001', 'actuator_base_001']\n",
      "['SpaceX Falcon 9 Block 5', 'KK.SPX.Merlin1D++.008', 'KK.SPX.Merlin1D++:model', 'KK.SPX.Merlin1D++:submodel', 'KK_SpX_newMerlin_sf', 'rot', 'gimbal.001', 'feed_lf']\n",
      "['SpaceX Falcon 9 Block 5', 'KK.SPX.Merlin1D++.008', 'KK.SPX.Merlin1D++:model', 'KK.SPX.Merlin1D++:submodel', 'KK_SpX_newMerlin_sf', 'rot', 'gimbal.001']\n",
      "['SpaceX Falcon 9 Block 5', 'KK.SPX.Merlin1D++.008', 'KK.SPX.Merlin1D++:model', 'KK.SPX.Merlin1D++:submodel', 'KK_SpX_newMerlin_sf', 'rot', 'turbo']\n",
      "['SpaceX Falcon 9 Block 5', 'KK.SPX.FalconPayloadFairing.001', 'KK.SPX.FalconPayloadFairing:model', 'KK.SPX.FalconPayloadFairing:submodel', 'Falcon_PayloadFairing', 'SpaceX_BigFairing']\n"
     ]
    }
   ],
   "source": [
    "lst = [x for x in me.data if x.name == 'nozzle']\n",
    "lst = me.data\n",
    "for x in lst:\n",
    "    print(x.chain)\n",
    "e = merge_meshdata(lst)\n",
    "import meshio\n",
    "m = meshio.Mesh(e.vertices, [('triangle', e.faces)])\n",
    "m.write('/tmp/res.stl')"
   ]
  },
  {
   "cell_type": "code",
   "execution_count": 37,
   "id": "03f307a5",
   "metadata": {},
   "outputs": [
    {
     "data": {
      "text/plain": [
       "Quaternion((1.0, 0.0, 0.0, 0.0))"
      ]
     },
     "execution_count": 37,
     "metadata": {},
     "output_type": "execute_result"
    }
   ],
   "source": [
    "obj.delta_rotation_quaternion"
   ]
  }
 ],
 "metadata": {
  "kernelspec": {
   "display_name": "kernel_blender1",
   "name": "kernel_blender1"
  },
  "language_info": {
   "codemirror_mode": {
    "name": "ipython",
    "version": 3
   },
   "file_extension": ".py",
   "mimetype": "text/x-python",
   "name": "python",
   "nbconvert_exporter": "python",
   "pygments_lexer": "ipython3",
   "version": "3.10.2"
  }
 },
 "nbformat": 4,
 "nbformat_minor": 5
}
