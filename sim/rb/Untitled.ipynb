{
 "cells": [
  {
   "cell_type": "code",
   "execution_count": 1,
   "id": "d27ce6b7",
   "metadata": {
    "ExecuteTime": {
     "end_time": "2022-11-19T16:09:17.928219Z",
     "start_time": "2022-11-19T16:09:15.250540Z"
    }
   },
   "outputs": [
    {
     "data": {
      "text/html": [
       "<style>.container { width:90% !important; }</style>"
      ],
      "text/plain": [
       "<IPython.core.display.HTML object>"
      ]
     },
     "metadata": {},
     "output_type": "display_data"
    },
    {
     "name": "stdout",
     "output_type": "stream",
     "text": [
      "Runnign magic qt5\n",
      "done\n",
      "False\n"
     ]
    }
   ],
   "source": [
    "init_jupyter()"
   ]
  },
  {
   "cell_type": "code",
   "execution_count": 2,
   "id": "de68ab48",
   "metadata": {
    "ExecuteTime": {
     "end_time": "2022-11-19T16:12:06.296681Z",
     "start_time": "2022-11-19T16:12:05.890050Z"
    }
   },
   "outputs": [],
   "source": [
    "from chdrft.sim.rb.rb_gen import *"
   ]
  },
  {
   "cell_type": "code",
   "execution_count": null,
   "id": "baf9f181",
   "metadata": {},
   "outputs": [],
   "source": [
    "SpatialVector.Vector(v=[1,2,3])"
   ]
  }
 ],
 "metadata": {
  "kernelspec": {
   "display_name": "env3",
   "language": "python",
   "name": "env3"
  },
  "language_info": {
   "codemirror_mode": {
    "name": "ipython",
    "version": 3
   },
   "file_extension": ".py",
   "mimetype": "text/x-python",
   "name": "python",
   "nbconvert_exporter": "python",
   "pygments_lexer": "ipython3",
   "version": "3.10.8"
  }
 },
 "nbformat": 4,
 "nbformat_minor": 5
}
