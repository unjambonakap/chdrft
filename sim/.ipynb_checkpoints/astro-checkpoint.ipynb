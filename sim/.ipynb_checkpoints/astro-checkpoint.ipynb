{
 "cells": [
  {
   "cell_type": "code",
   "execution_count": 15,
   "metadata": {
    "ExecuteTime": {
     "end_time": "2019-08-07T13:35:12.307560Z",
     "start_time": "2019-08-07T13:35:12.262724Z"
    },
    "init_cell": true
   },
   "outputs": [
    {
     "data": {
      "text/html": [
       "<style>.container { width:90% !important; }</style>"
      ],
      "text/plain": [
       "<IPython.core.display.HTML object>"
      ]
     },
     "metadata": {},
     "output_type": "display_data"
    }
   ],
   "source": [
    "%gui qt4\n",
    "from PyQt4 import QtGui, QtCore, QtSvg\n",
    "from chdrft.config.env import g_env\n",
    "g_env.set_qt5(0)\n",
    "init_jupyter()\n",
    "import georinex as gr\n",
    "import ppp_tools.gpstime\n",
    "import chdrft.utils.misc as cmisc\n",
    "from chdrft.display.vtk import vtkMain\n",
    "import chdrft.display.vtk as opa_vtk\n",
    "import  scipy.constants as constants\n",
    "import chdrft.utils.K as K\n",
    "from chdrft.geo.satsim import TileGetter\n",
    "import mercantile\n",
    "import pymap3d\n",
    "from geopy.geocoders import Nominatim\n",
    "import cv2\n",
    "import calcephpy\n",
    "from astroquery.jplhorizons import Horizons\n",
    "\n",
    "from astropy.time import Time\n",
    "from astropy.coordinates import solar_system_ephemeris, EarthLocation\n",
    "from astropy.coordinates import get_body_barycentric, get_body, get_moon\n",
    "import datetime\n",
    "from astropy import units as U\n",
    "tg = TileGetter()\n",
    "\n",
    "import math\n",
    "def ecef_to_latlng(x,y,z):\n",
    "  lng = math.atan2(y,x)\n",
    "  lat = math.atan2(z, np.linalg.norm((x,y)))\n",
    "  return Z.rad2deg(np.array((lat, lng)))\n",
    "from astropy.coordinates import SkyCoord\n",
    "from astropy.coordinates import ICRS\n",
    "def eph_to_xyz(eph, unit=U.AU):\n",
    "  a = SkyCoord(eph['RA'], eph['DEC'], distance=eph['delta'], frame='icrs')\n",
    "  return a.cartesian.xyz.to(unit).value.T"
   ]
  },
  {
   "cell_type": "code",
   "execution_count": null,
   "metadata": {
    "ExecuteTime": {
     "end_time": "2019-07-21T02:08:20.015584Z",
     "start_time": "2019-07-21T02:08:19.844826Z"
    }
   },
   "outputs": [],
   "source": [
    "app.exit_jup()"
   ]
  },
  {
   "cell_type": "code",
   "execution_count": null,
   "metadata": {
    "ExecuteTime": {
     "end_time": "2019-07-21T11:55:58.443968Z",
     "start_time": "2019-07-21T11:55:58.324483Z"
    }
   },
   "outputs": [],
   "source": [
    "nav = gr.load('../../../dsp/gps/brdc3640.15n')\n",
    "nav = gr.load('/home/benoit/Downloads/brdc1850.19n')"
   ]
  },
  {
   "cell_type": "code",
   "execution_count": null,
   "metadata": {
    "ExecuteTime": {
     "end_time": "2019-07-21T11:55:59.248404Z",
     "start_time": "2019-07-21T11:55:59.213820Z"
    }
   },
   "outputs": [],
   "source": [
    "nav"
   ]
  },
  {
   "cell_type": "code",
   "execution_count": null,
   "metadata": {
    "ExecuteTime": {
     "end_time": "2019-07-27T00:50:55.342108Z",
     "start_time": "2019-07-27T00:50:55.322192Z"
    }
   },
   "outputs": [],
   "source": [
    "import datetime\n",
    "import time\n",
    "from astropy import constants as const\n",
    "\n",
    "from astropy.coordinates.earth import OMEGA_EARTH\n",
    "class Ephemerid:\n",
    "  def __init__(self, s):\n",
    "    self.s = s\n",
    "    self.a = s['sqrtA'] ** 2\n",
    "    \n",
    "  @property\n",
    "  def utc(self):\n",
    "    time_utc= ppp_tools.gpstime.UTCFromGps(self.s['GPSWeek'], self.s['Toe'])\n",
    "    time_utc = list(time_utc)\n",
    "    time_utc[-1] = int(time_utc[-1])\n",
    "    return datetime.datetime(*time_utc)\n",
    "\n",
    "  \n",
    "  def get_pos(self, t):\n",
    "    \n",
    "    dt = t -  self.utc\n",
    "    dt_sec =dt.total_seconds()\n",
    "    print('DT >>> ', dt)\n",
    "    \n",
    "    sv =self.s\n",
    "    \n",
    "    n0 = np.sqrt(const.GM_earth.value/self.a**3)  # computed mean motion\n",
    "#    T = 2*pi / n0  # Satellite orbital period\n",
    "    omega_e = OMEGA_EARTH.value\n",
    "\n",
    "    n = n0 + sv['DeltaN']\n",
    "    e = sv['Eccentricity']\n",
    "# %% Kepler's eqn of eccentric anomaly\n",
    "    Mk = sv['M0'] + n*dt_sec  # Mean Anomaly\n",
    "    Ek = Mk + e * np.sin(Mk)  # Eccentric anomaly\n",
    "# %% true anomaly\n",
    "    nuK = np.arctan2(np.sqrt(1 - e**2) * np.sin(Ek),\n",
    "                     np.cos(Ek) - e)\n",
    "# %% latitude\n",
    "    PhiK = nuK + sv['omega'] # argument of latitude\n",
    "    duk = sv['Cuc'] * np.cos(2*PhiK) + sv['Cus']*np.sin(2*PhiK)  # argument of latitude correction\n",
    "    uk = PhiK + duk  # corred argument of latitude\n",
    "# %% inclination (same)\n",
    "    dik = sv['Cic']*np.cos(2*PhiK) + sv['Cis']*np.sin(2*PhiK)  # inclination correction\n",
    "    ik = sv['Io'] + sv['IDOT']*dt_sec + dik  # corrected inclination\n",
    "# %% radial distance (same)\n",
    "    drk = sv['Crc'] * np.cos(2*PhiK) + sv['Crs'] * np.sin(2*PhiK)  # radial correction\n",
    "    rk = self.a * (1 - e * np.cos(Ek)) + drk  # corrected radial distance\n",
    "# %% right ascension  (same)\n",
    "    OmegaK = sv['Omega0'] + (sv['OmegaDot'] - omega_e)*dt_sec - omega_e*sv['Toe']\n",
    "# %% transform\n",
    "    Xk1 = rk * np.cos(uk)\n",
    "    Yk1 = rk * np.sin(uk)\n",
    "\n",
    "    X = Xk1 * np.cos(OmegaK) - Yk1 * np.sin(OmegaK) * np.cos(ik)\n",
    "\n",
    "    Y = Xk1*np.sin(OmegaK) + Yk1 * np.cos(OmegaK) * np.cos(ik)\n",
    "\n",
    "    Z = Yk1*np.sin(ik)\n",
    "    return X,Y,Z\n"
   ]
  },
  {
   "cell_type": "code",
   "execution_count": 3,
   "metadata": {
    "ExecuteTime": {
     "end_time": "2019-08-01T20:05:56.275544Z",
     "start_time": "2019-08-01T20:05:56.269616Z"
    }
   },
   "outputs": [],
   "source": []
  },
  {
   "cell_type": "code",
   "execution_count": null,
   "metadata": {
    "ExecuteTime": {
     "end_time": "2019-07-21T11:55:18.453154Z",
     "start_time": "2019-07-21T11:55:18.440813Z"
    }
   },
   "outputs": [],
   "source": [
    "def analyse_sat(sat):\n",
    "  tmp = nav.sel(sv=sat)\n",
    "  df = tmp.to_dataframe().dropna()\n",
    "  last = df.iloc[-1]\n",
    "  a = Ephemerid(last)\n",
    "\n",
    "  now = datetime.datetime(2015, 12, 30, 22)\n",
    "  now = datetime.datetime.utcnow()\n",
    "  xyz= a.get_pos(now)\n",
    "  print(xyz)\n",
    "  res = pymap3d.ecef2geodetic(*xyz)\n",
    "  print(res)\n",
    "  return res"
   ]
  },
  {
   "cell_type": "code",
   "execution_count": null,
   "metadata": {
    "ExecuteTime": {
     "end_time": "2019-07-19T23:59:31.026805Z",
     "start_time": "2019-07-19T23:59:30.699231Z"
    }
   },
   "outputs": [],
   "source": [
    "for val in nav['sv'].values:\n",
    "  print('\\n\\n>>>', val)\n",
    "  analyse_sat(val)"
   ]
  },
  {
   "cell_type": "code",
   "execution_count": null,
   "metadata": {
    "ExecuteTime": {
     "end_time": "2019-07-19T23:59:37.709905Z",
     "start_time": "2019-07-19T23:59:37.690335Z"
    }
   },
   "outputs": [],
   "source": [
    "gr.keplerian2ecef(tmp)"
   ]
  },
  {
   "cell_type": "code",
   "execution_count": null,
   "metadata": {
    "ExecuteTime": {
     "end_time": "2019-07-26T23:40:12.289182Z",
     "start_time": "2019-07-26T23:40:04.017796Z"
    }
   },
   "outputs": [],
   "source": [
    "body_a = calcephpy.NaifId.EARTH\n",
    "from astroquery.jplhorizons import Horizons\n",
    "obj = Horizons(id='2019 OK', location=f'@{calcephpy.NaifId.EARTH}',\n",
    "epochs={'start':'2019-06-01', 'stop':'2019-08-01',\n",
    "'step':'1d'})\n",
    "eph = obj.ephemerides()"
   ]
  },
  {
   "cell_type": "code",
   "execution_count": null,
   "metadata": {
    "ExecuteTime": {
     "end_time": "2019-07-26T23:38:26.104413Z",
     "start_time": "2019-07-26T23:38:26.022902Z"
    }
   },
   "outputs": [],
   "source": [
    "print(eph)"
   ]
  },
  {
   "cell_type": "code",
   "execution_count": null,
   "metadata": {
    "ExecuteTime": {
     "end_time": "2019-07-26T23:43:58.636685Z",
     "start_time": "2019-07-26T23:43:58.622594Z"
    }
   },
   "outputs": [],
   "source": [
    "\n",
    "start = '1969-07-16 16:40'\n",
    "end = '1969-07-28'\n",
    "start = '2019-06-01'\n",
    "end = '2019-08-01'\n",
    "body_center = calcephpy.NaifId.MARS\n",
    "body_a = calcephpy.NaifId.PHOBOS\n",
    "body_b = calcephpy.NaifId.DEIMOS\n",
    "body_b =-399110\n",
    "body_a = calcephpy.NaifId.MOON\n",
    "\n",
    "bodies = [calcephpy.NaifId.DEIMOS, calcephpy.NaifId.PHOBOS, -3, -41, -74, ]\n",
    "body_center = calcephpy.NaifId.MARS\n",
    "bodies = [calcephpy.NaifId.EARTH, calcephpy.NaifId.MOON, '2019 OK']\n",
    "body_center = calcephpy.NaifId.SUN\n",
    "bodies = [calcephpy.NaifId.MOON, '2019 OK']\n",
    "body_center = calcephpy.NaifId.EARTH\n",
    "step = '1d'\n",
    "objs = []\n",
    "for body in bodies:\n",
    "  objs.append(Horizons(id=body,\n",
    "                 location=f'@{body_center}',\n",
    "                 epochs={'start':start,\n",
    "                         'stop':end,\n",
    "                         'step':step},\n",
    "                 id_type='majorbody'))\n"
   ]
  },
  {
   "cell_type": "code",
   "execution_count": 4,
   "metadata": {
    "ExecuteTime": {
     "end_time": "2019-08-01T20:06:02.497486Z",
     "start_time": "2019-08-01T20:06:02.475386Z"
    }
   },
   "outputs": [
    {
     "ename": "NameError",
     "evalue": "name 'U' is not defined",
     "output_type": "error",
     "traceback": [
      "\u001b[0;31m---------------------------------------------------------------------------\u001b[0m",
      "\u001b[0;31mNameError\u001b[0m                                 Traceback (most recent call last)",
      "\u001b[0;32m<ipython-input-4-e4599f8e8c66>\u001b[0m in \u001b[0;36m<module>\u001b[0;34m\u001b[0m\n\u001b[1;32m      1\u001b[0m \u001b[0;32mfrom\u001b[0m \u001b[0mastropy\u001b[0m\u001b[0;34m.\u001b[0m\u001b[0mcoordinates\u001b[0m \u001b[0;32mimport\u001b[0m \u001b[0mSkyCoord\u001b[0m\u001b[0;34m\u001b[0m\u001b[0;34m\u001b[0m\u001b[0m\n\u001b[1;32m      2\u001b[0m \u001b[0;32mfrom\u001b[0m \u001b[0mastropy\u001b[0m\u001b[0;34m.\u001b[0m\u001b[0mcoordinates\u001b[0m \u001b[0;32mimport\u001b[0m \u001b[0mICRS\u001b[0m\u001b[0;34m\u001b[0m\u001b[0;34m\u001b[0m\u001b[0m\n\u001b[0;32m----> 3\u001b[0;31m \u001b[0;32mdef\u001b[0m \u001b[0meph_to_xyz\u001b[0m\u001b[0;34m(\u001b[0m\u001b[0meph\u001b[0m\u001b[0;34m,\u001b[0m \u001b[0munit\u001b[0m\u001b[0;34m=\u001b[0m\u001b[0mU\u001b[0m\u001b[0;34m.\u001b[0m\u001b[0mAU\u001b[0m\u001b[0;34m)\u001b[0m\u001b[0;34m:\u001b[0m\u001b[0;34m\u001b[0m\u001b[0;34m\u001b[0m\u001b[0m\n\u001b[0m\u001b[1;32m      4\u001b[0m   \u001b[0ma\u001b[0m \u001b[0;34m=\u001b[0m \u001b[0mSkyCoord\u001b[0m\u001b[0;34m(\u001b[0m\u001b[0meph\u001b[0m\u001b[0;34m[\u001b[0m\u001b[0;34m'RA'\u001b[0m\u001b[0;34m]\u001b[0m\u001b[0;34m,\u001b[0m \u001b[0meph\u001b[0m\u001b[0;34m[\u001b[0m\u001b[0;34m'DEC'\u001b[0m\u001b[0;34m]\u001b[0m\u001b[0;34m,\u001b[0m \u001b[0mdistance\u001b[0m\u001b[0;34m=\u001b[0m\u001b[0meph\u001b[0m\u001b[0;34m[\u001b[0m\u001b[0;34m'delta'\u001b[0m\u001b[0;34m]\u001b[0m\u001b[0;34m,\u001b[0m \u001b[0mframe\u001b[0m\u001b[0;34m=\u001b[0m\u001b[0;34m'icrs'\u001b[0m\u001b[0;34m)\u001b[0m\u001b[0;34m\u001b[0m\u001b[0;34m\u001b[0m\u001b[0m\n\u001b[1;32m      5\u001b[0m   \u001b[0;32mreturn\u001b[0m \u001b[0ma\u001b[0m\u001b[0;34m.\u001b[0m\u001b[0mcartesian\u001b[0m\u001b[0;34m.\u001b[0m\u001b[0mxyz\u001b[0m\u001b[0;34m.\u001b[0m\u001b[0mto\u001b[0m\u001b[0;34m(\u001b[0m\u001b[0munit\u001b[0m\u001b[0;34m)\u001b[0m\u001b[0;34m.\u001b[0m\u001b[0mvalue\u001b[0m\u001b[0;34m.\u001b[0m\u001b[0mT\u001b[0m\u001b[0;34m\u001b[0m\u001b[0;34m\u001b[0m\u001b[0m\n",
      "\u001b[0;31mNameError\u001b[0m: name 'U' is not defined"
     ]
    }
   ],
   "source": [
    "\n"
   ]
  },
  {
   "cell_type": "code",
   "execution_count": null,
   "metadata": {
    "ExecuteTime": {
     "end_time": "2019-07-26T23:55:37.716347Z",
     "start_time": "2019-07-26T23:55:37.197940Z"
    }
   },
   "outputs": [],
   "source": [
    "eph_to_xyz(obj.ephemerides(), U.km)"
   ]
  },
  {
   "cell_type": "code",
   "execution_count": null,
   "metadata": {
    "ExecuteTime": {
     "end_time": "2019-07-27T00:51:09.137328Z",
     "start_time": "2019-07-27T00:51:09.134212Z"
    }
   },
   "outputs": [],
   "source": [
    "import chdrft.utils.K as K"
   ]
  },
  {
   "cell_type": "code",
   "execution_count": null,
   "metadata": {
    "ExecuteTime": {
     "end_time": "2019-07-27T00:51:10.313576Z",
     "start_time": "2019-07-27T00:51:10.309982Z"
    }
   },
   "outputs": [],
   "source": [
    "%gui qt4"
   ]
  },
  {
   "cell_type": "code",
   "execution_count": null,
   "metadata": {
    "ExecuteTime": {
     "end_time": "2019-07-26T23:44:02.803929Z",
     "start_time": "2019-07-26T23:44:02.190185Z"
    }
   },
   "outputs": [],
   "source": [
    "main = vtkMain()\n",
    "\n",
    "\n",
    "for obj in objs:\n",
    "  pts = eph_to_xyz(obj.ephemerides())\n",
    "  actor = opa_vtk.create_line_actor(pts)\n",
    "  main.ren.AddActor(actor)\n",
    "\n",
    "sp = opa_vtk.SphereActor(1e-5, 10, (0,0,0), K.vispy_utils.Color('y').rgb)\n",
    "main.ren.AddActor(sp)"
   ]
  },
  {
   "cell_type": "code",
   "execution_count": null,
   "metadata": {
    "ExecuteTime": {
     "end_time": "2019-07-26T23:44:04.310195Z",
     "start_time": "2019-07-26T23:44:04.286010Z"
    }
   },
   "outputs": [],
   "source": [
    "main.run()"
   ]
  },
  {
   "cell_type": "code",
   "execution_count": null,
   "metadata": {
    "ExecuteTime": {
     "start_time": "2019-07-20T00:00:33.101Z"
    }
   },
   "outputs": [],
   "source": [
    "main.app.quit()"
   ]
  },
  {
   "cell_type": "code",
   "execution_count": null,
   "metadata": {
    "ExecuteTime": {
     "end_time": "2019-07-07T00:12:56.066962Z",
     "start_time": "2019-07-07T00:12:56.027613Z"
    }
   },
   "outputs": [],
   "source": [
    "from sbpy.data import Orbit\n",
    "from astropy.time import Time\n",
    "epoch = Time('2018-05-14', scale='utc')\n",
    "eph = Orbit.from_horizons('Ceres', epochs=epoch)"
   ]
  },
  {
   "cell_type": "code",
   "execution_count": null,
   "metadata": {
    "ExecuteTime": {
     "end_time": "2019-07-07T00:12:59.902230Z",
     "start_time": "2019-07-07T00:12:59.878909Z"
    }
   },
   "outputs": [],
   "source": [
    "epoch2 = Time('2018-05-15', scale='utc')\n",
    "eph2 = eph.oo_propagate(epoch2)"
   ]
  },
  {
   "cell_type": "code",
   "execution_count": null,
   "metadata": {
    "ExecuteTime": {
     "end_time": "2019-07-07T19:55:25.363190Z",
     "start_time": "2019-07-07T19:55:22.285378Z"
    }
   },
   "outputs": [],
   "source": [
    "\n",
    "import pyoorb as oo\n",
    "oo.pyoorb.oorb_init()\n",
    "from sbpy.data import Orbit\n",
    "from astropy.time import Time\n",
    "epoch = Time.now().jd + 100\n",
    "ceres = Orbit.from_horizons('Ceres')      # doctest: +REMOTE_DATA\n",
    "future_ceres = ceres.oo_propagate(epoch)  # doctest: +SKIP\n",
    "print(future_ceres)  # doctest: +SKIP"
   ]
  },
  {
   "cell_type": "code",
   "execution_count": null,
   "metadata": {
    "ExecuteTime": {
     "end_time": "2019-07-07T00:13:00.903776Z",
     "start_time": "2019-07-07T00:13:00.887497Z"
    }
   },
   "outputs": [],
   "source": [
    "cart = eph2.oo_transform('CART')"
   ]
  },
  {
   "cell_type": "code",
   "execution_count": null,
   "metadata": {
    "ExecuteTime": {
     "end_time": "2019-07-07T00:13:01.965299Z",
     "start_time": "2019-07-07T00:13:01.952842Z"
    }
   },
   "outputs": [],
   "source": [
    "cart['x']"
   ]
  },
  {
   "cell_type": "code",
   "execution_count": null,
   "metadata": {
    "ExecuteTime": {
     "end_time": "2019-07-07T00:13:05.124500Z",
     "start_time": "2019-07-07T00:13:05.110720Z"
    }
   },
   "outputs": [],
   "source": [
    "for i in range(10):\n",
    "  print(a[i].cartesian.x)"
   ]
  },
  {
   "cell_type": "code",
   "execution_count": null,
   "metadata": {
    "ExecuteTime": {
     "end_time": "2019-07-06T15:08:00.839717Z",
     "start_time": "2019-07-06T15:08:00.833309Z"
    }
   },
   "outputs": [],
   "source": [
    "type(elems[0])"
   ]
  },
  {
   "cell_type": "code",
   "execution_count": null,
   "metadata": {
    "ExecuteTime": {
     "end_time": "2019-07-19T20:12:08.243084Z",
     "start_time": "2019-07-19T20:12:07.993356Z"
    }
   },
   "outputs": [],
   "source": [
    "import reverse_geocoder as rg\n",
    "coordinates = (51.5214588,-0.1729636),(9.936033, 76.259952),(37.38605,-122.08385)\n",
    "\n",
    "results = rg.search(coordinates) # default mode = 2\n",
    "\n",
    "print(results)"
   ]
  },
  {
   "cell_type": "code",
   "execution_count": null,
   "metadata": {
    "ExecuteTime": {
     "end_time": "2019-07-21T00:16:49.080090Z",
     "start_time": "2019-07-21T00:16:47.228634Z"
    }
   },
   "outputs": [],
   "source": [
    "gl = Nominatim(user_agent='VGYV7gGlNoWapA==')\n",
    "obj = gl.geocode('Paris')\n",
    "tile = mercantile.tile(obj.longitude, obj.latitude, 12)"
   ]
  },
  {
   "cell_type": "code",
   "execution_count": null,
   "metadata": {
    "ExecuteTime": {
     "end_time": "2019-07-21T00:15:22.013489Z",
     "start_time": "2019-07-21T00:15:22.005408Z"
    }
   },
   "outputs": [],
   "source": [
    "from chdrft.utils.cache import global_cache_list\n",
    "global_cache_list"
   ]
  },
  {
   "cell_type": "code",
   "execution_count": null,
   "metadata": {
    "ExecuteTime": {
     "end_time": "2019-07-21T00:10:50.712237Z",
     "start_time": "2019-07-21T00:10:50.499221Z"
    }
   },
   "outputs": [],
   "source": [
    "tx = tg.get_tile(*tile)\n",
    "img = K.opa_vtk.read_img_from_buf(tx)"
   ]
  },
  {
   "cell_type": "code",
   "execution_count": null,
   "metadata": {
    "ExecuteTime": {
     "end_time": "2019-07-20T23:32:24.704977Z",
     "start_time": "2019-07-20T23:32:22.708416Z"
    }
   },
   "outputs": [],
   "source": [
    "K.vispy_utils.render_for_meshes([cmisc.Attr(images=[img[::-1]])])\n",
    "#K.plot_img(img[::-1])"
   ]
  },
  {
   "cell_type": "code",
   "execution_count": null,
   "metadata": {
    "ExecuteTime": {
     "end_time": "2019-07-20T23:32:36.406577Z",
     "start_time": "2019-07-20T23:32:36.401260Z"
    }
   },
   "outputs": [],
   "source": [
    "open('/tmp/test.png', 'wb').write(tx)"
   ]
  },
  {
   "cell_type": "code",
   "execution_count": null,
   "metadata": {
    "ExecuteTime": {
     "end_time": "2019-07-20T23:44:45.996641Z",
     "start_time": "2019-07-20T23:44:45.991736Z"
    }
   },
   "outputs": [],
   "source": [
    "img = cv2.imread('/tmp/test.png', 1)"
   ]
  },
  {
   "cell_type": "code",
   "execution_count": null,
   "metadata": {
    "ExecuteTime": {
     "end_time": "2019-07-20T23:44:49.086484Z",
     "start_time": "2019-07-20T23:44:49.083008Z"
    }
   },
   "outputs": [],
   "source": [
    "print(img.shape)"
   ]
  },
  {
   "cell_type": "code",
   "execution_count": null,
   "metadata": {
    "ExecuteTime": {
     "end_time": "2019-07-20T23:50:40.708596Z",
     "start_time": "2019-07-20T23:50:40.702974Z"
    }
   },
   "outputs": [],
   "source": [
    "#img_vtk = K.opa_vtk.numpy_to_vtk_image(np.ascontiguousarray(img[:,:,0]))\n",
    "img_vtk = K.opa_vtk.numpy_to_vtk_image(np.ascontiguousarray(img.reshape((1,) + img.shape)))\n",
    "tex = K.opa_vtk.reader2tex(img_vtk)\n",
    "#tex = K.opa_vtk.jpeg2tex('/tmp/test.png')\n",
    "\n",
    "actor= K.opa_vtk.TriangleActor(tex=tex).full_quad(Z.opa_struct.g_unit_box.poly(z_coord=1)).build()"
   ]
  },
  {
   "cell_type": "code",
   "execution_count": null,
   "metadata": {
    "ExecuteTime": {
     "end_time": "2019-07-22T00:26:20.029315Z",
     "start_time": "2019-07-22T00:26:19.974651Z"
    }
   },
   "outputs": [],
   "source": [
    "main = vtkMain()\n",
    "#$main.ren.AddActor(actor)\n",
    "main.run()"
   ]
  },
  {
   "cell_type": "code",
   "execution_count": 16,
   "metadata": {
    "ExecuteTime": {
     "end_time": "2019-08-07T13:35:12.329884Z",
     "start_time": "2019-08-07T13:35:12.315426Z"
    },
    "init_cell": true
   },
   "outputs": [],
   "source": [
    "  \n",
    "class Quad:\n",
    "  \n",
    "  def __init__(self, box, depth):\n",
    "    self.box = box\n",
    "    self.depth = depth\n",
    "    self._children = None\n",
    "    \n",
    "  @property\n",
    "  def children(self):\n",
    "    if self._children is None:\n",
    "      self._children = []\n",
    "      for qd in self.box.quadrants:\n",
    "        self._children.append(Quad(qd, self.depth+1))\n",
    "    return self._children\n",
    "  \n",
    "  def __iter__(self):\n",
    "    return iter(self.children)\n",
    "  \n",
    "  \n",
    "  @staticmethod\n",
    "  def Root():\n",
    "    return Quad(Z.opa_struct.g_unit_box, 0)    \n",
    " "
   ]
  },
  {
   "cell_type": "code",
   "execution_count": 17,
   "metadata": {
    "ExecuteTime": {
     "end_time": "2019-08-07T13:35:12.365820Z",
     "start_time": "2019-08-07T13:35:12.334460Z"
    },
    "init_cell": true
   },
   "outputs": [],
   "source": [
    "class Consts:\n",
    "  EARTH_ELLIPSOID = pymap3d.Ellipsoid('wgs84')\n",
    "  MOON_ELLIPSOID = pymap3d.Ellipsoid('moon')\n",
    " \n",
    "class TMSQuad:\n",
    "  LMAX=85.05113\n",
    "  MAX_DEPTH=20\n",
    "  \n",
    "  def __init__(self, x, y, z):\n",
    "    self.x = x\n",
    "    self.y = y\n",
    "    self.z = z\n",
    "    self._children = None\n",
    "    \n",
    "  @property\n",
    "  def children(self):\n",
    "    if self._children is None:\n",
    "      self._children = []\n",
    "      if self.z +1 < TMSQuad.MAX_DEPTH:\n",
    "        for i in range(4):\n",
    "          self._children.append(TMSQuad(2*self.x+(i&1), 2*self.y+(i>>1), self.z+1))\n",
    "    return self._children\n",
    "  \n",
    "  def __iter__(self):\n",
    "    return iter(self.children)\n",
    "  \n",
    "  @property\n",
    "  def box_latlng(self):\n",
    "    bounds = mercantile.bounds(*self.xyz)\n",
    "    box = Z.Box(low=(bounds.west, bounds.south), high=(bounds.east, bounds.north))\n",
    "    return box\n",
    "    \n",
    "  @property\n",
    "  def quad_ecef(self):\n",
    "    p = self.box_latlng.poly()\n",
    "    return Z.opa_struct.Quad(np.stack(pymap3d.geodetic2ecef(p[:,1], p[:,0], 0, ell=Consts.EARTH_ELLIPSOID), axis=-1) / 1e3) \n",
    "  \n",
    "  @property\n",
    "  def xyz(self):\n",
    "    return self.x, self.y, self.z\n",
    "  \n",
    "  def tile(self, tg):\n",
    "    return tg.get_tile(*self.xyz)\n",
    "  \n",
    "  @staticmethod\n",
    "  def Root():\n",
    "    return TMSQuad(0,0,0)    \n",
    "  \n",
    "  \n",
    "def do_visit(obj, func):\n",
    "  if func(obj):\n",
    "    for x in obj:\n",
    "      do_visit(x, func)"
   ]
  },
  {
   "cell_type": "code",
   "execution_count": 18,
   "metadata": {
    "ExecuteTime": {
     "end_time": "2019-08-07T13:35:12.385246Z",
     "start_time": "2019-08-07T13:35:12.372403Z"
    },
    "init_cell": true
   },
   "outputs": [],
   "source": [
    "class SimpleVisitor:\n",
    "  def __init__(self, max_depth=2):\n",
    "    self.max_depth = max_depth\n",
    "    self.actors = []\n",
    "    self.pts = []\n",
    "    \n",
    "  def __call__(self, obj):\n",
    "    if obj.z < self.max_depth: return 1\n",
    "    tx = obj.tile(tg)\n",
    "    img = K.opa_vtk.read_img_from_buf(tx)\n",
    "    actor = opa_vtk.TriangleActor(tex=K.opa_vtk.numpy2tex(img)).full_quad_yinv(obj.quad_ecef).build()\n",
    "    self.actors.append(actor)\n",
    "    self.pts.extend(obj.quad_ecef.pts)\n",
    "    return 0\n",
    "  \n",
    "  def run_tms(self):\n",
    "    root = TMSQuad.Root()\n",
    "    do_visit(root, self)"
   ]
  },
  {
   "cell_type": "code",
   "execution_count": 19,
   "metadata": {
    "ExecuteTime": {
     "end_time": "2019-08-07T13:35:12.411434Z",
     "start_time": "2019-08-07T13:35:12.390728Z"
    },
    "init_cell": true
   },
   "outputs": [],
   "source": [
    "class CylindricalVisitor:\n",
    "  def __init__(self, max_depth=2):\n",
    "    self.max_depth = max_depth\n",
    "    self.ta = opa_vtk.TriangleActor()\n",
    "    self.real_box = Z.Box(low=(-np.pi, -np.pi/2), high= (np.pi, np.pi/2))\n",
    "    self.pts = []\n",
    "    \n",
    "  def __call__(self, obj):\n",
    "    if obj.depth < self.max_depth: return 1\n",
    "    base_p = obj.box.poly()\n",
    "    p = self.real_box.from_box_space(base_p)\n",
    "    \n",
    "    pmap = np.stack(pymap3d.geodetic2ecef(p[:,1], p[:,0], 0, ell=Consts.MOON_ELLIPSOID, deg=0), axis=-1) / 1e3\n",
    "    self.pts.extend(pmap)\n",
    "    self.ta.add_quad(pmap, base_p)\n",
    "    return 0\n",
    "  \n",
    "  def run(self):\n",
    "    root = Quad.Root()\n",
    "    do_visit(root, self)\n",
    "    \n",
    "def create_moon_data():\n",
    "  tex = K.opa_vtk.jpeg2tex('/home/benoit/Downloads/Moon_LRO_LOLA_global_LDEM_1024.jpg')\n",
    "  width, height =  tex.GetInput().GetDimensions()[:2]\n",
    "  cv = CylindricalVisitor(4)\n",
    "  cv.run()\n",
    "  actor = cv.ta.set_tex(tex).build()\n",
    "  return cmisc.Attr(actor=actor, pts=cv.pts)\n",
    "  "
   ]
  },
  {
   "cell_type": "code",
   "execution_count": 20,
   "metadata": {
    "ExecuteTime": {
     "end_time": "2019-08-07T13:35:12.474802Z",
     "start_time": "2019-08-07T13:35:12.414971Z"
    },
    "init_cell": true
   },
   "outputs": [
    {
     "ename": "NameError",
     "evalue": "name 'pts_list' is not defined",
     "output_type": "error",
     "traceback": [
      "\u001b[0;31m---------------------------------------------------------------------------\u001b[0m",
      "\u001b[0;31mNameError\u001b[0m                                 Traceback (most recent call last)",
      "\u001b[0;32m<ipython-input-20-0401e3c93bc3>\u001b[0m in \u001b[0;36m<module>\u001b[0;34m\u001b[0m\n\u001b[1;32m     44\u001b[0m \u001b[0;31m#res =compute_cam_parameters((0, 0, 0), (0,0, 1), (0, 1, 0), [(1, 1, 1), (1,1,2)], expand=0.05, aspect=1.5)\u001b[0m\u001b[0;34m\u001b[0m\u001b[0;34m\u001b[0m\u001b[0;34m\u001b[0m\u001b[0m\n\u001b[1;32m     45\u001b[0m \u001b[0;34m\u001b[0m\u001b[0m\n\u001b[0;32m---> 46\u001b[0;31m \u001b[0mprint\u001b[0m\u001b[0;34m(\u001b[0m\u001b[0mnp\u001b[0m\u001b[0;34m.\u001b[0m\u001b[0mmin\u001b[0m\u001b[0;34m(\u001b[0m\u001b[0mpts_list\u001b[0m\u001b[0;34m,\u001b[0m \u001b[0maxis\u001b[0m\u001b[0;34m=\u001b[0m\u001b[0;36m0\u001b[0m\u001b[0;34m)\u001b[0m\u001b[0;34m)\u001b[0m\u001b[0;34m\u001b[0m\u001b[0;34m\u001b[0m\u001b[0m\n\u001b[0m\u001b[1;32m     47\u001b[0m \u001b[0mprint\u001b[0m\u001b[0;34m(\u001b[0m\u001b[0mnp\u001b[0m\u001b[0;34m.\u001b[0m\u001b[0mmax\u001b[0m\u001b[0;34m(\u001b[0m\u001b[0mpts_list\u001b[0m\u001b[0;34m,\u001b[0m \u001b[0maxis\u001b[0m\u001b[0;34m=\u001b[0m\u001b[0;36m0\u001b[0m\u001b[0;34m)\u001b[0m\u001b[0;34m)\u001b[0m\u001b[0;34m\u001b[0m\u001b[0;34m\u001b[0m\u001b[0m\n\u001b[1;32m     48\u001b[0m \u001b[0mprint\u001b[0m\u001b[0;34m(\u001b[0m\u001b[0mfocal_point\u001b[0m\u001b[0;34m)\u001b[0m\u001b[0;34m\u001b[0m\u001b[0;34m\u001b[0m\u001b[0m\n",
      "\u001b[0;31mNameError\u001b[0m: name 'pts_list' is not defined"
     ]
    }
   ],
   "source": [
    "def make_norm(a):\n",
    "  return a / np.linalg.norm(a)\n",
    "def make_orth_norm(a, b):\n",
    "  a = np.array(a)\n",
    "  b = make_norm(np.array(b))\n",
    "  return make_norm(a - np.dot(a, b) * b)\n",
    "\n",
    "def compute_angles(center, focal_point, up, pts):\n",
    "  center, focal_point, up, pts = cmisc.to_numpy_args(center, focal_point, up, pts)\n",
    "  pts =pts.reshape((-1, 3))\n",
    "  \n",
    "  dpt = pts - focal_point\n",
    "  dfocal = focal_point - center\n",
    "  dfocal_len = np.linalg.norm(dfocal)\n",
    "  z = dfocal / dfocal_len\n",
    "  \n",
    "  y = make_orth_norm(up, z)\n",
    "  x = make_norm(np.cross(y, z))\n",
    "  pt_len = np.linalg.norm(dpt)\n",
    "  dpc = pts - center\n",
    "  dproj = np.dot(dpc, z)\n",
    "  \n",
    "  #xp = np.arcsin(np.dot(pts, x) / np.linalg.norm(pts-center, axis=1))\n",
    "  #yp = np.arcsin(np.dot(dpt, y) / np.linalg.norm(pts-center, axis=1))\n",
    "  \n",
    "  xp = np.arctan2(np.dot(dpc, x), dproj)\n",
    "  yp = np.arctan2(np.dot(dpc, y), dproj)\n",
    "  \n",
    "  res = np.stack((xp, yp), axis=-1)\n",
    "  return res,y\n",
    "\n",
    "\n",
    "def compute_cam_parameters(center, focal_point, up, pts, expand=0.05, aspect=None):\n",
    "  angles,y = compute_angles(center, focal_point, up, pts)\n",
    "  box = Z.Box.FromPoints(angles)\n",
    "  print(box)\n",
    "  box = box.center_on(np.zeros((2,)))\n",
    "  print(box)\n",
    "  box =box.expand(1 + expand)\n",
    "  if aspect is not None:\n",
    "    box = box.set_aspect(aspect)\n",
    "  return cmisc.Attr(box=box, y=y)\n",
    "  \n",
    "#res =compute_cam_parameters((0, 0, 0), (0,0, 1), (0, 1, 0), [(1, 1, 1), (1,1,2)], expand=0.05, aspect=1.5)\n",
    "\n",
    "print(np.min(pts_list, axis=0))\n",
    "print(np.max(pts_list, axis=0))\n",
    "print(focal_point)\n",
    "params =compute_cam_parameters(mars_pos, focal_point, up, pts_list, expand=0.10, aspect=main.aspect)\n",
    "print(params.box)\n",
    "print(params.box.width)\n",
    "print(params.box.height)\n",
    "print(main.aspect)\n",
    "print(params.box.aspect)"
   ]
  },
  {
   "cell_type": "code",
   "execution_count": null,
   "metadata": {
    "ExecuteTime": {
     "end_time": "2019-07-27T00:51:36.336278Z",
     "start_time": "2019-07-27T00:51:36.207346Z"
    }
   },
   "outputs": [],
   "source": [
    "moon_data = create_moon_data()\n",
    "main = vtkMain()\n",
    "main.ren.AddActor(moon_data.actor)\n",
    "main.run()\n",
    "  "
   ]
  },
  {
   "cell_type": "code",
   "execution_count": null,
   "metadata": {
    "ExecuteTime": {
     "end_time": "2019-07-22T00:27:11.616423Z",
     "start_time": "2019-07-22T00:27:10.768756Z"
    }
   },
   "outputs": [],
   "source": [
    "\n",
    "t = Time(datetime.datetime.utcnow()-datetime.timedelta(days=0))\n",
    "with solar_system_ephemeris.set('builtin'):\n",
    "  moon = get_body('moon', t, None) \n",
    "  mars = get_body('mars', t, None) \n",
    "  earth = get_body('earth', t, None) \n",
    "  moon = moon.transform_to('hcrs')\n",
    "  mars = mars.transform_to('hcrs')\n",
    "  earth = earth.transform_to('hcrs')\n",
    "  moon_pos = moon.cartesian.xyz.to(u.km).value\n",
    "  mars_pos = mars.cartesian.xyz.to(u.km).value\n",
    "  earth_pos = earth.cartesian.xyz.to(u.km).value\n",
    "  up = (0,0,1)\n",
    "  \n",
    "  main = vtkMain()\n",
    "  \n",
    "  moon_data = create_moon_data()\n",
    "  moon_actor = moon_data.actor\n",
    "  moon_actor.GetProperty().SetAmbient(1)\n",
    "  moon_actor.GetProperty().SetDiffuse(0)\n",
    "  moon_actor.SetPosition(*moon_pos)\n",
    "\n",
    "  u = SimpleVisitor(4)\n",
    "  u.run_tms()\n",
    "  earth_assembly = K.opa_vtk.vtk.vtkAssembly()\n",
    "  for actor in u.actors:\n",
    "    earth_assembly.AddPart(actor)\n",
    "    actor.GetProperty().SetAmbient(1)\n",
    "    actor.GetProperty().SetDiffuse(0)\n",
    "  earth_assembly.SetPosition(*earth_pos)\n",
    "  \n",
    "  \n",
    "  pts_list = np.concatenate((np.array(u.pts) +earth_pos, np.array(moon_data.pts) + moon_pos))\n",
    "  focal_point = np.mean(pts_list, axis=0)\n",
    "  #pts_list = np.concatenate((np.array(moon_data.pts) + moon_pos, ))\n",
    "  #focal_point = moon_pos\n",
    "  #focal_point = earth_pos + (moon_pos - earth_pos)*0.59\n",
    "\n",
    "  main.ren.AddActor(earth_assembly)\n",
    "  main.ren.AddActor(moon_actor)\n",
    "    \n",
    "  \n",
    "  params =compute_cam_parameters(mars_pos, focal_point, up, pts_list, expand=0.05, aspect=main.aspect)\n",
    "  \n",
    "  #main.cam.SetFocalPoint(*moon_pos)\n",
    "  main.cam.SetClippingRange(1, 1e20)\n",
    "  angle_y = Z.rad2deg(params.box.height)\n",
    "  print('ANGLE > > ', angle_y, params.box.height)\n",
    "  \n",
    "  main.cam.SetPosition(*mars_pos)\n",
    "  main.cam.SetFocalPoint(*focal_point)\n",
    "  main.cam.SetViewAngle(angle_y)\n",
    "  main.cam.SetViewUp(*params.y)\n",
    "\n",
    "  \n",
    "  main.run(reset=0)\n"
   ]
  },
  {
   "cell_type": "code",
   "execution_count": null,
   "metadata": {
    "ExecuteTime": {
     "end_time": "2019-07-27T01:12:16.923892Z",
     "start_time": "2019-07-27T01:12:15.389369Z"
    }
   },
   "outputs": [],
   "source": [
    "\n",
    "start = '2019-07-24'\n",
    "end = '2019-07-28'\n",
    "bodies = [calcephpy.NaifId.MOON, '2019 OK']\n",
    "starts = {}\n",
    "starts[calcephpy.NaifId.MOON] = '2019-07-01'\n",
    "body_center = calcephpy.NaifId.EARTH\n",
    "step = '30m'\n",
    "steps = {}\n",
    "steps[calcephpy.NaifId.MOON] = '5h'\n",
    "objs = []\n",
    "for body in bodies:\n",
    "  objs.append(Horizons(id=body,\n",
    "                 location=f'@{body_center}',\n",
    "                 epochs={'start':starts.get(body, start),\n",
    "                         'stop':end,\n",
    "                         'step':steps.get(body, step)},\n",
    "                 id_type='majorbody'))\n",
    "main = vtkMain()\n",
    "\n",
    "for obj in objs:\n",
    "  eph = obj.ephemerides()\n",
    "  pts = eph_to_xyz(eph, U.km)\n",
    "  dpts = np.diff(pts, axis=0)\n",
    "  speed = np.linalg.norm(dpts, axis=1)\n",
    "  dists = np.linalg.norm(pts, axis=1)\n",
    "  imin=  np.argmin(dists)\n",
    "  \n",
    "  print(obj, eph['datetime_str'][imin], speed[imin], dists[imin-1:imin+2])\n",
    "  print(min(speed), max(speed))\n",
    "  actor = opa_vtk.create_line_actor(pts)\n",
    "  main.ren.AddActor(actor)\n",
    "\n",
    "assert 0\n",
    "#  JPLHorizons instance \"301\"; location=@399, epochs={'start': '2019-07-01', 'stop': '2019-07-28', 'step': '5h'}, id_type=majorbody 2019-Jul-05 04:00 19468.309901514996 [363785.679 363745.979 363764.904]\n",
    "#JPLHorizons instance \"2019 OK\"; location=@399, epochs={'start': '2019-07-24', 'stop': '2019-07-28', 'step': '1m'}, id_type=majorbody 2019-Jul-25 01:21 1472.0863310984244 [71370.228 71349.445 71358.746]\n",
    "u = SimpleVisitor(4)\n",
    "u.run_tms()\n",
    "earth_assembly = K.opa_vtk.vtk.vtkAssembly()\n",
    "for actor in u.actors:\n",
    "  earth_assembly.AddPart(actor)\n",
    "  actor.GetProperty().SetAmbient(1)\n",
    "  actor.GetProperty().SetDiffuse(0)\n",
    "earth_pos = (0,0,0)\n",
    "earth_assembly.SetPosition(*earth_pos)\n",
    "  \n",
    "main.ren.AddActor(earth_assembly)\n",
    "main.run()"
   ]
  },
  {
   "cell_type": "code",
   "execution_count": null,
   "metadata": {
    "ExecuteTime": {
     "end_time": "2019-07-27T01:17:31.977023Z",
     "start_time": "2019-07-27T01:17:31.862715Z"
    }
   },
   "outputs": [],
   "source": [
    "print(eph)"
   ]
  },
  {
   "cell_type": "code",
   "execution_count": 11,
   "metadata": {
    "ExecuteTime": {
     "end_time": "2019-08-01T20:08:35.515936Z",
     "start_time": "2019-08-01T20:08:33.563980Z"
    }
   },
   "outputs": [
    {
     "name": "stdout",
     "output_type": "stream",
     "text": [
      "targetname    datetime_str   datetime_jd ... alpha_true  PABLon   PABLat \n",
      "   ---            ---             d      ...    deg       deg      deg   \n",
      "---------- ----------------- ----------- ... ---------- -------- --------\n",
      "Moon (301) 2015-Oct-12 00:00   2457307.5 ...   120.9752  75.2879 -24.8133\n",
      "Moon (301) 2015-Oct-13 00:00   2457308.5 ...    74.8747 359.0453 -32.2853\n",
      "https://ssd.jpl.nasa.gov/horizons_batch.cgi?batch=1&TABLE_TYPE=OBSERVER&QUANTITIES=%271%2C2%2C3%2C4%2C5%2C6%2C7%2C8%2C9%2C10%2C11%2C12%2C13%2C14%2C15%2C16%2C17%2C18%2C19%2C20%2C21%2C22%2C23%2C24%2C25%2C26%2C27%2C28%2C29%2C30%2C31%2C32%2C33%2C34%2C35%2C36%2C37%2C38%2C39%2C40%2C41%2C42%2C43%27&COMMAND=%22301%22&SOLAR_ELONG=%220%2C180%22&LHA_CUTOFF=0&CSV_FORMAT=YES&CAL_FORMAT=BOTH&ANG_FORMAT=DEG&APPARENT=AIRLESS&REF_SYSTEM=J2000&CENTER=%27%40LRO%27&START_TIME=%222015-10-12%22&STOP_TIME=%222015-10-13%22&STEP_SIZE=%221d%22&SKIP_DAYLT=NO\n",
      " targetname    datetime_str   datetime_jd ... alpha_true  PABLon  PABLat\n",
      "    ---            ---             d      ...    deg       deg     deg  \n",
      "----------- ----------------- ----------- ... ---------- ------- -------\n",
      "Earth (399) 2015-Oct-12 00:00   2457307.5 ...    10.7257 12.7761 -0.3535\n",
      "Earth (399) 2015-Oct-13 00:00   2457308.5 ...      1.886 19.0315 -0.9401\n",
      "https://ssd.jpl.nasa.gov/horizons_batch.cgi?batch=1&TABLE_TYPE=OBSERVER&QUANTITIES=%271%2C2%2C3%2C4%2C5%2C6%2C7%2C8%2C9%2C10%2C11%2C12%2C13%2C14%2C15%2C16%2C17%2C18%2C19%2C20%2C21%2C22%2C23%2C24%2C25%2C26%2C27%2C28%2C29%2C30%2C31%2C32%2C33%2C34%2C35%2C36%2C37%2C38%2C39%2C40%2C41%2C42%2C43%27&COMMAND=%22399%22&SOLAR_ELONG=%220%2C180%22&LHA_CUTOFF=0&CSV_FORMAT=YES&CAL_FORMAT=BOTH&ANG_FORMAT=DEG&APPARENT=AIRLESS&REF_SYSTEM=J2000&CENTER=%27%40LRO%27&START_TIME=%222015-10-12%22&STOP_TIME=%222015-10-13%22&STEP_SIZE=%221d%22&SKIP_DAYLT=NO\n"
     ]
    },
    {
     "ename": "AssertionError",
     "evalue": "",
     "output_type": "error",
     "traceback": [
      "\u001b[0;31m---------------------------------------------------------------------------\u001b[0m",
      "\u001b[0;31mAssertionError\u001b[0m                            Traceback (most recent call last)",
      "\u001b[0;32m<ipython-input-11-3a680434b001>\u001b[0m in \u001b[0;36m<module>\u001b[0;34m\u001b[0m\n\u001b[1;32m     18\u001b[0m   \u001b[0mprint\u001b[0m\u001b[0;34m(\u001b[0m\u001b[0mobj\u001b[0m\u001b[0;34m.\u001b[0m\u001b[0muri\u001b[0m\u001b[0;34m)\u001b[0m\u001b[0;34m\u001b[0m\u001b[0;34m\u001b[0m\u001b[0m\n\u001b[1;32m     19\u001b[0m   \u001b[0mobjs\u001b[0m\u001b[0;34m.\u001b[0m\u001b[0mappend\u001b[0m\u001b[0;34m(\u001b[0m\u001b[0mobj\u001b[0m\u001b[0;34m)\u001b[0m\u001b[0;34m\u001b[0m\u001b[0;34m\u001b[0m\u001b[0m\n\u001b[0;32m---> 20\u001b[0;31m \u001b[0;32massert\u001b[0m \u001b[0;36m0\u001b[0m\u001b[0;34m\u001b[0m\u001b[0;34m\u001b[0m\u001b[0m\n\u001b[0m\u001b[1;32m     21\u001b[0m \u001b[0mmain\u001b[0m \u001b[0;34m=\u001b[0m \u001b[0mvtkMain\u001b[0m\u001b[0;34m(\u001b[0m\u001b[0;34m)\u001b[0m\u001b[0;34m\u001b[0m\u001b[0;34m\u001b[0m\u001b[0m\n\u001b[1;32m     22\u001b[0m \u001b[0;34m\u001b[0m\u001b[0m\n",
      "\u001b[0;31mAssertionError\u001b[0m: "
     ]
    }
   ],
   "source": [
    "start = '2015-10-12'\n",
    "end = '2015-10-13'\n",
    "step = '1d'\n",
    "steps = {}\n",
    "starts={}\n",
    "bodies = [calcephpy.NaifId.MOON, calcephpy.NaifId.EARTH]\n",
    "body_center = 'LRO'\n",
    "objs = []\n",
    "for body in bodies:\n",
    "  obj = Horizons(id=body,\n",
    "                 location=f'@{body_center}',\n",
    "                 epochs={'start':starts.get(body, start),\n",
    "                         'stop':end,\n",
    "                         'step':steps.get(body, step)},\n",
    "                 id_type='majorbody')\n",
    "  \n",
    "  print(obj.ephemerides())\n",
    "  print(obj.uri)\n",
    "  objs.append(obj)\n",
    "assert 0\n",
    "main = vtkMain()\n",
    "\n",
    "for obj in objs:\n",
    "  eph = obj.ephemerides()\n",
    "  pts = eph_to_xyz(eph, U.km)\n",
    "  dpts = np.diff(pts, axis=0)\n",
    "  speed = np.linalg.norm(dpts, axis=1)\n",
    "  dists = np.linalg.norm(pts, axis=1)\n",
    "  imin=  np.argmin(dists)\n",
    "  \n",
    "  print(obj, eph['datetime_str'][imin], speed[imin], dists[imin-1:imin+2])\n",
    "  print(min(speed), max(speed))\n",
    "  actor = opa_vtk.create_line_actor(pts)\n",
    "  main.ren.AddActor(actor)\n",
    "\n",
    "assert 0\n",
    "#  JPLHorizons instance \"301\"; location=@399, epochs={'start': '2019-07-01', 'stop': '2019-07-28', 'step': '5h'}, id_type=majorbody 2019-Jul-05 04:00 19468.309901514996 [363785.679 363745.979 363764.904]\n",
    "#JPLHorizons instance \"2019 OK\"; location=@399, epochs={'start': '2019-07-24', 'stop': '2019-07-28', 'step': '1m'}, id_type=majorbody 2019-Jul-25 01:21 1472.0863310984244 [71370.228 71349.445 71358.746]\n",
    "u = SimpleVisitor(4)\n",
    "u.run_tms()\n",
    "earth_assembly = K.opa_vtk.vtk.vtkAssembly()\n",
    "for actor in u.actors:\n",
    "  earth_assembly.AddPart(actor)\n",
    "  actor.GetProperty().SetAmbient(1)\n",
    "  actor.GetProperty().SetDiffuse(0)\n",
    "earth_pos = (0,0,0)\n",
    "earth_assembly.SetPosition(*earth_pos)\n",
    "  \n",
    "main.ren.AddActor(earth_assembly)\n",
    "main.run()"
   ]
  },
  {
   "cell_type": "code",
   "execution_count": 14,
   "metadata": {
    "ExecuteTime": {
     "end_time": "2019-08-01T20:11:49.214149Z",
     "start_time": "2019-08-01T20:11:49.115248Z"
    }
   },
   "outputs": [
    {
     "name": "stdout",
     "output_type": "stream",
     "text": [
      "<TableColumns names=('targetname','datetime_str','datetime_jd','solar_presence','flags','RA','DEC','RA_app','DEC_app','RA_rate','DEC_rate','AZ','EL','AZ_rate','EL_rate','sat_X','sat_Y','sat_PANG','siderealtime','airmass','magextinct','V','surfbright','illumination','illum_defect','sat_sep','sat_vis','ang_width','PDObsLon','PDObsLat','PDSunLon','PDSunLat','SubSol_ang','SubSol_dist','NPole_ang','NPole_dist','EclLon','EclLat','r','r_rate','delta','delta_rate','lighttime','vel_sun','vel_obs','elong','elongFlag','alpha','IB_elong','IB_illum','sat_alpha','sunTargetPA','velocityPA','OrbPlaneAng','constellation','TDB-UT','ObsEclLon','ObsEclLat','NPole_RA','NPole_DEC','GlxLon','GlxLat','solartime','earth_lighttime','RA_3sigma','DEC_3sigma','SMAA_3sigma','SMIA_3sigma','Theta_3sigma','Area_3sigma','RSS_3sigma','r_3sigma','r_rate_3sigma','SBand_3sigma','XBand_3sigma','DoppDelay_3sigma','true_anom','hour_angle','alpha_true','PABLon','PABLat')>\n"
     ]
    }
   ],
   "source": [
    "print(obj.ephemerides().columns)"
   ]
  },
  {
   "cell_type": "code",
   "execution_count": null,
   "metadata": {
    "ExecuteTime": {
     "end_time": "2019-07-27T00:58:47.972796Z",
     "start_time": "2019-07-27T00:57:58.864899Z"
    }
   },
   "outputs": [],
   "source": [
    "import time\n",
    "import pymap3d\n",
    "cam = main.ren.GetActiveCamera()\n",
    "d = np.linalg.norm(cam.GetPosition())\n",
    "def spherical_to_xyz(alpha, phi):\n",
    "  return np.array((np.cos(alpha) * np.cos(phi), np.sin(alpha) * np.cos(phi), np.sin(phi)))\n",
    "for t in np.linspace(0,1, 1000):\n",
    "  pos = spherical_to_xyz(2*np.pi*3*t  / 2, 0*np.cos(2*np.pi*t) * np.pi /2 *0.4 ) * d\n",
    "  cam.SetPosition(*pos)\n",
    "  print(np.linalg.norm(pos))\n",
    "  main.ren.ResetCameraClippingRange()\n",
    "  main.ren_win.Render()\n",
    "  time.sleep(0.01)"
   ]
  },
  {
   "cell_type": "code",
   "execution_count": null,
   "metadata": {
    "ExecuteTime": {
     "end_time": "2019-07-27T00:02:38.616656Z",
     "start_time": "2019-07-27T00:02:38.094125Z"
    }
   },
   "outputs": [],
   "source": [
    "print(obj.ephemerides()['datetime_str'][0])"
   ]
  },
  {
   "cell_type": "code",
   "execution_count": null,
   "metadata": {
    "ExecuteTime": {
     "end_time": "2019-07-22T00:16:42.473450Z",
     "start_time": "2019-07-22T00:16:41.574094Z"
    }
   },
   "outputs": [],
   "source": [
    "def mulnorm(m, v):\n",
    "  v = list(v)+[1]\n",
    "  v = m.MultiplyPoint(v)\n",
    "  return np.array(v[:3])/v[-1]\n",
    "\n",
    "z = make_norm(focal_point - mars_pos)\n",
    "y = make_orth_norm((1,0,0), z)\n",
    "m = main.cam.GetCompositeProjectionTransformMatrix(main.aspect, -1,1 )\n",
    "print(Z.deg2rad(angle_y))\n",
    "y = params.y\n",
    "print(np.linalg.norm(np.cross(y,z)))\n",
    "x = make_norm(np.cross(y,z))\n",
    "for pt in pts_list:\n",
    "  print(np.arcsin(np.dot(x, pt - mars_pos) / np.linalg.norm(pt - mars_pos)))\n",
    "  print(mulnorm(m, pt))\n",
    "  print()"
   ]
  },
  {
   "cell_type": "code",
   "execution_count": null,
   "metadata": {
    "ExecuteTime": {
     "end_time": "2019-07-21T11:44:46.098039Z",
     "start_time": "2019-07-21T11:44:46.086433Z"
    }
   },
   "outputs": [],
   "source": [
    "app.exit_jup()\n"
   ]
  }
 ],
 "metadata": {
  "celltoolbar": "Initialization Cell",
  "kernelspec": {
   "display_name": "env3",
   "language": "python",
   "name": "env3"
  },
  "language_info": {
   "codemirror_mode": {
    "name": "ipython",
    "version": 3
   },
   "file_extension": ".py",
   "mimetype": "text/x-python",
   "name": "python",
   "nbconvert_exporter": "python",
   "pygments_lexer": "ipython3",
   "version": "3.7.3"
  }
 },
 "nbformat": 4,
 "nbformat_minor": 2
}
