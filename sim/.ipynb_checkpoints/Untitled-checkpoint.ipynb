{
 "cells": [
  {
   "cell_type": "code",
   "execution_count": 2,
   "metadata": {
    "ExecuteTime": {
     "end_time": "2019-07-20T21:24:18.212536Z",
     "start_time": "2019-07-20T21:24:18.199771Z"
    },
    "init_cell": true
   },
   "outputs": [
    {
     "name": "stdout",
     "output_type": "stream",
     "text": [
      "Activating  <function loop_qt4 at 0x7fb6b6e600d0>\n"
     ]
    },
    {
     "data": {
      "text/html": [
       "<style>.container { width:90% !important; }</style>"
      ],
      "text/plain": [
       "<IPython.core.display.HTML object>"
      ]
     },
     "metadata": {},
     "output_type": "display_data"
    }
   ],
   "source": [
    "%gui qt4\n",
    "init_jupyter()\n",
    "import georinex as gr\n",
    "import ppp_tools.gpstime\n",
    "from PyQt4 import QtGui, QtCore, QtSvg\n",
    "import chdrft.utils.misc as cmisc\n",
    "from chdrft.config.env import g_env\n",
    "g_env.set_qt5(0)\n",
    "from chdrft.display.vtk import vtkMain\n",
    "import chdrft.display.vtk as opa_vtk\n",
    "import  scipy.constants as constants\n",
    "import numpy as np\n",
    "import chdrft.utils.Z as Z\n",
    "import chdrft.utils.K as K"
   ]
  },
  {
   "cell_type": "code",
   "execution_count": 2,
   "metadata": {
    "ExecuteTime": {
     "end_time": "2019-07-19T23:58:46.055712Z",
     "start_time": "2019-07-19T23:58:46.046419Z"
    }
   },
   "outputs": [
    {
     "data": {
      "text/plain": [
       "True"
      ]
     },
     "execution_count": 2,
     "metadata": {},
     "output_type": "execute_result"
    }
   ],
   "source": [
    "cmisc.is_interactive()"
   ]
  },
  {
   "cell_type": "code",
   "execution_count": 3,
   "metadata": {
    "ExecuteTime": {
     "end_time": "2019-07-19T23:59:23.739087Z",
     "start_time": "2019-07-19T23:59:23.616228Z"
    }
   },
   "outputs": [],
   "source": [
    "nav = gr.load('../../../dsp/gps/brdc3640.15n')\n",
    "nav = gr.load('/home/benoit/Downloads/brdc1850.19n')"
   ]
  },
  {
   "cell_type": "code",
   "execution_count": 4,
   "metadata": {
    "ExecuteTime": {
     "end_time": "2019-07-19T23:59:25.772278Z",
     "start_time": "2019-07-19T23:59:25.753645Z"
    }
   },
   "outputs": [],
   "source": [
    "import datetime\n",
    "import time\n",
    "from astropy import constants as const\n",
    "\n",
    "from astropy.coordinates.earth import OMEGA_EARTH\n",
    "class Ephemerid:\n",
    "  def __init__(self, s):\n",
    "    self.s = s\n",
    "    self.a = s['sqrtA'] ** 2\n",
    "    \n",
    "  @property\n",
    "  def utc(self):\n",
    "    time_utc= ppp_tools.gpstime.UTCFromGps(self.s['GPSWeek'], self.s['Toe'])\n",
    "    time_utc = list(time_utc)\n",
    "    time_utc[-1] = int(time_utc[-1])\n",
    "    return datetime.datetime(*time_utc)\n",
    "\n",
    "  \n",
    "  def get_pos(self, t):\n",
    "    \n",
    "    dt = t -  self.utc\n",
    "    dt_sec =dt.total_seconds()\n",
    "    print('DT >>> ', dt)\n",
    "    \n",
    "    sv =self.s\n",
    "    \n",
    "    n0 = np.sqrt(const.GM_earth.value/self.a**3)  # computed mean motion\n",
    "#    T = 2*pi / n0  # Satellite orbital period\n",
    "    omega_e = OMEGA_EARTH.value\n",
    "\n",
    "    n = n0 + sv['DeltaN']\n",
    "    e = sv['Eccentricity']\n",
    "# %% Kepler's eqn of eccentric anomaly\n",
    "    Mk = sv['M0'] + n*dt_sec  # Mean Anomaly\n",
    "    Ek = Mk + e * np.sin(Mk)  # Eccentric anomaly\n",
    "# %% true anomaly\n",
    "    nuK = np.arctan2(np.sqrt(1 - e**2) * np.sin(Ek),\n",
    "                     np.cos(Ek) - e)\n",
    "# %% latitude\n",
    "    PhiK = nuK + sv['omega'] # argument of latitude\n",
    "    duk = sv['Cuc'] * np.cos(2*PhiK) + sv['Cus']*np.sin(2*PhiK)  # argument of latitude correction\n",
    "    uk = PhiK + duk  # corred argument of latitude\n",
    "# %% inclination (same)\n",
    "    dik = sv['Cic']*np.cos(2*PhiK) + sv['Cis']*np.sin(2*PhiK)  # inclination correction\n",
    "    ik = sv['Io'] + sv['IDOT']*dt_sec + dik  # corrected inclination\n",
    "# %% radial distance (same)\n",
    "    drk = sv['Crc'] * np.cos(2*PhiK) + sv['Crs'] * np.sin(2*PhiK)  # radial correction\n",
    "    rk = self.a * (1 - e * np.cos(Ek)) + drk  # corrected radial distance\n",
    "# %% right ascension  (same)\n",
    "    OmegaK = sv['Omega0'] + (sv['OmegaDot'] - omega_e)*dt_sec - omega_e*sv['Toe']\n",
    "# %% transform\n",
    "    Xk1 = rk * np.cos(uk)\n",
    "    Yk1 = rk * np.sin(uk)\n",
    "\n",
    "    X = Xk1 * np.cos(OmegaK) - Yk1 * np.sin(OmegaK) * np.cos(ik)\n",
    "\n",
    "    Y = Xk1*np.sin(OmegaK) + Yk1 * np.cos(OmegaK) * np.cos(ik)\n",
    "\n",
    "    Z = Yk1*np.sin(ik)\n",
    "    return X,Y,Z\n"
   ]
  },
  {
   "cell_type": "code",
   "execution_count": 5,
   "metadata": {
    "ExecuteTime": {
     "end_time": "2019-07-19T23:59:27.374153Z",
     "start_time": "2019-07-19T23:59:27.369174Z"
    }
   },
   "outputs": [],
   "source": [
    "import math\n",
    "def ecef_to_latlng(x,y,z):\n",
    "  lng = math.atan2(y,x)\n",
    "  lat = math.atan2(z, np.linalg.norm((x,y)))\n",
    "  return Z.rad2deg(np.array((lat, lng)))"
   ]
  },
  {
   "cell_type": "code",
   "execution_count": 6,
   "metadata": {
    "ExecuteTime": {
     "end_time": "2019-07-19T23:59:28.949780Z",
     "start_time": "2019-07-19T23:59:28.939169Z"
    }
   },
   "outputs": [],
   "source": [
    "def analyse_sat(sat):\n",
    "  tmp = nav.sel(sv=sat)\n",
    "  df = tmp.to_dataframe().dropna()\n",
    "  last = df.iloc[-1]\n",
    "  a = Ephemerid(last)\n",
    "\n",
    "  now = datetime.datetime(2015, 12, 30, 22)\n",
    "  now = datetime.datetime.utcnow()\n",
    "  xyz= a.get_pos(now)\n",
    "  print(xyz)\n",
    "  res = ecef_to_latlng(*xyz)\n",
    "  print(res)\n",
    "  return res"
   ]
  },
  {
   "cell_type": "code",
   "execution_count": 7,
   "metadata": {
    "ExecuteTime": {
     "end_time": "2019-07-19T23:59:31.026805Z",
     "start_time": "2019-07-19T23:59:30.699231Z"
    }
   },
   "outputs": [
    {
     "name": "stdout",
     "output_type": "stream",
     "text": [
      "\n",
      "\n",
      ">>> G01\n",
      "DT >>>  15 days, 1:59:44.720428\n",
      "(-12508079.568122495, 21726874.64167741, -8448154.949920645)\n",
      "[-18.623 119.929]\n",
      "\n",
      "\n",
      ">>> G02\n",
      "DT >>>  15 days, 1:59:44.734072\n",
      "(20234469.185472198, -12557311.735113762, -10999748.881604316)\n",
      "[-24.792 -31.823]\n",
      "\n",
      "\n",
      ">>> G03\n",
      "DT >>>  15 days, 1:59:44.743314\n",
      "(-5644618.325269816, 14211648.90674875, -21756183.517497536)\n",
      "[-54.898 111.662]\n",
      "\n",
      "\n",
      ">>> G04\n",
      "DT >>>  15 days, 1:59:44.752116\n",
      "(11412994.004966896, 22959828.463566296, 6956807.198792894)\n",
      "[15.180 63.569]\n",
      "\n",
      "\n",
      ">>> G05\n",
      "DT >>>  15 days, 1:59:44.760214\n",
      "(23716524.124321174, -3655991.139224572, 11484467.02747918)\n",
      "[25.575 -8.763]\n",
      "\n",
      "\n",
      ">>> G06\n",
      "DT >>>  15 days, 1:59:44.773782\n",
      "(16909912.7188189, 1973308.1837610286, -20353763.597667545)\n",
      "[-50.090 6.656]\n",
      "\n",
      "\n",
      ">>> G07\n",
      "DT >>>  15 days, 1:59:44.785370\n",
      "(785628.2906373627, 18659391.39673036, 18967003.24119296)\n",
      "[45.443 87.589]\n",
      "\n",
      "\n",
      ">>> G08\n",
      "DT >>>  15 days, 1:59:44.794933\n",
      "(-7612592.772597151, 17435208.545285482, 18476373.43680895)\n",
      "[44.162 113.587]\n",
      "\n",
      "\n",
      ">>> G09\n",
      "DT >>>  15 days, 1:59:44.802765\n",
      "(7896371.056572035, 25349507.246097423, -513169.55995557667)\n",
      "[-1.107 72.698]\n",
      "\n",
      "\n",
      ">>> G10\n",
      "DT >>>  15 days, 1:59:44.812815\n",
      "(-22317717.20009638, -11462909.551933665, 9083453.39199887)\n",
      "[19.902 -152.814]\n",
      "\n",
      "\n",
      ">>> G11\n",
      "DT >>>  15 days, 1:59:44.827438\n",
      "(-8434671.467251243, 25301369.050162796, 818370.3628409766)\n",
      "[1.758 108.437]\n",
      "\n",
      "\n",
      ">>> G12\n",
      "DT >>>  15 days, 1:59:44.841907\n",
      "(9195559.605196988, -12420564.038263509, -21794054.187125497)\n",
      "[-54.660 -53.486]\n",
      "\n",
      "\n",
      ">>> G13\n",
      "DT >>>  15 days, 1:59:44.855700\n",
      "(13568250.809820073, -7726259.106641043, 21370439.265993603)\n",
      "[53.847 -29.659]\n",
      "\n",
      "\n",
      ">>> G14\n",
      "DT >>>  15 days, 1:59:44.865267\n",
      "(-15779153.167538721, -8674232.390425345, -19260332.59905817)\n",
      "[-46.927 -151.201]\n",
      "\n",
      "\n",
      ">>> G15\n",
      "DT >>>  15 days, 1:59:44.872488\n",
      "(6432505.608593012, -18513244.542065356, 17482314.442037933)\n",
      "[41.733 -70.840]\n",
      "\n",
      "\n",
      ">>> G16\n",
      "DT >>>  15 days, 1:59:44.880331\n",
      "(-24016132.621120647, 444597.0969269406, 11607707.772617042)\n",
      "[25.792 178.939]\n",
      "\n",
      "\n",
      ">>> G17\n",
      "DT >>>  15 days, 1:59:44.887990\n",
      "(14237051.409015505, 16703138.276503934, -14615612.064915083)\n",
      "[-33.661 49.557]\n",
      "\n",
      "\n",
      ">>> G18\n",
      "DT >>>  15 days, 2:00:00.896150\n",
      "(-17015500.042011306, 20295149.56155975, 58389.48219219464)\n",
      "[0.126 129.977]\n",
      "\n",
      "\n",
      ">>> G19\n",
      "DT >>>  15 days, 1:59:44.903921\n",
      "(15319496.44311944, 10182597.016351424, -19441636.442054387)\n",
      "[-46.585 33.611]\n",
      "\n",
      "\n",
      ">>> G20\n",
      "DT >>>  15 days, 1:59:44.911678\n",
      "(-15542409.859514885, -13864916.811542457, 16467357.04282488)\n",
      "[38.331 -138.265]\n",
      "\n",
      "\n",
      ">>> G21\n",
      "DT >>>  15 days, 2:00:00.919120\n",
      "(-6309469.822842027, -16071474.803020112, 21019497.6122529)\n",
      "[50.600 -111.434]\n",
      "\n",
      "\n",
      ">>> G22\n",
      "DT >>>  15 days, 1:59:44.926933\n",
      "(-13552093.475217516, 12330273.400149947, -18972796.358897574)\n",
      "[-46.000 137.703]\n",
      "\n",
      "\n",
      ">>> G23\n",
      "DT >>>  15 days, 1:59:44.935310\n",
      "(-1681138.1140483674, 23115110.28117659, -12259889.525667675)\n",
      "[-27.878 94.160]\n",
      "\n",
      "\n",
      ">>> G24\n",
      "DT >>>  15 days, 1:59:44.944103\n",
      "(13526605.379652519, -22106115.25608435, -5095001.8404622795)\n",
      "[-11.122 -58.538]\n",
      "\n",
      "\n",
      ">>> G25\n",
      "DT >>>  15 days, 1:59:44.954937\n",
      "(-5938661.569189267, -15916564.728039216, -20692715.10731481)\n",
      "[-50.615 -110.461]\n",
      "\n",
      "\n",
      ">>> G26\n",
      "DT >>>  15 days, 1:59:44.964194\n",
      "(-26294531.241187077, -4086843.379479691, 1567976.7884826048)\n",
      "[3.372 -171.165]\n",
      "\n",
      "\n",
      ">>> G27\n",
      "DT >>>  15 days, 1:59:44.972457\n",
      "(-14119762.166953348, 4329770.375346058, 21962557.83757033)\n",
      "[56.081 162.952]\n",
      "\n",
      "\n",
      ">>> G28\n",
      "DT >>>  15 days, 1:59:44.981793\n",
      "(20834723.689513914, 13595910.157323094, 9759151.84775917)\n",
      "[21.419 33.127]\n",
      "\n",
      "\n",
      ">>> G29\n",
      "DT >>>  15 days, 1:59:44.991615\n",
      "(-3700471.9706615494, -26029450.177323945, -3763240.7932771067)\n",
      "[-8.146 -98.091]\n",
      "\n",
      "\n",
      ">>> G30\n",
      "DT >>>  15 days, 1:59:45.000231\n",
      "(10676564.086387813, 11490577.79414636, 21459231.436329022)\n",
      "[53.836 47.103]\n",
      "\n",
      "\n",
      ">>> G31\n",
      "DT >>>  15 days, 1:59:45.013166\n",
      "(-18384827.10411866, -597442.224739017, -19317131.735416353)\n",
      "[-46.401 -178.139]\n",
      "\n",
      "\n",
      ">>> G32\n",
      "DT >>>  15 days, 1:59:45.021899\n",
      "(-15787571.27766329, -15607054.10426408, -14605781.621311272)\n",
      "[-33.342 -135.329]\n"
     ]
    }
   ],
   "source": [
    "for val in nav['sv'].values:\n",
    "  print('\\n\\n>>>', val)\n",
    "  analyse_sat(val)"
   ]
  },
  {
   "cell_type": "code",
   "execution_count": 9,
   "metadata": {
    "ExecuteTime": {
     "end_time": "2019-07-19T23:59:37.709905Z",
     "start_time": "2019-07-19T23:59:37.690335Z"
    }
   },
   "outputs": [
    {
     "ename": "NameError",
     "evalue": "name 'tmp' is not defined",
     "output_type": "error",
     "traceback": [
      "\u001b[0;31m---------------------------------------------------------------------------\u001b[0m",
      "\u001b[0;31mNameError\u001b[0m                                 Traceback (most recent call last)",
      "\u001b[0;32m<ipython-input-9-c76aea52e6fe>\u001b[0m in \u001b[0;36m<module>\u001b[0;34m\u001b[0m\n\u001b[0;32m----> 1\u001b[0;31m \u001b[0mgr\u001b[0m\u001b[0;34m.\u001b[0m\u001b[0mkeplerian2ecef\u001b[0m\u001b[0;34m(\u001b[0m\u001b[0mtmp\u001b[0m\u001b[0;34m)\u001b[0m\u001b[0;34m\u001b[0m\u001b[0;34m\u001b[0m\u001b[0m\n\u001b[0m",
      "\u001b[0;31mNameError\u001b[0m: name 'tmp' is not defined"
     ]
    }
   ],
   "source": [
    "gr.keplerian2ecef(tmp)"
   ]
  },
  {
   "cell_type": "code",
   "execution_count": 10,
   "metadata": {
    "ExecuteTime": {
     "end_time": "2019-07-19T23:59:42.003406Z",
     "start_time": "2019-07-19T23:59:41.407797Z"
    }
   },
   "outputs": [
    {
     "name": "stderr",
     "output_type": "stream",
     "text": [
      "WARNING: AstropyDeprecationWarning: astropy.extern.six will be removed in 4.0, use the six module directly if it is still needed [astropy.extern.six]\n",
      "W0720 01:59:41.875890 13689 logger.py:200] AstropyDeprecationWarning: astropy.extern.six will be removed in 4.0, use the six module directly if it is still needed\n"
     ]
    },
    {
     "ename": "ValueError",
     "evalue": "Unknown target (Earth). Maybe try different id_type?",
     "output_type": "error",
     "traceback": [
      "\u001b[0;31m---------------------------------------------------------------------------\u001b[0m",
      "\u001b[0;31mValueError\u001b[0m                                Traceback (most recent call last)",
      "\u001b[0;32m<ipython-input-10-60aa5d5a60ce>\u001b[0m in \u001b[0;36m<module>\u001b[0;34m\u001b[0m\n\u001b[1;32m      3\u001b[0m epochs={'start':'2010-01-01', 'stop':'2010-03-01',\n\u001b[1;32m      4\u001b[0m 'step':'10d'})\n\u001b[0;32m----> 5\u001b[0;31m \u001b[0meph\u001b[0m \u001b[0;34m=\u001b[0m \u001b[0mobj\u001b[0m\u001b[0;34m.\u001b[0m\u001b[0mephemerides\u001b[0m\u001b[0;34m(\u001b[0m\u001b[0;34m)\u001b[0m\u001b[0;34m\u001b[0m\u001b[0;34m\u001b[0m\u001b[0m\n\u001b[0m",
      "\u001b[0;32m~/.virtualenvs/env3.7/lib/python3.7/site-packages/astroquery/utils/class_or_instance.py\u001b[0m in \u001b[0;36mf\u001b[0;34m(*args, **kwds)\u001b[0m\n\u001b[1;32m     23\u001b[0m         \u001b[0;32mdef\u001b[0m \u001b[0mf\u001b[0m\u001b[0;34m(\u001b[0m\u001b[0;34m*\u001b[0m\u001b[0margs\u001b[0m\u001b[0;34m,\u001b[0m \u001b[0;34m**\u001b[0m\u001b[0mkwds\u001b[0m\u001b[0;34m)\u001b[0m\u001b[0;34m:\u001b[0m\u001b[0;34m\u001b[0m\u001b[0;34m\u001b[0m\u001b[0m\n\u001b[1;32m     24\u001b[0m             \u001b[0;32mif\u001b[0m \u001b[0mobj\u001b[0m \u001b[0;32mis\u001b[0m \u001b[0;32mnot\u001b[0m \u001b[0;32mNone\u001b[0m\u001b[0;34m:\u001b[0m\u001b[0;34m\u001b[0m\u001b[0;34m\u001b[0m\u001b[0m\n\u001b[0;32m---> 25\u001b[0;31m                 \u001b[0;32mreturn\u001b[0m \u001b[0mself\u001b[0m\u001b[0;34m.\u001b[0m\u001b[0mfn\u001b[0m\u001b[0;34m(\u001b[0m\u001b[0mobj\u001b[0m\u001b[0;34m,\u001b[0m \u001b[0;34m*\u001b[0m\u001b[0margs\u001b[0m\u001b[0;34m,\u001b[0m \u001b[0;34m**\u001b[0m\u001b[0mkwds\u001b[0m\u001b[0;34m)\u001b[0m\u001b[0;34m\u001b[0m\u001b[0;34m\u001b[0m\u001b[0m\n\u001b[0m\u001b[1;32m     26\u001b[0m             \u001b[0;32melse\u001b[0m\u001b[0;34m:\u001b[0m\u001b[0;34m\u001b[0m\u001b[0;34m\u001b[0m\u001b[0m\n\u001b[1;32m     27\u001b[0m                 \u001b[0;32mreturn\u001b[0m \u001b[0mself\u001b[0m\u001b[0;34m.\u001b[0m\u001b[0mfn\u001b[0m\u001b[0;34m(\u001b[0m\u001b[0mcls\u001b[0m\u001b[0;34m,\u001b[0m \u001b[0;34m*\u001b[0m\u001b[0margs\u001b[0m\u001b[0;34m,\u001b[0m \u001b[0;34m**\u001b[0m\u001b[0mkwds\u001b[0m\u001b[0;34m)\u001b[0m\u001b[0;34m\u001b[0m\u001b[0;34m\u001b[0m\u001b[0m\n",
      "\u001b[0;32m~/.virtualenvs/env3.7/lib/python3.7/site-packages/astroquery/utils/process_asyncs.py\u001b[0m in \u001b[0;36mnewmethod\u001b[0;34m(self, *args, **kwargs)\u001b[0m\n\u001b[1;32m     27\u001b[0m             \u001b[0;32mif\u001b[0m \u001b[0mkwargs\u001b[0m\u001b[0;34m.\u001b[0m\u001b[0mget\u001b[0m\u001b[0;34m(\u001b[0m\u001b[0;34m'get_query_payload'\u001b[0m\u001b[0;34m)\u001b[0m \u001b[0;32mor\u001b[0m \u001b[0mkwargs\u001b[0m\u001b[0;34m.\u001b[0m\u001b[0mget\u001b[0m\u001b[0;34m(\u001b[0m\u001b[0;34m'field_help'\u001b[0m\u001b[0;34m)\u001b[0m\u001b[0;34m:\u001b[0m\u001b[0;34m\u001b[0m\u001b[0;34m\u001b[0m\u001b[0m\n\u001b[1;32m     28\u001b[0m                 \u001b[0;32mreturn\u001b[0m \u001b[0mresponse\u001b[0m\u001b[0;34m\u001b[0m\u001b[0;34m\u001b[0m\u001b[0m\n\u001b[0;32m---> 29\u001b[0;31m             \u001b[0mresult\u001b[0m \u001b[0;34m=\u001b[0m \u001b[0mself\u001b[0m\u001b[0;34m.\u001b[0m\u001b[0m_parse_result\u001b[0m\u001b[0;34m(\u001b[0m\u001b[0mresponse\u001b[0m\u001b[0;34m,\u001b[0m \u001b[0mverbose\u001b[0m\u001b[0;34m=\u001b[0m\u001b[0mverbose\u001b[0m\u001b[0;34m)\u001b[0m\u001b[0;34m\u001b[0m\u001b[0;34m\u001b[0m\u001b[0m\n\u001b[0m\u001b[1;32m     30\u001b[0m             \u001b[0mself\u001b[0m\u001b[0;34m.\u001b[0m\u001b[0mtable\u001b[0m \u001b[0;34m=\u001b[0m \u001b[0mresult\u001b[0m\u001b[0;34m\u001b[0m\u001b[0;34m\u001b[0m\u001b[0m\n\u001b[1;32m     31\u001b[0m             \u001b[0;32mreturn\u001b[0m \u001b[0mresult\u001b[0m\u001b[0;34m\u001b[0m\u001b[0;34m\u001b[0m\u001b[0m\n",
      "\u001b[0;32m~/.virtualenvs/env3.7/lib/python3.7/site-packages/astroquery/jplhorizons/core.py\u001b[0m in \u001b[0;36m_parse_result\u001b[0;34m(self, response, verbose)\u001b[0m\n\u001b[1;32m   1223\u001b[0m             \u001b[0;32mreturn\u001b[0m \u001b[0;32mNone\u001b[0m\u001b[0;34m\u001b[0m\u001b[0;34m\u001b[0m\u001b[0m\n\u001b[1;32m   1224\u001b[0m         \u001b[0;32melse\u001b[0m\u001b[0;34m:\u001b[0m\u001b[0;34m\u001b[0m\u001b[0;34m\u001b[0m\u001b[0m\n\u001b[0;32m-> 1225\u001b[0;31m             \u001b[0mdata\u001b[0m \u001b[0;34m=\u001b[0m \u001b[0mself\u001b[0m\u001b[0;34m.\u001b[0m\u001b[0m_parse_horizons\u001b[0m\u001b[0;34m(\u001b[0m\u001b[0mresponse\u001b[0m\u001b[0;34m.\u001b[0m\u001b[0mtext\u001b[0m\u001b[0;34m)\u001b[0m\u001b[0;34m\u001b[0m\u001b[0;34m\u001b[0m\u001b[0m\n\u001b[0m\u001b[1;32m   1226\u001b[0m \u001b[0;34m\u001b[0m\u001b[0m\n\u001b[1;32m   1227\u001b[0m         \u001b[0;32mreturn\u001b[0m \u001b[0mdata\u001b[0m\u001b[0;34m\u001b[0m\u001b[0;34m\u001b[0m\u001b[0m\n",
      "\u001b[0;32m~/.virtualenvs/env3.7/lib/python3.7/site-packages/astroquery/jplhorizons/core.py\u001b[0m in \u001b[0;36m_parse_horizons\u001b[0;34m(self, src)\u001b[0m\n\u001b[1;32m   1096\u001b[0m                     \"No matches found\" in src[idx + 1]):\n\u001b[1;32m   1097\u001b[0m                 raise ValueError(('Unknown target ({:s}). Maybe try '\n\u001b[0;32m-> 1098\u001b[0;31m                                   'different id_type?').format(self.id))\n\u001b[0m\u001b[1;32m   1099\u001b[0m             \u001b[0;31m# catch any unavailability of ephemeris data\u001b[0m\u001b[0;34m\u001b[0m\u001b[0;34m\u001b[0m\u001b[0;34m\u001b[0m\u001b[0m\n\u001b[1;32m   1100\u001b[0m             \u001b[0;32mif\u001b[0m \u001b[0;34m\"No ephemeris for target\"\u001b[0m \u001b[0;32min\u001b[0m \u001b[0mline\u001b[0m\u001b[0;34m:\u001b[0m\u001b[0;34m\u001b[0m\u001b[0;34m\u001b[0m\u001b[0m\n",
      "\u001b[0;31mValueError\u001b[0m: Unknown target (Earth). Maybe try different id_type?"
     ]
    }
   ],
   "source": [
    "from astroquery.jplhorizons import Horizons\n",
    "obj = Horizons(id='Earth', location='568',\n",
    "epochs={'start':'2010-01-01', 'stop':'2010-03-01',\n",
    "'step':'10d'})\n",
    "eph = obj.ephemerides()"
   ]
  },
  {
   "cell_type": "code",
   "execution_count": 11,
   "metadata": {
    "ExecuteTime": {
     "end_time": "2019-07-19T23:59:50.507426Z",
     "start_time": "2019-07-19T23:59:50.493391Z"
    }
   },
   "outputs": [],
   "source": [
    "import calcephpy\n",
    "from astroquery.jplhorizons import Horizons\n",
    "\n",
    "start = '1969-07-16 16:40'\n",
    "end = '1969-07-28'\n",
    "start = '2018-01-01'\n",
    "end = '2018-01-5'\n",
    "body_center = calcephpy.NaifId.MARS\n",
    "body_a = calcephpy.NaifId.PHOBOS\n",
    "body_b = calcephpy.NaifId.DEIMOS\n",
    "body_b =-399110\n",
    "body_a = calcephpy.NaifId.MOON\n",
    "objs = []\n",
    "\n",
    "bodies = [calcephpy.NaifId.DEIMOS, calcephpy.NaifId.PHOBOS, -3, -41, -74, ]\n",
    "body_center = calcephpy.NaifId.MARS\n",
    "for body in bodies:\n",
    "  objs.append(Horizons(id=body,\n",
    "                 location=f'@{body_center}',\n",
    "                 epochs={'start':start,\n",
    "                         'stop':end,\n",
    "                         'step':'1h'},\n",
    "                 id_type='majorbody'))\n"
   ]
  },
  {
   "cell_type": "code",
   "execution_count": 12,
   "metadata": {
    "ExecuteTime": {
     "end_time": "2019-07-19T23:59:54.222546Z",
     "start_time": "2019-07-19T23:59:54.216463Z"
    }
   },
   "outputs": [],
   "source": [
    "\n",
    "from astropy.coordinates import SkyCoord\n",
    "from astropy.coordinates import ICRS\n",
    "def eph_to_xyz(eph):\n",
    "  a = SkyCoord(eph['RA'], eph['DEC'], distance=eph['delta'], frame='icrs')\n",
    "  return a.cartesian.xyz.value.T"
   ]
  },
  {
   "cell_type": "code",
   "execution_count": 13,
   "metadata": {
    "ExecuteTime": {
     "end_time": "2019-07-19T23:59:55.483145Z",
     "start_time": "2019-07-19T23:59:55.479882Z"
    }
   },
   "outputs": [],
   "source": [
    "import chdrft.utils.K as K"
   ]
  },
  {
   "cell_type": "code",
   "execution_count": 14,
   "metadata": {
    "ExecuteTime": {
     "end_time": "2019-07-20T00:00:00.057583Z",
     "start_time": "2019-07-20T00:00:00.053387Z"
    }
   },
   "outputs": [],
   "source": [
    "%gui qt4"
   ]
  },
  {
   "cell_type": "code",
   "execution_count": 15,
   "metadata": {
    "ExecuteTime": {
     "end_time": "2019-07-20T00:00:01.662090Z",
     "start_time": "2019-07-20T00:00:01.190357Z"
    }
   },
   "outputs": [],
   "source": [
    "main = vtkMain()\n",
    "\n",
    "\n",
    "for obj in objs:\n",
    "  pts = eph_to_xyz(obj.ephemerides())\n",
    "  actor = opa_vtk.create_line_actor(pts)\n",
    "  main.ren.AddActor(actor)\n",
    "\n",
    "sp = opa_vtk.SphereActor(1e-5, 10, (0,0,0), K.vispy_utils.Color('y').rgb)\n",
    "main.ren.AddActor(sp)"
   ]
  },
  {
   "cell_type": "code",
   "execution_count": null,
   "metadata": {
    "ExecuteTime": {
     "start_time": "2019-07-20T00:00:02.957Z"
    }
   },
   "outputs": [],
   "source": [
    "main.run()"
   ]
  },
  {
   "cell_type": "code",
   "execution_count": null,
   "metadata": {
    "ExecuteTime": {
     "start_time": "2019-07-20T00:00:33.101Z"
    }
   },
   "outputs": [],
   "source": [
    "main.app.quit()"
   ]
  },
  {
   "cell_type": "code",
   "execution_count": 4,
   "metadata": {
    "ExecuteTime": {
     "end_time": "2019-07-07T00:12:56.066962Z",
     "start_time": "2019-07-07T00:12:56.027613Z"
    }
   },
   "outputs": [],
   "source": [
    "from sbpy.data import Orbit\n",
    "from astropy.time import Time\n",
    "epoch = Time('2018-05-14', scale='utc')\n",
    "eph = Orbit.from_horizons('Ceres', epochs=epoch)"
   ]
  },
  {
   "cell_type": "code",
   "execution_count": 6,
   "metadata": {
    "ExecuteTime": {
     "end_time": "2019-07-07T00:12:59.902230Z",
     "start_time": "2019-07-07T00:12:59.878909Z"
    }
   },
   "outputs": [],
   "source": [
    "epoch2 = Time('2018-05-15', scale='utc')\n",
    "eph2 = eph.oo_propagate(epoch2)"
   ]
  },
  {
   "cell_type": "code",
   "execution_count": 4,
   "metadata": {
    "ExecuteTime": {
     "end_time": "2019-07-07T19:55:25.363190Z",
     "start_time": "2019-07-07T19:55:22.285378Z"
    }
   },
   "outputs": [
    {
     "name": "stderr",
     "output_type": "stream",
     "text": [
      "WARNING: AstropyDeprecationWarning: astropy.extern.six will be removed in 4.0, use the six module directly if it is still needed [astropy.extern.six]\n"
     ]
    },
    {
     "name": "stdout",
     "output_type": "stream",
     "text": [
      "<QTable length=1>\n",
      "   id           a                  e          ...    H       G    timescale\n",
      "                AU                            ...   mag                    \n",
      "  str7       float64            float64       ... float64 float64    str3  \n",
      "------- ----------------- ------------------- ... ------- ------- ---------\n",
      "1 Ceres 2.769883398865678 0.07653220635373383 ...    3.34    0.12       UTC\n"
     ]
    }
   ],
   "source": [
    "\n",
    "import pyoorb as oo\n",
    "oo.pyoorb.oorb_init()\n",
    "from sbpy.data import Orbit\n",
    "from astropy.time import Time\n",
    "epoch = Time.now().jd + 100\n",
    "ceres = Orbit.from_horizons('Ceres')      # doctest: +REMOTE_DATA\n",
    "future_ceres = ceres.oo_propagate(epoch)  # doctest: +SKIP\n",
    "print(future_ceres)  # doctest: +SKIP"
   ]
  },
  {
   "cell_type": "code",
   "execution_count": 7,
   "metadata": {
    "ExecuteTime": {
     "end_time": "2019-07-07T00:13:00.903776Z",
     "start_time": "2019-07-07T00:13:00.887497Z"
    }
   },
   "outputs": [],
   "source": [
    "cart = eph2.oo_transform('CART')"
   ]
  },
  {
   "cell_type": "code",
   "execution_count": 8,
   "metadata": {
    "ExecuteTime": {
     "end_time": "2019-07-07T00:13:01.965299Z",
     "start_time": "2019-07-07T00:13:01.952842Z"
    }
   },
   "outputs": [
    {
     "data": {
      "text/latex": [
       "$[-2.3235471] \\; \\mathrm{AU}$"
      ],
      "text/plain": [
       "<Quantity [-2.32354709] AU>"
      ]
     },
     "execution_count": 8,
     "metadata": {},
     "output_type": "execute_result"
    }
   ],
   "source": [
    "cart['x']"
   ]
  },
  {
   "cell_type": "code",
   "execution_count": 9,
   "metadata": {
    "ExecuteTime": {
     "end_time": "2019-07-07T00:13:05.124500Z",
     "start_time": "2019-07-07T00:13:05.110720Z"
    }
   },
   "outputs": [
    {
     "ename": "NameError",
     "evalue": "name 'a' is not defined",
     "output_type": "error",
     "traceback": [
      "\u001b[0;31m---------------------------------------------------------------------------\u001b[0m",
      "\u001b[0;31mNameError\u001b[0m                                 Traceback (most recent call last)",
      "\u001b[0;32m<ipython-input-9-a26193522d34>\u001b[0m in \u001b[0;36m<module>\u001b[0;34m\u001b[0m\n\u001b[1;32m      1\u001b[0m \u001b[0;32mfor\u001b[0m \u001b[0mi\u001b[0m \u001b[0;32min\u001b[0m \u001b[0mrange\u001b[0m\u001b[0;34m(\u001b[0m\u001b[0;36m10\u001b[0m\u001b[0;34m)\u001b[0m\u001b[0;34m:\u001b[0m\u001b[0;34m\u001b[0m\u001b[0;34m\u001b[0m\u001b[0m\n\u001b[0;32m----> 2\u001b[0;31m   \u001b[0mprint\u001b[0m\u001b[0;34m(\u001b[0m\u001b[0ma\u001b[0m\u001b[0;34m[\u001b[0m\u001b[0mi\u001b[0m\u001b[0;34m]\u001b[0m\u001b[0;34m.\u001b[0m\u001b[0mcartesian\u001b[0m\u001b[0;34m.\u001b[0m\u001b[0mx\u001b[0m\u001b[0;34m)\u001b[0m\u001b[0;34m\u001b[0m\u001b[0;34m\u001b[0m\u001b[0m\n\u001b[0m",
      "\u001b[0;31mNameError\u001b[0m: name 'a' is not defined"
     ]
    }
   ],
   "source": [
    "for i in range(10):\n",
    "  print(a[i].cartesian.x)"
   ]
  },
  {
   "cell_type": "code",
   "execution_count": 80,
   "metadata": {
    "ExecuteTime": {
     "end_time": "2019-07-06T15:08:00.839717Z",
     "start_time": "2019-07-06T15:08:00.833309Z"
    }
   },
   "outputs": [
    {
     "data": {
      "text/plain": [
       "astropy.table.row.Row"
      ]
     },
     "execution_count": 80,
     "metadata": {},
     "output_type": "execute_result"
    }
   ],
   "source": [
    "type(elems[0])"
   ]
  },
  {
   "cell_type": "code",
   "execution_count": 3,
   "metadata": {
    "ExecuteTime": {
     "end_time": "2019-07-06T17:07:40.713720Z",
     "start_time": "2019-07-06T17:07:30.572023Z"
    }
   },
   "outputs": [],
   "source": [
    "\n"
   ]
  },
  {
   "cell_type": "code",
   "execution_count": 5,
   "metadata": {
    "ExecuteTime": {
     "end_time": "2019-07-06T16:54:25.537022Z",
     "start_time": "2019-07-06T16:54:25.531645Z"
    }
   },
   "outputs": [],
   "source": []
  },
  {
   "cell_type": "code",
   "execution_count": 4,
   "metadata": {
    "ExecuteTime": {
     "end_time": "2019-07-19T20:12:08.243084Z",
     "start_time": "2019-07-19T20:12:07.993356Z"
    }
   },
   "outputs": [
    {
     "name": "stdout",
     "output_type": "stream",
     "text": [
      "[OrderedDict([('lat', '51.51116'), ('lon', '-0.18426'), ('name', 'Bayswater'), ('admin1', 'England'), ('admin2', 'Greater London'), ('cc', 'GB')]), OrderedDict([('lat', '9.93988'), ('lon', '76.26022'), ('name', 'Cochin'), ('admin1', 'Kerala'), ('admin2', 'Ernakulam'), ('cc', 'IN')]), OrderedDict([('lat', '37.38605'), ('lon', '-122.08385'), ('name', 'Mountain View'), ('admin1', 'California'), ('admin2', 'Santa Clara County'), ('cc', 'US')])]\n"
     ]
    }
   ],
   "source": [
    "import reverse_geocoder as rg\n",
    "coordinates = (51.5214588,-0.1729636),(9.936033, 76.259952),(37.38605,-122.08385)\n",
    "\n",
    "results = rg.search(coordinates) # default mode = 2\n",
    "\n",
    "print(results)"
   ]
  },
  {
   "cell_type": "code",
   "execution_count": 12,
   "metadata": {
    "ExecuteTime": {
     "end_time": "2019-07-19T20:52:48.150819Z",
     "start_time": "2019-07-19T20:52:48.142659Z"
    }
   },
   "outputs": [],
   "source": [
    "\n"
   ]
  },
  {
   "cell_type": "code",
   "execution_count": 7,
   "metadata": {
    "ExecuteTime": {
     "end_time": "2019-07-19T23:57:39.239887Z",
     "start_time": "2019-07-19T23:57:39.232401Z"
    }
   },
   "outputs": [],
   "source": [
    "import cv2\n",
    "def read_img_from_buf(buf):\n",
    "  img = cv2.imdecode(np.asarray(bytearray(Z.io.BytesIO(buf).read()), dtype=np.uint8), -1)\n",
    "  return cv2.cvtColor(img, cv2.COLOR_BGR2RGB)\n",
    "\n",
    "def render_for_meshes(meshes, vctx=None):\n",
    "  if vctx is None: vctx = K.vispy_utils.VispyCtx(display_status=1)\n",
    "  objs = vctx.plot_meshes(*meshes)\n",
    "  vctx.view.camera = K.vispy_utils.PanZoomCamera(aspect=1)\n",
    "  # the camera will scale to the contents in the scene\n",
    "  vctx.view.camera.set_range()\n",
    "  vctx.run(cam=False)\n",
    "  "
   ]
  },
  {
   "cell_type": "code",
   "execution_count": 8,
   "metadata": {
    "ExecuteTime": {
     "end_time": "2019-07-19T23:57:40.207430Z",
     "start_time": "2019-07-19T23:57:39.955807Z"
    }
   },
   "outputs": [],
   "source": [
    "import pymap3d\n",
    "from geopy.geocoders import Nominatim\n",
    "gl = Nominatim(user_agent='VGYV7gGlNoWapA==')\n",
    "obj = gl.geocode('Paris')"
   ]
  },
  {
   "cell_type": "code",
   "execution_count": 9,
   "metadata": {
    "ExecuteTime": {
     "end_time": "2019-07-19T23:57:42.313183Z",
     "start_time": "2019-07-19T23:57:40.851383Z"
    }
   },
   "outputs": [],
   "source": [
    "from chdrft.geo.satsim import TileGetter\n",
    "import mercantile\n",
    "tile = mercantile.tile(obj.longitude, obj.latitude, 12)\n",
    "tg = TileGetter()\n",
    "tx = tg.get_tile(*tile)"
   ]
  },
  {
   "cell_type": "code",
   "execution_count": 10,
   "metadata": {
    "ExecuteTime": {
     "end_time": "2019-07-19T23:57:42.470742Z",
     "start_time": "2019-07-19T23:57:42.317386Z"
    }
   },
   "outputs": [
    {
     "name": "stdout",
     "output_type": "stream",
     "text": [
      "<class 'module'>\n"
     ]
    }
   ],
   "source": [
    "img = read_img_from_buf(tx)\n",
    "render_for_meshes([cmisc.Attr(images=[img[::-1]])])\n",
    "#K.plot_img(img[::-1])\n"
   ]
  },
  {
   "cell_type": "code",
   "execution_count": 11,
   "metadata": {
    "ExecuteTime": {
     "end_time": "2019-07-19T23:57:46.511899Z",
     "start_time": "2019-07-19T23:57:46.503799Z"
    }
   },
   "outputs": [
    {
     "data": {
      "text/plain": [
       "20635"
      ]
     },
     "execution_count": 11,
     "metadata": {},
     "output_type": "execute_result"
    }
   ],
   "source": [
    "open('/tmp/test.png', 'wb').write(tx)\n",
    "\n",
    "\n"
   ]
  },
  {
   "cell_type": "code",
   "execution_count": 12,
   "metadata": {
    "ExecuteTime": {
     "end_time": "2019-07-19T23:57:47.829667Z",
     "start_time": "2019-07-19T23:57:47.803054Z"
    }
   },
   "outputs": [],
   "source": [
    "import vtk\n",
    "points = vtk.vtkPoints()\n",
    "trs = vtk.vtkCellArray()\n",
    "texCoords = vtk.vtkFloatArray()\n",
    "\n",
    "texCoords.SetNumberOfComponents(2);\n",
    "texCoords.SetName(\"TextureCoordinates\");\n",
    "points.InsertNextPoint(0, 0, 0)\n",
    "points.InsertNextPoint(0, 1, 0)\n",
    "points.InsertNextPoint(0, 2, 0)\n",
    "points.InsertNextPoint(3, 1, 0)\n",
    "    \n",
    "texCoords.InsertNextTuple2(0, 1)\n",
    "texCoords.InsertNextTuple2(0, 0.5)\n",
    "texCoords.InsertNextTuple2(0, 1)\n",
    "texCoords.InsertNextTuple2(2, 0.5)\n",
    "\n",
    "aTriangle = vtk.vtkTriangle()\n",
    "aTriangle.GetPointIds().SetId(0, 0)\n",
    "aTriangle.GetPointIds().SetId(1, 1)\n",
    "aTriangle.GetPointIds().SetId(2, 3)\n",
    "trs.InsertNextCell(aTriangle)\n",
    "\n",
    "aTriangle = vtk.vtkTriangle()\n",
    "aTriangle.GetPointIds().SetId(0, 2)\n",
    "aTriangle.GetPointIds().SetId(1, 1)\n",
    "aTriangle.GetPointIds().SetId(2, 3)\n",
    "trs.InsertNextCell(aTriangle)\n",
    "\n",
    "\n",
    "polydata = vtk.vtkPolyData()\n",
    "# Assign points and cells\n",
    "polydata.SetPoints(points)\n",
    "polydata.SetPolys(trs)\n",
    "polydata.GetPointData().SetTCoords(texCoords)\n",
    "\n",
    "mapper = vtk.vtkPolyDataMapper()\n",
    "mapper.SetInputData(polydata)\n",
    "mapper.SetScalarRange(0, 40)\n"
   ]
  },
  {
   "cell_type": "code",
   "execution_count": 13,
   "metadata": {
    "ExecuteTime": {
     "end_time": "2019-07-19T23:57:48.948544Z",
     "start_time": "2019-07-19T23:57:48.941055Z"
    }
   },
   "outputs": [],
   "source": [
    "import vtk\n",
    "reader = vtk.vtkJPEGReader()\n",
    "reader.SetFileName('/tmp/test.png')\n",
    "\n",
    "atext = vtk.vtkTexture()\n",
    "atext.SetInputConnection(reader.GetOutputPort())\n",
    "atext.InterpolateOn()\n",
    "\n",
    "# Create a plane source and actor. The vtkPlanesSource generates\n",
    "# texture coordinates.\n",
    "planeMapper = vtk.vtkPolyDataMapper()\n",
    "planeMapper.SetInputData(polydata)"
   ]
  },
  {
   "cell_type": "code",
   "execution_count": 14,
   "metadata": {
    "ExecuteTime": {
     "end_time": "2019-07-19T23:57:49.725627Z",
     "start_time": "2019-07-19T23:57:49.721939Z"
    }
   },
   "outputs": [],
   "source": [
    "planeActor = vtk.vtkActor()\n",
    "planeActor.SetMapper(planeMapper)\n",
    "planeActor.SetTexture(atext)"
   ]
  },
  {
   "cell_type": "code",
   "execution_count": null,
   "metadata": {
    "ExecuteTime": {
     "start_time": "2019-07-19T23:57:50.784Z"
    }
   },
   "outputs": [],
   "source": [
    "main = vtkMain()\n",
    "main.ren.AddActor(planeActor)\n",
    "main.run()"
   ]
  },
  {
   "cell_type": "code",
   "execution_count": null,
   "metadata": {},
   "outputs": [],
   "source": [
    "class TMSQuad:\n",
    "  LMAX=85.05113\n",
    "  MAX_DEPTH=20\n",
    "  \n",
    "  def __init__(self, x, y, z):\n",
    "    self.x = x\n",
    "    self.y = y\n",
    "    self.z = z\n",
    "    self._children = None\n",
    "    \n",
    "  @property\n",
    "  def children(self):\n",
    "    if self._children is None:\n",
    "      self.children = []\n",
    "      if self.z +1 < TMSQuad.MAX_DEPTH:\n",
    "        for i in range(4):\n",
    "          self.children.append(TMSQuad(2*x+(i&1), 2*y+(i>>1), z+1))\n",
    "    return self.children\n",
    "  \n",
    "  def __iter__(self):\n",
    "    return iter(self.children)\n",
    "  \n",
    "def do_visit(obj, func):\n",
    "  if func(node):\n",
    "    for x in obj:\n",
    "      do_visit(x, func)\n",
    "      \n",
    "\n"
   ]
  }
 ],
 "metadata": {
  "celltoolbar": "Initialization Cell",
  "kernelspec": {
   "display_name": "env3",
   "language": "python",
   "name": "env3"
  },
  "language_info": {
   "codemirror_mode": {
    "name": "ipython",
    "version": 3
   },
   "file_extension": ".py",
   "mimetype": "text/x-python",
   "name": "python",
   "nbconvert_exporter": "python",
   "pygments_lexer": "ipython3",
   "version": "3.7.3"
  }
 },
 "nbformat": 4,
 "nbformat_minor": 2
}
