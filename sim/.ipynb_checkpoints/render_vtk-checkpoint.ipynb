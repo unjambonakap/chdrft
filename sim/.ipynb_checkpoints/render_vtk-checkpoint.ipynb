{
 "cells": [
  {
   "cell_type": "code",
   "execution_count": null,
   "id": "238afc17",
   "metadata": {},
   "outputs": [],
   "source": [
    "init_jupyter()\n",
    "from PyQt5 import QtGui, QtCore, QtWidgets, QtTest\n",
    "from chdrft.sim.moon_sunrise import *\n",
    "ctx = app.setup_jup('--cache-file=/tmp/render_vtk.cache.pickle', parser_funcs=[render_params])\n",
    "\n",
    "%load_ext autoreload\n",
    "%autoreload 1\n",
    "import chdrft.sim.vtk as ms_vtk\n",
    "\n"
   ]
  },
  {
   "cell_type": "code",
   "execution_count": null,
   "id": "69bf957e",
   "metadata": {},
   "outputs": [],
   "source": [
    "ms_vtk.Moo"
   ]
  }
 ],
 "metadata": {
  "kernelspec": {
   "display_name": "env3",
   "language": "python",
   "name": "env3"
  },
  "language_info": {
   "codemirror_mode": {
    "name": "ipython",
    "version": 3
   },
   "file_extension": ".py",
   "mimetype": "text/x-python",
   "name": "python",
   "nbconvert_exporter": "python",
   "pygments_lexer": "ipython3",
   "version": "3.9.7"
  }
 },
 "nbformat": 4,
 "nbformat_minor": 5
}
