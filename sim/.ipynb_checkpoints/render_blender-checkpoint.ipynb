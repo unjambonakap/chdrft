{
 "cells": [
  {
   "cell_type": "code",
   "execution_count": null,
   "id": "30504a72",
   "metadata": {},
   "outputs": [],
   "source": [
    "init_jupyter()\n",
    "from PyQt5 import QtGui, QtCore, QtWidgets, QtTest\n",
    "import bpy\n",
    "from chdrft.sim.moon_sunrise import *\n",
    "ctx = app.setup_jup('', parser_funcs=[render_params])\n",
    "\n",
    "%load_ext autoreload\n",
    "%autoreload 1\n",
    "import chdrft.sim.blender as ms_blender\n",
    "from chdrft.display.blender import *\n",
    "\n"
   ]
  },
  {
   "cell_type": "code",
   "execution_count": null,
   "id": "3ab47fc3",
   "metadata": {},
   "outputs": [],
   "source": [
    "clear_scene()\n",
    "filepath=  '/home/benoit/programmation'\n",
    "with bpy.data.libraries.load(filepath) as (data_from, data_to):\n",
    "    data_to.meshes = data_from.meshes\n"
   ]
  },
  {
   "cell_type": "code",
   "execution_count": 2,
   "id": "e9bdd0e8",
   "metadata": {},
   "outputs": [],
   "source": [
    "def find_node_input(nt, name):\n",
    "    tg = cmisc.asq_query(nt.nodes).select_many(lambda x: x.inputs).concat(nt.inputs).single(lambda x: x.name == name)\n",
    "    return tg\n",
    "def find_node_output(nt, name):\n",
    "    tg = cmisc.asq_query(nt.nodes).select_many(lambda x: x.outputs).concat(nt.outputs).single(lambda x: x.name == name)\n",
    "    return tg\n",
    "t1 = bpy.data.node_groups.new('test1', 'ShaderNodeTree')\n",
    "# create group inputs\n",
    "ogroup = t1.outputs.new('NodeSocketFloat', 'Spec')\n",
    "vnode = t1.nodes.new('ShaderNodeValue')\n",
    "\n",
    "ogroup = t1.nodes.new('NodeGroupOutput')\n",
    "ogroup.label = 'Output'\n",
    "\n",
    "#matspec.outputs.new('NodeSocketFactor','Spec intensity')\n",
    "t1.links.new(vnode.outputs[0], ogroup.inputs[0])\n",
    "ix=vnode.outputs[0]"
   ]
  },
  {
   "cell_type": "code",
   "execution_count": 6,
   "id": "c3463678",
   "metadata": {},
   "outputs": [],
   "source": [
    "ix.default_value = 100"
   ]
  },
  {
   "cell_type": "code",
   "execution_count": 3,
   "id": "ebb94977",
   "metadata": {},
   "outputs": [],
   "source": [
    "ctx.width = 2000\n",
    "ctx.height = 2000\n",
    "ctx.moon_model = None\n",
    "ctx.earth_depth = 4\n",
    "ctx.earth_tile_depth = 3\n"
   ]
  },
  {
   "cell_type": "code",
   "execution_count": 4,
   "id": "39e4930f",
   "metadata": {},
   "outputs": [],
   "source": [
    "clear_scene()\n",
    "ms = ms_blender.MoonSunriseBlender(ctx)"
   ]
  },
  {
   "cell_type": "code",
   "execution_count": 5,
   "id": "d1ffb6a9",
   "metadata": {},
   "outputs": [],
   "source": [
    "ms.build()"
   ]
  },
  {
   "cell_type": "code",
   "execution_count": 7,
   "id": "409b546f",
   "metadata": {},
   "outputs": [
    {
     "name": "stdout",
     "output_type": "stream",
     "text": [
      "[[0.982 -0.138 -0.129 -404.832]\n",
      " [0.080 0.923 -0.376 38.670]\n",
      " [0.170 0.359 0.918 -9.600]\n",
      " [0.000 0.000 0.000 1.000]] <bpy_struct, Object(\"earth\") at 0x7f8ad853da08> <Matrix 4x4 (0.9821, -0.1376, -0.1286, -404.8320)\n",
      "            (0.0801,  0.9230, -0.3763,   38.6696)\n",
      "            (0.1705,  0.3593,  0.9175,   -9.5997)\n",
      "            (0.0000,  0.0000,  0.0000,    1.0000)>\n",
      "[[-0.000 -0.000 1.000 148909.135]\n",
      " [0.707 0.707 0.000 23.851]\n",
      " [-0.707 0.707 -0.000 -10.045]\n",
      " [0.000 0.000 0.000 1.000]] <bpy_struct, Object(\"Sun\") at 0x7f8ab2a9b208> <Matrix 4x4 (-0.0001, -0.0001,  1.0000, 148909.1406)\n",
      "            ( 0.7071,  0.7071,  0.0002,     23.8508)\n",
      "            (-0.7071,  0.7071, -0.0001,    -10.0450)\n",
      "            ( 0.0000,  0.0000,  0.0000,      1.0000)>\n",
      "[[0.062 -0.119 0.991 0.000]\n",
      " [0.849 -0.516 -0.115 0.000]\n",
      " [0.525 0.848 0.069 0.000]\n",
      " [0.000 0.000 0.000 1.000]] <bpy_struct, Object(\"Camera.001\") at 0x7f8ab2a9b808> <Matrix 4x4 (0.0619, -0.1193,  0.9909, 0.0000)\n",
      "            (0.8486, -0.5164, -0.1152, 0.0000)\n",
      "            (0.5254,  0.8480,  0.0692, 0.0000)\n",
      "            (0.0000,  0.0000,  0.0000, 1.0000)>\n"
     ]
    }
   ],
   "source": [
    "ms.configure_at(ms.tgtime + datetime.timedelta(seconds=-3))"
   ]
  },
  {
   "cell_type": "code",
   "execution_count": 8,
   "id": "d0584c62",
   "metadata": {},
   "outputs": [],
   "source": []
  },
  {
   "cell_type": "code",
   "execution_count": 77,
   "id": "95c7fe12",
   "metadata": {},
   "outputs": [],
   "source": [
    "earth = ms.objs[ActorType.Earth]\n",
    "e1 = earth.children[2]"
   ]
  },
  {
   "cell_type": "code",
   "execution_count": 34,
   "id": "3e951cc8",
   "metadata": {},
   "outputs": [],
   "source": [
    "bpy.context.scene.render.engine = 'CYCLES'"
   ]
  },
  {
   "cell_type": "code",
   "execution_count": null,
   "id": "e02469cb",
   "metadata": {},
   "outputs": [],
   "source": []
  },
  {
   "cell_type": "code",
   "execution_count": 97,
   "id": "b8930562",
   "metadata": {},
   "outputs": [],
   "source": [
    "i0 = find_node_input(e1.active_material.node_tree, 'Specular')\n",
    "o0 = find_node_output(t1, 'Spec')"
   ]
  },
  {
   "cell_type": "code",
   "execution_count": null,
   "id": "705970e9",
   "metadata": {},
   "outputs": [],
   "source": [
    "bpy."
   ]
  },
  {
   "cell_type": "code",
   "execution_count": 98,
   "id": "3d992c8a",
   "metadata": {},
   "outputs": [
    {
     "ename": "TypeError",
     "evalue": "NodeLinks.new(): error with argument 1, \"input\" -  Function.input expected a NodeSocket type, not NodeSocketInterfaceFloat",
     "output_type": "error",
     "traceback": [
      "\u001b[0;31m---------------------------------------------------------------------------\u001b[0m",
      "\u001b[0;31mTypeError\u001b[0m                                 Traceback (most recent call last)",
      "\u001b[0;32m~/programmation/hack/chdrft/utils/misc.py\u001b[0m in \u001b[0;36m<module>\u001b[0;34m\u001b[0m\n\u001b[0;32m----> 1\u001b[0;31m \u001b[0me1\u001b[0m\u001b[0;34m.\u001b[0m\u001b[0mactive_material\u001b[0m\u001b[0;34m.\u001b[0m\u001b[0mnode_tree\u001b[0m\u001b[0;34m.\u001b[0m\u001b[0mlinks\u001b[0m\u001b[0;34m.\u001b[0m\u001b[0mnew\u001b[0m\u001b[0;34m(\u001b[0m\u001b[0mo0\u001b[0m\u001b[0;34m,\u001b[0m \u001b[0mi0\u001b[0m\u001b[0;34m)\u001b[0m\u001b[0;34m\u001b[0m\u001b[0;34m\u001b[0m\u001b[0m\n\u001b[0m",
      "\u001b[0;31mTypeError\u001b[0m: NodeLinks.new(): error with argument 1, \"input\" -  Function.input expected a NodeSocket type, not NodeSocketInterfaceFloat"
     ]
    }
   ],
   "source": [
    "e1.active_material.node_tree.links.new(o0, i0)"
   ]
  },
  {
   "cell_type": "code",
   "execution_count": null,
   "id": "07893024",
   "metadata": {},
   "outputs": [],
   "source": []
  },
  {
   "cell_type": "code",
   "execution_count": null,
   "id": "ae203d6f",
   "metadata": {},
   "outputs": [],
   "source": []
  },
  {
   "cell_type": "code",
   "execution_count": 66,
   "id": "45e71d21",
   "metadata": {},
   "outputs": [
    {
     "data": {
      "text/plain": [
       "[]"
      ]
     },
     "execution_count": 66,
     "metadata": {},
     "output_type": "execute_result"
    }
   ],
   "source": [
    "list(t1.outputs)"
   ]
  }
 ],
 "metadata": {
  "kernelspec": {
   "display_name": "kernel_blender1",
   "name": "kernel_blender1"
  },
  "language_info": {
   "codemirror_mode": {
    "name": "ipython",
    "version": 3
   },
   "file_extension": ".py",
   "mimetype": "text/x-python",
   "name": "python",
   "nbconvert_exporter": "python",
   "pygments_lexer": "ipython3",
   "version": "3.9.7"
  }
 },
 "nbformat": 4,
 "nbformat_minor": 5
}
