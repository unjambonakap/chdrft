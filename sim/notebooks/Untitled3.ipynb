{
 "cells": [
  {
   "cell_type": "code",
   "execution_count": 1,
   "id": "8317b682",
   "metadata": {},
   "outputs": [
    {
     "data": {
      "text/html": [
       "<style>.container { width:90% !important; }</style>"
      ],
      "text/plain": [
       "<IPython.core.display.HTML object>"
      ]
     },
     "metadata": {},
     "output_type": "display_data"
    },
    {
     "name": "stderr",
     "output_type": "stream",
     "text": [
      "W1209 18:33:42.370626 1672439 __init__.py:121] Arrangement computation is unavailable\n"
     ]
    },
    {
     "name": "stdout",
     "output_type": "stream",
     "text": [
      "Got exception No module named 'unicorn'\n",
      "Runnign magic qt5\n",
      "done\n",
      "False\n"
     ]
    }
   ],
   "source": [
    "init_jupyter()\n",
    "from chdrft.cmds import CmdsList\n",
    "from chdrft.main import app\n",
    "from chdrft.utils.cmdify import ActionHandler\n",
    "from chdrft.utils.misc import Attributize\n",
    "import chdrft.utils.misc as cmisc\n",
    "import glog\n",
    "import chdrft.utils.Z as Z\n",
    "import calcephpy\n",
    "from astroquery.jplhorizons import Horizons\n",
    "from chdrft.display.vtk import vtk_main_obj\n",
    "import chdrft.display.vtk as opa_vtk\n",
    "from chdrft.sim.utils import *\n",
    "from chdrft.sim.base import *\n",
    "import numpy as np\n",
    "import spiceypy\n",
    "\n",
    "import geopandas\n",
    "import numpy as np\n",
    "from osgeo import gdal\n",
    "import meshio\n",
    "ctx = app.setup_jup('', parser_funcs=[render_params])\n",
    "ctx.view_angle=  np.rad2deg(np.pi/8)"
   ]
  }
 ],
 "metadata": {
  "kernelspec": {
   "display_name": "env3",
   "language": "python",
   "name": "env3"
  },
  "language_info": {
   "codemirror_mode": {
    "name": "ipython",
    "version": 3
   },
   "file_extension": ".py",
   "mimetype": "text/x-python",
   "name": "python",
   "nbconvert_exporter": "python",
   "pygments_lexer": "ipython3",
   "version": "3.9.7"
  }
 },
 "nbformat": 4,
 "nbformat_minor": 5
}
