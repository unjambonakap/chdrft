{
 "cells": [
  {
   "cell_type": "code",
   "execution_count": 1,
   "id": "80e6dad9",
   "metadata": {},
   "outputs": [
    {
     "data": {
      "text/html": [
       "<style>.container { width:90% !important; }</style>"
      ],
      "text/plain": [
       "<IPython.core.display.HTML object>"
      ]
     },
     "metadata": {},
     "output_type": "display_data"
    },
    {
     "name": "stderr",
     "output_type": "stream",
     "text": [
      "W1105 16:01:53.129175 964266 __init__.py:121] Arrangement computation is unavailable\n"
     ]
    },
    {
     "name": "stdout",
     "output_type": "stream",
     "text": [
      "Got exception No module named 'unicorn'\n",
      "Runnign magic qt5\n",
      "done\n",
      "False\n"
     ]
    }
   ],
   "source": [
    "init_jupyter()\n",
    "from chdrft.cmds import CmdsList\n",
    "from chdrft.main import app\n",
    "from chdrft.utils.cmdify import ActionHandler\n",
    "from chdrft.utils.misc import Attributize\n",
    "import chdrft.utils.misc as cmisc\n",
    "import glog\n",
    "import chdrft.utils.Z as Z\n",
    "import calcephpy\n",
    "from astroquery.jplhorizons import Horizons\n",
    "from chdrft.display.vtk import vtk_main_obj\n",
    "import chdrft.display.vtk as opa_vtk\n",
    "from chdrft.sim.utils import *\n",
    "from chdrft.sim.base import *\n",
    "import numpy as np\n",
    "import spiceypy\n",
    "\n",
    "ctx = app.setup_jup('', parser_funcs=[])"
   ]
  },
  {
   "cell_type": "code",
   "execution_count": 2,
   "id": "987c474a",
   "metadata": {},
   "outputs": [],
   "source": [
    "METAKR = '/home/benoit/programmation/science/sim/kernels/lro.km'\n",
    "spiceypy.kclear()\n",
    "spiceypy.furnsh( METAKR )\n",
    "def norm_date(d):\n",
    "    return pytz.utc.localize(datetime.datetime.fromisoformat(d))\n",
    "def get_data_at_time(t_utc):\n",
    "    if not isinstance(t_utc, datetime.datetime): t_utc = datetime.datetime.utcfromtimestamp(t_utc)\n",
    "    et = spice_time(t_utc)\n",
    "    moon_data = spiceypy.spkezr('moon', et, 'GSE', 'LT+S', 'earth')\n",
    "    sat_data = spiceypy.spkezr('LRO', et, 'GSE', 'LT+S', 'earth')\n",
    "    \n",
    "    res = A()\n",
    "    res.moon_pos = moon_data[0][:3]\n",
    "    res.sat_pos = sat_data[0][:3]\n",
    "    res.moon_rot = spiceypy.pxform('MOON_ME_DE440_ME421', 'GSE', et)\n",
    "    res.sat_rot = spiceypy.pxform('LRO_LROCNACL', 'GSE', et)\n",
    "    res.earth_rot = spiceypy.pxform('ITRF93', 'GSE', et)\n",
    "    \n",
    "    res.earth_pos=np.array((0,0,0))\n",
    "    res.t =  t_utc.timestamp()\n",
    "    return res"
   ]
  },
  {
   "cell_type": "code",
   "execution_count": 3,
   "id": "3e8d371a",
   "metadata": {},
   "outputs": [
    {
     "data": {
      "text/plain": [
       "array([-12037.806, 20119.196, 406109.343])"
      ]
     },
     "execution_count": 3,
     "metadata": {},
     "output_type": "execute_result"
    }
   ],
   "source": [
    "tgtime = norm_date('2015-10-12 12:18:40')\n",
    "dt = get_data_at_time(tgtime)\n",
    "earth_pos=[0,0,0]\n",
    "tsf =Z.MatHelper.simple_mat(offset=dt.sat_pos, rot=dt.sat_rot)\n",
    "Z.MatHelper.mat_apply_nd(np.linalg.inv(tsf), earth_pos, point=True)"
   ]
  },
  {
   "cell_type": "code",
   "execution_count": 7,
   "id": "66abd7c7",
   "metadata": {},
   "outputs": [
    {
     "name": "stdout",
     "output_type": "stream",
     "text": [
      "2015-10-12 12:18:40\n",
      "2015-10-12 12:18:40+00:00 2015-10-12 12:18:46+00:00\n"
     ]
    }
   ],
   "source": [
    "start = norm_date('2015-10-12')\n",
    "end = norm_date('2015-10-13')\n",
    "\n",
    "\n",
    "start = tgtime -datetime.timedelta(minutes=0)\n",
    "end = tgtime +datetime.timedelta(minutes=0.1)\n",
    "print(datetime.datetime.utcfromtimestamp(tgtime.timestamp()))\n",
    "print(start, end)\n",
    "tl = pd.date_range(start, end, 100)\n",
    "\n",
    "res = []\n",
    "for t_utc in tl.to_pydatetime():\n",
    "    res.append(get_data_at_time(t_utc))\n",
    "rdf= Z.pd.DataFrame(res)\n",
    "rdf = rdf.set_index('t')\n",
    "\n",
    "Z.FileFormatHelper.Write('/tmp/res2.pickle', res)"
   ]
  },
  {
   "cell_type": "code",
   "execution_count": 6,
   "id": "7608178c",
   "metadata": {},
   "outputs": [
    {
     "ename": "ValueError",
     "evalue": "Expect x to not have duplicates",
     "output_type": "error",
     "traceback": [
      "\u001b[0;31m---------------------------------------------------------------------------\u001b[0m",
      "\u001b[0;31mValueError\u001b[0m                                Traceback (most recent call last)",
      "\u001b[0;32m/tmp/ipykernel_964266/3327561953.py\u001b[0m in \u001b[0;36m<module>\u001b[0;34m\u001b[0m\n\u001b[1;32m      2\u001b[0m \u001b[0;34m\u001b[0m\u001b[0m\n\u001b[1;32m      3\u001b[0m \u001b[0;31m#dx = Z.FileFormatHelper.Read('/tmp/res2.pickle')\u001b[0m\u001b[0;34m\u001b[0m\u001b[0;34m\u001b[0m\u001b[0m\n\u001b[0;32m----> 4\u001b[0;31m \u001b[0mdfx\u001b[0m \u001b[0;34m=\u001b[0m \u001b[0mInterpolatedDF\u001b[0m\u001b[0;34m(\u001b[0m\u001b[0mrdf\u001b[0m\u001b[0;34m,\u001b[0m \u001b[0mkind\u001b[0m\u001b[0;34m=\u001b[0m\u001b[0;34m'cubic'\u001b[0m\u001b[0;34m)\u001b[0m\u001b[0;34m\u001b[0m\u001b[0;34m\u001b[0m\u001b[0m\n\u001b[0m\u001b[1;32m      5\u001b[0m \u001b[0;34m\u001b[0m\u001b[0m\n\u001b[1;32m      6\u001b[0m \u001b[0mt0_utc\u001b[0m \u001b[0;34m=\u001b[0m \u001b[0mrdf\u001b[0m\u001b[0;34m.\u001b[0m\u001b[0mindex\u001b[0m\u001b[0;34m[\u001b[0m\u001b[0;36m0\u001b[0m\u001b[0;34m]\u001b[0m\u001b[0;34m\u001b[0m\u001b[0;34m\u001b[0m\u001b[0m\n",
      "\u001b[0;32m~/programmation/hack/chdrft/sim/base.py\u001b[0m in \u001b[0;36m__init__\u001b[0;34m(self, df, **kwargs)\u001b[0m\n\u001b[1;32m    302\u001b[0m     \u001b[0;32mfor\u001b[0m \u001b[0mcolumn\u001b[0m \u001b[0;32min\u001b[0m \u001b[0mdf\u001b[0m\u001b[0;34m.\u001b[0m\u001b[0mcolumns\u001b[0m\u001b[0;34m:\u001b[0m\u001b[0;34m\u001b[0m\u001b[0;34m\u001b[0m\u001b[0m\n\u001b[1;32m    303\u001b[0m       \u001b[0my\u001b[0m \u001b[0;34m=\u001b[0m \u001b[0mnp\u001b[0m\u001b[0;34m.\u001b[0m\u001b[0mstack\u001b[0m\u001b[0;34m(\u001b[0m\u001b[0mdf\u001b[0m\u001b[0;34m[\u001b[0m\u001b[0mcolumn\u001b[0m\u001b[0;34m]\u001b[0m\u001b[0;34m.\u001b[0m\u001b[0mto_numpy\u001b[0m\u001b[0;34m(\u001b[0m\u001b[0;34m)\u001b[0m\u001b[0;34m,\u001b[0m \u001b[0maxis\u001b[0m\u001b[0;34m=\u001b[0m\u001b[0;36m0\u001b[0m\u001b[0;34m)\u001b[0m\u001b[0;34m\u001b[0m\u001b[0;34m\u001b[0m\u001b[0m\n\u001b[0;32m--> 304\u001b[0;31m       \u001b[0mself\u001b[0m\u001b[0;34m.\u001b[0m\u001b[0mcols\u001b[0m\u001b[0;34m[\u001b[0m\u001b[0mcolumn\u001b[0m\u001b[0;34m]\u001b[0m \u001b[0;34m=\u001b[0m \u001b[0mscipy\u001b[0m\u001b[0;34m.\u001b[0m\u001b[0minterpolate\u001b[0m\u001b[0;34m.\u001b[0m\u001b[0minterp1d\u001b[0m\u001b[0;34m(\u001b[0m\u001b[0mdf\u001b[0m\u001b[0;34m.\u001b[0m\u001b[0mindex\u001b[0m\u001b[0;34m.\u001b[0m\u001b[0mvalues\u001b[0m\u001b[0;34m,\u001b[0m \u001b[0my\u001b[0m\u001b[0;34m,\u001b[0m \u001b[0maxis\u001b[0m\u001b[0;34m=\u001b[0m\u001b[0;36m0\u001b[0m\u001b[0;34m,\u001b[0m \u001b[0;34m**\u001b[0m\u001b[0mkwargs\u001b[0m\u001b[0;34m)\u001b[0m\u001b[0;34m\u001b[0m\u001b[0;34m\u001b[0m\u001b[0m\n\u001b[0m\u001b[1;32m    305\u001b[0m \u001b[0;34m\u001b[0m\u001b[0m\n\u001b[1;32m    306\u001b[0m   \u001b[0;32mdef\u001b[0m \u001b[0m__call__\u001b[0m\u001b[0;34m(\u001b[0m\u001b[0mself\u001b[0m\u001b[0;34m,\u001b[0m \u001b[0mt\u001b[0m\u001b[0;34m)\u001b[0m\u001b[0;34m:\u001b[0m\u001b[0;34m\u001b[0m\u001b[0;34m\u001b[0m\u001b[0m\n",
      "\u001b[0;32m~/.virtualenvs/env3.9/lib/python3.9/site-packages/scipy/interpolate/interpolate.py\u001b[0m in \u001b[0;36m__init__\u001b[0;34m(***failed resolving arguments***)\u001b[0m\n\u001b[1;32m    551\u001b[0m                     \u001b[0mrewrite_nan\u001b[0m \u001b[0;34m=\u001b[0m \u001b[0;32mTrue\u001b[0m\u001b[0;34m\u001b[0m\u001b[0;34m\u001b[0m\u001b[0m\n\u001b[1;32m    552\u001b[0m \u001b[0;34m\u001b[0m\u001b[0m\n\u001b[0;32m--> 553\u001b[0;31m             self._spline = make_interp_spline(xx, yy, k=order,\n\u001b[0m\u001b[1;32m    554\u001b[0m                                               check_finite=False)\n\u001b[1;32m    555\u001b[0m             \u001b[0;32mif\u001b[0m \u001b[0mrewrite_nan\u001b[0m\u001b[0;34m:\u001b[0m\u001b[0;34m\u001b[0m\u001b[0;34m\u001b[0m\u001b[0m\n",
      "\u001b[0;32m~/.virtualenvs/env3.9/lib/python3.9/site-packages/scipy/interpolate/_bsplines.py\u001b[0m in \u001b[0;36mmake_interp_spline\u001b[0;34m(x, y, k, t, bc_type, axis, check_finite)\u001b[0m\n\u001b[1;32m   1065\u001b[0m         \u001b[0;32mraise\u001b[0m \u001b[0mValueError\u001b[0m\u001b[0;34m(\u001b[0m\u001b[0;34m\"Expect x to be a 1-D sorted array_like.\"\u001b[0m\u001b[0;34m)\u001b[0m\u001b[0;34m\u001b[0m\u001b[0;34m\u001b[0m\u001b[0m\n\u001b[1;32m   1066\u001b[0m     \u001b[0;32mif\u001b[0m \u001b[0mnp\u001b[0m\u001b[0;34m.\u001b[0m\u001b[0many\u001b[0m\u001b[0;34m(\u001b[0m\u001b[0mx\u001b[0m\u001b[0;34m[\u001b[0m\u001b[0;36m1\u001b[0m\u001b[0;34m:\u001b[0m\u001b[0;34m]\u001b[0m \u001b[0;34m==\u001b[0m \u001b[0mx\u001b[0m\u001b[0;34m[\u001b[0m\u001b[0;34m:\u001b[0m\u001b[0;34m-\u001b[0m\u001b[0;36m1\u001b[0m\u001b[0;34m]\u001b[0m\u001b[0;34m)\u001b[0m\u001b[0;34m:\u001b[0m\u001b[0;34m\u001b[0m\u001b[0;34m\u001b[0m\u001b[0m\n\u001b[0;32m-> 1067\u001b[0;31m         \u001b[0;32mraise\u001b[0m \u001b[0mValueError\u001b[0m\u001b[0;34m(\u001b[0m\u001b[0;34m\"Expect x to not have duplicates\"\u001b[0m\u001b[0;34m)\u001b[0m\u001b[0;34m\u001b[0m\u001b[0;34m\u001b[0m\u001b[0m\n\u001b[0m\u001b[1;32m   1068\u001b[0m     \u001b[0;32mif\u001b[0m \u001b[0mk\u001b[0m \u001b[0;34m<\u001b[0m \u001b[0;36m0\u001b[0m\u001b[0;34m:\u001b[0m\u001b[0;34m\u001b[0m\u001b[0;34m\u001b[0m\u001b[0m\n\u001b[1;32m   1069\u001b[0m         \u001b[0;32mraise\u001b[0m \u001b[0mValueError\u001b[0m\u001b[0;34m(\u001b[0m\u001b[0;34m\"Expect non-negative k.\"\u001b[0m\u001b[0;34m)\u001b[0m\u001b[0;34m\u001b[0m\u001b[0;34m\u001b[0m\u001b[0m\n",
      "\u001b[0;31mValueError\u001b[0m: Expect x to not have duplicates"
     ]
    }
   ],
   "source": [
    "ctx= A(width=800, height=600, offscreen=True, rot_angle=0, zoom_factor=None, nframes=1, outfile=None)\n",
    "\n",
    "#dx = Z.FileFormatHelper.Read('/tmp/res2.pickle')\n",
    "dfx = InterpolatedDF(rdf, kind='cubic')\n",
    "\n",
    "t0_utc = rdf.index[0]\n",
    "t1_utc = rdf.index[-1]\n",
    "\n",
    "\n",
    "earth = EarthActor()\n",
    "moon = MoonActor()\n",
    "cam = CamActor()\n",
    "actors = [earth, \n",
    "          moon, \n",
    "          cam]\n",
    "\n",
    "def pos_rot_func(poskey, rotkey):\n",
    "    def f(actor, t, data=None, **kwargs):\n",
    "      actor.set_pos_and_rot(data[poskey], data[rotkey])\n",
    "    return f\n",
    "\n",
    "def func_cam(self, t, first=None, data=None, **kwargs):\n",
    "    self.set_pos(data.sat_pos)\n",
    "    if first:\n",
    "        self.focus_on_points((0,0,0), (0,0,1), earth.get_pts_world(), ctx.rot_angle, ctx.zoom_factor)\n",
    "\n",
    "        \n",
    "def state_cb(data, tdesc):\n",
    "    from_box=Z.opa_struct.g_one_box\n",
    "    proj_moon = MatHelper.mat_apply_nd(cam.proj_mat, moon.get_pts_world().T, n=3, point=True).T\n",
    "    proj_earth = MatHelper.mat_apply_nd(cam.proj_mat, earth.get_pts_world().T, n=3, point=True).T\n",
    "    proj_moon = proj_moon[np.abs(proj_moon[:,2]) < 1]\n",
    "\n",
    "    target_box = Z.g_unit_box\n",
    "    proj_moon = from_box.change_rect_space(target_box, proj_moon[:,:2])\n",
    "    proj_earth = from_box.change_rect_space(target_box, proj_earth[:,:2])\n",
    "    #pts = list(Z.shapely.geometry.MultiPoint(proj_moon).convex_hull.exterior.coords)\n",
    "    #print(pts)\n",
    "\n",
    "    moon_hull = None\n",
    "    earth_hull = None\n",
    "    view_box = Z.g_unit_box.shapely\n",
    "    if len(proj_moon) > 0:\n",
    "        moon_hull = Z.geometry.MultiPoint(proj_moon).convex_hull\n",
    "        moon_hull =moon_hull.intersection(view_box)\n",
    "    if len(proj_earth) > 0:\n",
    "        earth_hull = Z.geometry.MultiPoint(proj_earth).convex_hull\n",
    "    \n",
    "    tstr = str(datetime.datetime.utcfromtimestamp(tdesc.t))\n",
    "    res =  A(label=f'{tdesc.idx} > {tstr}', overlay=[A(lines=[earth_hull, moon_hull], color='r' )])\n",
    "    res.want = moon_hull and earth_hull and not moon_hull.contains(earth_hull) and moon_hull.intersects(view_box)\n",
    "    res.want = True\n",
    "    return res\n",
    "\n",
    "ren = Renderer(ctx.width, ctx.height, offscreen=ctx.offscreen, actors=actors, dataf=get_data_at_time, state_cb=state_cb)\n",
    "    \n",
    "\n",
    "earth.runt = pos_rot_func('earth_pos', 'earth_rot')\n",
    "moon.runt = pos_rot_func('moon_pos', 'moon_rot')\n",
    "cam.runt = pos_rot_func('sat_pos', 'sat_rot')\n",
    "cam.runt = func_cam\n",
    "\n",
    "tl = np.linspace(t0_utc, t1_utc, ctx.nframes)\n",
    "ren.process(tl, outfile=ctx.outfile)\n"
   ]
  }
 ],
 "metadata": {
  "kernelspec": {
   "display_name": "env3",
   "language": "python",
   "name": "env3"
  },
  "language_info": {
   "codemirror_mode": {
    "name": "ipython",
    "version": 3
   },
   "file_extension": ".py",
   "mimetype": "text/x-python",
   "name": "python",
   "nbconvert_exporter": "python",
   "pygments_lexer": "ipython3",
   "version": "3.9.7"
  }
 },
 "nbformat": 4,
 "nbformat_minor": 5
}
