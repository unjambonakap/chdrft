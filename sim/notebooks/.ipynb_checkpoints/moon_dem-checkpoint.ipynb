{
 "cells": [
  {
   "cell_type": "code",
   "execution_count": 19,
   "id": "4903f6fb",
   "metadata": {},
   "outputs": [
    {
     "data": {
      "text/html": [
       "<style>.container { width:90% !important; }</style>"
      ],
      "text/plain": [
       "<IPython.core.display.HTML object>"
      ]
     },
     "metadata": {},
     "output_type": "display_data"
    },
    {
     "name": "stdout",
     "output_type": "stream",
     "text": [
      "False\n"
     ]
    }
   ],
   "source": [
    "init_jupyter()\n",
    "from chdrft.cmds import CmdsList\n",
    "from chdrft.main import app\n",
    "from chdrft.utils.cmdify import ActionHandler\n",
    "from chdrft.utils.misc import Attributize\n",
    "import chdrft.utils.misc as cmisc\n",
    "import glog\n",
    "import chdrft.utils.Z as Z\n",
    "import calcephpy\n",
    "from astroquery.jplhorizons import Horizons\n",
    "from chdrft.display.vtk import vtk_main_obj\n",
    "import chdrft.display.vtk as opa_vtk\n",
    "from chdrft.sim.utils import *\n",
    "from chdrft.sim.base import *\n",
    "import numpy as np\n",
    "import spiceypy\n",
    "\n",
    "import geopandas\n",
    "import numpy as np\n",
    "from osgeo import gdal\n",
    "import meshio\n",
    "ctx = app.setup_jup('', parser_funcs=[render_params])\n",
    "ctx.view_angle=  np.rad2deg(0.1)"
   ]
  },
  {
   "cell_type": "code",
   "execution_count": 1,
   "id": "c601829e",
   "metadata": {},
   "outputs": [
    {
     "ename": "ModuleNotFoundError",
     "evalue": "No module named 'mpl_toolkits.basemap'",
     "output_type": "error",
     "traceback": [
      "\u001b[0;31m---------------------------------------------------------------------------\u001b[0m",
      "\u001b[0;31mModuleNotFoundError\u001b[0m                       Traceback (most recent call last)",
      "\u001b[0;32m/tmp/ipykernel_1169572/3564330845.py\u001b[0m in \u001b[0;36m<module>\u001b[0;34m\u001b[0m\n\u001b[0;32m----> 1\u001b[0;31m \u001b[0;32mfrom\u001b[0m \u001b[0mmpl_toolkits\u001b[0m\u001b[0;34m.\u001b[0m\u001b[0mbasemap\u001b[0m \u001b[0;32mimport\u001b[0m \u001b[0mBasemap\u001b[0m\u001b[0;34m\u001b[0m\u001b[0;34m\u001b[0m\u001b[0m\n\u001b[0m\u001b[1;32m      2\u001b[0m \u001b[0;32mimport\u001b[0m \u001b[0mnumpy\u001b[0m \u001b[0;32mas\u001b[0m \u001b[0mnp\u001b[0m\u001b[0;34m\u001b[0m\u001b[0;34m\u001b[0m\u001b[0m\n\u001b[1;32m      3\u001b[0m \u001b[0;32mimport\u001b[0m \u001b[0mmatplotlib\u001b[0m\u001b[0;34m.\u001b[0m\u001b[0mpyplot\u001b[0m \u001b[0;32mas\u001b[0m \u001b[0mplt\u001b[0m\u001b[0;34m\u001b[0m\u001b[0;34m\u001b[0m\u001b[0m\n\u001b[1;32m      4\u001b[0m \u001b[0;31m# setup stereographic basemap.\u001b[0m\u001b[0;34m\u001b[0m\u001b[0;34m\u001b[0m\u001b[0m\n\u001b[1;32m      5\u001b[0m \u001b[0;31m# lat_ts is latitude of true scale.\u001b[0m\u001b[0;34m\u001b[0m\u001b[0;34m\u001b[0m\u001b[0m\n",
      "\u001b[0;31mModuleNotFoundError\u001b[0m: No module named 'mpl_toolkits.basemap'"
     ]
    }
   ],
   "source": [
    "from mpl_toolkits.basemap import Basemap\n",
    "import numpy as np\n",
    "import matplotlib.pyplot as plt\n",
    "# setup stereographic basemap.\n",
    "# lat_ts is latitude of true scale.\n",
    "# lon_0,lat_0 is central point.\n",
    "m = Basemap(width=12000000,height=8000000,\n",
    "            resolution='l',projection='stere',\\\n",
    "            lat_ts=50,lat_0=50,lon_0=-107.)\n",
    "m.drawcoastlines()\n",
    "m.fillcontinents(color='coral',lake_color='aqua')\n",
    "# draw parallels and meridians.\n",
    "m.drawparallels(np.arange(-80.,81.,20.))\n",
    "m.drawmeridians(np.arange(-180.,181.,20.))\n",
    "m.drawmapboundary(fill_color='aqua')\n",
    "# draw tissot's indicatrix to show distortion.\n",
    "ax = plt.gca()\n",
    "for y in np.linspace(m.ymax/20,19*m.ymax/20,9):\n",
    "    for x in np.linspace(m.xmax/20,19*m.xmax/20,12):\n",
    "        lon, lat = m(x,y,inverse=True)\n",
    "        poly = m.tissot(lon,lat,1.5,100,\\\n",
    "                        facecolor='green',zorder=10,alpha=0.5)\n",
    "plt.title(\"Stereographic Projection\")\n",
    "plt.show()"
   ]
  },
  {
   "cell_type": "code",
   "execution_count": 24,
   "id": "5e3438d5",
   "metadata": {},
   "outputs": [],
   "source": [
    "moon_ell = pymap3d.Ellipsoid('moon')\n",
    "moon_ell.semimajor_axis = moon_ell.semiminor_axis = 1737400 # not the default 1738000 !!\n",
    "radius_sun = 696340 * U.km\n",
    "u2m = 1000\n",
    "from chdrft.sim.moon_sunrise import MoonSunrise, ActorType\n",
    "ctx.moon_model = './t1.stl'\n",
    "ms = MoonSunrise(ctx)"
   ]
  },
  {
   "cell_type": "code",
   "execution_count": 25,
   "id": "880446d2",
   "metadata": {},
   "outputs": [
    {
     "data": {
      "text/plain": [
       "0.004676239122605751"
      ]
     },
     "execution_count": 25,
     "metadata": {},
     "output_type": "execute_result"
    }
   ],
   "source": [
    "dx = ms.get_data_at_time(ms.tgtime)\n",
    "moon = dx[ActorType.Moon]\n",
    "sun = dx[ActorType.Light]\n",
    "l = np.linalg.norm((moon.pos - sun.pos) / (radius_sun.to(U.m).value))\n",
    "math.sin(1/l)"
   ]
  },
  {
   "cell_type": "code",
   "execution_count": 26,
   "id": "6a209c9f",
   "metadata": {},
   "outputs": [],
   "source": [
    "ms.build()\n",
    "moon = ms.objs[ActorType.Moon]\n",
    "cam = ms.objs[ActorType.Cam]"
   ]
  },
  {
   "cell_type": "code",
   "execution_count": 28,
   "id": "f37f55bd",
   "metadata": {},
   "outputs": [],
   "source": [
    "ms.configure_at(ms.tgtime + datetime.timedelta(seconds=-3))"
   ]
  },
  {
   "cell_type": "code",
   "execution_count": 29,
   "id": "42447ad5",
   "metadata": {},
   "outputs": [
    {
     "name": "stdout",
     "output_type": "stream",
     "text": [
      "[-655828.614 966074.462 1474744.522]\n"
     ]
    }
   ],
   "source": [
    "tomoon = np.linalg.inv(moon._toworld)\n",
    "cam_moonspace = MatHelper.mat_apply_nd(tomoon, [0,0,0], point=1) * u2m\n",
    "print(cam_moonspace)\n",
    "cam_geo =pymap3d.ecef2geodetic(*cam_moonspace, ell=moon_ell, deg=1)\n",
    "cam_ll = cam_geo[:2][::-1]\n",
    "cam_forward_pt = MatHelper.mat_apply_nd(tomoon, cam._toworld, [0,0,-1]) *u2m\n",
    "front_pos = pymap3d.ecef2geodetic(*cam_forward_pt, ell=moon_ell, deg=1)\n",
    "cam_dir_ll = (np.array(front_pos) -cam_geo)[:2][::-1]\n",
    "\n",
    "moon2clip = cam.mat @ np.linalg.inv(cam._toworld) @  moon._toworld\n",
    "res = Z.opa_math.MatHelper.mat_apply_nd(moon2clip, np.array(moon.points).T, point=1).T\n",
    "vis_points = np.array(moon.points)[np.max(np.abs(res), axis=1) <1]\n",
    "backp = np.array(pymap3d.ecef2geodetic(*vis_points.T*u2m, ell=moon_ell, deg=1)).T\n",
    "hull = Z.geometry.MultiPoint(backp[:,:2][:,::-1]).convex_hull"
   ]
  },
  {
   "cell_type": "code",
   "execution_count": 30,
   "id": "57a03637",
   "metadata": {},
   "outputs": [],
   "source": [
    "class MeshBuilder:\n",
    "    def __init__(self):\n",
    "        self.poslist = []\n",
    "        self.quadlist = []\n",
    "        self.trlist = []\n",
    "    def add_quad(self, pts):\n",
    "        n = len(self.poslist)\n",
    "        self.poslist.extend(pts)\n",
    "        self.quadlist.append([n, n+1, n+3, n+2])\n",
    "        \n",
    "    def add_tri(self, pts):\n",
    "        n = len(self.poslist)\n",
    "        self.poslist.extend(pts)\n",
    "        self.quadlist.append([n, n+1, n+2])\n",
    "        \n",
    "from pds.core.common import open_pds\n",
    "from pds.core.parser import Parser\n",
    "def parse_pds_val(x):\n",
    "    val, unit= x.split(' ')\n",
    "    val = float(val)\n",
    "    return val * U.Unit(unit[1:-1])\n",
    "    \n",
    "def proc(parser, fname):\n",
    "    labels = A.RecursiveImport(parser.parse(open(fname, 'r')))\n",
    "\n",
    "\n",
    "    iproj =  labels.IMAGE_MAP_PROJECTION\n",
    "    lat_max = parse_pds_val(iproj.MAXIMUM_LATITUDE)\n",
    "    lat_min = parse_pds_val(iproj.MINIMUM_LATITUDE)\n",
    "    lon_min = parse_pds_val(iproj.WESTERNMOST_LONGITUDE)\n",
    "    lon_max = parse_pds_val(iproj.EASTERNMOST_LONGITUDE)\n",
    "    map_res = parse_pds_val(iproj.MAP_RESOLUTION)\n",
    "\n",
    "    latlon_box = Z.Box(xr=(lon_min.value, lon_max.value), yr=(lat_min.value, lat_max.value), is_int=1)\n",
    "    if latlon_box.xl >= 180: latlon_box -= (360, 0)\n",
    "    res = A(box=latlon_box, res=map_res, inter=latlon_box.shapely.intersection(hull),\n",
    "            fname=labels.COMPRESSED_FILE.FILE_NAME[1:-1],\n",
    "            labels=labels,\n",
    "            ignore=1)\n",
    "    if not latlon_box.shapely.intersects(hull): return res\n",
    "    \n",
    "    tb = []\n",
    "    res.ignore =0 \n",
    "    return res"
   ]
  },
  {
   "cell_type": "code",
   "execution_count": 31,
   "id": "f22b2607",
   "metadata": {},
   "outputs": [
    {
     "name": "stdout",
     "output_type": "stream",
     "text": [
      "SLDEM2015_512_30N_60N_090_135.JP2\n",
      "SLDEM2015_512_30N_60N_045_090.JP2\n"
     ]
    }
   ],
   "source": [
    "parser = Parser()\n",
    " \n",
    "data_dir ='/home/benoit/data/moon/lola/'\n",
    "lst = list(cmisc.filter_glob_list(cmisc.list_files_rec(data_dir), '*512*.LBL'))\n",
    "#http://imbrium.mit.edu/DATA/SLDEM2015/TILES/JP2/\n",
    "tb=  []\n",
    "for x in lst:\n",
    "    tb.append(proc(parser, x))\n",
    "for x in tb:\n",
    "    if '60N_045_090' not in x.fname and '135.JP2' not in x.fname:\n",
    "        x.ignore = True\n",
    "    if not x.ignore: print(x.fname)"
   ]
  },
  {
   "cell_type": "code",
   "execution_count": 32,
   "id": "c1c07549",
   "metadata": {},
   "outputs": [
    {
     "name": "stdout",
     "output_type": "stream",
     "text": [
      "found  /home/benoit/data/moon/lola/SLDEM2015_512_30N_60N_090_135.JP2\n",
      "found  /home/benoit/data/moon/lola/SLDEM2015_512_30N_60N_045_090.JP2\n",
      "2\n"
     ]
    }
   ],
   "source": [
    "def backface_analysis(e):\n",
    "    points,xygrid = imgbox2ecef(e.full_box, e.img, e.entry.res.value)\n",
    "    vecs = points - cam_moonspace\n",
    "    dp = np.sum(vecs * points, axis=2)\n",
    "    vis_faces = xygrid[dp < 0].reshape((-1, 2))\n",
    "    vis_hull = Z.geometry.MultiPoint(vis_faces).convex_hull\n",
    "    return vis_hull\n",
    "    \n",
    "def imgbox2ecef(box, img, res):\n",
    "    downscale=  5\n",
    "    xygrid = np.transpose(np.meshgrid(list(box.xr.range)[::downscale], list(box.yr.range)[::downscale], indexing='ij'), [1,2,0]) / res\n",
    "    grid = np.append(xygrid, np.expand_dims(img[::downscale,::downscale], axis=2), axis=2)\n",
    "    p = np.array(pymap3d.geodetic2ecef(lat=grid[:,:,1], lon=grid[:,:,0], alt=grid[:,:,2], ell=moon_ell, deg=1)).transpose([1,2,0])\n",
    "    return p, xygrid\n",
    "def compute_pix_box(e, hull):\n",
    "    return (Z.Box.FromShapely(e.box.shapely.intersection(hull))* e.res.value).to_int_round()\n",
    "class KDTreeInt:\n",
    "    def __init__(self, box):\n",
    "        self.box = box\n",
    "        \n",
    "    def children(self, box):\n",
    "        xm = (box.xl+box.xh+1)//2\n",
    "        ym = (box.yl+box.yh+1)//2\n",
    "        res = []\n",
    "        res.append(Z.Box(low=box.low, high=(xm, ym), is_int=1))\n",
    "        res.append(Z.Box(low=(xm, box.yl), high=(box.xh, ym), is_int=1))\n",
    "        res.append(Z.Box(low=(box.xl, ym), high=(xm, box.yh), is_int=1))\n",
    "        res.append(Z.Box(low=(xm, ym), high=box.high, is_int=1))\n",
    "        for x in res:\n",
    "            if x.area > 0:\n",
    "                yield x\n",
    "        \n",
    "    def visit(self, visitor, box=None):\n",
    "        if box is None: box=self.box\n",
    "        for x in self.children(box):\n",
    "            if visitor(x):\n",
    "                self.visit(visitor, x)\n",
    "                \n",
    "def get_data_for_entry(e):\n",
    "        \n",
    "    pts = []\n",
    "    mapres=  e.res.value\n",
    "    boundary_pix = Z.geo_ops.transform(lambda *x: np.array(x) * mapres, hull)\n",
    "    def v1(box):\n",
    "        print(box)\n",
    "        if not box.shapely.intersects(boundary_pix): return False\n",
    "        if boundary_pix.contains(box.shapely):\n",
    "\n",
    "            pts.extend(box.get_grid_pos(stride=(1,1)))\n",
    "        return box.area > 1\n",
    "    \n",
    "    \n",
    "    \n",
    "    full_box = (e.box * mapres).to_int_round()\n",
    "    res = A(pix_box=compute_pix_box(e, hull), entry=e, full_box=full_box)\n",
    "    #if 0:\n",
    "    #    KDTreeInt(e.box * e.res.value).visit(v1)\n",
    "    #    res.pix = [x-e.box.low for x in pts]\n",
    "    #else:\n",
    "    f = Z.os.path.join(data_dir, e.fname)\n",
    "    res.img = None\n",
    "    if Z.os.path.exists(f):\n",
    "        ds = gdal.Open(f)\n",
    "        print('found ',f)\n",
    "        res.img = np.array(ds.GetRasterBand(1).ReadAsArray())[::-1].T\n",
    "        res.vis_hull = backface_analysis(res)\n",
    "\n",
    "    return res\n",
    "\n",
    "data = [get_data_for_entry(x) for x in tb if not x.ignore]\n",
    "data = [x for x in data if x.img is not None]\n",
    "print(len(data))"
   ]
  },
  {
   "cell_type": "code",
   "execution_count": 33,
   "id": "b73caf4a",
   "metadata": {},
   "outputs": [],
   "source": [
    "for x in data: x.pix_box = compute_pix_box(x.entry, x.vis_hull.intersection(hull))"
   ]
  },
  {
   "cell_type": "code",
   "execution_count": 34,
   "id": "237081c1",
   "metadata": {},
   "outputs": [
    {
     "name": "stdout",
     "output_type": "stream",
     "text": [
      "QAPP\n",
      "CLOSING  <PyQt5.QtGui.QCloseEvent object at 0x7fcac4f773a0>\n"
     ]
    }
   ],
   "source": [
    "import cv2\n",
    "img = K.ImageData(cv2.imread('./Moon_LRO_LOLA_global_LDEM_1024.jpg')[::-1], box=Z.Box(yr=(-90, 90), xr=(-180, 180)))\n",
    "hulls = [A(polyline=hull, color='g')]\n",
    "#for x in data: hulls.append(A(polyline=x.vis_hull, color='r'))\n",
    "    \n",
    "oplt.plot([A(images=[img], points=[cam_ll, cam_ll + make_norm(cam_dir_ll)*10], lines=[x.box for x in tb] + hulls, misc=[A(text=x.fname, pos=x.box.mid) for x in tb], points_color=('g', 'r'))])"
   ]
  },
  {
   "cell_type": "code",
   "execution_count": 35,
   "id": "e7c59c6a",
   "metadata": {},
   "outputs": [
    {
     "name": "stdout",
     "output_type": "stream",
     "text": [
      "Box(low=(46080, 27869), high=(54702, 29780), is_int=1)\n",
      "SLDEM2015_512_30N_60N_090_135.JP2\n",
      "Box(low=(0, 12509), high=(8622, 14420), is_int=1)\n",
      "Box(low=(42838, 27869), high=(46080, 29780), is_int=1)\n",
      "SLDEM2015_512_30N_60N_045_090.JP2\n",
      "Box(low=(19798, 12509), high=(23040, 14420), is_int=1)\n",
      "(11864, 1911)\n"
     ]
    }
   ],
   "source": [
    " \n",
    "res_box = Z.Box.Union([x.pix_box for x in data]).expand(1.1)\n",
    "mp = np.ones((res_box.xn, res_box.yn)) * -10000\n",
    "mask = np.zeros((res_box.xn, res_box.yn))\n",
    "for i, x in enumerate(data):\n",
    "    inter = x.full_box.intersection(res_box)\n",
    "    print(inter)\n",
    "    yx = 0\n",
    "    print(x.entry.fname)\n",
    "    print(inter-x.full_box.low)\n",
    "    res_box.img_subregion_samescale(mask, inter, v=1, yx=yx)\n",
    "    have = x.full_box.img_subregion_samescale(x.img, inter, yx=yx)\n",
    "    res_box.img_subregion_samescale(mp, inter, v=have, yx=yx)\n",
    "print(mp.shape)"
   ]
  },
  {
   "cell_type": "code",
   "execution_count": 15,
   "id": "46610e8b",
   "metadata": {},
   "outputs": [
    {
     "ename": "NameError",
     "evalue": "name 'data' is not defined",
     "output_type": "error",
     "traceback": [
      "\u001b[0;31m---------------------------------------------------------------------------\u001b[0m",
      "\u001b[0;31mNameError\u001b[0m                                 Traceback (most recent call last)",
      "\u001b[0;32m/tmp/ipykernel_677194/2799271920.py\u001b[0m in \u001b[0;36m<module>\u001b[0;34m\u001b[0m\n\u001b[0;32m----> 1\u001b[0;31m \u001b[0mminv\u001b[0m \u001b[0;34m=\u001b[0m \u001b[0mmin\u001b[0m\u001b[0;34m(\u001b[0m\u001b[0;34m[\u001b[0m\u001b[0mnp\u001b[0m\u001b[0;34m.\u001b[0m\u001b[0mmin\u001b[0m\u001b[0;34m(\u001b[0m\u001b[0mx\u001b[0m\u001b[0;34m.\u001b[0m\u001b[0mimg\u001b[0m\u001b[0;34m)\u001b[0m \u001b[0;32mfor\u001b[0m \u001b[0mx\u001b[0m \u001b[0;32min\u001b[0m \u001b[0mdata\u001b[0m\u001b[0;34m]\u001b[0m\u001b[0;34m)\u001b[0m\u001b[0;34m\u001b[0m\u001b[0;34m\u001b[0m\u001b[0m\n\u001b[0m\u001b[1;32m      2\u001b[0m \u001b[0mmaxv\u001b[0m \u001b[0;34m=\u001b[0m \u001b[0mmax\u001b[0m\u001b[0;34m(\u001b[0m\u001b[0;34m[\u001b[0m\u001b[0mnp\u001b[0m\u001b[0;34m.\u001b[0m\u001b[0mmax\u001b[0m\u001b[0;34m(\u001b[0m\u001b[0mx\u001b[0m\u001b[0;34m.\u001b[0m\u001b[0mimg\u001b[0m\u001b[0;34m)\u001b[0m \u001b[0;32mfor\u001b[0m \u001b[0mx\u001b[0m \u001b[0;32min\u001b[0m \u001b[0mdata\u001b[0m\u001b[0;34m]\u001b[0m\u001b[0;34m)\u001b[0m\u001b[0;34m\u001b[0m\u001b[0;34m\u001b[0m\u001b[0m\n\u001b[1;32m      3\u001b[0m \u001b[0mprint\u001b[0m\u001b[0;34m(\u001b[0m\u001b[0mminv\u001b[0m\u001b[0;34m,\u001b[0m\u001b[0mmaxv\u001b[0m\u001b[0;34m)\u001b[0m\u001b[0;34m\u001b[0m\u001b[0;34m\u001b[0m\u001b[0m\n\u001b[1;32m      4\u001b[0m \u001b[0margs\u001b[0m \u001b[0;34m=\u001b[0m \u001b[0mdict\u001b[0m\u001b[0;34m(\u001b[0m\u001b[0mclim\u001b[0m\u001b[0;34m=\u001b[0m\u001b[0;34m(\u001b[0m\u001b[0mminv\u001b[0m\u001b[0;34m,\u001b[0m\u001b[0mmaxv\u001b[0m\u001b[0;34m)\u001b[0m\u001b[0;34m,\u001b[0m \u001b[0mcmap\u001b[0m\u001b[0;34m=\u001b[0m\u001b[0;34m'gray'\u001b[0m\u001b[0;34m)\u001b[0m\u001b[0;34m\u001b[0m\u001b[0;34m\u001b[0m\u001b[0m\n\u001b[1;32m      5\u001b[0m \u001b[0;34m\u001b[0m\u001b[0m\n",
      "\u001b[0;31mNameError\u001b[0m: name 'data' is not defined"
     ]
    }
   ],
   "source": [
    "minv = min([np.min(x.img) for x in data])\n",
    "maxv = max([np.max(x.img) for x in data])\n",
    "print(minv,maxv)\n",
    "args = dict(clim=(minv,maxv), cmap='gray')\n",
    "\n",
    "K.ImageData(mp[::10, ::10].T, ).plot(**args)\n",
    "#K.ImageData(data[0].img[::10, ::10].T).plot(**args)\n",
    "#K.ImageData(data[1].img[::10, ::10].T).plot(**args)\n",
    "#K.ImageData(data[0].img[::10, ::10][:1000,:1000].T).plot(**args)"
   ]
  },
  {
   "cell_type": "code",
   "execution_count": 36,
   "id": "39eb0f74",
   "metadata": {},
   "outputs": [
    {
     "name": "stdout",
     "output_type": "stream",
     "text": [
      "(11864, 1911, 3)\n"
     ]
    }
   ],
   "source": [
    "def make_mesh_xyzgrid(xyz_grid):\n",
    "    nx,ny,_=xyz_grid.shape\n",
    "    pts = []\n",
    "    ids = {}\n",
    "    for ix in range(nx):\n",
    "        for iy in range(ny):\n",
    "            ids[(ix,iy)] = len(ids)\n",
    "            pts.append(xyz_grid[ix,iy])\n",
    "    faces = []\n",
    "    for ix in range(nx-1):\n",
    "        for iy in range(ny-1):\n",
    "           a,b,c,d = ids[(ix,iy)], ids[(ix+1,iy)], ids[(ix+1,iy+1)], ids[(ix,iy+1)]\n",
    "           faces.append([a,b,c])\n",
    "           faces.append([a,c,d])\n",
    "    m = meshio.Mesh(pts, [('triangle', faces)])\n",
    "    return m\n",
    "\n",
    "downscale = 1\n",
    "dx = 1\n",
    "fname = 't1.large.stl'\n",
    "\n",
    "mapres = tb[0].res\n",
    "xygrid = np.transpose(np.meshgrid(list(res_box.xr.range)[::downscale], list(res_box.yr.range)[::downscale], indexing='ij'), [1,2,0]) / mapres.value\n",
    "grid = np.append(xygrid, np.expand_dims(mp[::downscale,::downscale], axis=2), axis=2)\n",
    "\n",
    "p = pymap3d.geodetic2ecef(lat=grid[:,:,1], lon=grid[:,:,0], alt=grid[:,:,2], ell=moon_ell, deg=1)\n",
    "p = np.transpose(np.array(p), [1,2,0]) / u2m\n",
    "print(p.shape)\n",
    "\n",
    "t1 = make_mesh_xyzgrid(p[::dx,::dx])\n",
    "t1.write(fname, binary=1)"
   ]
  },
  {
   "cell_type": "code",
   "execution_count": null,
   "id": "f40ecc27",
   "metadata": {},
   "outputs": [],
   "source": [
    "import pymeshlab as ml\n",
    "ms = ml.MeshSet()\n",
    "ms.load_new_mesh('./t1.large.stl')\n",
    "m = ms.current_mesh()\n",
    "ms.simplification_quadric_edge_collapse_decimation(targetperc=0.1, preserveboundary=True)\n",
    "ms.save_current_mesh('./test1.simpl.stl')\n"
   ]
  },
  {
   "cell_type": "code",
   "execution_count": null,
   "id": "4e606bd3",
   "metadata": {},
   "outputs": [],
   "source": []
  },
  {
   "cell_type": "code",
   "execution_count": null,
   "id": "2e19fe2a",
   "metadata": {},
   "outputs": [],
   "source": [
    "1"
   ]
  }
 ],
 "metadata": {
  "kernelspec": {
   "display_name": "env3",
   "language": "python",
   "name": "env3"
  },
  "language_info": {
   "codemirror_mode": {
    "name": "ipython",
    "version": 3
   },
   "file_extension": ".py",
   "mimetype": "text/x-python",
   "name": "python",
   "nbconvert_exporter": "python",
   "pygments_lexer": "ipython3",
   "version": "3.9.7"
  }
 },
 "nbformat": 4,
 "nbformat_minor": 5
}
