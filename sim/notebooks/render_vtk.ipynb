{
 "cells": [
  {
   "cell_type": "code",
   "execution_count": 1,
   "id": "238afc17",
   "metadata": {},
   "outputs": [
    {
     "data": {
      "text/html": [
       "<style>.container { width:90% !important; }</style>"
      ],
      "text/plain": [
       "<IPython.core.display.HTML object>"
      ]
     },
     "metadata": {},
     "output_type": "display_data"
    },
    {
     "name": "stdout",
     "output_type": "stream",
     "text": [
      "Got exception No module named 'unicorn'\n",
      "Runnign magic qt5\n",
      "done\n"
     ]
    },
    {
     "name": "stderr",
     "output_type": "stream",
     "text": [
      "failed to import av\n"
     ]
    },
    {
     "name": "stdout",
     "output_type": "stream",
     "text": [
      "False\n"
     ]
    }
   ],
   "source": [
    "init_jupyter()\n",
    "%gui qt5\n",
    "from PyQt5 import QtGui, QtCore, QtWidgets, QtTest\n",
    "from chdrft.sim.moon_sunrise import *\n",
    "ctx = app.setup_jup('--cache-file=/tmp/render_vtk.cache.pickle', parser_funcs=[render_params])\n",
    "\n",
    "%load_ext autoreload\n",
    "%autoreload 1\n",
    "%aimport chdrft.sim.vtk\n",
    "%aimport chdrft.display.vtk\n",
    "import chdrft.sim.vtk as ms_vtk\n",
    "\n",
    "\n",
    "ctx.moon_model = 'pic'\n",
    "ctx.earth_depth = 3\n",
    "ctx.earth_tile_depth = 3\n",
    "ctx.moon_details=7\n",
    "t0  = norm_date('2007-11-07T12:25:00')\n",
    "ctx.moon_model = 'pic'\n",
    "ctx.obs_conf = A(obs='SELENE', obs_frame='SELENE_HDTV_WIDE')\n",
    "\n",
    "ctx.view_angle = 10\n",
    "\n",
    "np.set_printoptions(8)"
   ]
  },
  {
   "cell_type": "code",
   "execution_count": 77,
   "id": "209f49ba",
   "metadata": {},
   "outputs": [],
   "source": [
    "def obj2cspace(cam, obj, clip_bound=1):\n",
    "    \n",
    "    o2clip = cam.internal.local2clip @ np.linalg.inv(cam._toworld) @ obj._toworld\n",
    "    o2world = obj._toworld\n",
    "    ocspace = MatHelper.mat_apply_nd(o2clip, np.array(obj.internal.points).T, point=1).T\n",
    "    ocspace = ocspace[np.abs(ocspace)[:,2] < 1][:,:2]\n",
    "    hull = None\n",
    "    view_box = Z.g_one_box.shapely\n",
    "    \n",
    "    if len(ocspace) > 0:\n",
    "        hull = Z.geometry.MultiPoint(ocspace).convex_hull\n",
    "        hull =hull.intersection(view_box)\n",
    "    ocspace = ocspace[np.max(np.abs(ocspace), axis=1) < clip_bound]\n",
    "    return A(cspace=ocspace, hull=hull)\n",
    "    \n",
    "def compute_state(idx, t, filter_func, expand=0.1):\n",
    "    ms.configure_at(t)\n",
    "    earth_wspace = MatHelper.mat_apply_nd(earth._toworld, np.array(earth.internal.points).T, point=1).T\n",
    "    cam_params = compute_cam_parameters(cam._data.pos, earth._data.pos, [0,1,0], earth_wspace, aspect=cam.internal.aspect, expand=expand)\n",
    "    cam._data.rot = cam_params.rot\n",
    "    if 1:\n",
    "        ms.configure_obj(cam,cam._data)\n",
    "        ms.configure_cam(view_angle=np.rad2deg(cam_params.angle_box.yn))\n",
    "    moon_cspace = obj2cspace(cam, moon, clip_bound=1.00)\n",
    "    earth_cspace = obj2cspace(cam, earth, clip_bound=1.01)\n",
    "    hulls = [x.hull for x in (moon_cspace, earth_cspace) if x.hull is not None]\n",
    "    \n",
    "    tstr = str(datetime.datetime.utcfromtimestamp(t))\n",
    "    res =  A(label=f'{idx} -> {tstr}', overlay=[A(lines=hulls, color='r' )])\n",
    "    res.earth = earth_cspace\n",
    "    res.earth_cspace = earth_cspace\n",
    "    res.moon_cspace = moon_cspace\n",
    "    \n",
    "    res.want = filter_func(res)\n",
    "    if res.want: res.img = ImageData(ms.render(''), stuff=res, box=Z.g_one_box)\n",
    "    return res\n",
    "\n",
    "def plot_states(tl, filter_func=lambda _: True):\n",
    "    states = [compute_state(i,t, filter_func) for i,t in enumerate(tl)]\n",
    "    want_states = [x for x in states if x.want]\n",
    "    if len(want_states) == 0:\n",
    "        print('no wanted images')\n",
    "        return\n",
    "    imgs  = [x.img for x in want_states]\n",
    "    ig = ImageGrid(images=imgs)\n",
    "    grid_imgs = ig.get_images()\n",
    "    \n",
    "    mo = cmisc.Attr(images=grid_imgs, misc=[])\n",
    "    meshes = [mo]\n",
    "\n",
    "    for e in grid_imgs:\n",
    "      for ov in e.stuff.overlay:\n",
    "        ov.transform = e.box.to_vispy_transform()* Z.g_one_box.to_vispy_transform().inverse \n",
    "        meshes.append(ov)\n",
    "      mo.misc.append(A(text=e.stuff.label, pos=e.pos, zpos=-10))\n",
    "    oplt.plot(meshes)\n",
    "    \n",
    "def filter_func(data):\n",
    "    return data.moon_cspace.hull and data.earth_cspace.hull and not data.moon_cspace.hull.contains(data.earth_cspace.hull)"
   ]
  },
  {
   "cell_type": "code",
   "execution_count": 29,
   "id": "69bf957e",
   "metadata": {},
   "outputs": [
    {
     "name": "stdout",
     "output_type": "stream",
     "text": [
      "8 False\n"
     ]
    }
   ],
   "source": [
    "ctx.offscreen = 1\n",
    "ms = ms_vtk.MoonSunriseVTK(ctx)\n",
    "ms.build()\n",
    "cam = ms.objs[ActorType.Cam]\n",
    "earth = ms.objs[ActorType.Earth]\n",
    "moon = ms.objs[ActorType.Moon]"
   ]
  },
  {
   "cell_type": "code",
   "execution_count": 9,
   "id": "2173bd3b",
   "metadata": {},
   "outputs": [
    {
     "data": {
      "text/plain": [
       "1.6455701534766753"
      ]
     },
     "execution_count": 9,
     "metadata": {},
     "output_type": "execute_result"
    }
   ],
   "source": [
    "import poliastro\n",
    "import poliastro.twobody.orbit as orbit\n",
    "import poliastro.bodies as bodies\n",
    "from astropy import units as u\n",
    "\n",
    "from astropy.time import Time\n",
    "o = orbit.Orbit.from_vectors(bodies.Moon, moon._data.pos*u.km , moon._data.v * (u.km / u.s))\n",
    "\n",
    "o.period.to(u.hour)"
   ]
  },
  {
   "cell_type": "code",
   "execution_count": 84,
   "id": "caf0200d",
   "metadata": {},
   "outputs": [
    {
     "data": {
      "text/plain": [
       "(array([ -149.15553211,   -11.82074142, -1832.16460241]),\n",
       " array([[ 0.03539228, -0.45839796,  0.88804206],\n",
       "        [-0.99936825, -0.0191139 ,  0.02996271],\n",
       "        [ 0.0032391 , -0.88854149, -0.45878485]]))"
      ]
     },
     "execution_count": 84,
     "metadata": {},
     "output_type": "execute_result"
    }
   ],
   "source": [
    "ctx.obs_conf.obs_frame = 'SELENE_HDTV_TELE'\n",
    "ctx.obs_conf.obs_frame = 'SELENE_HDTV_WIDE'\n",
    "tx = norm_date('2007-11-07T05:53:26')+datetime.timedelta(minutes=10)\n",
    "ctx.view_angle=100\n",
    "ms.configure_cam(view_angle=ctx.view_angle)\n",
    "ms.configure_at(tx)\n",
    "ms.ren.update()\n",
    "ms.ren.ren_win.Render()\n",
    "moon._data.pos, cam._data.rot\n",
    "#ImageData(ms.render('')).plot()"
   ]
  },
  {
   "cell_type": "code",
   "execution_count": 90,
   "id": "42b3b94c",
   "metadata": {},
   "outputs": [
    {
     "data": {
      "text/plain": [
       "datetime.datetime(2007, 11, 7, 5, 57, tzinfo=<UTC>)"
      ]
     },
     "execution_count": 90,
     "metadata": {},
     "output_type": "execute_result"
    }
   ],
   "source": [
    "t0.astimezone(pytz.utc)"
   ]
  },
  {
   "cell_type": "code",
   "execution_count": 87,
   "id": "f53205dc",
   "metadata": {},
   "outputs": [
    {
     "data": {
      "text/plain": [
       "datetime.datetime(2007, 11, 7, 5, 57, tzinfo=<UTC>)"
      ]
     },
     "execution_count": 87,
     "metadata": {},
     "output_type": "execute_result"
    }
   ],
   "source": [
    "norm_date('2007-11-07T14:57:00', tz=jst).astimezone(pytz.utc)"
   ]
  },
  {
   "cell_type": "code",
   "execution_count": 73,
   "id": "638e3f68",
   "metadata": {},
   "outputs": [],
   "source": []
  },
  {
   "cell_type": "code",
   "execution_count": 71,
   "id": "99c1d88a",
   "metadata": {},
   "outputs": [
    {
     "data": {
      "text/plain": [
       "array([ 0.20289002, -6.97278082,  0.99999421])"
      ]
     },
     "execution_count": 71,
     "metadata": {},
     "output_type": "execute_result"
    }
   ],
   "source": [
    "MatHelper.mat_apply_nd(cam.internal.local2clip @ np.linalg.inv(cam._toworld), earth._data.pos.T, point=1)"
   ]
  },
  {
   "cell_type": "code",
   "execution_count": 24,
   "id": "3fb7ea45",
   "metadata": {
    "collapsed": true
   },
   "outputs": [
    {
     "ename": "SpiceSPKINSUFFDATA",
     "evalue": "\n================================================================================\n\nToolkit version: CSPICE66\n\nSPICE(SPKINSUFFDATA) --\n\nInsufficient ephemeris data has been loaded to compute the state of -131 (SELENE_M) relative to 0 (SOLAR SYSTEM BARYCENTER) at the ephemeris epoch 2015 OCT 12 12:19:41.182.\n\nspkezr_c --> SPKEZR --> SPKEZ --> SPKACS --> SPKGEO\n\n================================================================================",
     "output_type": "error",
     "traceback": [
      "\u001b[0;31m---------------------------------------------------------------------------\u001b[0m",
      "\u001b[0;31mSpiceSPKINSUFFDATA\u001b[0m                        Traceback (most recent call last)",
      "\u001b[0;32m/tmp/ipykernel_2695517/3331893968.py\u001b[0m in \u001b[0;36m<module>\u001b[0;34m\u001b[0m\n\u001b[1;32m      1\u001b[0m \u001b[0mms\u001b[0m\u001b[0;34m.\u001b[0m\u001b[0mconfigure_render\u001b[0m\u001b[0;34m(\u001b[0m\u001b[0;36m1000\u001b[0m\u001b[0;34m,\u001b[0m \u001b[0;36m1000\u001b[0m\u001b[0;34m)\u001b[0m\u001b[0;34m\u001b[0m\u001b[0;34m\u001b[0m\u001b[0m\n\u001b[0;32m----> 2\u001b[0;31m \u001b[0mr\u001b[0m \u001b[0;34m=\u001b[0m \u001b[0mcompute_state\u001b[0m\u001b[0;34m(\u001b[0m\u001b[0;36m0\u001b[0m\u001b[0;34m,\u001b[0m \u001b[0mms\u001b[0m\u001b[0;34m.\u001b[0m\u001b[0mtgtime\u001b[0m\u001b[0;34m.\u001b[0m\u001b[0mtimestamp\u001b[0m\u001b[0;34m(\u001b[0m\u001b[0;34m)\u001b[0m\u001b[0;34m,\u001b[0m \u001b[0;32mlambda\u001b[0m \u001b[0m_\u001b[0m\u001b[0;34m:\u001b[0m\u001b[0;32mTrue\u001b[0m\u001b[0;34m,\u001b[0m \u001b[0mexpand\u001b[0m\u001b[0;34m=\u001b[0m\u001b[0;36m2\u001b[0m\u001b[0;34m)\u001b[0m\u001b[0;34m\u001b[0m\u001b[0;34m\u001b[0m\u001b[0m\n\u001b[0m\u001b[1;32m      3\u001b[0m \u001b[0moplt\u001b[0m\u001b[0;34m.\u001b[0m\u001b[0mplot\u001b[0m\u001b[0;34m(\u001b[0m\u001b[0;34m[\u001b[0m\u001b[0mA\u001b[0m\u001b[0;34m(\u001b[0m\u001b[0mimages\u001b[0m\u001b[0;34m=\u001b[0m\u001b[0;34m[\u001b[0m\u001b[0mr\u001b[0m\u001b[0;34m.\u001b[0m\u001b[0mimg\u001b[0m\u001b[0;34m]\u001b[0m\u001b[0;34m,\u001b[0m \u001b[0mpoints\u001b[0m\u001b[0;34m=\u001b[0m\u001b[0mr\u001b[0m\u001b[0;34m.\u001b[0m\u001b[0mmoon_cspace\u001b[0m\u001b[0;34m.\u001b[0m\u001b[0mcspace\u001b[0m\u001b[0;34m)\u001b[0m\u001b[0;34m,\u001b[0m \u001b[0mA\u001b[0m\u001b[0;34m(\u001b[0m\u001b[0mpoints\u001b[0m\u001b[0;34m=\u001b[0m\u001b[0mr\u001b[0m\u001b[0;34m.\u001b[0m\u001b[0mearth_cspace\u001b[0m\u001b[0;34m.\u001b[0m\u001b[0mcspace\u001b[0m\u001b[0;34m,\u001b[0m \u001b[0mcolor\u001b[0m\u001b[0;34m=\u001b[0m\u001b[0;34m'r'\u001b[0m\u001b[0;34m)\u001b[0m\u001b[0;34m]\u001b[0m\u001b[0;34m)\u001b[0m\u001b[0;34m\u001b[0m\u001b[0;34m\u001b[0m\u001b[0m\n",
      "\u001b[0;32m/tmp/ipykernel_2695517/3863157816.py\u001b[0m in \u001b[0;36mcompute_state\u001b[0;34m(idx, t, filter_func, expand)\u001b[0m\n\u001b[1;32m     15\u001b[0m \u001b[0;34m\u001b[0m\u001b[0m\n\u001b[1;32m     16\u001b[0m \u001b[0;32mdef\u001b[0m \u001b[0mcompute_state\u001b[0m\u001b[0;34m(\u001b[0m\u001b[0midx\u001b[0m\u001b[0;34m,\u001b[0m \u001b[0mt\u001b[0m\u001b[0;34m,\u001b[0m \u001b[0mfilter_func\u001b[0m\u001b[0;34m,\u001b[0m \u001b[0mexpand\u001b[0m\u001b[0;34m=\u001b[0m\u001b[0;36m0.1\u001b[0m\u001b[0;34m)\u001b[0m\u001b[0;34m:\u001b[0m\u001b[0;34m\u001b[0m\u001b[0;34m\u001b[0m\u001b[0m\n\u001b[0;32m---> 17\u001b[0;31m     \u001b[0mms\u001b[0m\u001b[0;34m.\u001b[0m\u001b[0mconfigure_at\u001b[0m\u001b[0;34m(\u001b[0m\u001b[0mt\u001b[0m\u001b[0;34m)\u001b[0m\u001b[0;34m\u001b[0m\u001b[0;34m\u001b[0m\u001b[0m\n\u001b[0m\u001b[1;32m     18\u001b[0m     \u001b[0mearth_wspace\u001b[0m \u001b[0;34m=\u001b[0m \u001b[0mMatHelper\u001b[0m\u001b[0;34m.\u001b[0m\u001b[0mmat_apply_nd\u001b[0m\u001b[0;34m(\u001b[0m\u001b[0mearth\u001b[0m\u001b[0;34m.\u001b[0m\u001b[0m_toworld\u001b[0m\u001b[0;34m,\u001b[0m \u001b[0mnp\u001b[0m\u001b[0;34m.\u001b[0m\u001b[0marray\u001b[0m\u001b[0;34m(\u001b[0m\u001b[0mearth\u001b[0m\u001b[0;34m.\u001b[0m\u001b[0minternal\u001b[0m\u001b[0;34m.\u001b[0m\u001b[0mpoints\u001b[0m\u001b[0;34m)\u001b[0m\u001b[0;34m.\u001b[0m\u001b[0mT\u001b[0m\u001b[0;34m,\u001b[0m \u001b[0mpoint\u001b[0m\u001b[0;34m=\u001b[0m\u001b[0;36m1\u001b[0m\u001b[0;34m)\u001b[0m\u001b[0;34m.\u001b[0m\u001b[0mT\u001b[0m\u001b[0;34m\u001b[0m\u001b[0;34m\u001b[0m\u001b[0m\n\u001b[1;32m     19\u001b[0m     \u001b[0mcam_params\u001b[0m \u001b[0;34m=\u001b[0m \u001b[0mcompute_cam_parameters\u001b[0m\u001b[0;34m(\u001b[0m\u001b[0mcam\u001b[0m\u001b[0;34m.\u001b[0m\u001b[0m_data\u001b[0m\u001b[0;34m.\u001b[0m\u001b[0mpos\u001b[0m\u001b[0;34m,\u001b[0m \u001b[0mearth\u001b[0m\u001b[0;34m.\u001b[0m\u001b[0m_data\u001b[0m\u001b[0;34m.\u001b[0m\u001b[0mpos\u001b[0m\u001b[0;34m,\u001b[0m \u001b[0;34m[\u001b[0m\u001b[0;36m0\u001b[0m\u001b[0;34m,\u001b[0m\u001b[0;36m1\u001b[0m\u001b[0;34m,\u001b[0m\u001b[0;36m0\u001b[0m\u001b[0;34m]\u001b[0m\u001b[0;34m,\u001b[0m \u001b[0mearth_wspace\u001b[0m\u001b[0;34m,\u001b[0m \u001b[0maspect\u001b[0m\u001b[0;34m=\u001b[0m\u001b[0mcam\u001b[0m\u001b[0;34m.\u001b[0m\u001b[0minternal\u001b[0m\u001b[0;34m.\u001b[0m\u001b[0maspect\u001b[0m\u001b[0;34m,\u001b[0m \u001b[0mexpand\u001b[0m\u001b[0;34m=\u001b[0m\u001b[0mexpand\u001b[0m\u001b[0;34m)\u001b[0m\u001b[0;34m\u001b[0m\u001b[0;34m\u001b[0m\u001b[0m\n",
      "\u001b[0;32m~/programmation/hack/chdrft/sim/moon_sunrise.py\u001b[0m in \u001b[0;36mconfigure_at\u001b[0;34m(self, t, data)\u001b[0m\n\u001b[1;32m    115\u001b[0m \u001b[0;34m\u001b[0m\u001b[0m\n\u001b[1;32m    116\u001b[0m   \u001b[0;32mdef\u001b[0m \u001b[0mconfigure_at\u001b[0m\u001b[0;34m(\u001b[0m\u001b[0mself\u001b[0m\u001b[0;34m,\u001b[0m \u001b[0mt\u001b[0m\u001b[0;34m=\u001b[0m\u001b[0;32mNone\u001b[0m\u001b[0;34m,\u001b[0m \u001b[0mdata\u001b[0m\u001b[0;34m=\u001b[0m\u001b[0;32mNone\u001b[0m\u001b[0;34m)\u001b[0m\u001b[0;34m:\u001b[0m\u001b[0;34m\u001b[0m\u001b[0;34m\u001b[0m\u001b[0m\n\u001b[0;32m--> 117\u001b[0;31m     \u001b[0;32mif\u001b[0m \u001b[0mdata\u001b[0m \u001b[0;32mis\u001b[0m \u001b[0;32mNone\u001b[0m\u001b[0;34m:\u001b[0m \u001b[0mdata\u001b[0m \u001b[0;34m=\u001b[0m \u001b[0mself\u001b[0m\u001b[0;34m.\u001b[0m\u001b[0mget_data_at_time\u001b[0m\u001b[0;34m(\u001b[0m\u001b[0mt\u001b[0m\u001b[0;34m)\u001b[0m\u001b[0;34m\u001b[0m\u001b[0;34m\u001b[0m\u001b[0m\n\u001b[0m\u001b[1;32m    118\u001b[0m     \u001b[0;32mfor\u001b[0m \u001b[0mk\u001b[0m\u001b[0;34m,\u001b[0m \u001b[0mv\u001b[0m \u001b[0;32min\u001b[0m \u001b[0mself\u001b[0m\u001b[0;34m.\u001b[0m\u001b[0mobjs\u001b[0m\u001b[0;34m.\u001b[0m\u001b[0mitems\u001b[0m\u001b[0;34m(\u001b[0m\u001b[0;34m)\u001b[0m\u001b[0;34m:\u001b[0m\u001b[0;34m\u001b[0m\u001b[0;34m\u001b[0m\u001b[0m\n\u001b[1;32m    119\u001b[0m       \u001b[0;32mif\u001b[0m \u001b[0mv\u001b[0m\u001b[0;34m.\u001b[0m\u001b[0mobj\u001b[0m \u001b[0;32mis\u001b[0m \u001b[0;32mNone\u001b[0m\u001b[0;34m:\u001b[0m \u001b[0;32mcontinue\u001b[0m\u001b[0;34m\u001b[0m\u001b[0;34m\u001b[0m\u001b[0m\n",
      "\u001b[0;32m~/programmation/hack/chdrft/sim/moon_sunrise.py\u001b[0m in \u001b[0;36mget_data_at_time\u001b[0;34m(self, t_utc)\u001b[0m\n\u001b[1;32m     91\u001b[0m     \u001b[0mref_frame\u001b[0m \u001b[0;34m=\u001b[0m \u001b[0;34m'MOON_ME_DE421'\u001b[0m\u001b[0;34m\u001b[0m\u001b[0;34m\u001b[0m\u001b[0m\n\u001b[1;32m     92\u001b[0m     \u001b[0mobs_conf\u001b[0m \u001b[0;34m=\u001b[0m \u001b[0mself\u001b[0m\u001b[0;34m.\u001b[0m\u001b[0mctx\u001b[0m\u001b[0;34m.\u001b[0m\u001b[0mobs_conf\u001b[0m\u001b[0;34m\u001b[0m\u001b[0;34m\u001b[0m\u001b[0m\n\u001b[0;32m---> 93\u001b[0;31m     \u001b[0msun_data\u001b[0m\u001b[0;34m,\u001b[0m \u001b[0msun_lt\u001b[0m \u001b[0;34m=\u001b[0m \u001b[0mspiceypy\u001b[0m\u001b[0;34m.\u001b[0m\u001b[0mspkezr\u001b[0m\u001b[0;34m(\u001b[0m\u001b[0;34m'SUN'\u001b[0m\u001b[0;34m,\u001b[0m \u001b[0met\u001b[0m\u001b[0;34m,\u001b[0m \u001b[0mref_frame\u001b[0m\u001b[0;34m,\u001b[0m \u001b[0;34m'LT+S'\u001b[0m\u001b[0;34m,\u001b[0m \u001b[0mobs_conf\u001b[0m\u001b[0;34m.\u001b[0m\u001b[0mobs\u001b[0m\u001b[0;34m)\u001b[0m\u001b[0;34m\u001b[0m\u001b[0;34m\u001b[0m\u001b[0m\n\u001b[0m\u001b[1;32m     94\u001b[0m     \u001b[0mearth_data\u001b[0m\u001b[0;34m,\u001b[0m \u001b[0mearth_lt\u001b[0m \u001b[0;34m=\u001b[0m \u001b[0mspiceypy\u001b[0m\u001b[0;34m.\u001b[0m\u001b[0mspkezr\u001b[0m\u001b[0;34m(\u001b[0m\u001b[0;34m'EARTH'\u001b[0m\u001b[0;34m,\u001b[0m \u001b[0met\u001b[0m\u001b[0;34m,\u001b[0m \u001b[0mref_frame\u001b[0m\u001b[0;34m,\u001b[0m \u001b[0;34m'LT+S'\u001b[0m\u001b[0;34m,\u001b[0m \u001b[0mobs_conf\u001b[0m\u001b[0;34m.\u001b[0m\u001b[0mobs\u001b[0m\u001b[0;34m)\u001b[0m\u001b[0;34m\u001b[0m\u001b[0;34m\u001b[0m\u001b[0m\n\u001b[1;32m     95\u001b[0m     \u001b[0mmoon_data\u001b[0m\u001b[0;34m,\u001b[0m \u001b[0mmoon_lt\u001b[0m \u001b[0;34m=\u001b[0m \u001b[0mspiceypy\u001b[0m\u001b[0;34m.\u001b[0m\u001b[0mspkezr\u001b[0m\u001b[0;34m(\u001b[0m\u001b[0;34m'moon'\u001b[0m\u001b[0;34m,\u001b[0m \u001b[0met\u001b[0m\u001b[0;34m,\u001b[0m \u001b[0mref_frame\u001b[0m\u001b[0;34m,\u001b[0m \u001b[0;34m'LT+S'\u001b[0m\u001b[0;34m,\u001b[0m \u001b[0mobs_conf\u001b[0m\u001b[0;34m.\u001b[0m\u001b[0mobs\u001b[0m\u001b[0;34m)\u001b[0m\u001b[0;34m\u001b[0m\u001b[0;34m\u001b[0m\u001b[0m\n",
      "\u001b[0;32m~/.virtualenvs/env3.9/lib/python3.10/site-packages/spiceypy/spiceypy.py\u001b[0m in \u001b[0;36mwith_errcheck\u001b[0;34m(*args, **kwargs)\u001b[0m\n\u001b[1;32m    122\u001b[0m         \u001b[0;32mtry\u001b[0m\u001b[0;34m:\u001b[0m\u001b[0;34m\u001b[0m\u001b[0;34m\u001b[0m\u001b[0m\n\u001b[1;32m    123\u001b[0m             \u001b[0mres\u001b[0m \u001b[0;34m=\u001b[0m \u001b[0mf\u001b[0m\u001b[0;34m(\u001b[0m\u001b[0;34m*\u001b[0m\u001b[0margs\u001b[0m\u001b[0;34m,\u001b[0m \u001b[0;34m**\u001b[0m\u001b[0mkwargs\u001b[0m\u001b[0;34m)\u001b[0m\u001b[0;34m\u001b[0m\u001b[0;34m\u001b[0m\u001b[0m\n\u001b[0;32m--> 124\u001b[0;31m             \u001b[0mcheck_for_spice_error\u001b[0m\u001b[0;34m(\u001b[0m\u001b[0mf\u001b[0m\u001b[0;34m)\u001b[0m\u001b[0;34m\u001b[0m\u001b[0;34m\u001b[0m\u001b[0m\n\u001b[0m\u001b[1;32m    125\u001b[0m             \u001b[0;32mreturn\u001b[0m \u001b[0mres\u001b[0m\u001b[0;34m\u001b[0m\u001b[0;34m\u001b[0m\u001b[0m\n\u001b[1;32m    126\u001b[0m         \u001b[0;32mexcept\u001b[0m \u001b[0mBaseException\u001b[0m\u001b[0;34m:\u001b[0m\u001b[0;34m\u001b[0m\u001b[0;34m\u001b[0m\u001b[0m\n",
      "\u001b[0;32m~/.virtualenvs/env3.9/lib/python3.10/site-packages/spiceypy/spiceypy.py\u001b[0m in \u001b[0;36mcheck_for_spice_error\u001b[0;34m(f)\u001b[0m\n\u001b[1;32m    105\u001b[0m         \u001b[0mtraceback\u001b[0m \u001b[0;34m=\u001b[0m \u001b[0mqcktrc\u001b[0m\u001b[0;34m(\u001b[0m\u001b[0;36m200\u001b[0m\u001b[0;34m)\u001b[0m\u001b[0;34m\u001b[0m\u001b[0;34m\u001b[0m\u001b[0m\n\u001b[1;32m    106\u001b[0m         \u001b[0mreset\u001b[0m\u001b[0;34m(\u001b[0m\u001b[0;34m)\u001b[0m\u001b[0;34m\u001b[0m\u001b[0;34m\u001b[0m\u001b[0m\n\u001b[0;32m--> 107\u001b[0;31m         raise stypes.dynamically_instantiate_spiceyerror(\n\u001b[0m\u001b[1;32m    108\u001b[0m             \u001b[0mshort\u001b[0m\u001b[0;34m=\u001b[0m\u001b[0mshort\u001b[0m\u001b[0;34m,\u001b[0m \u001b[0mexplain\u001b[0m\u001b[0;34m=\u001b[0m\u001b[0mexplain\u001b[0m\u001b[0;34m,\u001b[0m \u001b[0mlong\u001b[0m\u001b[0;34m=\u001b[0m\u001b[0mlong\u001b[0m\u001b[0;34m,\u001b[0m \u001b[0mtraceback\u001b[0m\u001b[0;34m=\u001b[0m\u001b[0mtraceback\u001b[0m\u001b[0;34m\u001b[0m\u001b[0;34m\u001b[0m\u001b[0m\n\u001b[1;32m    109\u001b[0m         )\n",
      "\u001b[0;31mSpiceSPKINSUFFDATA\u001b[0m: \n================================================================================\n\nToolkit version: CSPICE66\n\nSPICE(SPKINSUFFDATA) --\n\nInsufficient ephemeris data has been loaded to compute the state of -131 (SELENE_M) relative to 0 (SOLAR SYSTEM BARYCENTER) at the ephemeris epoch 2015 OCT 12 12:19:41.182.\n\nspkezr_c --> SPKEZR --> SPKEZ --> SPKACS --> SPKGEO\n\n================================================================================"
     ]
    }
   ],
   "source": [
    "ms.configure_render(1000, 1000)\n",
    "r = compute_state(0, ms.tgtime.timestamp(), lambda _:True, expand=2)\n",
    "oplt.plot([A(images=[r.img], points=r.moon_cspace.cspace), A(points=r.earth_cspace.cspace, color='r')])"
   ]
  },
  {
   "cell_type": "code",
   "execution_count": 82,
   "id": "74394856",
   "metadata": {
    "scrolled": true
   },
   "outputs": [
    {
     "name": "stdout",
     "output_type": "stream",
     "text": [
      "QAPP\n"
     ]
    }
   ],
   "source": [
    "ms.configure_render(200, 200)\n",
    "starttime = norm_date('2015-10-12')\n",
    "endtime = norm_date('2015-10-13')\n",
    "    \n",
    "tl= np.linspace(starttime.timestamp(), endtime.timestamp(), 48)\n",
    "plot_states(tl)"
   ]
  },
  {
   "cell_type": "code",
   "execution_count": 83,
   "id": "0adb1634",
   "metadata": {},
   "outputs": [
    {
     "data": {
      "text/plain": [
       "datetime.datetime(2007, 11, 7, 5, 50, tzinfo=<UTC>)"
      ]
     },
     "execution_count": 83,
     "metadata": {},
     "output_type": "execute_result"
    },
    {
     "name": "stdout",
     "output_type": "stream",
     "text": [
      "CLOSING  <PyQt5.QtGui.QCloseEvent object at 0x7f11ce125990>\n"
     ]
    }
   ],
   "source": [
    "\n",
    "norm_date('2007-11-07 14:50', tz=jst).astimezone(pytz.utc)"
   ]
  },
  {
   "cell_type": "code",
   "execution_count": null,
   "id": "8b05decd",
   "metadata": {},
   "outputs": [],
   "source": []
  },
  {
   "cell_type": "code",
   "execution_count": 13,
   "id": "2c43ec91",
   "metadata": {},
   "outputs": [
    {
     "data": {
      "text/plain": [
       "1194361200.0"
      ]
     },
     "execution_count": 13,
     "metadata": {},
     "output_type": "execute_result"
    }
   ],
   "source": [
    "starttime.timestamp()"
   ]
  },
  {
   "cell_type": "code",
   "execution_count": 14,
   "id": "56efa385",
   "metadata": {},
   "outputs": [
    {
     "data": {
      "text/plain": [
       "1194393600.0"
      ]
     },
     "execution_count": 14,
     "metadata": {},
     "output_type": "execute_result"
    }
   ],
   "source": [
    "\n",
    "norm_date('2007-11-07').timestamp()"
   ]
  },
  {
   "cell_type": "code",
   "execution_count": 42,
   "id": "febff4e1",
   "metadata": {},
   "outputs": [],
   "source": [
    "ctx.obs_conf.obs_frame = 'SELENE_HDTV_WIDE'"
   ]
  },
  {
   "cell_type": "code",
   "execution_count": 17,
   "id": "85e325d5",
   "metadata": {},
   "outputs": [
    {
     "name": "stdout",
     "output_type": "stream",
     "text": [
      "QAPP\n"
     ]
    }
   ],
   "source": [
    "ms.configure_render(400, 400)\n",
    "starttime = norm_date('2015-10-12 11:44:00')\n",
    "endtime = norm_date('2015-10-12 13:15:00')\n",
    "starttime = norm_date('2007-11-07 12:50', tz=jst)\n",
    "endtime = norm_date('2007-11-07 13:10', tz=jst)\n",
    "tl= np.linspace(starttime.timestamp(), endtime.timestamp(), 200)\n",
    "plot_states(tl, filter_func)"
   ]
  },
  {
   "cell_type": "code",
   "execution_count": 16,
   "id": "a159fbcd",
   "metadata": {},
   "outputs": [],
   "source": [
    "app.cache.flush_cache()"
   ]
  }
 ],
 "metadata": {
  "kernelspec": {
   "display_name": "env3",
   "language": "python",
   "name": "env3"
  },
  "language_info": {
   "codemirror_mode": {
    "name": "ipython",
    "version": 3
   },
   "file_extension": ".py",
   "mimetype": "text/x-python",
   "name": "python",
   "nbconvert_exporter": "python",
   "pygments_lexer": "ipython3",
   "version": "3.10.1"
  }
 },
 "nbformat": 4,
 "nbformat_minor": 5
}
