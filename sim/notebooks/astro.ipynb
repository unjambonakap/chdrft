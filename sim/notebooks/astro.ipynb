{
 "cells": [
  {
   "cell_type": "code",
   "execution_count": 2,
   "metadata": {
    "ExecuteTime": {
     "end_time": "2019-08-24T23:53:01.326437Z",
     "start_time": "2019-08-24T23:53:01.290255Z"
    }
   },
   "outputs": [
    {
     "data": {
      "application/vnd.jupyter.widget-view+json": {
       "model_id": "919152c5bb7e421e82ac809bb1d71234",
       "version_major": 2,
       "version_minor": 0
      },
      "text/plain": [
       "Map(center=[52.204793, 360.121558], controls=(ZoomControl(options=['position', 'zoom_in_text', 'zoom_in_title'…"
      ]
     },
     "metadata": {},
     "output_type": "display_data"
    }
   ],
   "source": [
    "\n",
    "from ipyleaflet import Map, Marker, Popup\n",
    "import ipyleaflet\n",
    "from ipywidgets import HTML\n",
    "\n",
    "center = (52.204793, 360.121558)\n",
    "\n",
    "m = Map(center=center, zoom=1)\n",
    "m\n"
   ]
  },
  {
   "cell_type": "code",
   "execution_count": 3,
   "metadata": {
    "ExecuteTime": {
     "end_time": "2019-08-24T23:31:15.772373Z",
     "start_time": "2019-08-24T23:31:15.765645Z"
    }
   },
   "outputs": [],
   "source": [
    "\n",
    "def create_marker(pos, text):\n",
    "  popup = Popup(\n",
    "      location=pos,\n",
    "      child=HTML(text),\n",
    "      close_button=False,\n",
    "      auto_close=False,\n",
    "      close_on_escape_key=False\n",
    "  )\n",
    "  m.add_layer(popup);"
   ]
  },
  {
   "cell_type": "code",
   "execution_count": 4,
   "metadata": {
    "ExecuteTime": {
     "end_time": "2019-09-01T22:46:09.125073Z",
     "start_time": "2019-09-01T22:46:08.691267Z"
    }
   },
   "outputs": [
    {
     "ename": "NameError",
     "evalue": "name 'Nominatim' is not defined",
     "output_type": "error",
     "traceback": [
      "\u001b[0;31m---------------------------------------------------------------------------\u001b[0m",
      "\u001b[0;31mNameError\u001b[0m                                 Traceback (most recent call last)",
      "\u001b[0;32m/tmp/ipykernel_48835/2060515500.py\u001b[0m in \u001b[0;36m<module>\u001b[0;34m\u001b[0m\n\u001b[0;32m----> 1\u001b[0;31m \u001b[0mgl\u001b[0m \u001b[0;34m=\u001b[0m \u001b[0mNominatim\u001b[0m\u001b[0;34m(\u001b[0m\u001b[0muser_agent\u001b[0m\u001b[0;34m=\u001b[0m\u001b[0;34m'VGYV7gGlNoWapA=='\u001b[0m\u001b[0;34m)\u001b[0m\u001b[0;34m\u001b[0m\u001b[0;34m\u001b[0m\u001b[0m\n\u001b[0m\u001b[1;32m      2\u001b[0m \u001b[0mo0\u001b[0m \u001b[0;34m=\u001b[0m \u001b[0mgl\u001b[0m\u001b[0;34m.\u001b[0m\u001b[0mgeocode\u001b[0m\u001b[0;34m(\u001b[0m\u001b[0;34m'Hat Creek Radio Observatory'\u001b[0m\u001b[0;34m)\u001b[0m\u001b[0;34m\u001b[0m\u001b[0;34m\u001b[0m\u001b[0m\n\u001b[1;32m      3\u001b[0m \u001b[0mo1\u001b[0m \u001b[0;34m=\u001b[0m \u001b[0mgl\u001b[0m\u001b[0;34m.\u001b[0m\u001b[0mgeocode\u001b[0m\u001b[0;34m(\u001b[0m\u001b[0;34m'San Francisco'\u001b[0m\u001b[0;34m)\u001b[0m\u001b[0;34m\u001b[0m\u001b[0;34m\u001b[0m\u001b[0m\n",
      "\u001b[0;31mNameError\u001b[0m: name 'Nominatim' is not defined"
     ]
    }
   ],
   "source": [
    "gl = Nominatim(user_agent='VGYV7gGlNoWapA==')\n",
    "o0 = gl.geocode('Hat Creek Radio Observatory')\n",
    "o1 = gl.geocode('San Francisco')"
   ]
  },
  {
   "cell_type": "code",
   "execution_count": 19,
   "metadata": {
    "ExecuteTime": {
     "end_time": "2019-08-27T21:43:42.007990Z",
     "start_time": "2019-08-27T21:43:41.585162Z"
    }
   },
   "outputs": [
    {
     "ename": "NameError",
     "evalue": "name 'create_marker' is not defined",
     "output_type": "error",
     "traceback": [
      "\u001b[0;31m---------------------------------------------------------------------------\u001b[0m",
      "\u001b[0;31mNameError\u001b[0m                                 Traceback (most recent call last)",
      "\u001b[0;32m<ipython-input-19-f6ee271f3177>\u001b[0m in \u001b[0;36m<module>\u001b[0;34m\u001b[0m\n\u001b[1;32m      2\u001b[0m \u001b[0mo0\u001b[0m \u001b[0;34m=\u001b[0m \u001b[0mgl\u001b[0m\u001b[0;34m.\u001b[0m\u001b[0mgeocode\u001b[0m\u001b[0;34m(\u001b[0m\u001b[0;34m'Hat Creek Radio Observatory'\u001b[0m\u001b[0;34m)\u001b[0m\u001b[0;34m\u001b[0m\u001b[0;34m\u001b[0m\u001b[0m\n\u001b[1;32m      3\u001b[0m \u001b[0mo1\u001b[0m \u001b[0;34m=\u001b[0m \u001b[0mgl\u001b[0m\u001b[0;34m.\u001b[0m\u001b[0mgeocode\u001b[0m\u001b[0;34m(\u001b[0m\u001b[0;34m'San Francisco'\u001b[0m\u001b[0;34m)\u001b[0m\u001b[0;34m\u001b[0m\u001b[0;34m\u001b[0m\u001b[0m\n\u001b[0;32m----> 4\u001b[0;31m \u001b[0mcreate_marker\u001b[0m\u001b[0;34m(\u001b[0m\u001b[0;34m(\u001b[0m\u001b[0mo0\u001b[0m\u001b[0;34m.\u001b[0m\u001b[0mlatitude\u001b[0m\u001b[0;34m,\u001b[0m \u001b[0mo0\u001b[0m\u001b[0;34m.\u001b[0m\u001b[0mlongitude\u001b[0m\u001b[0;34m)\u001b[0m\u001b[0;34m,\u001b[0m \u001b[0;34m'HCRO'\u001b[0m\u001b[0;34m)\u001b[0m\u001b[0;34m\u001b[0m\u001b[0;34m\u001b[0m\u001b[0m\n\u001b[0m",
      "\u001b[0;31mNameError\u001b[0m: name 'create_marker' is not defined"
     ]
    }
   ],
   "source": [
    "create_marker((o0.latitude, o0.longitude), 'HCRO')"
   ]
  },
  {
   "cell_type": "code",
   "execution_count": 2,
   "metadata": {
    "ExecuteTime": {
     "end_time": "2019-09-01T22:43:05.481932Z",
     "start_time": "2019-09-01T22:43:04.926713Z"
    }
   },
   "outputs": [
    {
     "ename": "NameError",
     "evalue": "name 'o0' is not defined",
     "output_type": "error",
     "traceback": [
      "\u001b[0;31m---------------------------------------------------------------------------\u001b[0m",
      "\u001b[0;31mNameError\u001b[0m                                 Traceback (most recent call last)",
      "\u001b[0;32m<ipython-input-2-de62cdc2af4e>\u001b[0m in \u001b[0;36m<module>\u001b[0;34m\u001b[0m\n\u001b[1;32m      1\u001b[0m \u001b[0;32mimport\u001b[0m \u001b[0mpymap3d\u001b[0m\u001b[0;34m\u001b[0m\u001b[0;34m\u001b[0m\u001b[0m\n\u001b[0;32m----> 2\u001b[0;31m \u001b[0mp0\u001b[0m \u001b[0;34m=\u001b[0m \u001b[0mpymap3d\u001b[0m\u001b[0;34m.\u001b[0m\u001b[0mgeodetic2ecef\u001b[0m\u001b[0;34m(\u001b[0m\u001b[0mo0\u001b[0m\u001b[0;34m.\u001b[0m\u001b[0mlatitude\u001b[0m\u001b[0;34m,\u001b[0m \u001b[0mo0\u001b[0m\u001b[0;34m.\u001b[0m\u001b[0mlongitude\u001b[0m\u001b[0;34m,\u001b[0m \u001b[0;36m0\u001b[0m\u001b[0;34m)\u001b[0m\u001b[0;34m\u001b[0m\u001b[0;34m\u001b[0m\u001b[0m\n\u001b[0m\u001b[1;32m      3\u001b[0m \u001b[0mp1\u001b[0m \u001b[0;34m=\u001b[0m \u001b[0mpymap3d\u001b[0m\u001b[0;34m.\u001b[0m\u001b[0mgeodetic2ecef\u001b[0m\u001b[0;34m(\u001b[0m\u001b[0mo1\u001b[0m\u001b[0;34m.\u001b[0m\u001b[0mlatitude\u001b[0m\u001b[0;34m,\u001b[0m \u001b[0mo1\u001b[0m\u001b[0;34m.\u001b[0m\u001b[0mlongitude\u001b[0m\u001b[0;34m,\u001b[0m \u001b[0;36m0\u001b[0m\u001b[0;34m)\u001b[0m\u001b[0;34m\u001b[0m\u001b[0;34m\u001b[0m\u001b[0m\n\u001b[1;32m      4\u001b[0m \u001b[0mprint\u001b[0m\u001b[0;34m(\u001b[0m\u001b[0mp0\u001b[0m\u001b[0;34m,\u001b[0m \u001b[0mp1\u001b[0m\u001b[0;34m)\u001b[0m\u001b[0;34m\u001b[0m\u001b[0;34m\u001b[0m\u001b[0m\n\u001b[1;32m      5\u001b[0m \u001b[0mnp\u001b[0m\u001b[0;34m.\u001b[0m\u001b[0mlinalg\u001b[0m\u001b[0;34m.\u001b[0m\u001b[0mnorm\u001b[0m\u001b[0;34m(\u001b[0m\u001b[0mnp\u001b[0m\u001b[0;34m.\u001b[0m\u001b[0marray\u001b[0m\u001b[0;34m(\u001b[0m\u001b[0mp0\u001b[0m\u001b[0;34m)\u001b[0m\u001b[0;34m-\u001b[0m\u001b[0mp1\u001b[0m\u001b[0;34m)\u001b[0m\u001b[0;34m\u001b[0m\u001b[0;34m\u001b[0m\u001b[0m\n",
      "\u001b[0;31mNameError\u001b[0m: name 'o0' is not defined"
     ]
    }
   ],
   "source": [
    "import pymap3d\n",
    "p0 = pymap3d.geodetic2ecef(o0.latitude, o0.longitude, 0)\n",
    "p1 = pymap3d.geodetic2ecef(o1.latitude, o1.longitude, 0)\n",
    "print(p0, p1)\n",
    "np.linalg.norm(np.array(p0)-p1)"
   ]
  },
  {
   "cell_type": "code",
   "execution_count": 5,
   "metadata": {
    "ExecuteTime": {
     "end_time": "2019-09-01T22:43:16.556505Z",
     "start_time": "2019-09-01T22:43:11.688733Z"
    }
   },
   "outputs": [
    {
     "ename": "ModuleNotFoundError",
     "evalue": "No module named 'PyQt4'",
     "output_type": "error",
     "traceback": [
      "\u001b[0;31m---------------------------------------------------------------------------\u001b[0m",
      "\u001b[0;31mModuleNotFoundError\u001b[0m                       Traceback (most recent call last)",
      "\u001b[0;32m/tmp/ipykernel_48835/676897158.py\u001b[0m in \u001b[0;36m<module>\u001b[0;34m\u001b[0m\n\u001b[1;32m      1\u001b[0m \u001b[0mget_ipython\u001b[0m\u001b[0;34m(\u001b[0m\u001b[0;34m)\u001b[0m\u001b[0;34m.\u001b[0m\u001b[0mrun_line_magic\u001b[0m\u001b[0;34m(\u001b[0m\u001b[0;34m'gui'\u001b[0m\u001b[0;34m,\u001b[0m \u001b[0;34m'qt4'\u001b[0m\u001b[0;34m)\u001b[0m\u001b[0;34m\u001b[0m\u001b[0;34m\u001b[0m\u001b[0m\n\u001b[0;32m----> 2\u001b[0;31m \u001b[0;32mfrom\u001b[0m \u001b[0mPyQt4\u001b[0m \u001b[0;32mimport\u001b[0m \u001b[0mQtGui\u001b[0m\u001b[0;34m,\u001b[0m \u001b[0mQtCore\u001b[0m\u001b[0;34m,\u001b[0m \u001b[0mQtSvg\u001b[0m\u001b[0;34m\u001b[0m\u001b[0;34m\u001b[0m\u001b[0m\n\u001b[0m\u001b[1;32m      3\u001b[0m \u001b[0;32mfrom\u001b[0m \u001b[0mchdrft\u001b[0m\u001b[0;34m.\u001b[0m\u001b[0mconfig\u001b[0m\u001b[0;34m.\u001b[0m\u001b[0menv\u001b[0m \u001b[0;32mimport\u001b[0m \u001b[0mg_env\u001b[0m\u001b[0;34m\u001b[0m\u001b[0;34m\u001b[0m\u001b[0m\n\u001b[1;32m      4\u001b[0m \u001b[0mg_env\u001b[0m\u001b[0;34m.\u001b[0m\u001b[0mset_qt5\u001b[0m\u001b[0;34m(\u001b[0m\u001b[0;36m0\u001b[0m\u001b[0;34m)\u001b[0m\u001b[0;34m\u001b[0m\u001b[0;34m\u001b[0m\u001b[0m\n\u001b[1;32m      5\u001b[0m \u001b[0minit_jupyter\u001b[0m\u001b[0;34m(\u001b[0m\u001b[0;34m)\u001b[0m\u001b[0;34m\u001b[0m\u001b[0;34m\u001b[0m\u001b[0m\n",
      "\u001b[0;31mModuleNotFoundError\u001b[0m: No module named 'PyQt4'"
     ]
    }
   ],
   "source": [
    "%gui qt4\n",
    "from PyQt4 import QtGui, QtCore, QtSvg\n",
    "from chdrft.config.env import g_env\n",
    "g_env.set_qt5(0)\n",
    "init_jupyter()\n",
    "import georinex as gr\n",
    "import ppp_tools.gpstime\n",
    "import chdrft.utils.misc as cmisc\n",
    "from chdrft.display.vtk import vtk_main_obj\n",
    "import chdrft.display.vtk as opa_vtk\n",
    "import  scipy.constants as constants\n",
    "import chdrft.utils.K as K\n",
    "from chdrft.geo.satsim import TileGetter\n",
    "import mercantile\n",
    "import pymap3d\n",
    "from geopy.geocoders import Nominatim\n",
    "import cv2\n",
    "import calcephpy\n",
    "from astroquery.jplhorizons import Horizons\n",
    "\n",
    "from astropy.time import Time\n",
    "from astropy.coordinates import solar_system_ephemeris, EarthLocation\n",
    "from astropy.coordinates import get_body_barycentric, get_body, get_moon\n",
    "import datetime\n",
    "from astropy import units as U\n",
    "tg = TileGetter()\n",
    "\n",
    "import math\n",
    "def ecef_to_latlng(x,y,z):\n",
    "  lng = math.atan2(y,x)\n",
    "  lat = math.atan2(z, np.linalg.norm((x,y)))\n",
    "  return Z.rad2deg(np.array((lat, lng)))\n",
    "from astropy.coordinates import SkyCoord\n",
    "from astropy.coordinates import ICRS\n",
    "def eph_to_xyz(eph, unit=U.AU):\n",
    "  a = SkyCoord(eph['RA'], eph['DEC'], distance=eph['delta'], frame='icrs')\n",
    "  return a.cartesian.xyz.to(unit).value.T"
   ]
  },
  {
   "cell_type": "code",
   "execution_count": null,
   "metadata": {
    "ExecuteTime": {
     "end_time": "2019-07-21T02:08:20.015584Z",
     "start_time": "2019-07-21T02:08:19.844826Z"
    }
   },
   "outputs": [],
   "source": [
    "app.exit_jup()"
   ]
  },
  {
   "cell_type": "code",
   "execution_count": 5,
   "metadata": {
    "ExecuteTime": {
     "end_time": "2019-09-01T22:43:16.795279Z",
     "start_time": "2019-09-01T22:43:16.785833Z"
    }
   },
   "outputs": [
    {
     "data": {
      "text/plain": [
       "datetime.timedelta(days=280)"
      ]
     },
     "execution_count": 5,
     "metadata": {},
     "output_type": "execute_result"
    }
   ],
   "source": [
    "import datetime\n",
    "datetime.datetime(2010, 10, 8) - datetime.datetime(2010, 1, 1)"
   ]
  },
  {
   "cell_type": "code",
   "execution_count": 4,
   "metadata": {
    "ExecuteTime": {
     "end_time": "2019-09-01T22:43:16.781631Z",
     "start_time": "2019-09-01T22:43:16.561015Z"
    }
   },
   "outputs": [],
   "source": [
    "nav = gr.load('../../../dsp/gps/brdc3640.15n')\n",
    "nav = gr.load('/home/benoit/data/astro/gps/brdc2360.19n')\n",
    "nav = gr.load('/home/benoit/data/astro/gps/brdc2810.10n')"
   ]
  },
  {
   "cell_type": "code",
   "execution_count": 6,
   "metadata": {
    "ExecuteTime": {
     "end_time": "2019-09-01T22:43:19.677499Z",
     "start_time": "2019-09-01T22:43:19.655656Z"
    }
   },
   "outputs": [],
   "source": [
    "import datetime\n",
    "import time\n",
    "from astropy import constants as const\n",
    "\n",
    "from astropy.coordinates.earth import OMEGA_EARTH\n",
    "class Ephemerid:\n",
    "  def __init__(self, s):\n",
    "    self.s = s\n",
    "    self.a = s['sqrtA'] ** 2\n",
    "    \n",
    "  @property\n",
    "  def utc(self):\n",
    "    time_utc= ppp_tools.gpstime.UTCFromGps(self.s['GPSWeek'], self.s['Toe'])\n",
    "    time_utc = list(time_utc)\n",
    "    time_utc[-1] = int(time_utc[-1])\n",
    "    return datetime.datetime(*time_utc)\n",
    "\n",
    "  def get_speed(self, t, seconds=1):\n",
    "    dt = datetime.timedelta(seconds=seconds)\n",
    "    return (self.get_pos(t+dt) - self.get_pos(t))/seconds\n",
    "  \n",
    "  def get_pos(self, t):\n",
    "    \n",
    "    dt = t -  self.utc\n",
    "    dt_sec =dt.total_seconds()\n",
    "    \n",
    "    sv =self.s\n",
    "    \n",
    "    n0 = np.sqrt(const.GM_earth.value/self.a**3)  # computed mean motion\n",
    "#    T = 2*pi / n0  # Satellite orbital period\n",
    "    omega_e = OMEGA_EARTH.value\n",
    "\n",
    "    n = n0 + sv['DeltaN']\n",
    "    e = sv['Eccentricity']\n",
    "# %% Kepler's eqn of eccentric anomaly\n",
    "    Mk = sv['M0'] + n*dt_sec  # Mean Anomaly\n",
    "    Ek = Mk + e * np.sin(Mk)  # Eccentric anomaly\n",
    "# %% true anomaly\n",
    "    nuK = np.arctan2(np.sqrt(1 - e**2) * np.sin(Ek),\n",
    "                     np.cos(Ek) - e)\n",
    "# %% latitude\n",
    "    PhiK = nuK + sv['omega'] # argument of latitude\n",
    "    duk = sv['Cuc'] * np.cos(2*PhiK) + sv['Cus']*np.sin(2*PhiK)  # argument of latitude correction\n",
    "    uk = PhiK + duk  # corred argument of latitude\n",
    "# %% inclination (same)\n",
    "    dik = sv['Cic']*np.cos(2*PhiK) + sv['Cis']*np.sin(2*PhiK)  # inclination correction\n",
    "    ik = sv['Io'] + sv['IDOT']*dt_sec + dik  # corrected inclination\n",
    "# %% radial distance (same)\n",
    "    drk = sv['Crc'] * np.cos(2*PhiK) + sv['Crs'] * np.sin(2*PhiK)  # radial correction\n",
    "    rk = self.a * (1 - e * np.cos(Ek)) + drk  # corrected radial distance\n",
    "# %% right ascension  (same)\n",
    "    OmegaK = sv['Omega0'] + (sv['OmegaDot'] - omega_e)*dt_sec - omega_e*sv['Toe']\n",
    "# %% transform\n",
    "    Xk1 = rk * np.cos(uk)\n",
    "    Yk1 = rk * np.sin(uk)\n",
    "\n",
    "    X = Xk1 * np.cos(OmegaK) - Yk1 * np.sin(OmegaK) * np.cos(ik)\n",
    "\n",
    "    Y = Xk1*np.sin(OmegaK) + Yk1 * np.cos(OmegaK) * np.cos(ik)\n",
    "\n",
    "    Z = Yk1*np.sin(ik)\n",
    "    return np.array([X,Y,Z])\n"
   ]
  },
  {
   "cell_type": "code",
   "execution_count": 64,
   "metadata": {
    "ExecuteTime": {
     "end_time": "2019-09-01T23:47:03.994956Z",
     "start_time": "2019-09-01T23:47:03.987821Z"
    }
   },
   "outputs": [],
   "source": [
    "def analyse_sat(sat, t ):\n",
    "  if isinstance(sat, int):\n",
    "    sat = 'G%02d'%sat\n",
    "  tmp = nav.sel(sv=sat)\n",
    "  df = tmp.to_dataframe().dropna()\n",
    "  last = df.iloc[-1]\n",
    "  a = Ephemerid(last)\n",
    "\n",
    "  xyz= np.array(a.get_pos(t))\n",
    "  res = np.array(pymap3d.ecef2geodetic(*xyz))\n",
    "  return cmisc.Attr(xyz=xyz, geodetic=res, v=a.get_speed(t, seconds=1e-2))\n"
   ]
  },
  {
   "cell_type": "code",
   "execution_count": 8,
   "metadata": {
    "ExecuteTime": {
     "end_time": "2019-09-01T22:43:35.798342Z",
     "start_time": "2019-09-01T22:43:35.789013Z"
    }
   },
   "outputs": [],
   "source": [
    "t = datetime.datetime(2010, 10, 8, 13, 23)\n",
    "import pytz\n",
    "pdt=pytz.timezone('US/Pacific')\n",
    "t_pdt = pdt.localize(t)\n",
    "t_utc =  t_pdt.astimezone(pytz.utc)\n",
    "t_utc = t_utc.replace(tzinfo=None)"
   ]
  },
  {
   "cell_type": "code",
   "execution_count": 9,
   "metadata": {
    "ExecuteTime": {
     "end_time": "2019-09-01T22:43:43.485475Z",
     "start_time": "2019-09-01T22:43:43.449798Z"
    }
   },
   "outputs": [
    {
     "data": {
      "text/plain": [
       "{'xyz': array([-2734507.724, 23881516.213, -11276823.645]), 'geodetic': (-25.168344779835124, 96.53209635218097, 20177012.159106124), 'v': array([-820.605, 1179.494, 2737.450])}"
      ]
     },
     "execution_count": 9,
     "metadata": {},
     "output_type": "execute_result"
    }
   ],
   "source": [
    "analyse_sat(1, t_utc)"
   ]
  },
  {
   "cell_type": "code",
   "execution_count": 67,
   "metadata": {
    "ExecuteTime": {
     "end_time": "2019-09-01T23:49:49.750603Z",
     "start_time": "2019-09-01T23:49:49.745910Z"
    }
   },
   "outputs": [],
   "source": [
    "def compute_doppler(v, freq):\n",
    "  return -v * freq / constants.c\n",
    "def compute_doppler2(pos, v, freq):\n",
    "  pos_norm = Z.geo_utils.make_norm(pos)\n",
    "  return -np.dot(pos_norm, v) * freq / constants.c"
   ]
  },
  {
   "cell_type": "code",
   "execution_count": 24,
   "metadata": {
    "ExecuteTime": {
     "end_time": "2019-09-01T23:15:09.886140Z",
     "start_time": "2019-09-01T23:15:09.481178Z"
    }
   },
   "outputs": [
    {
     "name": "stdout",
     "output_type": "stream",
     "text": [
      "\n",
      "aaa -0.4864777385985102 0.46286817806276687\n",
      "-16063.72026557385 -267.7286710928975\n",
      "-2.2299720605838558\n",
      "\n",
      "aaa -0.4876538672893182 0.4639872273040539\n",
      "-16082.665978167212 -0.31576187655603766\n",
      "-2.2252968594292644\n",
      "\n",
      "aaa -0.48882350542581887 0.46510010098825266\n",
      "-16101.480522682932 -0.3135757419286771\n",
      "-2.220640880872091\n",
      "\n",
      "aaa -0.48998631054093905 0.4662064732687773\n",
      "-16120.158791026675 -0.31130447239571973\n",
      "-2.216006957760569\n",
      "\n",
      "aaa -0.4911419422054051 0.467306020237944\n",
      "-16138.69573049109 -0.30894899107358165\n",
      "-2.21139553343043\n",
      "\n",
      "aaa -0.4922900614549347 0.4683984193819614\n",
      "-16157.086333575844 -0.30651005141256366\n",
      "-2.2068080865066997\n",
      "\n",
      "aaa -0.493430332346443 0.4694833510616123\n",
      "-16175.325662766685 -0.3039888198473515\n",
      "-2.2022472517484823\n",
      "\n",
      "aaa -0.49456242126419775 0.4705604978520817\n",
      "-16193.40883829335 -0.3013862587777415\n",
      "-2.197713362096354\n",
      "\n",
      "aaa -0.49568599609148045 0.47162954375481875\n",
      "-16211.331023767505 -0.29870309123592353\n",
      "-2.193209845935349\n",
      "\n",
      "aaa -0.49680072800146763 0.4726901759015038\n",
      "-16229.087454694172 -0.29594051544445393\n",
      "-2.1887370336768193\n",
      "\n",
      "aaa -0.49790628986622315 0.4737420830402545\n",
      "-16246.67341160401 -0.2930992818306246\n",
      "-2.184296544438463\n",
      "\n",
      "aaa -0.49900235878127874 0.4747849579376847\n",
      "-16264.084260433821 -0.29018081383019306\n",
      "-2.1798899803495693\n",
      "\n",
      "aaa -0.5000886128105748 0.4758184942818185\n",
      "-16281.315398546096 -0.2871856352045749\n",
      "-2.1755199400021565\n",
      "\n",
      "aaa -0.5011647344896407 0.4768423900152555\n",
      "-16298.362310997858 -0.2841152075293697\n",
      "-2.1711865278320213\n",
      "\n",
      "aaa -0.5022304079705562 0.4778563446186916\n",
      "-16315.220523158005 -0.2809702026691108\n",
      "-2.1668925677156086\n",
      "\n",
      "aaa -0.5032853218211814 0.4788600617742982\n",
      "-16331.885645374652 -0.27775203694412387\n",
      "-2.162639311202678\n",
      "\n",
      "aaa -0.5043291666549848 0.47985324711057853\n",
      "-16348.353333565707 -0.27446146985090913\n",
      "-2.1584274823990137\n",
      "\n",
      "aaa -0.5053616369468158 0.48083560993001717\n",
      "-16364.619317835066 -0.2710997378226542\n",
      "-2.154260740604745\n",
      "\n",
      "aaa -0.5063824305382967 0.48180686273847684\n",
      "-16380.67939353841 -0.2676679283890735\n",
      "-2.1501382281813517\n",
      "\n",
      "aaa -0.5073912486052282 0.48276672121418557\n",
      "-16396.529419870847 -0.26416710554061257\n",
      "-2.146064049429433\n"
     ]
    }
   ],
   "source": [
    "obs_ecef = pymap3d.geodetic2ecef(o0.latitude, o0.longitude, 986)\n",
    "prev = 0\n",
    "for dmin in range(-10, 10):\n",
    "  ux = analyse_sat(1, t_utc + datetime.timedelta(minutes=dmin))\n",
    "  dt = 10\n",
    "  ux2 = analyse_sat(1, t_utc + datetime.timedelta(minutes=dmin, seconds=dt))\n",
    "  \n",
    "  vv = np.dot(Z.geo_utils.make_norm(ux.xyz- obs_ecef), ux.v)\n",
    "  acc = (ux2.v - ux.v)/dt\n",
    "  vv = np.linalg.norm(ux.v)\n",
    "  kGPS_CENTER_FREQ = 1575420000\n",
    "  print()\n",
    "  doppler = -vv * kGPS_CENTER_FREQ / constants.c\n",
    "  \n",
    "  pos_above = np.array(pymap3d.geodetic2ecef(o0.latitude, o0.longitude, ux.geodetic[2])) - obs_ecef\n",
    "  dt = 10\n",
    "  x = np.linalg.norm(pos_above)\n",
    "  v_max = vv**2 / x\n",
    "  \n",
    "  \n",
    "  d0 = compute_doppler(2*v_max, kGPS_CENTER_FREQ)\n",
    "  print('aaa', d0 / dt, v_max)\n",
    "  \n",
    "  print(doppler, (doppler-prev) / 60)\n",
    "  prev=doppler\n",
    "  print(-np.linalg.norm(acc) * kGPS_CENTER_FREQ / constants.c)"
   ]
  },
  {
   "cell_type": "code",
   "execution_count": 68,
   "metadata": {
    "ExecuteTime": {
     "end_time": "2019-09-01T23:50:03.992759Z",
     "start_time": "2019-09-01T23:49:59.122737Z"
    }
   },
   "outputs": [],
   "source": [
    "tb = []\n",
    "for dhours in np.linspace(0, 100, 200):\n",
    "  dt = 1\n",
    "  ux0 = analyse_sat(1, t_utc + datetime.timedelta(hours=dhours))\n",
    "  ux1 = analyse_sat(1, t_utc + datetime.timedelta(hours=dhours, seconds=dt))\n",
    "  ux2 = analyse_sat(1, t_utc + datetime.timedelta(hours=dhours, seconds=2*dt))\n",
    "  p0 = ux0.xyz - obs_ecef\n",
    "  p1 = ux1.xyz - obs_ecef\n",
    "  p2 = ux2.xyz - obs_ecef\n",
    "  v0 = (p1-p0)/dt\n",
    "  v1 = (p2-p1)/dt\n",
    "  d0 = compute_doppler2(p0, v0, kGPS_CENTER_FREQ)\n",
    "  d1 = compute_doppler2(p1, v1, kGPS_CENTER_FREQ)\n",
    "  tb.append(abs((d0-d1)/dt))\n"
   ]
  },
  {
   "cell_type": "code",
   "execution_count": 69,
   "metadata": {
    "ExecuteTime": {
     "end_time": "2019-09-01T23:50:05.503200Z",
     "start_time": "2019-09-01T23:50:05.498071Z"
    }
   },
   "outputs": [
    {
     "name": "stdout",
     "output_type": "stream",
     "text": [
      "0.695675723376354\n"
     ]
    }
   ],
   "source": [
    "print(max(tb))"
   ]
  },
  {
   "cell_type": "code",
   "execution_count": 46,
   "metadata": {
    "ExecuteTime": {
     "end_time": "2019-09-01T23:38:35.331982Z",
     "start_time": "2019-09-01T23:38:35.324249Z"
    }
   },
   "outputs": [],
   "source": [
    "import astropy.constants as consts\n",
    "import astropy.units as u\n",
    "m_earth = consts.M_earth\n",
    "G = consts.G"
   ]
  },
  {
   "cell_type": "code",
   "execution_count": 63,
   "metadata": {
    "ExecuteTime": {
     "end_time": "2019-09-01T23:42:44.925966Z",
     "start_time": "2019-09-01T23:42:44.916571Z"
    }
   },
   "outputs": [
    {
     "name": "stdout",
     "output_type": "stream",
     "text": [
      "12.264621466216905 h\n"
     ]
    }
   ],
   "source": [
    "def get_orbit_duration(r): return 2*np.pi / (G * m_earth / r**3)**(0.5)\n",
    "print(get_orbit_duration((20000+7000)*u.km).to(u.hour))"
   ]
  },
  {
   "cell_type": "code",
   "execution_count": 42,
   "metadata": {
    "ExecuteTime": {
     "end_time": "2019-09-01T23:36:55.026731Z",
     "start_time": "2019-09-01T23:36:54.999119Z"
    }
   },
   "outputs": [
    {
     "ename": "TypeError",
     "evalue": "'IrreducibleUnit' object is not callable",
     "output_type": "error",
     "traceback": [
      "\u001b[0;31m---------------------------------------------------------------------------\u001b[0m",
      "\u001b[0;31mTypeError\u001b[0m                                 Traceback (most recent call last)",
      "\u001b[0;32m<ipython-input-42-e251d9248dba>\u001b[0m in \u001b[0;36m<module>\u001b[0;34m\u001b[0m\n\u001b[0;32m----> 1\u001b[0;31m \u001b[0mu\u001b[0m\u001b[0;34m.\u001b[0m\u001b[0mm\u001b[0m\u001b[0;34m(\u001b[0m\u001b[0;36m123\u001b[0m\u001b[0;34m)\u001b[0m\u001b[0;34m\u001b[0m\u001b[0;34m\u001b[0m\u001b[0m\n\u001b[0m",
      "\u001b[0;31mTypeError\u001b[0m: 'IrreducibleUnit' object is not callable"
     ]
    }
   ],
   "source": [
    "u.m(123)"
   ]
  },
  {
   "cell_type": "code",
   "execution_count": 69,
   "metadata": {
    "ExecuteTime": {
     "end_time": "2019-08-24T23:55:01.191988Z",
     "start_time": "2019-08-24T23:55:00.453138Z"
    }
   },
   "outputs": [],
   "source": [
    "for val in nav['sv'].values:\n",
    "  pos = analyse_sat(val, t_utc)\n",
    "  create_marker(pos[:2], val.geodetic)"
   ]
  },
  {
   "cell_type": "code",
   "execution_count": 23,
   "metadata": {
    "ExecuteTime": {
     "end_time": "2019-08-24T22:28:24.431370Z",
     "start_time": "2019-08-24T22:28:24.423598Z"
    }
   },
   "outputs": [],
   "source": [
    "import folium\n",
    "m = folium.Map(\n",
    "    zoom_start=2,\n",
    "  location=[0,0]\n",
    ")"
   ]
  },
  {
   "cell_type": "code",
   "execution_count": 21,
   "metadata": {
    "ExecuteTime": {
     "end_time": "2019-08-24T22:28:02.609301Z",
     "start_time": "2019-08-24T22:28:02.600824Z"
    }
   },
   "outputs": [],
   "source": [
    "x = folium.map.Marker(location=(100, 0), tooltip=folium.map.Tooltip('test', permanent=True)).add_to(m)"
   ]
  },
  {
   "cell_type": "code",
   "execution_count": null,
   "metadata": {
    "ExecuteTime": {
     "end_time": "2019-08-24T22:39:01.871599Z",
     "start_time": "2019-08-24T22:38:59.661Z"
    }
   },
   "outputs": [],
   "source": []
  },
  {
   "cell_type": "code",
   "execution_count": null,
   "metadata": {
    "ExecuteTime": {
     "end_time": "2019-07-19T23:59:37.709905Z",
     "start_time": "2019-07-19T23:59:37.690335Z"
    }
   },
   "outputs": [],
   "source": [
    "gr.keplerian2ecef(tmp)"
   ]
  },
  {
   "cell_type": "code",
   "execution_count": null,
   "metadata": {
    "ExecuteTime": {
     "end_time": "2019-07-26T23:40:12.289182Z",
     "start_time": "2019-07-26T23:40:04.017796Z"
    }
   },
   "outputs": [],
   "source": [
    "body_a = calcephpy.NaifId.EARTH\n",
    "from astroquery.jplhorizons import Horizons\n",
    "obj = Horizons(id='2019 OK', location=f'@{calcephpy.NaifId.EARTH}',\n",
    "epochs={'start':'2019-06-01', 'stop':'2019-08-01',\n",
    "'step':'1d'})\n",
    "eph = obj.ephemerides()"
   ]
  },
  {
   "cell_type": "code",
   "execution_count": null,
   "metadata": {
    "ExecuteTime": {
     "end_time": "2019-07-26T23:38:26.104413Z",
     "start_time": "2019-07-26T23:38:26.022902Z"
    }
   },
   "outputs": [],
   "source": [
    "print(eph)"
   ]
  },
  {
   "cell_type": "code",
   "execution_count": null,
   "metadata": {
    "ExecuteTime": {
     "end_time": "2019-07-26T23:43:58.636685Z",
     "start_time": "2019-07-26T23:43:58.622594Z"
    }
   },
   "outputs": [],
   "source": [
    "\n",
    "start = '1969-07-16 16:40'\n",
    "end = '1969-07-28'\n",
    "start = '2019-06-01'\n",
    "end = '2019-08-01'\n",
    "body_center = calcephpy.NaifId.MARS\n",
    "body_a = calcephpy.NaifId.PHOBOS\n",
    "body_b = calcephpy.NaifId.DEIMOS\n",
    "body_b =-399110\n",
    "body_a = calcephpy.NaifId.MOON\n",
    "\n",
    "bodies = [calcephpy.NaifId.DEIMOS, calcephpy.NaifId.PHOBOS, -3, -41, -74, ]\n",
    "body_center = calcephpy.NaifId.MARS\n",
    "bodies = [calcephpy.NaifId.EARTH, calcephpy.NaifId.MOON, '2019 OK']\n",
    "body_center = calcephpy.NaifId.SUN\n",
    "bodies = [calcephpy.NaifId.MOON, '2019 OK']\n",
    "body_center = calcephpy.NaifId.EARTH\n",
    "step = '1d'\n",
    "objs = []\n",
    "for body in bodies:\n",
    "  objs.append(Horizons(id=body,\n",
    "                 location=f'@{body_center}',\n",
    "                 epochs={'start':start,\n",
    "                         'stop':end,\n",
    "                         'step':step},\n",
    "                 id_type='majorbody'))\n"
   ]
  },
  {
   "cell_type": "code",
   "execution_count": 4,
   "metadata": {
    "ExecuteTime": {
     "end_time": "2019-08-01T20:06:02.497486Z",
     "start_time": "2019-08-01T20:06:02.475386Z"
    }
   },
   "outputs": [
    {
     "ename": "NameError",
     "evalue": "name 'U' is not defined",
     "output_type": "error",
     "traceback": [
      "\u001b[0;31m---------------------------------------------------------------------------\u001b[0m",
      "\u001b[0;31mNameError\u001b[0m                                 Traceback (most recent call last)",
      "\u001b[0;32m<ipython-input-4-e4599f8e8c66>\u001b[0m in \u001b[0;36m<module>\u001b[0;34m\u001b[0m\n\u001b[1;32m      1\u001b[0m \u001b[0;32mfrom\u001b[0m \u001b[0mastropy\u001b[0m\u001b[0;34m.\u001b[0m\u001b[0mcoordinates\u001b[0m \u001b[0;32mimport\u001b[0m \u001b[0mSkyCoord\u001b[0m\u001b[0;34m\u001b[0m\u001b[0;34m\u001b[0m\u001b[0m\n\u001b[1;32m      2\u001b[0m \u001b[0;32mfrom\u001b[0m \u001b[0mastropy\u001b[0m\u001b[0;34m.\u001b[0m\u001b[0mcoordinates\u001b[0m \u001b[0;32mimport\u001b[0m \u001b[0mICRS\u001b[0m\u001b[0;34m\u001b[0m\u001b[0;34m\u001b[0m\u001b[0m\n\u001b[0;32m----> 3\u001b[0;31m \u001b[0;32mdef\u001b[0m \u001b[0meph_to_xyz\u001b[0m\u001b[0;34m(\u001b[0m\u001b[0meph\u001b[0m\u001b[0;34m,\u001b[0m \u001b[0munit\u001b[0m\u001b[0;34m=\u001b[0m\u001b[0mU\u001b[0m\u001b[0;34m.\u001b[0m\u001b[0mAU\u001b[0m\u001b[0;34m)\u001b[0m\u001b[0;34m:\u001b[0m\u001b[0;34m\u001b[0m\u001b[0;34m\u001b[0m\u001b[0m\n\u001b[0m\u001b[1;32m      4\u001b[0m   \u001b[0ma\u001b[0m \u001b[0;34m=\u001b[0m \u001b[0mSkyCoord\u001b[0m\u001b[0;34m(\u001b[0m\u001b[0meph\u001b[0m\u001b[0;34m[\u001b[0m\u001b[0;34m'RA'\u001b[0m\u001b[0;34m]\u001b[0m\u001b[0;34m,\u001b[0m \u001b[0meph\u001b[0m\u001b[0;34m[\u001b[0m\u001b[0;34m'DEC'\u001b[0m\u001b[0;34m]\u001b[0m\u001b[0;34m,\u001b[0m \u001b[0mdistance\u001b[0m\u001b[0;34m=\u001b[0m\u001b[0meph\u001b[0m\u001b[0;34m[\u001b[0m\u001b[0;34m'delta'\u001b[0m\u001b[0;34m]\u001b[0m\u001b[0;34m,\u001b[0m \u001b[0mframe\u001b[0m\u001b[0;34m=\u001b[0m\u001b[0;34m'icrs'\u001b[0m\u001b[0;34m)\u001b[0m\u001b[0;34m\u001b[0m\u001b[0;34m\u001b[0m\u001b[0m\n\u001b[1;32m      5\u001b[0m   \u001b[0;32mreturn\u001b[0m \u001b[0ma\u001b[0m\u001b[0;34m.\u001b[0m\u001b[0mcartesian\u001b[0m\u001b[0;34m.\u001b[0m\u001b[0mxyz\u001b[0m\u001b[0;34m.\u001b[0m\u001b[0mto\u001b[0m\u001b[0;34m(\u001b[0m\u001b[0munit\u001b[0m\u001b[0;34m)\u001b[0m\u001b[0;34m.\u001b[0m\u001b[0mvalue\u001b[0m\u001b[0;34m.\u001b[0m\u001b[0mT\u001b[0m\u001b[0;34m\u001b[0m\u001b[0;34m\u001b[0m\u001b[0m\n",
      "\u001b[0;31mNameError\u001b[0m: name 'U' is not defined"
     ]
    }
   ],
   "source": [
    "\n"
   ]
  },
  {
   "cell_type": "code",
   "execution_count": null,
   "metadata": {
    "ExecuteTime": {
     "end_time": "2019-07-26T23:55:37.716347Z",
     "start_time": "2019-07-26T23:55:37.197940Z"
    }
   },
   "outputs": [],
   "source": [
    "eph_to_xyz(obj.ephemerides(), U.km)"
   ]
  },
  {
   "cell_type": "code",
   "execution_count": null,
   "metadata": {
    "ExecuteTime": {
     "end_time": "2019-07-27T00:51:09.137328Z",
     "start_time": "2019-07-27T00:51:09.134212Z"
    }
   },
   "outputs": [],
   "source": [
    "import chdrft.utils.K as K"
   ]
  },
  {
   "cell_type": "code",
   "execution_count": null,
   "metadata": {
    "ExecuteTime": {
     "end_time": "2019-07-27T00:51:10.313576Z",
     "start_time": "2019-07-27T00:51:10.309982Z"
    }
   },
   "outputs": [],
   "source": [
    "%gui qt4"
   ]
  },
  {
   "cell_type": "code",
   "execution_count": null,
   "metadata": {
    "ExecuteTime": {
     "end_time": "2019-07-26T23:44:02.803929Z",
     "start_time": "2019-07-26T23:44:02.190185Z"
    }
   },
   "outputs": [],
   "source": [
    "main = vtkMain()\n",
    "\n",
    "\n",
    "for obj in objs:\n",
    "  pts = eph_to_xyz(obj.ephemerides())\n",
    "  actor = opa_vtk.create_line_actor(pts)\n",
    "  main.ren.AddActor(actor)\n",
    "\n",
    "sp = opa_vtk.SphereActor(1e-5, 10, (0,0,0), K.vispy_utils.Color('y').rgb)\n",
    "main.ren.AddActor(sp)"
   ]
  },
  {
   "cell_type": "code",
   "execution_count": null,
   "metadata": {
    "ExecuteTime": {
     "end_time": "2019-07-26T23:44:04.310195Z",
     "start_time": "2019-07-26T23:44:04.286010Z"
    }
   },
   "outputs": [],
   "source": [
    "main.run()"
   ]
  },
  {
   "cell_type": "code",
   "execution_count": null,
   "metadata": {
    "ExecuteTime": {
     "start_time": "2019-07-20T00:00:33.101Z"
    }
   },
   "outputs": [],
   "source": [
    "main.app.quit()"
   ]
  },
  {
   "cell_type": "code",
   "execution_count": null,
   "metadata": {
    "ExecuteTime": {
     "end_time": "2019-07-07T00:12:56.066962Z",
     "start_time": "2019-07-07T00:12:56.027613Z"
    }
   },
   "outputs": [],
   "source": [
    "from sbpy.data import Orbit\n",
    "from astropy.time import Time\n",
    "epoch = Time('2018-05-14', scale='utc')\n",
    "eph = Orbit.from_horizons('Ceres', epochs=epoch)"
   ]
  },
  {
   "cell_type": "code",
   "execution_count": null,
   "metadata": {
    "ExecuteTime": {
     "end_time": "2019-07-07T00:12:59.902230Z",
     "start_time": "2019-07-07T00:12:59.878909Z"
    }
   },
   "outputs": [],
   "source": [
    "epoch2 = Time('2018-05-15', scale='utc')\n",
    "eph2 = eph.oo_propagate(epoch2)"
   ]
  },
  {
   "cell_type": "code",
   "execution_count": null,
   "metadata": {
    "ExecuteTime": {
     "end_time": "2019-07-07T19:55:25.363190Z",
     "start_time": "2019-07-07T19:55:22.285378Z"
    }
   },
   "outputs": [],
   "source": [
    "\n",
    "import pyoorb as oo\n",
    "oo.pyoorb.oorb_init()\n",
    "from sbpy.data import Orbit\n",
    "from astropy.time import Time\n",
    "epoch = Time.now().jd + 100\n",
    "ceres = Orbit.from_horizons('Ceres')      # doctest: +REMOTE_DATA\n",
    "future_ceres = ceres.oo_propagate(epoch)  # doctest: +SKIP\n",
    "print(future_ceres)  # doctest: +SKIP"
   ]
  },
  {
   "cell_type": "code",
   "execution_count": null,
   "metadata": {
    "ExecuteTime": {
     "end_time": "2019-07-07T00:13:00.903776Z",
     "start_time": "2019-07-07T00:13:00.887497Z"
    }
   },
   "outputs": [],
   "source": [
    "cart = eph2.oo_transform('CART')"
   ]
  },
  {
   "cell_type": "code",
   "execution_count": null,
   "metadata": {
    "ExecuteTime": {
     "end_time": "2019-07-07T00:13:01.965299Z",
     "start_time": "2019-07-07T00:13:01.952842Z"
    }
   },
   "outputs": [],
   "source": [
    "cart['x']"
   ]
  },
  {
   "cell_type": "code",
   "execution_count": null,
   "metadata": {
    "ExecuteTime": {
     "end_time": "2019-07-07T00:13:05.124500Z",
     "start_time": "2019-07-07T00:13:05.110720Z"
    }
   },
   "outputs": [],
   "source": [
    "for i in range(10):\n",
    "  print(a[i].cartesian.x)"
   ]
  },
  {
   "cell_type": "code",
   "execution_count": null,
   "metadata": {
    "ExecuteTime": {
     "end_time": "2019-07-06T15:08:00.839717Z",
     "start_time": "2019-07-06T15:08:00.833309Z"
    }
   },
   "outputs": [],
   "source": [
    "type(elems[0])"
   ]
  },
  {
   "cell_type": "code",
   "execution_count": null,
   "metadata": {
    "ExecuteTime": {
     "end_time": "2019-07-19T20:12:08.243084Z",
     "start_time": "2019-07-19T20:12:07.993356Z"
    }
   },
   "outputs": [],
   "source": [
    "import reverse_geocoder as rg\n",
    "coordinates = (51.5214588,-0.1729636),(9.936033, 76.259952),(37.38605,-122.08385)\n",
    "\n",
    "results = rg.search(coordinates) # default mode = 2\n",
    "\n",
    "print(results)"
   ]
  },
  {
   "cell_type": "code",
   "execution_count": null,
   "metadata": {
    "ExecuteTime": {
     "end_time": "2019-07-21T00:16:49.080090Z",
     "start_time": "2019-07-21T00:16:47.228634Z"
    }
   },
   "outputs": [],
   "source": [
    "gl = Nominatim(user_agent='VGYV7gGlNoWapA==')\n",
    "obj = gl.geocode('Paris')"
   ]
  },
  {
   "cell_type": "code",
   "execution_count": null,
   "metadata": {
    "ExecuteTime": {
     "end_time": "2019-07-21T00:16:49.080090Z",
     "start_time": "2019-07-21T00:16:47.228634Z"
    }
   },
   "outputs": [],
   "source": [
    "tile = mercantile.tile(obj.longitude, obj.latitude, 12)"
   ]
  },
  {
   "cell_type": "code",
   "execution_count": null,
   "metadata": {
    "ExecuteTime": {
     "end_time": "2019-07-21T00:15:22.013489Z",
     "start_time": "2019-07-21T00:15:22.005408Z"
    }
   },
   "outputs": [],
   "source": [
    "from chdrft.utils.cache import global_cache_list\n",
    "global_cache_list"
   ]
  },
  {
   "cell_type": "code",
   "execution_count": null,
   "metadata": {
    "ExecuteTime": {
     "end_time": "2019-07-21T00:10:50.712237Z",
     "start_time": "2019-07-21T00:10:50.499221Z"
    }
   },
   "outputs": [],
   "source": [
    "tx = tg.get_tile(*tile)\n",
    "img = K.opa_vtk.read_img_from_buf(tx)"
   ]
  },
  {
   "cell_type": "code",
   "execution_count": null,
   "metadata": {
    "ExecuteTime": {
     "end_time": "2019-07-20T23:32:24.704977Z",
     "start_time": "2019-07-20T23:32:22.708416Z"
    }
   },
   "outputs": [],
   "source": [
    "K.vispy_utils.render_for_meshes([cmisc.Attr(images=[img[::-1]])])\n",
    "#K.plot_img(img[::-1])"
   ]
  },
  {
   "cell_type": "code",
   "execution_count": null,
   "metadata": {
    "ExecuteTime": {
     "end_time": "2019-07-20T23:32:36.406577Z",
     "start_time": "2019-07-20T23:32:36.401260Z"
    }
   },
   "outputs": [],
   "source": [
    "open('/tmp/test.png', 'wb').write(tx)"
   ]
  },
  {
   "cell_type": "code",
   "execution_count": null,
   "metadata": {
    "ExecuteTime": {
     "end_time": "2019-07-20T23:44:45.996641Z",
     "start_time": "2019-07-20T23:44:45.991736Z"
    }
   },
   "outputs": [],
   "source": [
    "img = cv2.imread('/tmp/test.png', 1)"
   ]
  },
  {
   "cell_type": "code",
   "execution_count": null,
   "metadata": {
    "ExecuteTime": {
     "end_time": "2019-07-20T23:44:49.086484Z",
     "start_time": "2019-07-20T23:44:49.083008Z"
    }
   },
   "outputs": [],
   "source": [
    "print(img.shape)"
   ]
  },
  {
   "cell_type": "code",
   "execution_count": null,
   "metadata": {
    "ExecuteTime": {
     "end_time": "2019-07-20T23:50:40.708596Z",
     "start_time": "2019-07-20T23:50:40.702974Z"
    }
   },
   "outputs": [],
   "source": [
    "#img_vtk = K.opa_vtk.numpy_to_vtk_image(np.ascontiguousarray(img[:,:,0]))\n",
    "img_vtk = K.opa_vtk.numpy_to_vtk_image(np.ascontiguousarray(img.reshape((1,) + img.shape)))\n",
    "tex = K.opa_vtk.reader2tex(img_vtk)\n",
    "#tex = K.opa_vtk.jpeg2tex('/tmp/test.png')\n",
    "\n",
    "actor= K.opa_vtk.TriangleActor(tex=tex).full_quad(Z.opa_struct.g_unit_box.poly(z_coord=1)).build()"
   ]
  },
  {
   "cell_type": "code",
   "execution_count": null,
   "metadata": {
    "ExecuteTime": {
     "end_time": "2019-07-22T00:26:20.029315Z",
     "start_time": "2019-07-22T00:26:19.974651Z"
    }
   },
   "outputs": [],
   "source": [
    "main = vtkMain()\n",
    "#$main.ren.AddActor(actor)\n",
    "main.run()"
   ]
  },
  {
   "cell_type": "code",
   "execution_count": null,
   "metadata": {},
   "outputs": [],
   "source": []
  },
  {
   "cell_type": "code",
   "execution_count": 1,
   "metadata": {
    "ExecuteTime": {
     "end_time": "2019-09-01T22:40:51.496423Z",
     "start_time": "2019-09-01T22:40:51.390116Z"
    },
    "init_cell": true
   },
   "outputs": [
    {
     "ename": "NameError",
     "evalue": "name 'np' is not defined",
     "output_type": "error",
     "traceback": [
      "\u001b[0;31m---------------------------------------------------------------------------\u001b[0m",
      "\u001b[0;31mNameError\u001b[0m                                 Traceback (most recent call last)",
      "\u001b[0;32m<ipython-input-1-3472c7dcc3e3>\u001b[0m in \u001b[0;36m<module>\u001b[0;34m\u001b[0m\n\u001b[0;32m----> 1\u001b[0;31m \u001b[0mprint\u001b[0m\u001b[0;34m(\u001b[0m\u001b[0mnp\u001b[0m\u001b[0;34m.\u001b[0m\u001b[0mmin\u001b[0m\u001b[0;34m(\u001b[0m\u001b[0mpts_list\u001b[0m\u001b[0;34m,\u001b[0m \u001b[0maxis\u001b[0m\u001b[0;34m=\u001b[0m\u001b[0;36m0\u001b[0m\u001b[0;34m)\u001b[0m\u001b[0;34m)\u001b[0m\u001b[0;34m\u001b[0m\u001b[0;34m\u001b[0m\u001b[0m\n\u001b[0m\u001b[1;32m      2\u001b[0m \u001b[0mprint\u001b[0m\u001b[0;34m(\u001b[0m\u001b[0mnp\u001b[0m\u001b[0;34m.\u001b[0m\u001b[0mmax\u001b[0m\u001b[0;34m(\u001b[0m\u001b[0mpts_list\u001b[0m\u001b[0;34m,\u001b[0m \u001b[0maxis\u001b[0m\u001b[0;34m=\u001b[0m\u001b[0;36m0\u001b[0m\u001b[0;34m)\u001b[0m\u001b[0;34m)\u001b[0m\u001b[0;34m\u001b[0m\u001b[0;34m\u001b[0m\u001b[0m\n\u001b[1;32m      3\u001b[0m \u001b[0mprint\u001b[0m\u001b[0;34m(\u001b[0m\u001b[0mfocal_point\u001b[0m\u001b[0;34m)\u001b[0m\u001b[0;34m\u001b[0m\u001b[0;34m\u001b[0m\u001b[0m\n\u001b[1;32m      4\u001b[0m \u001b[0mparams\u001b[0m \u001b[0;34m=\u001b[0m\u001b[0mcompute_cam_parameters\u001b[0m\u001b[0;34m(\u001b[0m\u001b[0mmars_pos\u001b[0m\u001b[0;34m,\u001b[0m \u001b[0mfocal_point\u001b[0m\u001b[0;34m,\u001b[0m \u001b[0mup\u001b[0m\u001b[0;34m,\u001b[0m \u001b[0mpts_list\u001b[0m\u001b[0;34m,\u001b[0m \u001b[0mexpand\u001b[0m\u001b[0;34m=\u001b[0m\u001b[0;36m0.10\u001b[0m\u001b[0;34m,\u001b[0m \u001b[0maspect\u001b[0m\u001b[0;34m=\u001b[0m\u001b[0mmain\u001b[0m\u001b[0;34m.\u001b[0m\u001b[0maspect\u001b[0m\u001b[0;34m)\u001b[0m\u001b[0;34m\u001b[0m\u001b[0;34m\u001b[0m\u001b[0m\n\u001b[1;32m      5\u001b[0m \u001b[0mprint\u001b[0m\u001b[0;34m(\u001b[0m\u001b[0mparams\u001b[0m\u001b[0;34m.\u001b[0m\u001b[0mbox\u001b[0m\u001b[0;34m)\u001b[0m\u001b[0;34m\u001b[0m\u001b[0;34m\u001b[0m\u001b[0m\n",
      "\u001b[0;31mNameError\u001b[0m: name 'np' is not defined"
     ]
    }
   ],
   "source": [
    "print(np.min(pts_list, axis=0))\n",
    "print(np.max(pts_list, axis=0))\n",
    "print(focal_point)\n",
    "params =compute_cam_parameters(mars_pos, focal_point, up, pts_list, expand=0.10, aspect=main.aspect)\n",
    "print(params.box)\n",
    "print(params.box.width)\n",
    "print(params.box.height)\n",
    "print(main.aspect)\n",
    "print(params.box.aspect)"
   ]
  },
  {
   "cell_type": "code",
   "execution_count": null,
   "metadata": {
    "ExecuteTime": {
     "end_time": "2019-07-27T00:51:36.336278Z",
     "start_time": "2019-07-27T00:51:36.207346Z"
    }
   },
   "outputs": [],
   "source": [
    "moon_data = create_moon_data()\n",
    "main = vtkMain()\n",
    "main.ren.AddActor(moon_data.actor)\n",
    "main.run()\n",
    "  "
   ]
  },
  {
   "cell_type": "code",
   "execution_count": null,
   "metadata": {
    "ExecuteTime": {
     "end_time": "2019-07-22T00:27:11.616423Z",
     "start_time": "2019-07-22T00:27:10.768756Z"
    }
   },
   "outputs": [],
   "source": [
    "\n",
    "t = Time(datetime.datetime.utcnow()-datetime.timedelta(days=0))\n",
    "with solar_system_ephemeris.set('builtin'):\n",
    "  moon = get_body('moon', t, None) \n",
    "  mars = get_body('mars', t, None) \n",
    "  earth = get_body('earth', t, None) \n",
    "  moon = moon.transform_to('hcrs')\n",
    "  mars = mars.transform_to('hcrs')\n",
    "  earth = earth.transform_to('hcrs')\n",
    "  moon_pos = moon.cartesian.xyz.to(u.km).value\n",
    "  mars_pos = mars.cartesian.xyz.to(u.km).value\n",
    "  earth_pos = earth.cartesian.xyz.to(u.km).value\n",
    "  up = (0,0,1)\n",
    "  \n",
    "  main = vtkMain()\n",
    "  \n",
    "  moon_data = create_moon_data()\n",
    "  moon_actor = moon_data.actor\n",
    "  moon_actor.GetProperty().SetAmbient(1)\n",
    "  moon_actor.GetProperty().SetDiffuse(0)\n",
    "  moon_actor.SetPosition(*moon_pos)\n",
    "\n",
    "  u = SimpleVisitor(4)\n",
    "  u.run_tms()\n",
    "  earth_assembly = K.opa_vtk.vtk.vtkAssembly()\n",
    "  for actor in u.actors:\n",
    "    earth_assembly.AddPart(actor)\n",
    "    actor.GetProperty().SetAmbient(1)\n",
    "    actor.GetProperty().SetDiffuse(0)\n",
    "  earth_assembly.SetPosition(*earth_pos)\n",
    "  \n",
    "  \n",
    "  pts_list = np.concatenate((np.array(u.pts) +earth_pos, np.array(moon_data.pts) + moon_pos))\n",
    "  focal_point = np.mean(pts_list, axis=0)\n",
    "  #pts_list = np.concatenate((np.array(moon_data.pts) + moon_pos, ))\n",
    "  #focal_point = moon_pos\n",
    "  #focal_point = earth_pos + (moon_pos - earth_pos)*0.59\n",
    "\n",
    "  main.ren.AddActor(earth_assembly)\n",
    "  main.ren.AddActor(moon_actor)\n",
    "    \n",
    "  \n",
    "  params =compute_cam_parameters(mars_pos, focal_point, up, pts_list, expand=0.05, aspect=main.aspect)\n",
    "  \n",
    "  #main.cam.SetFocalPoint(*moon_pos)\n",
    "  main.cam.SetClippingRange(1, 1e20)\n",
    "  angle_y = Z.rad2deg(params.box.height)\n",
    "  print('ANGLE > > ', angle_y, params.box.height)\n",
    "  \n",
    "  main.cam.SetPosition(*mars_pos)\n",
    "  main.cam.SetFocalPoint(*focal_point)\n",
    "  main.cam.SetViewAngle(angle_y)\n",
    "  main.cam.SetViewUp(*params.y)\n",
    "\n",
    "  \n",
    "  main.run(reset=0)\n"
   ]
  },
  {
   "cell_type": "code",
   "execution_count": null,
   "metadata": {
    "ExecuteTime": {
     "end_time": "2019-07-27T01:12:16.923892Z",
     "start_time": "2019-07-27T01:12:15.389369Z"
    }
   },
   "outputs": [],
   "source": [
    "\n",
    "start = '2019-07-24'\n",
    "end = '2019-07-28'\n",
    "bodies = [calcephpy.NaifId.MOON, '2019 OK']\n",
    "starts = {}\n",
    "starts[calcephpy.NaifId.MOON] = '2019-07-01'\n",
    "body_center = calcephpy.NaifId.EARTH\n",
    "step = '30m'\n",
    "steps = {}\n",
    "steps[calcephpy.NaifId.MOON] = '5h'\n",
    "objs = []\n",
    "for body in bodies:\n",
    "  objs.append(Horizons(id=body,\n",
    "                 location=f'@{body_center}',\n",
    "                 epochs={'start':starts.get(body, start),\n",
    "                         'stop':end,\n",
    "                         'step':steps.get(body, step)},\n",
    "                 id_type='majorbody'))\n",
    "main = vtkMain()\n",
    "\n",
    "for obj in objs:\n",
    "  eph = obj.ephemerides()\n",
    "  pts = eph_to_xyz(eph, U.km)\n",
    "  dpts = np.diff(pts, axis=0)\n",
    "  speed = np.linalg.norm(dpts, axis=1)\n",
    "  dists = np.linalg.norm(pts, axis=1)\n",
    "  imin=  np.argmin(dists)\n",
    "  \n",
    "  print(obj, eph['datetime_str'][imin], speed[imin], dists[imin-1:imin+2])\n",
    "  print(min(speed), max(speed))\n",
    "  actor = opa_vtk.create_line_actor(pts)\n",
    "  main.ren.AddActor(actor)\n",
    "\n",
    "assert 0\n",
    "#  JPLHorizons instance \"301\"; location=@399, epochs={'start': '2019-07-01', 'stop': '2019-07-28', 'step': '5h'}, id_type=majorbody 2019-Jul-05 04:00 19468.309901514996 [363785.679 363745.979 363764.904]\n",
    "#JPLHorizons instance \"2019 OK\"; location=@399, epochs={'start': '2019-07-24', 'stop': '2019-07-28', 'step': '1m'}, id_type=majorbody 2019-Jul-25 01:21 1472.0863310984244 [71370.228 71349.445 71358.746]\n",
    "u = SimpleVisitor(4)\n",
    "u.run_tms()\n",
    "earth_assembly = K.opa_vtk.vtk.vtkAssembly()\n",
    "for actor in u.actors:\n",
    "  earth_assembly.AddPart(actor)\n",
    "  actor.GetProperty().SetAmbient(1)\n",
    "  actor.GetProperty().SetDiffuse(0)\n",
    "earth_pos = (0,0,0)\n",
    "earth_assembly.SetPosition(*earth_pos)\n",
    "  \n",
    "main.ren.AddActor(earth_assembly)\n",
    "main.run()"
   ]
  },
  {
   "cell_type": "code",
   "execution_count": null,
   "metadata": {
    "ExecuteTime": {
     "end_time": "2019-07-27T01:17:31.977023Z",
     "start_time": "2019-07-27T01:17:31.862715Z"
    }
   },
   "outputs": [],
   "source": [
    "print(eph)"
   ]
  },
  {
   "cell_type": "code",
   "execution_count": 11,
   "metadata": {
    "ExecuteTime": {
     "end_time": "2019-08-01T20:08:35.515936Z",
     "start_time": "2019-08-01T20:08:33.563980Z"
    }
   },
   "outputs": [
    {
     "name": "stdout",
     "output_type": "stream",
     "text": [
      "targetname    datetime_str   datetime_jd ... alpha_true  PABLon   PABLat \n",
      "   ---            ---             d      ...    deg       deg      deg   \n",
      "---------- ----------------- ----------- ... ---------- -------- --------\n",
      "Moon (301) 2015-Oct-12 00:00   2457307.5 ...   120.9752  75.2879 -24.8133\n",
      "Moon (301) 2015-Oct-13 00:00   2457308.5 ...    74.8747 359.0453 -32.2853\n",
      "https://ssd.jpl.nasa.gov/horizons_batch.cgi?batch=1&TABLE_TYPE=OBSERVER&QUANTITIES=%271%2C2%2C3%2C4%2C5%2C6%2C7%2C8%2C9%2C10%2C11%2C12%2C13%2C14%2C15%2C16%2C17%2C18%2C19%2C20%2C21%2C22%2C23%2C24%2C25%2C26%2C27%2C28%2C29%2C30%2C31%2C32%2C33%2C34%2C35%2C36%2C37%2C38%2C39%2C40%2C41%2C42%2C43%27&COMMAND=%22301%22&SOLAR_ELONG=%220%2C180%22&LHA_CUTOFF=0&CSV_FORMAT=YES&CAL_FORMAT=BOTH&ANG_FORMAT=DEG&APPARENT=AIRLESS&REF_SYSTEM=J2000&CENTER=%27%40LRO%27&START_TIME=%222015-10-12%22&STOP_TIME=%222015-10-13%22&STEP_SIZE=%221d%22&SKIP_DAYLT=NO\n",
      " targetname    datetime_str   datetime_jd ... alpha_true  PABLon  PABLat\n",
      "    ---            ---             d      ...    deg       deg     deg  \n",
      "----------- ----------------- ----------- ... ---------- ------- -------\n",
      "Earth (399) 2015-Oct-12 00:00   2457307.5 ...    10.7257 12.7761 -0.3535\n",
      "Earth (399) 2015-Oct-13 00:00   2457308.5 ...      1.886 19.0315 -0.9401\n",
      "https://ssd.jpl.nasa.gov/horizons_batch.cgi?batch=1&TABLE_TYPE=OBSERVER&QUANTITIES=%271%2C2%2C3%2C4%2C5%2C6%2C7%2C8%2C9%2C10%2C11%2C12%2C13%2C14%2C15%2C16%2C17%2C18%2C19%2C20%2C21%2C22%2C23%2C24%2C25%2C26%2C27%2C28%2C29%2C30%2C31%2C32%2C33%2C34%2C35%2C36%2C37%2C38%2C39%2C40%2C41%2C42%2C43%27&COMMAND=%22399%22&SOLAR_ELONG=%220%2C180%22&LHA_CUTOFF=0&CSV_FORMAT=YES&CAL_FORMAT=BOTH&ANG_FORMAT=DEG&APPARENT=AIRLESS&REF_SYSTEM=J2000&CENTER=%27%40LRO%27&START_TIME=%222015-10-12%22&STOP_TIME=%222015-10-13%22&STEP_SIZE=%221d%22&SKIP_DAYLT=NO\n"
     ]
    },
    {
     "ename": "AssertionError",
     "evalue": "",
     "output_type": "error",
     "traceback": [
      "\u001b[0;31m---------------------------------------------------------------------------\u001b[0m",
      "\u001b[0;31mAssertionError\u001b[0m                            Traceback (most recent call last)",
      "\u001b[0;32m<ipython-input-11-3a680434b001>\u001b[0m in \u001b[0;36m<module>\u001b[0;34m\u001b[0m\n\u001b[1;32m     18\u001b[0m   \u001b[0mprint\u001b[0m\u001b[0;34m(\u001b[0m\u001b[0mobj\u001b[0m\u001b[0;34m.\u001b[0m\u001b[0muri\u001b[0m\u001b[0;34m)\u001b[0m\u001b[0;34m\u001b[0m\u001b[0;34m\u001b[0m\u001b[0m\n\u001b[1;32m     19\u001b[0m   \u001b[0mobjs\u001b[0m\u001b[0;34m.\u001b[0m\u001b[0mappend\u001b[0m\u001b[0;34m(\u001b[0m\u001b[0mobj\u001b[0m\u001b[0;34m)\u001b[0m\u001b[0;34m\u001b[0m\u001b[0;34m\u001b[0m\u001b[0m\n\u001b[0;32m---> 20\u001b[0;31m \u001b[0;32massert\u001b[0m \u001b[0;36m0\u001b[0m\u001b[0;34m\u001b[0m\u001b[0;34m\u001b[0m\u001b[0m\n\u001b[0m\u001b[1;32m     21\u001b[0m \u001b[0mmain\u001b[0m \u001b[0;34m=\u001b[0m \u001b[0mvtkMain\u001b[0m\u001b[0;34m(\u001b[0m\u001b[0;34m)\u001b[0m\u001b[0;34m\u001b[0m\u001b[0;34m\u001b[0m\u001b[0m\n\u001b[1;32m     22\u001b[0m \u001b[0;34m\u001b[0m\u001b[0m\n",
      "\u001b[0;31mAssertionError\u001b[0m: "
     ]
    }
   ],
   "source": [
    "start = '2015-10-12'\n",
    "end = '2015-10-13'\n",
    "step = '1d'\n",
    "steps = {}\n",
    "starts={}\n",
    "bodies = [calcephpy.NaifId.MOON, calcephpy.NaifId.EARTH]\n",
    "body_center = 'LRO'\n",
    "objs = []\n",
    "for body in bodies:\n",
    "  obj = Horizons(id=body,\n",
    "                 location=f'@{body_center}',\n",
    "                 epochs={'start':starts.get(body, start),\n",
    "                         'stop':end,\n",
    "                         'step':steps.get(body, step)},\n",
    "                 id_type='majorbody')\n",
    "  \n",
    "  print(obj.ephemerides())\n",
    "  print(obj.uri)\n",
    "  objs.append(obj)\n",
    "assert 0\n",
    "main = vtkMain()\n",
    "\n",
    "for obj in objs:\n",
    "  eph = obj.ephemerides()\n",
    "  pts = eph_to_xyz(eph, U.km)\n",
    "  dpts = np.diff(pts, axis=0)\n",
    "  speed = np.linalg.norm(dpts, axis=1)\n",
    "  dists = np.linalg.norm(pts, axis=1)\n",
    "  imin=  np.argmin(dists)\n",
    "  \n",
    "  print(obj, eph['datetime_str'][imin], speed[imin], dists[imin-1:imin+2])\n",
    "  print(min(speed), max(speed))\n",
    "  actor = opa_vtk.create_line_actor(pts)\n",
    "  main.ren.AddActor(actor)\n",
    "\n",
    "assert 0\n",
    "#  JPLHorizons instance \"301\"; location=@399, epochs={'start': '2019-07-01', 'stop': '2019-07-28', 'step': '5h'}, id_type=majorbody 2019-Jul-05 04:00 19468.309901514996 [363785.679 363745.979 363764.904]\n",
    "#JPLHorizons instance \"2019 OK\"; location=@399, epochs={'start': '2019-07-24', 'stop': '2019-07-28', 'step': '1m'}, id_type=majorbody 2019-Jul-25 01:21 1472.0863310984244 [71370.228 71349.445 71358.746]\n",
    "u = SimpleVisitor(4)\n",
    "u.run_tms()\n",
    "earth_assembly = K.opa_vtk.vtk.vtkAssembly()\n",
    "for actor in u.actors:\n",
    "  earth_assembly.AddPart(actor)\n",
    "  actor.GetProperty().SetAmbient(1)\n",
    "  actor.GetProperty().SetDiffuse(0)\n",
    "earth_pos = (0,0,0)\n",
    "earth_assembly.SetPosition(*earth_pos)\n",
    "  \n",
    "main.ren.AddActor(earth_assembly)\n",
    "main.run()"
   ]
  },
  {
   "cell_type": "code",
   "execution_count": 14,
   "metadata": {
    "ExecuteTime": {
     "end_time": "2019-08-01T20:11:49.214149Z",
     "start_time": "2019-08-01T20:11:49.115248Z"
    }
   },
   "outputs": [
    {
     "name": "stdout",
     "output_type": "stream",
     "text": [
      "<TableColumns names=('targetname','datetime_str','datetime_jd','solar_presence','flags','RA','DEC','RA_app','DEC_app','RA_rate','DEC_rate','AZ','EL','AZ_rate','EL_rate','sat_X','sat_Y','sat_PANG','siderealtime','airmass','magextinct','V','surfbright','illumination','illum_defect','sat_sep','sat_vis','ang_width','PDObsLon','PDObsLat','PDSunLon','PDSunLat','SubSol_ang','SubSol_dist','NPole_ang','NPole_dist','EclLon','EclLat','r','r_rate','delta','delta_rate','lighttime','vel_sun','vel_obs','elong','elongFlag','alpha','IB_elong','IB_illum','sat_alpha','sunTargetPA','velocityPA','OrbPlaneAng','constellation','TDB-UT','ObsEclLon','ObsEclLat','NPole_RA','NPole_DEC','GlxLon','GlxLat','solartime','earth_lighttime','RA_3sigma','DEC_3sigma','SMAA_3sigma','SMIA_3sigma','Theta_3sigma','Area_3sigma','RSS_3sigma','r_3sigma','r_rate_3sigma','SBand_3sigma','XBand_3sigma','DoppDelay_3sigma','true_anom','hour_angle','alpha_true','PABLon','PABLat')>\n"
     ]
    }
   ],
   "source": [
    "print(obj.ephemerides().columns)"
   ]
  },
  {
   "cell_type": "code",
   "execution_count": null,
   "metadata": {
    "ExecuteTime": {
     "end_time": "2019-07-27T00:58:47.972796Z",
     "start_time": "2019-07-27T00:57:58.864899Z"
    }
   },
   "outputs": [],
   "source": [
    "import time\n",
    "import pymap3d\n",
    "cam = main.ren.GetActiveCamera()\n",
    "d = np.linalg.norm(cam.GetPosition())\n",
    "def spherical_to_xyz(alpha, phi):\n",
    "  return np.array((np.cos(alpha) * np.cos(phi), np.sin(alpha) * np.cos(phi), np.sin(phi)))\n",
    "for t in np.linspace(0,1, 1000):\n",
    "  pos = spherical_to_xyz(2*np.pi*3*t  / 2, 0*np.cos(2*np.pi*t) * np.pi /2 *0.4 ) * d\n",
    "  cam.SetPosition(*pos)\n",
    "  print(np.linalg.norm(pos))\n",
    "  main.ren.ResetCameraClippingRange()\n",
    "  main.ren_win.Render()\n",
    "  time.sleep(0.01)"
   ]
  },
  {
   "cell_type": "code",
   "execution_count": null,
   "metadata": {
    "ExecuteTime": {
     "end_time": "2019-07-27T00:02:38.616656Z",
     "start_time": "2019-07-27T00:02:38.094125Z"
    }
   },
   "outputs": [],
   "source": [
    "print(obj.ephemerides()['datetime_str'][0])"
   ]
  },
  {
   "cell_type": "code",
   "execution_count": null,
   "metadata": {
    "ExecuteTime": {
     "end_time": "2019-07-22T00:16:42.473450Z",
     "start_time": "2019-07-22T00:16:41.574094Z"
    }
   },
   "outputs": [],
   "source": [
    "def mulnorm(m, v):\n",
    "  v = list(v)+[1]\n",
    "  v = m.MultiplyPoint(v)\n",
    "  return np.array(v[:3])/v[-1]\n",
    "\n",
    "z = make_norm(focal_point - mars_pos)\n",
    "y = make_orth_norm((1,0,0), z)\n",
    "m = main.cam.GetCompositeProjectionTransformMatrix(main.aspect, -1,1 )\n",
    "print(Z.deg2rad(angle_y))\n",
    "y = params.y\n",
    "print(np.linalg.norm(np.cross(y,z)))\n",
    "x = make_norm(np.cross(y,z))\n",
    "for pt in pts_list:\n",
    "  print(np.arcsin(np.dot(x, pt - mars_pos) / np.linalg.norm(pt - mars_pos)))\n",
    "  print(mulnorm(m, pt))\n",
    "  print()"
   ]
  },
  {
   "cell_type": "code",
   "execution_count": null,
   "metadata": {
    "ExecuteTime": {
     "end_time": "2019-07-21T11:44:46.098039Z",
     "start_time": "2019-07-21T11:44:46.086433Z"
    }
   },
   "outputs": [],
   "source": [
    "app.exit_jup()\n"
   ]
  }
 ],
 "metadata": {
  "celltoolbar": "Initialization Cell",
  "kernelspec": {
   "display_name": "env3",
   "language": "python",
   "name": "env3"
  },
  "language_info": {
   "codemirror_mode": {
    "name": "ipython",
    "version": 3
   },
   "file_extension": ".py",
   "mimetype": "text/x-python",
   "name": "python",
   "nbconvert_exporter": "python",
   "pygments_lexer": "ipython3",
   "version": "3.9.7"
  }
 },
 "nbformat": 4,
 "nbformat_minor": 2
}
