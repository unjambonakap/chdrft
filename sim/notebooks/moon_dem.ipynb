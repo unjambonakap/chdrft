{
 "cells": [
  {
   "cell_type": "code",
   "execution_count": 1,
   "id": "4903f6fb",
   "metadata": {},
   "outputs": [
    {
     "data": {
      "text/html": [
       "<style>.container { width:90% !important; }</style>"
      ],
      "text/plain": [
       "<IPython.core.display.HTML object>"
      ]
     },
     "metadata": {},
     "output_type": "display_data"
    },
    {
     "name": "stdout",
     "output_type": "stream",
     "text": [
      "Got exception No module named 'unicorn'\n",
      "Runnign magic qt5\n",
      "done\n"
     ]
    },
    {
     "name": "stderr",
     "output_type": "stream",
     "text": [
      "failed to import av\n"
     ]
    },
    {
     "name": "stdout",
     "output_type": "stream",
     "text": [
      "False\n"
     ]
    }
   ],
   "source": [
    "init_jupyter()\n",
    "from chdrft.cmds import CmdsList\n",
    "from chdrft.main import app\n",
    "from chdrft.utils.cmdify import ActionHandler\n",
    "from chdrft.utils.misc import Attributize\n",
    "import chdrft.utils.misc as cmisc\n",
    "import glog\n",
    "import chdrft.utils.Z as Z\n",
    "import calcephpy\n",
    "from astroquery.jplhorizons import Horizons\n",
    "from chdrft.display.vtk import vtk_main_obj\n",
    "import chdrft.display.vtk as opa_vtk\n",
    "from chdrft.sim.utils import *\n",
    "from chdrft.sim.base import *\n",
    "import numpy as np\n",
    "import spiceypy\n",
    "\n",
    "import geopandas\n",
    "\n",
    "import skimage.transform\n",
    "import numpy as np\n",
    "from osgeo import gdal\n",
    "import meshio\n",
    "ctx = app.setup_jup('', parser_funcs=[render_params])\n",
    "ctx.view_angle=  np.rad2deg(np.pi/8)"
   ]
  },
  {
   "cell_type": "code",
   "execution_count": 2,
   "id": "391475d8",
   "metadata": {},
   "outputs": [],
   "source": [
    "moon_ell = pymap3d.Ellipsoid('moon')\n",
    "moon_ell.semimajor_axis = moon_ell.semiminor_axis = 1737400 # not the default 1738000 !!\n",
    "radius_sun = 696340 * U.km\n",
    "u2m = 1000"
   ]
  },
  {
   "cell_type": "code",
   "execution_count": 3,
   "id": "5c4637fa",
   "metadata": {},
   "outputs": [],
   "source": [
    "from pds.core.common import open_pds\n",
    "from pds.core.parser import Parser\n",
    "\n",
    "def stereo_XY2xyz(X, Y, r):\n",
    "    X = X/2/r\n",
    "    Y = Y/2/r\n",
    "    \n",
    "    a = X**2 + Y**2\n",
    "    return np.array([2*X, 2*Y, -a+1])/(a+1) * r\n",
    "\n",
    "def stereo_xyz2XY(x,y,z, r=1):\n",
    "    x = x/r\n",
    "    y = y/r\n",
    "    z = z/r\n",
    "    return np.array([x/(z+1), y/(z+1)])*r*2\n",
    "\n",
    "def stereo_XYalt2ecef(X, Y, alt):\n",
    "    lon, lat, _ = XY2ll(X,Y)\n",
    "    return pymap3d.geodetic2ecef(lat, lon, alt, ell=moon_ell, deg=0)\n",
    "    \n",
    "def XY2ll(X,Y, xaxis_lon=np.pi/2):\n",
    "    xyz=  stereo_XY2xyz(X,Y, r=moon_ell.semimajor_axis)\n",
    "    lat, lon, alt= pymap3d.ecef2geodetic(*xyz, ell=moon_ell, deg=0)\n",
    "    return lon+xaxis_lon, lat, alt\n",
    "\n",
    "def ll2XY(lon, lat, xaxis_lon=np.pi/2):\n",
    "    xyz = pymap3d.geodetic2ecef(lat, lon-xaxis_lon, ell=moon_ell, deg=0, alt=0)\n",
    "    return stereo_xyz2XY(*xyz, r=moon_ell.semimajor_axis)\n",
    "\n",
    "\n",
    "def compute_pix_box(e, hull):\n",
    "    return (Z.Box.FromShapely(e.box.shapely.intersection(hull))* e.res.value).to_int_round()\n",
    "\n",
    "class KDTreeInt:\n",
    "    def __init__(self, box):\n",
    "        self.box = box\n",
    "        \n",
    "    def children(self, box):\n",
    "        xm = (box.xl+box.xh+1)//2\n",
    "        ym = (box.yl+box.yh+1)//2\n",
    "        res = []\n",
    "        res.append(Z.Box(low=box.low, high=(xm, ym), is_int=1))\n",
    "        res.append(Z.Box(low=(xm, box.yl), high=(box.xh, ym), is_int=1))\n",
    "        res.append(Z.Box(low=(box.xl, ym), high=(xm, box.yh), is_int=1))\n",
    "        res.append(Z.Box(low=(xm, ym), high=box.high, is_int=1))\n",
    "        for x in res:\n",
    "            if x.area > 0:\n",
    "                yield x\n",
    "        \n",
    "    def visit(self, visitor, box=None):\n",
    "        if box is None: box=self.box\n",
    "        for x in self.children(box):\n",
    "            if visitor(x):\n",
    "                self.visit(visitor, x)\n",
    "                \n",
    "def get_data_for_entry(e, hull, dim):\n",
    "        \n",
    "    pts = []\n",
    "    mapres=  e.res.value\n",
    "    boundary_pix = Z.geo_ops.transform(lambda *x: np.array(x) * mapres, hull)\n",
    "    def v1(box):\n",
    "        print(box)\n",
    "        if not box.shapely.intersects(boundary_pix): return False\n",
    "        if boundary_pix.contains(box.shapely):\n",
    "\n",
    "            pts.extend(box.get_grid_pos(stride=(1,1)))\n",
    "        return box.area > 1\n",
    "    \n",
    "    \n",
    "    \n",
    "    full_box = (e.box * mapres).to_int_round()\n",
    "    print(e.box, mapres, full_box)\n",
    "    res = A(pix_box=compute_pix_box(e, hull), entry=e, full_box=full_box)\n",
    "    #if 0:\n",
    "    #    KDTreeInt(e.box * e.res.value).visit(v1)\n",
    "    #    res.pix = [x-e.box.low for x in pts]\n",
    "    #else:\n",
    "    f = Z.os.path.join(data_dir, e.fname)\n",
    "    res.img = None\n",
    "    if Z.os.path.exists(f):\n",
    "        res.img = read_gdal(f, dim=dim, scale_factor=0.5)\n",
    "        res.vis_hull = backface_analysis(res)\n",
    "\n",
    "    return res\n",
    "\n",
    "def backface_analysis(e):\n",
    "    points,xygrid = imgbox2grid(e.img, 100, regular_map)\n",
    "    vecs = points - cam_moonspace\n",
    "    dp = np.sum(vecs * points, axis=2)\n",
    "    vis_faces = xygrid[:2,dp < 0].reshape((2,-1)).T\n",
    "    vis_hull = Z.geometry.MultiPoint(vis_faces).convex_hull\n",
    "    return vis_hull\n",
    "\n",
    "def make_mesh_xyzgrid(xyz_grid):\n",
    "    nx,ny,_=xyz_grid.shape\n",
    "    pts = []\n",
    "    ids = {}\n",
    "    for ix in range(nx):\n",
    "        for iy in range(ny):\n",
    "            ids[(ix,iy)] = len(ids)\n",
    "            pts.append(xyz_grid[ix,iy])\n",
    "    faces = []\n",
    "    for ix in range(nx-1):\n",
    "        for iy in range(ny-1):\n",
    "           a,b,c,d = ids[(ix,iy)], ids[(ix+1,iy)], ids[(ix+1,iy+1)], ids[(ix,iy+1)]\n",
    "           faces.append([a,b,c])\n",
    "           faces.append([a,c,d])\n",
    "    m = meshio.Mesh(pts, [('triangle', faces)])\n",
    "    return m\n",
    "\n",
    "def img2mesh(img, fname, downscale, mapfunc):\n",
    "    grid, _ = imgbox2grid(img , downscale, mapfunc)\n",
    "    grid = grid / u2m\n",
    "    t1 = make_mesh_xyzgrid(grid)\n",
    "    t1.write(fname, binary=1)\n",
    "\n",
    "def imgbox2grid(img, downscale, mapfunc):\n",
    "    g= np.transpose(np.array(np.meshgrid(list(img.img_box.xr.range)[::downscale], list(img.img_box.yr.range)[::downscale], indexing='ij')), (1,2,0))\n",
    "    xg,yg = np.transpose(img.img_box.change_rect_space(img.box, g), (2,0,1))\n",
    "    nimg = skimage.transform.resize(img.img, xg.shape)\n",
    "    grid = np.array([xg, yg, nimg])\n",
    "    p = np.transpose(np.array(mapfunc(*grid)), [1,2,0])\n",
    "    return p,grid\n",
    "\n",
    "def read_gdal(fname, dim=None, scale_factor=1):\n",
    "    ds = gdal.Open(fname)\n",
    "    args = A()\n",
    "    if dim is not None:\n",
    "        args.buf_xsize = dim[0]\n",
    "        args.buf_ysize = dim[1]\n",
    "    img = np.array(ds.GetRasterBand(1).ReadAsArray(**args)).T\n",
    "    ulx, xres, xskew, uly, yskew, yres  = ds.GetGeoTransform()\n",
    "    b=  Z.Box(low=(ulx, uly), size=(ds.RasterXSize * xres,ds.RasterYSize * yres))\n",
    "    print(b)\n",
    "    if b.xn < 0:\n",
    "        b=  b.make_new(yr=b.yr, xr=(b.xh, b.xl))\n",
    "        img = img[::-1]\n",
    "    if b.yn < 0:\n",
    "        b=  b.make_new(xr=b.xr, yr=(b.yh, b.yl))\n",
    "        img = img[:,::-1]\n",
    "        \n",
    "    i = K.ImageData(img * scale_factor, box=b, yx=0)\n",
    "    return i\n",
    "\n",
    "class MeshBuilder:\n",
    "    def __init__(self):\n",
    "        self.poslist = []\n",
    "        self.quadlist = []\n",
    "        self.trlist = []\n",
    "    def add_quad(self, pts):\n",
    "        n = len(self.poslist)\n",
    "        self.poslist.extend(pts)\n",
    "        self.quadlist.append([n, n+1, n+3, n+2])\n",
    "        \n",
    "    def add_tri(self, pts):\n",
    "        n = len(self.poslist)\n",
    "        self.poslist.extend(pts)\n",
    "        self.quadlist.append([n, n+1, n+2])\n",
    "        \n",
    "def parse_pds_val(x):\n",
    "    val, unit= x.split(' ')\n",
    "    val = float(val)\n",
    "    return val * U.Unit(unit[1:-1])\n",
    "    \n",
    "def proc(parser, fname):\n",
    "    labels = A.RecursiveImport(parser.parse(open(fname, 'r')))\n",
    "\n",
    "\n",
    "    iproj =  labels.IMAGE_MAP_PROJECTION\n",
    "    lat_max = parse_pds_val(iproj.MAXIMUM_LATITUDE)\n",
    "    lat_min = parse_pds_val(iproj.MINIMUM_LATITUDE)\n",
    "    lon_min = parse_pds_val(iproj.WESTERNMOST_LONGITUDE)\n",
    "    lon_max = parse_pds_val(iproj.EASTERNMOST_LONGITUDE)\n",
    "    map_res = parse_pds_val(iproj.MAP_RESOLUTION)\n",
    "\n",
    "    latlon_box = Z.Box(xr=(lon_min.value, lon_max.value), yr=(lat_min.value, lat_max.value), is_int=1)\n",
    "    if latlon_box.xl >= 180: latlon_box -= (360, 0)\n",
    "    res = A(box=latlon_box, res=map_res, inter=latlon_box.shapely.intersection(hull),\n",
    "            fname=labels.COMPRESSED_FILE.FILE_NAME[1:-1],\n",
    "            labels=labels,\n",
    "            ignore=1)\n",
    "    if not latlon_box.shapely.intersects(hull): return res\n",
    "    \n",
    "    tb = []\n",
    "    res.ignore =0 \n",
    "    return res\n",
    "\n",
    "def regular_map(x,y,z): return pymap3d.geodetic2ecef(lon=x, lat=y, alt=z, ell=moon_ell, deg=1)\n",
    "def stereo_map(x,y,z): return stereo_XYalt2ecef(x,y,z)"
   ]
  },
  {
   "cell_type": "code",
   "execution_count": 15,
   "id": "93225dbd",
   "metadata": {},
   "outputs": [
    {
     "data": {
      "text/plain": [
       "(55.85770447475502, 100.81260990128773, -1735665.950790728)"
      ]
     },
     "execution_count": 15,
     "metadata": {},
     "output_type": "execute_result"
    }
   ],
   "source": [
    "pymap3d.ecef2geodetic(-182.576508, 955.956482, 1435.179321, ell=moon_ell)"
   ]
  },
  {
   "cell_type": "code",
   "execution_count": 24,
   "id": "4ee05feb",
   "metadata": {},
   "outputs": [
    {
     "name": "stdout",
     "output_type": "stream",
     "text": [
      "QAPP\n",
      "CLOSING  <PyQt5.QtGui.QCloseEvent object at 0x7f680ba883a0>\n"
     ]
    }
   ],
   "source": [
    "a = K.ImageData(rx.subimg(Z.Box(center=(100.8126, 55.8577), dim=(0.1,0.1))))\n",
    "a.plot()\n"
   ]
  },
  {
   "cell_type": "code",
   "execution_count": 4,
   "id": "97f03fef",
   "metadata": {},
   "outputs": [],
   "source": [
    "polar_mode = 0"
   ]
  },
  {
   "cell_type": "code",
   "execution_count": 14,
   "id": "cad283da",
   "metadata": {},
   "outputs": [
    {
     "name": "stdout",
     "output_type": "stream",
     "text": [
      "Box(low=(-457440.0, 457440.0), high=(457440.0, -457440.0), is_int=0)\n"
     ]
    }
   ],
   "source": [
    "polar_mode = 1\n",
    "f = '/home/benoit/Downloads/LRO_LOLA_DEM_NPolar875_10m.tif'\n",
    "f = '/home/benoit/Downloads/LRO_LOLA_DEM_NPole75_30m.tif'\n",
    "dim_polar = (15000, 15000)\n",
    "i = read_gdal(f, dim=dim_polar, scale_factor=0.5)"
   ]
  },
  {
   "cell_type": "code",
   "execution_count": 15,
   "id": "40bdf7c7",
   "metadata": {},
   "outputs": [],
   "source": [
    "img2mesh(i, 'north.large.stl', 9, stereo_map)\n"
   ]
  },
  {
   "cell_type": "code",
   "execution_count": 4,
   "id": "7ebddddd",
   "metadata": {},
   "outputs": [
    {
     "ename": "NameError",
     "evalue": "name 'i' is not defined",
     "output_type": "error",
     "traceback": [
      "\u001b[0;31m---------------------------------------------------------------------------\u001b[0m",
      "\u001b[0;31mNameError\u001b[0m                                 Traceback (most recent call last)",
      "\u001b[0;32m/tmp/ipykernel_2720120/3927376241.py\u001b[0m in \u001b[0;36m<module>\u001b[0;34m\u001b[0m\n\u001b[1;32m      3\u001b[0m     \u001b[0mxyl\u001b[0m \u001b[0;34m=\u001b[0m\u001b[0mll2XY\u001b[0m\u001b[0;34m(\u001b[0m\u001b[0mnp\u001b[0m\u001b[0;34m.\u001b[0m\u001b[0mlinspace\u001b[0m\u001b[0;34m(\u001b[0m\u001b[0;36m0\u001b[0m\u001b[0;34m,\u001b[0m \u001b[0;36m2\u001b[0m\u001b[0;34m*\u001b[0m\u001b[0mnp\u001b[0m\u001b[0;34m.\u001b[0m\u001b[0mpi\u001b[0m\u001b[0;34m,\u001b[0m \u001b[0;36m100\u001b[0m\u001b[0;34m)\u001b[0m\u001b[0;34m,\u001b[0m \u001b[0mnp\u001b[0m\u001b[0;34m.\u001b[0m\u001b[0mdeg2rad\u001b[0m\u001b[0;34m(\u001b[0m\u001b[0mlat\u001b[0m\u001b[0;34m)\u001b[0m\u001b[0;34m)\u001b[0m\u001b[0;34m.\u001b[0m\u001b[0mT\u001b[0m\u001b[0;34m\u001b[0m\u001b[0;34m\u001b[0m\u001b[0m\n\u001b[1;32m      4\u001b[0m     \u001b[0mcircles\u001b[0m\u001b[0;34m.\u001b[0m\u001b[0mappend\u001b[0m\u001b[0;34m(\u001b[0m\u001b[0mxyl\u001b[0m\u001b[0;34m)\u001b[0m\u001b[0;34m\u001b[0m\u001b[0;34m\u001b[0m\u001b[0m\n\u001b[0;32m----> 5\u001b[0;31m \u001b[0moplt\u001b[0m\u001b[0;34m.\u001b[0m\u001b[0mplot\u001b[0m\u001b[0;34m(\u001b[0m\u001b[0mA\u001b[0m\u001b[0;34m(\u001b[0m\u001b[0mimages\u001b[0m\u001b[0;34m=\u001b[0m\u001b[0;34m[\u001b[0m\u001b[0mi\u001b[0m\u001b[0;34m]\u001b[0m\u001b[0;34m,\u001b[0m \u001b[0mlines\u001b[0m\u001b[0;34m=\u001b[0m\u001b[0mcircles\u001b[0m\u001b[0;34m)\u001b[0m\u001b[0;34m)\u001b[0m\u001b[0;34m\u001b[0m\u001b[0;34m\u001b[0m\u001b[0m\n\u001b[0m",
      "\u001b[0;31mNameError\u001b[0m: name 'i' is not defined"
     ]
    }
   ],
   "source": [
    "circles = []\n",
    "for lat in np.arange(80, 90, step=1):\n",
    "    xyl =ll2XY(np.linspace(0, 2*np.pi, 100), np.deg2rad(lat)).T\n",
    "    circles.append(xyl)\n",
    "oplt.plot(A(images=[i], lines=circles))"
   ]
  },
  {
   "cell_type": "code",
   "execution_count": 4,
   "id": "5e3438d5",
   "metadata": {},
   "outputs": [],
   "source": [
    "from chdrft.sim.moon_sunrise import MoonSunrise, ActorType, norm_date, set_analysis_parameters\n",
    "ctx.earth_depth=3\n",
    "ctx.earth_tile_depth=2\n",
    "ms = MoonSunrise(ctx)\n",
    "\n",
    "set_analysis_parameters(ctx, 'lro_earthrise', large=False)\n",
    "if 0: ctx.moon_model = 'pic'\n",
    "ctx.moon_details = 8\n",
    "\n",
    "dx = ms.get_data_at_time(ctx.t0)\n",
    "moon = dx[ActorType.Moon]\n",
    "sun = dx[ActorType.Light]\n",
    "\n",
    "l = np.linalg.norm((moon.pos - sun.pos) / (radius_sun.to(U.km).value))\n",
    "math.sin(1/l)\n",
    "\n",
    "ms.build()\n",
    "moon = ms.objs[ActorType.Moon]\n",
    "cam = ms.objs[ActorType.Cam]"
   ]
  },
  {
   "cell_type": "code",
   "execution_count": 5,
   "id": "d5ea4c2b",
   "metadata": {},
   "outputs": [],
   "source": [
    "ms.configure_cam(aspect=1, view_angle=10)\n",
    "ms.configure_at(ctx.t0)\n",
    "#ms.configure_cam(aspect=1, view_angle=90)\n"
   ]
  },
  {
   "cell_type": "code",
   "execution_count": 6,
   "id": "42447ad5",
   "metadata": {},
   "outputs": [
    {
     "name": "stdout",
     "output_type": "stream",
     "text": [
      "[-655584.960 965856.310 1474995.726]\n"
     ]
    }
   ],
   "source": [
    "tomoon = np.linalg.inv(moon._toworld)\n",
    "cam_moonspace = MatHelper.mat_apply_nd(tomoon @ cam._toworld, [0,0,0], point=1) * u2m\n",
    "print(cam_moonspace)\n",
    "cam_geo =pymap3d.ecef2geodetic(*cam_moonspace, ell=moon_ell, deg=1)\n",
    "cam_ll = cam_geo[:2][::-1]\n",
    "cam_forward_pt = MatHelper.mat_apply_nd(tomoon, cam._toworld, [0,0,-1]) *u2m\n",
    "front_pos = pymap3d.ecef2geodetic(*cam_forward_pt, ell=moon_ell, deg=1)\n",
    "cam_dir_ll = (np.array(front_pos) -cam_geo)[:2][::-1]\n",
    "\n",
    "moon2clip = cam.internal.local2clip @ np.linalg.inv(cam._toworld) @  moon._toworld\n",
    "res = Z.opa_math.MatHelper.mat_apply_nd(moon2clip, np.array(moon.internal.points).T, point=1).T\n",
    "vis_points = np.array(moon.internal.points)[np.max(np.abs(res), axis=1) <1].T*u2m\n",
    "backp = np.array(pymap3d.ecef2geodetic(*vis_points, ell=moon_ell, deg=1)).T\n",
    "\n",
    "backp_lonlat = backp[:,:2][:, ::-1]\n",
    "backp_lonlat[:,0] += (backp_lonlat[:,0]<0) * 360\n",
    "hull = Z.geometry.MultiPoint(backp_lonlat).convex_hull\n"
   ]
  },
  {
   "cell_type": "code",
   "execution_count": 41,
   "id": "5630677f",
   "metadata": {},
   "outputs": [
    {
     "name": "stdout",
     "output_type": "stream",
     "text": [
      "(879148.2089433552, -1017745.3567329847, 1125861.9260815068, 305980.0957825825)\n"
     ]
    },
    {
     "ename": "NameError",
     "evalue": "name 'i' is not defined",
     "output_type": "error",
     "traceback": [
      "\u001b[0;31m---------------------------------------------------------------------------\u001b[0m",
      "\u001b[0;31mNameError\u001b[0m                                 Traceback (most recent call last)",
      "\u001b[0;32m/tmp/ipykernel_2728244/225210229.py\u001b[0m in \u001b[0;36m<module>\u001b[0;34m\u001b[0m\n\u001b[1;32m      2\u001b[0m \u001b[0mhull_XY\u001b[0m \u001b[0;34m=\u001b[0m \u001b[0mZ\u001b[0m\u001b[0;34m.\u001b[0m\u001b[0mgeometry\u001b[0m\u001b[0;34m.\u001b[0m\u001b[0mMultiPoint\u001b[0m\u001b[0;34m(\u001b[0m\u001b[0mpts_XY\u001b[0m\u001b[0;34m.\u001b[0m\u001b[0mT\u001b[0m\u001b[0;34m)\u001b[0m\u001b[0;34m.\u001b[0m\u001b[0mconvex_hull\u001b[0m\u001b[0;34m\u001b[0m\u001b[0;34m\u001b[0m\u001b[0m\n\u001b[1;32m      3\u001b[0m \u001b[0mprint\u001b[0m\u001b[0;34m(\u001b[0m\u001b[0mhull_XY\u001b[0m\u001b[0;34m.\u001b[0m\u001b[0mbounds\u001b[0m\u001b[0;34m)\u001b[0m\u001b[0;34m\u001b[0m\u001b[0;34m\u001b[0m\u001b[0m\n\u001b[0;32m----> 4\u001b[0;31m \u001b[0moplt\u001b[0m\u001b[0;34m.\u001b[0m\u001b[0mplot\u001b[0m\u001b[0;34m(\u001b[0m\u001b[0mA\u001b[0m\u001b[0;34m(\u001b[0m\u001b[0mimages\u001b[0m\u001b[0;34m=\u001b[0m\u001b[0;34m[\u001b[0m\u001b[0mi\u001b[0m\u001b[0;34m]\u001b[0m\u001b[0;34m,\u001b[0m \u001b[0mlines\u001b[0m\u001b[0;34m=\u001b[0m\u001b[0;34m[\u001b[0m\u001b[0mhull_XY\u001b[0m\u001b[0;34m]\u001b[0m\u001b[0;34m,\u001b[0m \u001b[0mpoints\u001b[0m\u001b[0;34m=\u001b[0m\u001b[0;34m[\u001b[0m\u001b[0mll2XY\u001b[0m\u001b[0;34m(\u001b[0m\u001b[0;34m*\u001b[0m\u001b[0mnp\u001b[0m\u001b[0;34m.\u001b[0m\u001b[0mdeg2rad\u001b[0m\u001b[0;34m(\u001b[0m\u001b[0mcam_ll\u001b[0m\u001b[0;34m)\u001b[0m\u001b[0;34m)\u001b[0m\u001b[0;34m]\u001b[0m\u001b[0;34m,\u001b[0m \u001b[0mpoints_color\u001b[0m\u001b[0;34m=\u001b[0m\u001b[0;34m'r'\u001b[0m\u001b[0;34m)\u001b[0m\u001b[0;34m)\u001b[0m\u001b[0;34m\u001b[0m\u001b[0;34m\u001b[0m\u001b[0m\n\u001b[0m",
      "\u001b[0;31mNameError\u001b[0m: name 'i' is not defined"
     ]
    }
   ],
   "source": [
    "pts_XY = ll2XY(*np.deg2rad(backp_lonlat.T))\n",
    "hull_XY = Z.geometry.MultiPoint(pts_XY.T).convex_hull\n",
    "print(hull_XY.bounds)\n",
    "oplt.plot(A(images=[i], lines=[hull_XY], points=[ll2XY(*np.deg2rad(cam_ll))], points_color='r'))"
   ]
  },
  {
   "cell_type": "code",
   "execution_count": 7,
   "id": "83ed028f",
   "metadata": {},
   "outputs": [
    {
     "name": "stdout",
     "output_type": "stream",
     "text": [
      "SLDEM2015_512_30N_60N_090_135.JP2\n",
      "SLDEM2015_512_30N_60N_045_090.JP2\n",
      "Box(low=(90.0, 30.0), high=(135.0, 60.0), is_int=0) 512.0 Box(low=(46080, 15360), high=(69120, 30720), is_int=1)\n",
      "Box(low=(90.0, 60.0), high=(135.0, 30.0), is_int=0)\n",
      "Box(low=(45.0, 30.0), high=(90.0, 60.0), is_int=0) 512.0 Box(low=(23040, 15360), high=(46080, 30720), is_int=1)\n",
      "Box(low=(45.0, 60.0), high=(90.0, 30.0), is_int=0)\n"
     ]
    }
   ],
   "source": [
    "parser = Parser()\n",
    " \n",
    "data_dir ='/home/benoit/data/moon/lola/'\n",
    "lst = list(cmisc.filter_glob_list(cmisc.list_files_rec(data_dir), '*512*.LBL'))\n",
    "#http://imbrium.mit.edu/DATA/SLDEM2015/TILES/JP2/\n",
    "tb=  []\n",
    "for x in lst:\n",
    "    tb.append(proc(parser, x))\n",
    "for x in tb:\n",
    "    if '60N_045_090' not in x.fname and '135.JP2' not in x.fname:\n",
    "        x.ignore = True\n",
    "    if not x.ignore: print(x.fname)\n",
    "tdim = None\n",
    "#tdim = (3000, 2000)\n",
    "data = [x for x in tb if not x.ignore]\n",
    "data = [get_data_for_entry(x, hull, tdim) for x in data]\n",
    "data = [x for x in data if x.img is not None]"
   ]
  },
  {
   "cell_type": "code",
   "execution_count": 12,
   "id": "237081c1",
   "metadata": {},
   "outputs": [
    {
     "name": "stdout",
     "output_type": "stream",
     "text": [
      "CLOSING  <PyQt5.QtGui.QCloseEvent object at 0x7f68704400d0>\n"
     ]
    }
   ],
   "source": [
    "import cv2\n",
    "img = K.ImageData(cv2.imread('../Moon_LRO_LOLA_global_LDEM_1024.jpg')[::-1], box=Z.Box(yr=(-90, 90), xr=(-180, 180)))\n",
    "hulls = [A(polyline=hull, color='g')]\n",
    "for x in data: hulls.append(A(polyline=x.vis_hull, color='r'))\n",
    "    \n",
    "oplt.plot([A(images=[img], points=[cam_ll, cam_ll + make_norm(cam_dir_ll)*10], lines=[x.box for x in tb] + hulls, misc=[A(text=x.fname, pos=x.box.mid) for x in tb], points_color=('g', 'r'))])"
   ]
  },
  {
   "cell_type": "code",
   "execution_count": 14,
   "id": "462f3c7b",
   "metadata": {},
   "outputs": [
    {
     "name": "stdout",
     "output_type": "stream",
     "text": [
      "QAPP\n"
     ]
    }
   ],
   "source": [
    "K.ImageData(rx.img).plot()"
   ]
  },
  {
   "cell_type": "code",
   "execution_count": null,
   "id": "e36f3a25",
   "metadata": {},
   "outputs": [],
   "source": []
  },
  {
   "cell_type": "code",
   "execution_count": 8,
   "id": "886a496e",
   "metadata": {},
   "outputs": [
    {
     "name": "stdout",
     "output_type": "stream",
     "text": [
      "Box(low=(90.0, 54.16442279104428), high=(109.0956039428711, 58.48048782348633), is_int=0) Box(low=(2816, 0), high=(12593, 2210), is_int=1) (9777, 2210) [9777 2210] 0 Box(low=(84.49999237060547, 54.16442279104428), high=(109.0956039428711, 58.48048782348633), is_int=0) (12593, 2210)\n",
      "Box(low=(84.49999237060547, 54.16442279104428), high=(90.0, 58.48048782348633), is_int=0) Box(low=(0, 0), high=(2816, 2210), is_int=1) (2816, 2210) [2816 2210] 0 Box(low=(84.49999237060547, 54.16442279104428), high=(109.0956039428711, 58.48048782348633), is_int=0) (12593, 2210)\n"
     ]
    }
   ],
   "source": [
    "%load_ext autoreload\n",
    "%autoreload 1\n",
    "from chdrft.display.render import ImageComposer\n",
    "%aimport chdrft.display.render\n",
    "\n",
    "import functools\n",
    "buf_val = 1\n",
    "vis_hull = functools.reduce(lambda a,b: a.union(b), [x.vis_hull.buffer(buf_val) for x in data])\n",
    "fhull = hull.intersection(vis_hull)\n",
    "ic = ImageComposer([x.img for x in data])\n",
    "rx = ic.render_box_fixed_dim(Z.Box.FromShapely(fhull), yx=0)"
   ]
  },
  {
   "cell_type": "code",
   "execution_count": 36,
   "id": "2a3946f0",
   "metadata": {},
   "outputs": [],
   "source": [
    "img2mesh(rx, 't1.large.stl', 3, regular_map)"
   ]
  },
  {
   "cell_type": "code",
   "execution_count": null,
   "id": "f40ecc27",
   "metadata": {},
   "outputs": [],
   "source": [
    "import pymeshlab as ml\n",
    "ms = ml.MeshSet()\n",
    "ms.load_new_mesh('./t1.large.stl')\n",
    "m = ms.current_mesh()\n",
    "ms.simplification_quadric_edge_collapse_decimation(targetperc=0.1, preserveboundary=True)\n",
    "ms.save_current_mesh('./test1.simpl.stl')\n"
   ]
  },
  {
   "cell_type": "code",
   "execution_count": 13,
   "id": "927d7dea",
   "metadata": {},
   "outputs": [
    {
     "name": "stdout",
     "output_type": "stream",
     "text": [
      "QAPP\n",
      "CLOSING  <PyQt5.QtGui.QCloseEvent object at 0x7f72d0111a20>\n"
     ]
    }
   ],
   "source": [
    "mp = [[(1112, 535),\n",
    " (978, 642),\n",
    " (1524, 615),\n",
    "(1288, 797),\n",
    "],\n",
    "[(550, 692),\n",
    " (371, 824.5),\n",
    " (1078, 814),\n",
    " (764, 1038),\n",
    "]]\n",
    "mp = np.array(mp)\n",
    "from chdrft.dsp.image import read_tiff\n",
    "H,_=cv2.estimateAffinePartial2D(mp[0], mp[1])\n",
    "a = cv2.imread('../../../../writeup/lro/data/lrox_render_earthrise.png')\n",
    "b = cv2.imread('../../../../writeup/lro/data/lro_earthrise_real.jpg')\n",
    "res = cv2.warpAffine(a,H, b.shape[:2], cv2.INTER_LINEAR)\n",
    "K.ImageData(res).plot()\n"
   ]
  },
  {
   "cell_type": "code",
   "execution_count": 10,
   "id": "42dd696b",
   "metadata": {},
   "outputs": [
    {
     "name": "stdout",
     "output_type": "stream",
     "text": [
      "QAPP\n"
     ]
    }
   ],
   "source": [
    "\n",
    "mp = [[(276,648),\n",
    "      (544, 647),\n",
    "      (446, 592),\n",
    "       (193, 672),\n",
    "      ],\n",
    "[(1455,1375),\n",
    "(3625, 1352),\n",
    " (2637, 784),\n",
    " (672, 1730),\n",
    " \n",
    "]]\n",
    "mp = np.array(mp)\n",
    "from chdrft.dsp.image import read_tiff\n",
    "import cv2\n",
    "H,residuals=cv2.estimateAffinePartial2D(mp[0], mp[1])\n",
    "a = cv2.imread('../../../../writeup/lro/data/earthmoon_square1.png')\n",
    "b = cv2.imread('../../../../writeup/lro/data/lro2_render.png')\n",
    "res = cv2.warpAffine(a,H, b.shape[:2][::-1], cv2.INTER_LINEAR)\n",
    "K.ImageData(res).plot()"
   ]
  },
  {
   "cell_type": "code",
   "execution_count": null,
   "id": "e6ee2154",
   "metadata": {},
   "outputs": [],
   "source": []
  },
  {
   "cell_type": "code",
   "execution_count": 11,
   "id": "d87ae789",
   "metadata": {},
   "outputs": [
    {
     "name": "stdout",
     "output_type": "stream",
     "text": [
      "CLOSING  <PyQt5.QtGui.QCloseEvent object at 0x7f72d0d317e0>\n"
     ]
    }
   ],
   "source": [
    "K.ImageData(b).plot()"
   ]
  },
  {
   "cell_type": "code",
   "execution_count": 127,
   "id": "e3559d2e",
   "metadata": {},
   "outputs": [
    {
     "data": {
      "text/plain": [
       "array([[6.672, 0.214, -525.539],\n",
       "       [-0.214, 6.672, -2889.456]])"
      ]
     },
     "execution_count": 127,
     "metadata": {},
     "output_type": "execute_result"
    }
   ],
   "source": [
    "H"
   ]
  },
  {
   "cell_type": "code",
   "execution_count": 14,
   "id": "86b031cb",
   "metadata": {},
   "outputs": [],
   "source": [
    "from chdrft.dsp.image import read_tiff, save_image\n",
    "save_image('/tmp/res.png', res)"
   ]
  },
  {
   "cell_type": "code",
   "execution_count": 123,
   "id": "ba8954f7",
   "metadata": {
    "collapsed": true
   },
   "outputs": [
    {
     "name": "stdout",
     "output_type": "stream",
     "text": [
      "(1500, 1500, 3)\n",
      "QAPP\n",
      "(1500, 1500, 3)\n",
      "(1500, 1500, 3)\n",
      "(1500, 1500, 3)\n",
      "(1500, 1500, 3)\n",
      "(1500, 1500, 3)\n",
      "(1500, 1500, 3)\n",
      "(1500, 1500, 3)\n",
      "(1500, 1500, 3)\n",
      "(1500, 1500, 3)\n",
      "(1500, 1500, 3)\n",
      "(1500, 1500, 3)\n",
      "(1500, 1500, 3)\n",
      "(1500, 1500, 3)\n",
      "(1500, 1500, 3)\n",
      "(1500, 1500, 3)\n",
      "(1500, 1500, 3)\n",
      "(1500, 1500, 3)\n",
      "(1500, 1500, 3)\n",
      "(1500, 1500, 3)\n",
      "(1500, 1500, 3)\n",
      "(1500, 1500, 3)\n",
      "(1500, 1500, 3)\n",
      "(1500, 1500, 3)\n",
      "(1500, 1500, 3)\n",
      "(1500, 1500, 3)\n",
      "(1500, 1500, 3)\n",
      "(1500, 1500, 3)\n",
      "(1500, 1500, 3)\n",
      "(1500, 1500, 3)\n",
      "(1500, 1500, 3)\n",
      "(1500, 1500, 3)\n",
      "(1500, 1500, 3)\n",
      "(1500, 1500, 3)\n",
      "(1500, 1500, 3)\n",
      "(1500, 1500, 3)\n",
      "(1500, 1500, 3)\n",
      "(1500, 1500, 3)\n",
      "(1500, 1500, 3)\n",
      "(1500, 1500, 3)\n",
      "(1500, 1500, 3)\n",
      "(1500, 1500, 3)\n",
      "(1500, 1500, 3)\n",
      "(1500, 1500, 3)\n",
      "(1500, 1500, 3)\n",
      "(1500, 1500, 3)\n",
      "(1500, 1500, 3)\n",
      "(1500, 1500, 3)\n",
      "(1500, 1500, 3)\n",
      "(1500, 1500, 3)\n",
      "(1500, 1500, 3)\n",
      "(1500, 1500, 3)\n",
      "(1500, 1500, 3)\n",
      "(1500, 1500, 3)\n",
      "(1500, 1500, 3)\n",
      "(1500, 1500, 3)\n",
      "(1500, 1500, 3)\n",
      "(1500, 1500, 3)\n",
      "(1500, 1500, 3)\n",
      "(1500, 1500, 3)\n",
      "(1500, 1500, 3)\n",
      "(1500, 1500, 3)\n",
      "(1500, 1500, 3)\n",
      "(1500, 1500, 3)\n",
      "(1500, 1500, 3)\n",
      "(1500, 1500, 3)\n",
      "(1500, 1500, 3)\n",
      "(1500, 1500, 3)\n",
      "(1500, 1500, 3)\n",
      "(1500, 1500, 3)\n",
      "(1500, 1500, 3)\n",
      "(1500, 1500, 3)\n",
      "(1500, 1500, 3)\n",
      "(1500, 1500, 3)\n",
      "(1500, 1500, 3)\n",
      "(1500, 1500, 3)\n",
      "(1500, 1500, 3)\n",
      "(1500, 1500, 3)\n",
      "(1500, 1500, 3)\n",
      "CLOSING  <PyQt5.QtGui.QCloseEvent object at 0x7f6504bd83a0>\n"
     ]
    }
   ],
   "source": [
    "for i, x in enumerate(list(cmisc.filter_glob_list(cmisc.list_files_rec('/home/benoit/programmation/vid_earthrise/'), '*.png'))):\n",
    "    \n",
    "    if i==0: continue\n",
    "    a = cv2.imread(x)\n",
    "    a = a.transpose((1,0,2))[::-1]\n",
    "    cv2.imwrite(x, a)\n",
    "    "
   ]
  }
 ],
 "metadata": {
  "kernelspec": {
   "display_name": "env3",
   "language": "python",
   "name": "env3"
  },
  "language_info": {
   "codemirror_mode": {
    "name": "ipython",
    "version": 3
   },
   "file_extension": ".py",
   "mimetype": "text/x-python",
   "name": "python",
   "nbconvert_exporter": "python",
   "pygments_lexer": "ipython3",
   "version": "3.10.1"
  }
 },
 "nbformat": 4,
 "nbformat_minor": 5
}
