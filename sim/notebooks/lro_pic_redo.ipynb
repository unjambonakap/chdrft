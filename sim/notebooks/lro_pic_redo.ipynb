{
 "cells": [
  {
   "cell_type": "code",
   "execution_count": 1,
   "id": "0b67b872",
   "metadata": {},
   "outputs": [
    {
     "data": {
      "text/html": [
       "<style>.container { width:90% !important; }</style>"
      ],
      "text/plain": [
       "<IPython.core.display.HTML object>"
      ]
     },
     "metadata": {},
     "output_type": "display_data"
    },
    {
     "name": "stderr",
     "output_type": "stream",
     "text": [
      "W1028 02:08:14.374039 40365 __init__.py:121] Arrangement computation is unavailable\n"
     ]
    },
    {
     "name": "stdout",
     "output_type": "stream",
     "text": [
      "Got exception No module named 'unicorn'\n",
      "Runnign magic qt5\n",
      "done\n",
      "False\n"
     ]
    }
   ],
   "source": [
    "init_jupyter()\n",
    "from chdrft.cmds import CmdsList\n",
    "from chdrft.main import app\n",
    "from chdrft.utils.cmdify import ActionHandler\n",
    "from chdrft.utils.misc import Attributize\n",
    "import chdrft.utils.misc as cmisc\n",
    "import glog\n",
    "import chdrft.utils.Z as Z\n",
    "import calcephpy\n",
    "from astroquery.jplhorizons import Horizons\n",
    "from chdrft.display.vtk import vtk_main_obj\n",
    "import chdrft.display.vtk as opa_vtk\n",
    "from chdrft.sim.utils import *\n",
    "from chdrft.sim.base import *\n",
    "import numpy as np\n",
    "import spiceypy\n",
    "import cv2\n",
    "\n",
    "ctx = app.setup_jup('', parser_funcs=[])"
   ]
  },
  {
   "cell_type": "code",
   "execution_count": 2,
   "id": "9f768b95",
   "metadata": {},
   "outputs": [],
   "source": [
    "METAKR = '/home/benoit/programmation/science/sim/kernels/lro.km'\n",
    "spiceypy.kclear()\n",
    "spiceypy.furnsh( METAKR )\n",
    "ctx= A(view_angle=16, width=800, height=600, offscreen=True, rot_angle=0, zoom_factor=None, nframes=100, outfile=None, no_render=0)\n",
    "ctx.aspect= ctx.width / ctx.height\n",
    "def norm_date(d):\n",
    "    return pytz.utc.localize(datetime.datetime.fromisoformat(d))\n",
    "def get_data_at_time(t_utc):\n",
    "    if not isinstance(t_utc, datetime.datetime): t_utc = datetime.datetime.utcfromtimestamp(t_utc)\n",
    "    et = spice_time(t_utc)\n",
    "    sun_data, sun_lt = spiceypy.spkezr('SUN', et, 'GSE', 'LT+S', 'LRO')\n",
    "    earth_data, earth_lt = spiceypy.spkezr('EARTH', et, 'GSE', 'LT+S', 'LRO')\n",
    "    moon_data, moon_lt = spiceypy.spkezr('moon', et, 'GSE', 'LT+S', 'LRO')\n",
    "    sat_data, sat_lt = spiceypy.spkezr('LRO', et, 'GSE', 'LT+S', 'LRO')\n",
    "    print(moon_lt, earth_lt, sun_lt, sat_lt)\n",
    "    \n",
    "    res = A()\n",
    "    res.earth_pos = earth_data[:3]\n",
    "    res.moon_pos = moon_data[:3]\n",
    "    res.sat_pos = sat_data[:3]\n",
    "    res.moon_rot = spiceypy.pxform('MOON_ME_DE440_ME421', 'GSE', et-moon_lt)\n",
    "    res.sat_rot = spiceypy.pxform('LRO_LROCNACL', 'GSE', et)\n",
    "    res.earth_rot = spiceypy.pxform('ITRF93', 'GSE', et-earth_lt)\n",
    "    res.sun_pos = sun_data[:3]\n",
    "    \n",
    "    res.t =  t_utc.timestamp()\n",
    "    return res\n",
    "\n",
    "def setup_camera(cam, tsfmat, view_angle=None, aspect=None):\n",
    "    cam.SetPosition(0, 0, 0)\n",
    "    cam.SetFocalPoint([0, 0, 1])\n",
    "    cam.SetViewAngle(view_angle)\n",
    "    cam.SetViewUp([0,1,0])\n",
    "    cam.SetClippingRange(1, 1e20)\n",
    "    \n",
    "    a = opa_vtk.vtk.vtkTransform()\n",
    "    a.SetMatrix(numpy_to_vtk_mat(tsfmat))\n",
    "    cam.ApplyTransform(a)\n",
    "    if aspect is not None: return opa_vtk.vtk_matrix_to_numpy(cam.GetCompositeProjectionTransformMatrix(aspect, -1, 1))"
   ]
  },
  {
   "cell_type": "code",
   "execution_count": 3,
   "id": "29ebeaeb",
   "metadata": {},
   "outputs": [
    {
     "name": "stdout",
     "output_type": "stream",
     "text": [
      "0.006274171034798952 1.3569062038794069 496.7074035064906 0.0\n"
     ]
    },
    {
     "data": {
      "text/plain": [
       "{'earth_pos': array([-404834.326, 38670.027, -9596.954]), 'moon_pos': array([-587.643, 982.319, -1492.547]), 'sat_pos': array([0.000, 0.000, 0.000]), 'moon_rot': array([[-0.996, -0.084, 0.009],\n",
       "       [0.084, -0.996, 0.026],\n",
       "       [0.007, 0.026, 1.000]]), 'sat_rot': array([[-0.055, -0.119, -0.991],\n",
       "       [-0.849, -0.517, 0.109],\n",
       "       [-0.525, 0.848, -0.073]]), 'earth_rot': array([[0.982, -0.138, -0.129],\n",
       "       [0.080, 0.923, -0.376],\n",
       "       [0.171, 0.359, 0.918]]), 'sun_pos': array([148909131.155, 23852.354, -10043.971]), 't': 1444652313.0}"
      ]
     },
     "execution_count": 3,
     "metadata": {},
     "output_type": "execute_result"
    }
   ],
   "source": [
    "tgtime = norm_date('2015-10-12 12:18:33')\n",
    "dt = get_data_at_time(tgtime)\n",
    "dt"
   ]
  },
  {
   "cell_type": "code",
   "execution_count": 17,
   "id": "db7015e8",
   "metadata": {},
   "outputs": [],
   "source": [
    "tsf =Z.MatHelper.simple_mat(offset=dt.sat_pos, rot=dt.sat_rot)\n",
    "cammat = setup_camera(opa_vtk.vtk.vtkCamera(), tsf, ctx.view_angle, ctx.aspect)\n",
    "\n",
    "latvals = np.linspace(-0.5, 0.5, 1000) * np.pi\n",
    "lonvals = np.linspace(0, 2, 1000) * np.pi\n",
    "glat, glon = np.meshgrid(latvals, lonvals)\n",
    "glat = glat.flatten()\n",
    "glon = glon.flatten()\n",
    "pts = np.array(pymap3d.geodetic2ecef(glat, glon, 0, ell=Consts.MOON_ELLIPSOID, deg=0)) / 1e3\n",
    "moon2world = MatHelper.mat_apply_nd(MatHelper.mat_translate(dt.moon_pos), MatHelper.mat_rot(dt.moon_rot))\n",
    "projs = MatHelper.mat_apply_nd(cammat, moon2world, pts, point=True).T\n",
    "sel_ids= np.max(np.abs(projs), axis=1) <= 1\n",
    "slat = glat[sel_ids]\n",
    "slon = glon[sel_ids]\n",
    "sel_pts = np.vstack([slon, slat]).T\n",
    "boundary =Z.geo_ops.MultiPoint(sel_pts).convex_hull.buffer(0.01)\n",
    "Z.FileFormatHelper.Write('./boundary.pickle', boundary)"
   ]
  },
  {
   "cell_type": "code",
   "execution_count": 16,
   "id": "074b5097",
   "metadata": {},
   "outputs": [
    {
     "name": "stdout",
     "output_type": "stream",
     "text": [
      "QAPP\n",
      "CLOSING  <PyQt5.QtGui.QCloseEvent object at 0x7fa47ca34e50>\n"
     ]
    }
   ],
   "source": [
    "img = K.ImageData(cv2.imread('./Moon_LRO_LOLA_global_LDEM_1024.jpg'), box=Z.Box(yr=(latvals[0], latvals[-1]), xr=(lonvals[0], lonvals[-1])))\n",
    "data = A(points=sel_pts, images=[img], lines=[boundary])\n",
    "oplt.plot(data)"
   ]
  },
  {
   "cell_type": "code",
   "execution_count": 5,
   "id": "5a8ca4e6",
   "metadata": {
    "collapsed": true
   },
   "outputs": [
    {
     "name": "stdout",
     "output_type": "stream",
     "text": [
      "2015-10-12 12:18:15\n",
      "2015-10-12 12:17:45+00:00 2015-10-12 12:18:45+00:00\n",
      "0.006278470334498923 1.3567810803424982 496.7076092501097 0.0\n",
      "0.006278470334498923 1.3567810803424982 496.7076092501097 0.0\n",
      "0.006278383771080563 1.3567837268092502 496.70760493105195 0.0\n",
      "0.006278383771080563 1.3567837268092502 496.70760493105195 0.0\n",
      "0.006278297076085682 1.3567863716170876 496.70760061335875 0.0\n",
      "0.006278210255277083 1.3567890147622046 496.7075962970323 0.0\n",
      "0.006278210255277083 1.3567890147622046 496.7075962970323 0.0\n",
      "0.006278123302973755 1.356791656243657 496.70759198207423 0.0\n",
      "0.006278123302973755 1.356791656243657 496.70759198207423 0.0\n",
      "0.0062780362250537975 1.3567942960593644 496.7075876684866 0.0\n",
      "0.006277949015686024 1.3567969342078787 496.70758335627096 0.0\n",
      "0.006277949015686024 1.3567969342078787 496.70758335627096 0.0\n",
      "0.006277861680776496 1.356799570685885 496.70757904542955 0.0\n",
      "0.006277861680776496 1.356799570685885 496.70757904542955 0.0\n",
      "0.0062777742145727075 1.3568022054919677 496.7075747359639 0.0\n",
      "0.006277686623001284 1.356804838624318 496.7075704278759 0.0\n",
      "0.006277686623001284 1.356804838624318 496.7075704278759 0.0\n",
      "0.006277598900289886 1.3568074700815962 496.70756612116736 0.0\n",
      "0.006277598900289886 1.3568074700815962 496.70756612116736 0.0\n",
      "0.006277511052218823 1.3568100998602037 496.7075618158401 0.0\n",
      "0.006277423075977551 1.3568127279588873 496.70755751189625 0.0\n",
      "0.006277423075977551 1.3568127279588873 496.70755751189625 0.0\n",
      "0.006277334968770522 1.356815354375671 496.70755320933716 0.0\n",
      "0.006277334968770522 1.356815354375671 496.70755320933716 0.0\n",
      "0.006277246736446226 1.3568179791087451 496.70754890816494 0.0\n",
      "0.006277158373260353 1.3568206021559106 496.7075446083813 0.0\n",
      "0.006277158373260353 1.3568206021559106 496.7075446083813 0.0\n",
      "0.006277069885055469 1.3568232235150852 496.7075403099884 0.0\n",
      "0.006277069885055469 1.3568232235150852 496.7075403099884 0.0\n",
      "0.006276981266134035 1.356825843184468 496.7075360129876 0.0\n",
      "0.006276892522324523 1.356828461162048 496.7075317173811 0.0\n",
      "0.006276892522324523 1.356828461162048 496.7075317173811 0.0\n",
      "0.006276803647809993 1.3568310774456542 496.7075274231704 0.0\n",
      "0.006276714648605049 1.3568336920327122 496.7075231303577 0.0\n",
      "0.006276714648605049 1.3568336920327122 496.7075231303577 0.0\n",
      "0.006276625518804657 1.3568363049226484 496.70751883894434 0.0\n",
      "0.006276625518804657 1.3568363049226484 496.70751883894434 0.0\n",
      "0.006276536264487179 1.3568389161126175 496.7075145489327 0.0\n",
      "0.006276446879639816 1.356841525600817 496.70751026032417 0.0\n",
      "0.006276446879639816 1.356841525600817 496.70751026032417 0.0\n",
      "0.006276357370348199 1.3568441333851247 496.7075059731207 0.0\n",
      "0.006276357370348199 1.3568441333851247 496.7075059731207 0.0\n",
      "0.00627626773077009 1.3568467394631079 496.7075016873242 0.0\n",
      "0.006276177966792726 1.3568493438337008 496.70749740293655 0.0\n",
      "0.006276177966792726 1.3568493438337008 496.70749740293655 0.0\n",
      "0.006276088072516847 1.3568519464945117 496.70749311995934 0.0\n",
      "0.006276088072516847 1.3568519464945117 496.70749311995934 0.0\n",
      "0.0062759980541026075 1.3568545474428078 496.70748883839445 0.0\n",
      "0.006275907905574741 1.3568571466780002 496.70748455824383 0.0\n",
      "0.006275907905574741 1.3568571466780002 496.70748455824383 0.0\n",
      "0.00627581762996947 1.356859744196784 496.7074802795091 0.0\n",
      "0.00627581762996947 1.356859744196784 496.7074802795091 0.0\n",
      "0.0062757272302925 1.3568623399983666 496.70747600219255 0.0\n",
      "0.006275636700705546 1.3568649340802827 496.70747172629524 0.0\n",
      "0.006275636700705546 1.3568649340802827 496.70747172629524 0.0\n",
      "0.006275546047287971 1.356867526439789 496.70746745181964 0.0\n",
      "0.006275546047287971 1.356867526439789 496.70746745181964 0.0\n",
      "0.006275455263903273 1.3568701170760986 496.70746317876717 0.0\n",
      "0.006275364356859975 1.3568727059862866 496.70745890713965 0.0\n",
      "0.006275364356859975 1.3568727059862866 496.70745890713965 0.0\n",
      "0.006275273320047631 1.3568752931686336 496.70745463693936 0.0\n",
      "0.006275273320047631 1.3568752931686336 496.70745463693936 0.0\n",
      "0.006275182159579491 1.3568778786219855 496.70745036816754 0.0\n",
      "0.006275090869543626 1.356880462343018 496.70744610082625 0.0\n",
      "0.006275090869543626 1.356880462343018 496.70744610082625 0.0\n",
      "0.006274999456048508 1.356883044330497 496.7074418349174 0.0\n",
      "0.006274907912916404 1.3568856245828886 496.7074375704427 0.0\n",
      "0.006274907912916404 1.3568856245828886 496.7074375704427 0.0\n",
      "0.0062748162464970995 1.356888203097158 496.70743330740373 0.0\n",
      "0.0062748162464970995 1.356888203097158 496.70743330740373 0.0\n",
      "0.006274724450641399 1.3568907798719718 496.7074290458027 0.0\n",
      "0.006274632531609494 1.3568933549051307 496.70742478564136 0.0\n",
      "0.006274632531609494 1.3568933549051307 496.70742478564136 0.0\n",
      "0.0062745404832454665 1.356895928195395 496.7074205269211 0.0\n",
      "0.0062745404832454665 1.356895928195395 496.7074205269211 0.0\n",
      "0.006274448308716447 1.356898499739539 496.7074162696442 0.0\n",
      "0.006274356011153244 1.3569010695363204 496.70741201381236 0.0\n",
      "0.006274356011153244 1.3569010695363204 496.70741201381236 0.0\n",
      "0.006274263584389755 1.356903637583549 496.70740775942727 0.0\n",
      "0.006274263584389755 1.356903637583549 496.70740775942727 0.0\n",
      "0.006274171034798952 1.3569062038794069 496.7074035064906 0.0\n",
      "0.006274078356223343 1.3569087684222005 496.7073992550043 0.0\n",
      "0.006274078356223343 1.3569087684222005 496.7073992550043 0.0\n",
      "0.006273985554771913 1.3569113312092411 496.7073950049705 0.0\n",
      "0.006273985554771913 1.3569113312092411 496.7073950049705 0.0\n",
      "0.006273892624479047 1.3569138922393813 496.7073907563905 0.0\n",
      "0.006273799568484441 1.3569164515101673 496.7073865092662 0.0\n",
      "0.006273799568484441 1.3569164515101673 496.7073865092662 0.0\n",
      "0.006273706389837545 1.3569190090195835 496.7073822635998 0.0\n",
      "0.006273706389837545 1.3569190090195835 496.7073822635998 0.0\n",
      "0.006273613082519579 1.3569215647659079 496.7073780193926 0.0\n",
      "0.006273519652669179 1.356924118747067 496.70737377664653 0.0\n",
      "0.006273519652669179 1.356924118747067 496.70737377664653 0.0\n",
      "0.006273426094289111 1.3569266709605676 496.7073695353635 0.0\n",
      "0.006273426094289111 1.3569266709605676 496.7073695353635 0.0\n",
      "0.00627333241357616 1.3569292214056468 496.70736529554523 0.0\n",
      "0.006273238604354486 1.3569317700796375 496.7073610571937 0.0\n",
      "0.006273238604354486 1.3569317700796375 496.7073610571937 0.0\n",
      "0.006273144669704035 1.356934316980629 496.7073568203104 0.0\n",
      "0.006273050613026795 1.3569368621060611 496.7073525848973 0.0\n"
     ]
    }
   ],
   "source": [
    "start = norm_date('2015-10-12')\n",
    "end = norm_date('2015-10-13')\n",
    "\n",
    "\n",
    "start = tgtime -datetime.timedelta(minutes=0.5)\n",
    "end = tgtime +datetime.timedelta(minutes=0.5)\n",
    "print(datetime.datetime.utcfromtimestamp(tgtime.timestamp()))\n",
    "print(start, end)\n",
    "tl = pd.date_range(start, end, 100)\n",
    "\n",
    "res = []\n",
    "for t_utc in tl.to_pydatetime():\n",
    "    res.append(get_data_at_time(t_utc))\n",
    "rdf= Z.pd.DataFrame(res)\n",
    "rdf = rdf.set_index('t')\n",
    "\n",
    "Z.FileFormatHelper.Write('/tmp/res2.pickle', res)"
   ]
  },
  {
   "cell_type": "code",
   "execution_count": 3,
   "id": "9096d128",
   "metadata": {},
   "outputs": [],
   "source": [
    "import meshio\n",
    "if 0: m1 = meshio.Mesh.read('t1.small.stl')\n",
    "else: m1 = meshio.Mesh.read('t1.stl')"
   ]
  },
  {
   "cell_type": "code",
   "execution_count": 4,
   "id": "4c0c9433",
   "metadata": {},
   "outputs": [],
   "source": [
    "#dx = Z.FileFormatHelper.Read('/tmp/res2.pickle')\n",
    "#dfx = InterpolatedDF(rdf, kind='cubic')\n",
    "\n",
    "#t0_utc = rdf.index[0]\n",
    "#t1_utc = rdf.index[-1]\n",
    "\n",
    "\n",
    "earth = EarthActor()\n",
    "if 0: moon = MoonActor()\n",
    "else:\n",
    "    rimg = np.array([[255,0,0]], dtype=np.uint8)\n",
    "    trx = opa_vtk.TriangleActor(tex=opa_vtk.numpy2tex(rimg))\n",
    "    trx.add_points(m1.points)\n",
    "    for x in m1.points:\n",
    "        trx.tex_coords.InsertNextTuple2(0, 0)\n",
    "    triangles = m1.cells_dict['triangle']\n",
    "    for x in triangles:\n",
    "        trx.push_triangle(x)\n",
    "\n",
    "    moon = Actor(ActorType.Moon)\n",
    "    moon.actor = trx.build()\n",
    "    moon.pts = m1.points\n",
    "    moon.setup_internal = lambda *args: None\n",
    "\n",
    "    \n",
    "cam = CamActor()\n",
    "light = Actor(ActorType.Light)\n",
    "actors = [earth, \n",
    "          moon, \n",
    "          cam, light]\n",
    "\n",
    "def setup_light(lx):\n",
    "    lx.actor = opa_vtk.vtk.vtkLight()\n",
    "    lx.actor.SetPositional(False)\n",
    "    lx.actor.SetColor(opa_vtk.Color('white').rgb)\n",
    "    \n",
    "light.setup_f = setup_light\n",
    "\n",
    "def pos_rot_func(poskey, rotkey):\n",
    "    def f(actor, t, data=None, **kwargs):\n",
    "      actor.set_pos_and_rot(data[poskey], data[rotkey])\n",
    "    return f\n",
    "\n",
    "\n",
    "        \n",
    "def state_cb(data, tdesc):\n",
    "    from_box=Z.opa_struct.g_one_box\n",
    "    proj_moon = MatHelper.mat_apply_nd(cam.proj_mat, moon.get_pts_world().T, n=3, point=True).T\n",
    "    proj_earth = MatHelper.mat_apply_nd(cam.proj_mat, earth.get_pts_world().T, n=3, point=True).T\n",
    "    proj_moon = proj_moon[np.abs(proj_moon[:,2]) < 1]\n",
    "    proj_earth = proj_earth[np.abs(proj_earth[:,2]) <= 1.01]\n",
    "    \n",
    "    \n",
    "\n",
    "    target_box = Z.g_unit_box\n",
    "    proj_moon = from_box.change_rect_space(target_box, proj_moon[:,:2])\n",
    "    proj_earth = from_box.change_rect_space(target_box, proj_earth[:,:2])\n",
    "    #pts = list(Z.shapely.geometry.MultiPoint(proj_moon).convex_hull.exterior.coords)\n",
    "    #print(pts)\n",
    "\n",
    "    moon_hull = None\n",
    "    earth_hull = None\n",
    "    view_box = Z.g_unit_box.shapely\n",
    "    hulls = []\n",
    "    if len(proj_moon) > 0:\n",
    "        moon_hull = Z.geometry.MultiPoint(proj_moon).convex_hull\n",
    "        moon_hull =moon_hull.intersection(view_box)\n",
    "        if moon_hull.intersects(view_box): hulls.append(moon_hull)\n",
    "    if len(proj_earth) > 0:\n",
    "        earth_hull = Z.geometry.MultiPoint(proj_earth).convex_hull\n",
    "        if earth_hull.intersects(view_box): hulls.append(earth_hull)\n",
    "    \n",
    "    tstr = str(datetime.datetime.utcfromtimestamp(tdesc.t))\n",
    "    res =  A(label=f'{tdesc.idx} > {tstr}', overlay=[A(lines=hulls, color='r' )])\n",
    "    res.want = moon_hull and earth_hull and not moon_hull.contains(earth_hull) and moon_hull.intersects(view_box)\n",
    "    res.want = True\n",
    "    return res\n",
    "\n",
    "def func_cam(self, t, first=None, data=None, **kwargs):\n",
    "    \n",
    "    m = MatHelper.mat_apply_nd(MatHelper.mat_translate(data.sat_pos), MatHelper.mat_rot(data.sat_rot))\n",
    "    setup_camera(self.cam, m, view_angle=10)\n",
    "    return\n",
    "    assert 0\n",
    "    if not first: \n",
    "        self.set_pos(data.sat_pos)\n",
    "        return\n",
    "    \n",
    "    \n",
    "def func_light(actor, t, data=None, **kwargs):\n",
    "    actor.actor.SetPosition(data.sun_pos)\n",
    "\n",
    "    \n",
    "    \n",
    "\n",
    "    \n",
    "    \n",
    "\n",
    "earth.runt = pos_rot_func('earth_pos', 'earth_rot')\n",
    "moon.runt = pos_rot_func('moon_pos', 'moon_rot')\n",
    "cam.runt = pos_rot_func('sat_pos', 'sat_rot')\n",
    "cam.runt = func_cam\n",
    "light.runt = func_light"
   ]
  },
  {
   "cell_type": "code",
   "execution_count": 7,
   "id": "899d43ff",
   "metadata": {},
   "outputs": [
    {
     "name": "stdout",
     "output_type": "stream",
     "text": [
      "8 False\n",
      "0.006274356011153244 1.3569010695363204 496.70741201381236 0.0\n"
     ]
    }
   ],
   "source": [
    "ctx.nframes= 1\n",
    "ctx.width=2000\n",
    "ctx.height=2000\n",
    "ren = Renderer(ctx.width, ctx.height, offscreen=ctx.offscreen, actors=actors, dataf=get_data_at_time, state_cb=state_cb)\n",
    "\n",
    "tgtime = norm_date('2015-10-12 12:18:31')\n",
    "nstart = tgtime + datetime.timedelta(seconds=0)\n",
    "nend = tgtime + datetime.timedelta(seconds=0)\n",
    "tl = np.linspace(nstart.timestamp(), nend.timestamp(), ctx.nframes, endpoint=False)\n",
    "ren.process(tl, outfile=ctx.outfile, no_render=ctx.no_render)"
   ]
  },
  {
   "cell_type": "code",
   "execution_count": 8,
   "id": "16b8933a",
   "metadata": {},
   "outputs": [
    {
     "name": "stdout",
     "output_type": "stream",
     "text": [
      "1\n"
     ]
    }
   ],
   "source": [
    "print(1)"
   ]
  },
  {
   "cell_type": "code",
   "execution_count": 6,
   "id": "b6ae7a95",
   "metadata": {},
   "outputs": [
    {
     "name": "stdout",
     "output_type": "stream",
     "text": [
      "QAPP\n"
     ]
    }
   ],
   "source": [
    "img= K.ImageData(cv2.imread('/home/benoit/data/moon/earth_moon_lro.jpg')[::-1,:,::-1])\n",
    "oplt.plot(A(images=[img]))"
   ]
  },
  {
   "cell_type": "code",
   "execution_count": 8,
   "id": "3d405d8a",
   "metadata": {},
   "outputs": [
    {
     "data": {
      "text/plain": [
       "<function print>"
      ]
     },
     "execution_count": 8,
     "metadata": {},
     "output_type": "execute_result"
    },
    {
     "name": "stdout",
     "output_type": "stream",
     "text": [
      "CLOSING  <PyQt5.QtGui.QCloseEvent object at 0x7ff980352af0>\n"
     ]
    }
   ],
   "source": [
    "print"
   ]
  }
 ],
 "metadata": {
  "kernelspec": {
   "display_name": "env3",
   "language": "python",
   "name": "env3"
  },
  "language_info": {
   "codemirror_mode": {
    "name": "ipython",
    "version": 3
   },
   "file_extension": ".py",
   "mimetype": "text/x-python",
   "name": "python",
   "nbconvert_exporter": "python",
   "pygments_lexer": "ipython3",
   "version": "3.9.7"
  }
 },
 "nbformat": 4,
 "nbformat_minor": 5
}
