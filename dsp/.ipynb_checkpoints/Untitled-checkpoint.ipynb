{
 "cells": [
  {
   "cell_type": "code",
   "execution_count": 2,
   "metadata": {
    "ExecuteTime": {
     "end_time": "2019-09-01T22:22:06.177106Z",
     "start_time": "2019-09-01T22:22:06.163883Z"
    },
    "init_cell": true
   },
   "outputs": [
    {
     "data": {
      "text/html": [
       "<style>.container { width:90% !important; }</style>"
      ],
      "text/plain": [
       "<IPython.core.display.HTML object>"
      ]
     },
     "metadata": {},
     "output_type": "display_data"
    }
   ],
   "source": [
    "from chdrft.config.env import g_env\n",
    "import chdrft.utils.K as K\n",
    "g_env.set_qt5(1, 1)\n",
    "%gui qt5\n",
    "init_jupyter()\n",
    "import chdrft.dsp.gps as opa_gps\n",
    "import chdrft.dsp.base as opa_dsp_base"
   ]
  },
  {
   "cell_type": "code",
   "execution_count": 17,
   "metadata": {
    "ExecuteTime": {
     "end_time": "2019-09-01T22:35:50.239368Z",
     "start_time": "2019-09-01T22:35:34.454467Z"
    }
   },
   "outputs": [
    {
     "name": "stdout",
     "output_type": "stream",
     "text": [
      "<gr_block freq_xlating_fir_filter<IN_T,OUT_T,TAP_T> (20)>\n",
      "<gr_block mmse_resampler_cc (21)>\n",
      "START >>  409200 29\n",
      "TRACK BEST  {'snr': 0.034798238647894664, 'noise_db': 27.431877609363234, 'signal_db': 27.46667584801113, 'data': [1, 1, 1, 1, 1], 'phase': 2428, 'doppler': 1468.0344827586207, 'doppler_phase': 5.4730470619244205j, 'qmax': 7407.010649134297, 'correl_max': 10360.045069289627, 'typ2_sig': None, 'prob_detection': 0.9999997623996486, 'b0_phase': <chdrft.dsp.base.SimpleIIR object at 0x7fd242e9c630>}\n",
      "Start tracking at  0 22868\n"
     ]
    }
   ],
   "source": [
    "oconf=cmisc.Attr(\n",
    "  nsyms=400,\n",
    "  PROB_THRESH=1e-3,\n",
    "  ignore_on_lost_track=1,\n",
    "  jitter=20)\n",
    "\n",
    "fil = '/home/benoit/programmation/dsp/data/gps_4msps_c64.dat'\n",
    "ds = Z.DataFile(fil, typ='complex64').to_ds()\n",
    "#ds = ds[:2000000]\n",
    "\n",
    "ds = ds[1000:]\n",
    "\n",
    "orig_center_freq = 1575.42e6\n",
    "orig_sample_rate = 4e6\n",
    "samples_per_chip = 4\n",
    "doppler_step = 20\n",
    "sat_num = 29\n",
    "\n",
    "doppler =1437\n",
    "conf = cmisc.Attr(\n",
    "  iir_b0_alpha=0.1,\n",
    "#acq_doppler = (625,),\n",
    "acq_doppler = np.linspace(doppler-100,doppler+100,30),\n",
    "track_doppler = np.linspace(-1, 1, 4),\n",
    ")\n",
    "conf.update(oconf)\n",
    "nsyms = 100\n",
    "tmp = opa_gps.proc_ds(ds, orig_center_freq, orig_sample_rate, samples_per_chip, sat_num, nsyms, conf)\n",
    "\n"
   ]
  },
  {
   "cell_type": "code",
   "execution_count": 21,
   "metadata": {
    "ExecuteTime": {
     "end_time": "2019-09-01T19:44:05.333694Z",
     "start_time": "2019-09-01T19:42:18.898470Z"
    }
   },
   "outputs": [
    {
     "name": "stdout",
     "output_type": "stream",
     "text": [
      "<gr_block freq_xlating_fir_filter<IN_T,OUT_T,TAP_T> (25)>\n",
      "<gr_block mmse_resampler_cc (26)>\n",
      "START >>  1636800 1\n",
      "TRACK BEST  {'snr': 0.013654321159744853, 'noise_db': 27.456263946310525, 'signal_db': 27.46991826747027, 'data': [1, 1, 1, 1, 1], 'phase': 2593, 'doppler': 5062, 'doppler_phase': 20.154354857448038j, 'qmax': 3381.3566051019307, 'correl_max': 8165.641039062385, 'typ2_sig': None, 'prob_detection': 0.9936751543458759, 'b0_phase': <chdrft.dsp.base.SimpleIIR object at 0x7f110630e588>}\n",
      "TRACK BEST  {'snr': 0.01312653325066293, 'noise_db': 27.50586034110539, 'signal_db': 27.518986874356052, 'data': [1, 1, 1, 1, 1], 'phase': 20, 'doppler': 5062, 'doppler_phase': 0.15545202358232194j, 'qmax': 3381.3566051019425, 'correl_max': 8382.372285996302, 'typ2_sig': None, 'prob_detection': 0.9934662506979307, 'b0_phase': <chdrft.dsp.base.SimpleIIR object at 0x7f110630e400>}\n",
      "TRACK BEST  {'snr': 0.011925998420295514, 'noise_db': 27.451673269355602, 'signal_db': 27.463599267775898, 'data': [1, 1, 1, 1, 1], 'phase': 19, 'doppler': 5062, 'doppler_phase': 0.1476794224032058j, 'qmax': 3530.9838719067056, 'correl_max': 8382.372285996256, 'typ2_sig': None, 'prob_detection': 0.9951464438773803, 'b0_phase': <chdrft.dsp.base.SimpleIIR object at 0x7f110630ea90>}\n",
      "TRACK BEST  {'snr': 0.016575655521798183, 'noise_db': 27.504916363418317, 'signal_db': 27.521492018940116, 'data': [1, 1, 1, 1, 1], 'phase': 20, 'doppler': 5062, 'doppler_phase': 0.15545202358232194j, 'qmax': 4294.18868703482, 'correl_max': 8887.586644551755, 'typ2_sig': None, 'prob_detection': 0.9988136652253626, 'b0_phase': <chdrft.dsp.base.SimpleIIR object at 0x7f110630ec88>}\n",
      "TRACK BEST  {'snr': 0.019743606503098476, 'noise_db': 27.555953133430226, 'signal_db': 27.575696739933324, 'data': [1, 1, 1, 1, 1], 'phase': 20, 'doppler': 5062, 'doppler_phase': 0.15545202358232194j, 'qmax': 3706.0081228878225, 'correl_max': 10559.257648897235, 'typ2_sig': None, 'prob_detection': 0.9961399528745796, 'b0_phase': <chdrft.dsp.base.SimpleIIR object at 0x7f110630ee80>}\n",
      "TRACK BEST  {'snr': 0.011023144922166495, 'noise_db': 27.36359361278149, 'signal_db': 27.374616757703656, 'data': [1, 1, 1, 1, 1], 'phase': 20, 'doppler': 5062, 'doppler_phase': 0.15545202358232194j, 'qmax': 3706.0081228878144, 'correl_max': 10559.257648897255, 'typ2_sig': None, 'prob_detection': 0.9967025887626287, 'b0_phase': <chdrft.dsp.base.SimpleIIR object at 0x7f110630ecf8>}\n",
      "TRACK BEST  {'snr': 0.022369573518790986, 'noise_db': 27.46892406772835, 'signal_db': 27.49129364124714, 'data': [1, 1, 1, 1, 1], 'phase': 19, 'doppler': 5062, 'doppler_phase': 0.1476794224032058j, 'qmax': 5133.544378680041, 'correl_max': 10559.257648897215, 'typ2_sig': None, 'prob_detection': 0.9998236958935824, 'b0_phase': <chdrft.dsp.base.SimpleIIR object at 0x7f110630ef28>}\n",
      "Start tracking at  125332 145791\n",
      "LOST ACQUISITION >> srn= {'snr': 0.2781232649065082, 'ang_at': 2.0079145208880362, 'noise_db': 27.46892406772835, 'signal_db': 27.747047332634857, 'prob_detection': 0.9977765071272904, 'p': 0.0022234928727096204, 'phase': 19, 'nb0_phase': 2.0079145208880362, 'doppler': 5054.333333333334, 'doppler_phase': 858.4370561190251j, 'ts': 235834}\n",
      "LOST ACQUISITION >> srn= {'snr': -0.06000416911195927, 'ang_at': -2.3111703592841244, 'noise_db': 27.46892406772835, 'signal_db': 27.40891989861639, 'prob_detection': 0.9981628406551961, 'p': 0.0018371593448038848, 'phase': 19, 'nb0_phase': 3.9720149478954623, 'doppler': 5029.666666666669, 'doppler_phase': 2125.1136301642164j, 'ts': 399514}\n",
      "LOST ACQUISITION >> srn= {'snr': -0.03243018474913484, 'ang_at': -0.7007753305847995, 'noise_db': 27.46892406772835, 'signal_db': 27.436493882979214, 'prob_detection': 0.9956775662242155, 'p': 0.9956775662242155, 'phase': 19, 'nb0_phase': 2.4408173230049934, 'doppler': 5018.666666666669, 'doppler_phase': 2661.656023920512j, 'ts': 469078}\n",
      "LOST ACQUISITION >> srn= {'snr': -0.03195903821071511, 'ang_at': -2.042995423230222, 'noise_db': 27.46892406772835, 'signal_db': 27.436965029517633, 'prob_detection': 0.9981844454097429, 'p': 0.0018155545902570625, 'phase': 20, 'nb0_phase': 4.240189883949364, 'doppler': 5016.666666666669, 'doppler_phase': 2787.741908319878j, 'ts': 485447}\n",
      "LOST ACQUISITION >> srn= {'snr': -0.0856946810520185, 'ang_at': -1.1971363372794672, 'noise_db': 27.46892406772835, 'signal_db': 27.38322938667633, 'prob_detection': 0.9982168866044827, 'p': 0.9982168866044827, 'phase': 19, 'nb0_phase': 1.944456316310326, 'doppler': 5016.000000000002, 'doppler_phase': 2850.7383894454115j, 'ts': 493630}\n",
      "LOST ACQUISITION >> srn= {'snr': 0.013416939024807562, 'ang_at': -0.3199785822585698, 'noise_db': 27.46892406772835, 'signal_db': 27.482341006753156, 'prob_detection': 0.9973741830247221, 'p': 0.9973741830247221, 'phase': 21, 'nb0_phase': 2.8216140713312234, 'doppler': 5011.666666666669, 'doppler_phase': 3008.215707934724j, 'ts': 514092}\n",
      "LOST ACQUISITION >> srn= {'snr': 0.033886314143817486, 'ang_at': -2.0812625173867323, 'noise_db': 27.46892406772835, 'signal_db': 27.502810381872166, 'prob_detection': 0.998923487210363, 'p': 0.0010765127896370519, 'phase': 0, 'nb0_phase': 4.201922789792855, 'doppler': 5012.666666666669, 'doppler_phase': 3039.5510319924388j, 'ts': 518163}\n",
      "LOST ACQUISITION >> srn= {'snr': 0.010725041763159027, 'ang_at': -1.2626492986945639, 'noise_db': 27.46892406772835, 'signal_db': 27.479649109491508, 'prob_detection': 0.9977488031968686, 'p': 0.9977488031968686, 'phase': 29, 'nb0_phase': 1.8789433548952292, 'doppler': 5010.666666666669, 'doppler_phase': 3291.333178811954j, 'ts': 550928}\n",
      "LOST ACQUISITION >> srn= {'snr': -0.03941979226203429, 'ang_at': 1.321615597667172, 'noise_db': 27.46892406772835, 'signal_db': 27.429504275466314, 'prob_detection': 0.998920375224253, 'p': 0.001079624775746968, 'phase': 14, 'nb0_phase': 1.321615597667172, 'doppler': 5003.666666666669, 'doppler_phase': 3574.224744200245j, 'ts': 587741}\n",
      "LOST ACQUISITION >> srn= {'snr': -0.040813824721507075, 'ang_at': -0.08471437478632776, 'noise_db': 27.46892406772835, 'signal_db': 27.42811024300684, 'prob_detection': 0.9984884187910663, 'p': 0.9984884187910663, 'phase': 17, 'nb0_phase': 3.0568782788034654, 'doppler': 4995.000000000002, 'doppler_phase': 4139.468322049289j, 'ts': 661400}\n",
      "LOST ACQUISITION >> srn= {'snr': 0.03875899900523194, 'ang_at': -2.5884944075244647, 'noise_db': 27.46892406772835, 'signal_db': 27.50768306673358, 'prob_detection': 0.994963646844951, 'p': 0.005036353155049023, 'phase': 35, 'nb0_phase': 3.694690899655121, 'doppler': 4963.333333333336, 'doppler_phase': 5795.971134622987j, 'ts': 878294}\n",
      "LOST ACQUISITION >> srn= {'snr': -0.00039236010734100546, 'ang_at': -2.3338125605406264, 'noise_db': 27.46892406772835, 'signal_db': 27.468531707621008, 'prob_detection': 0.9972996070507631, 'p': 0.0027003929492368517, 'phase': 24, 'nb0_phase': 3.94937274663896, 'doppler': 4960.000000000003, 'doppler_phase': 5920.68803956986j, 'ts': 894651}\n",
      "LOST ACQUISITION >> srn= {'snr': -0.03594704871282772, 'ang_at': 2.7509223349807455, 'noise_db': 27.46892406772835, 'signal_db': 27.43297701901552, 'prob_detection': 0.9985342578422731, 'p': 0.0014657421577268792, 'phase': 15, 'nb0_phase': 2.7509223349807455, 'doppler': 4958.333333333336, 'doppler_phase': 6138.518322553496j, 'ts': 923286}\n",
      "LOST ACQUISITION >> srn= {'snr': 0.05355757318603693, 'ang_at': -2.5371048418376554, 'noise_db': 27.46892406772835, 'signal_db': 27.522481640914386, 'prob_detection': 0.9989131904467634, 'p': 0.0010868095532365896, 'phase': 17, 'nb0_phase': 3.746080465341931, 'doppler': 4952.66666666667, 'doppler_phase': 6480.58019174362j, 'ts': 968300}\n",
      "LOST ACQUISITION >> srn= {'snr': -0.031738032694562435, 'ang_at': -2.8119089883306163, 'noise_db': 27.46892406772835, 'signal_db': 27.437186035033786, 'prob_detection': 0.9948655099281836, 'p': 0.005134490071816433, 'phase': 29, 'nb0_phase': 3.47127631884897, 'doppler': 4943.000000000003, 'doppler_phase': 6946.471098976191j, 'ts': 1029692}\n",
      "LOST ACQUISITION >> srn= {'snr': 0.010808672796247976, 'ang_at': 2.6528290945449906, 'noise_db': 27.46892406772835, 'signal_db': 27.479732740524597, 'prob_detection': 0.9981214313597757, 'p': 0.0018785686402242874, 'phase': 32, 'nb0_phase': 2.6528290945449906, 'doppler': 4941.66666666667, 'doppler_phase': 7070.731746194293j, 'ts': 1046063}\n",
      "LOST ACQUISITION >> srn= {'snr': -0.05286033372442134, 'ang_at': -2.979492019273765, 'noise_db': 27.46892406772835, 'signal_db': 27.416063734003927, 'prob_detection': 0.9988476402290378, 'p': 0.0011523597709621747, 'phase': 14, 'nb0_phase': 3.3036932879058214, 'doppler': 4933.66666666667, 'doppler_phase': 7442.520652316986j, 'ts': 1095149}\n",
      "LOST ACQUISITION >> srn= {'snr': -0.07542113797553185, 'ang_at': -2.5611044442831608, 'noise_db': 27.46892406772835, 'signal_db': 27.393502929752817, 'prob_detection': 0.9988889701641479, 'p': 0.0011110298358520954, 'phase': 15, 'nb0_phase': 3.722080862896425, 'doppler': 4928.666666666671, 'doppler_phase': 7720.965722726773j, 'ts': 1131978}\n"
     ]
    },
    {
     "name": "stdout",
     "output_type": "stream",
     "text": [
      "LOST ACQUISITION >> srn= {'snr': -0.032117273029175664, 'ang_at': -0.9664267840172678, 'noise_db': 27.46892406772835, 'signal_db': 27.436806794699173, 'prob_detection': 0.996478945029327, 'p': 0.996478945029327, 'phase': 36, 'nb0_phase': 2.1751658695725253, 'doppler': 4928.666666666671, 'doppler_phase': 7782.982329434002j, 'ts': 1140183}\n",
      "LOST ACQUISITION >> srn= {'snr': 0.13165005261692642, 'ang_at': 1.9375037037615843, 'noise_db': 27.46892406772835, 'signal_db': 27.600574120345275, 'prob_detection': 0.9969189550083515, 'p': 0.0030810449916485183, 'phase': 13, 'nb0_phase': 1.9375037037615843, 'doppler': 4926.0000000000055, 'doppler_phase': 8030.29470237031j, 'ts': 1172896}\n",
      "LOST ACQUISITION >> srn= {'snr': -0.07493605043700313, 'ang_at': -0.3148657592370098, 'noise_db': 27.46892406772835, 'signal_db': 27.393988017291345, 'prob_detection': 0.9914764147834058, 'p': 0.9914764147834058, 'phase': 12, 'nb0_phase': 2.8267268943527832, 'doppler': 4923.0000000000055, 'doppler_phase': 8122.962339182743j, 'ts': 1185171}\n",
      "LOST ACQUISITION >> srn= {'snr': 0.32749352523888575, 'ang_at': 1.2971490437728486, 'noise_db': 27.46892406772835, 'signal_db': 27.796417592967234, 'prob_detection': 0.9981097654884066, 'p': 0.9981097654884066, 'phase': 14, 'nb0_phase': 4.438741697362642, 'doppler': 4920.666666666672, 'doppler_phase': 8339.117219710002j, 'ts': 1213817}\n",
      "LOST ACQUISITION >> srn= {'snr': -0.22040028355850083, 'ang_at': -0.3858600874680601, 'noise_db': 27.46892406772835, 'signal_db': 27.248523784169848, 'prob_detection': 0.9985571158300579, 'p': 0.9985571158300579, 'phase': 14, 'nb0_phase': 2.755732566121733, 'doppler': 4912.666666666672, 'doppler_phase': 8647.691747259712j, 'ts': 1254737}\n",
      "LOST ACQUISITION >> srn= {'snr': 0.09883473627663264, 'ang_at': 0.7865827512486487, 'noise_db': 27.46892406772835, 'signal_db': 27.56775880400498, 'prob_detection': 0.9988776970500358, 'p': 0.9988776970500358, 'phase': 39, 'nb0_phase': 3.928175404838442, 'doppler': 4906.000000000007, 'doppler_phase': 9017.938666760287j, 'ts': 1303866}\n",
      "LOST ACQUISITION >> srn= {'snr': 0.11507212991391214, 'ang_at': -1.6785914286117876, 'noise_db': 27.46892406772835, 'signal_db': 27.58399619764226, 'prob_detection': 0.9989627877418203, 'p': 0.001037212258179654, 'phase': 38, 'nb0_phase': 4.6045938785677984, 'doppler': 4901.000000000007, 'doppler_phase': 9171.91180018799j, 'ts': 1324325}\n",
      "LOST ACQUISITION >> srn= {'snr': -0.117330145008534, 'ang_at': -0.5500276118688157, 'noise_db': 27.46892406772835, 'signal_db': 27.351593922719815, 'prob_detection': 0.9983427418011019, 'p': 0.9983427418011019, 'phase': 25, 'nb0_phase': 2.5915650417209775, 'doppler': 4885.666666666675, 'doppler_phase': 9970.233601050375j, 'ts': 1430704}\n",
      "LOST ACQUISITION >> srn= {'snr': 0.07491089046775912, 'ang_at': -1.1767490645150025, 'noise_db': 27.46892406772835, 'signal_db': 27.543834958196108, 'prob_detection': 0.9981875326977873, 'p': 0.001812467302212739, 'phase': 12, 'nb0_phase': 5.106436242664584, 'doppler': 4864.00000000001, 'doppler_phase': 10979.158945421457j, 'ts': 1565727}\n",
      "LOST ACQUISITION >> srn= {'snr': 0.0026603736632324626, 'ang_at': 2.7083918565543685, 'noise_db': 27.46892406772835, 'signal_db': 27.47158444139158, 'prob_detection': 0.9962801201943421, 'p': 0.0037198798056579108, 'phase': 1, 'nb0_phase': 2.7083918565543685, 'doppler': 4859.666666666677, 'doppler_phase': 11192.734176596114j, 'ts': 1594360}\n",
      "LOST ACQUISITION >> srn= {'snr': 0.02409431437387255, 'ang_at': -0.8894790694655961, 'noise_db': 27.46892406772835, 'signal_db': 27.49301838210222, 'prob_detection': 0.9982846688824625, 'p': 0.9982846688824625, 'phase': 38, 'nb0_phase': 2.252113584124197, 'doppler': 4854.666666666677, 'doppler_phase': 11406.145992234628j, 'ts': 1623041}\n",
      "<gr_block freq_xlating_fir_filter<IN_T,OUT_T,TAP_T> (30)>\n",
      "<gr_block mmse_resampler_cc (31)>\n",
      "START >>  1636800 4\n",
      "TRACK BEST  {'snr': 0.03156968768823276, 'noise_db': 27.429534098503517, 'signal_db': 27.46110378619175, 'data': [1, 1, 1, 1, 1], 'phase': 1044, 'doppler': 3874, 'doppler_phase': 6.210182432730772j, 'qmax': 6064.634860553415, 'correl_max': 9842.513693971478, 'typ2_sig': None, 'prob_detection': 0.999985194442757, 'b0_phase': <chdrft.dsp.base.SimpleIIR object at 0x7f10f1c67828>}\n",
      "Start tracking at  0 21484\n",
      "LOST ACQUISITION >> srn= {'snr': 0.02570163645092194, 'ang_at': -1.1017145278948464, 'noise_db': 27.429534098503517, 'signal_db': 27.45523573495444, 'prob_detection': 0.9962473504866654, 'p': 0.9962473504866654, 'phase': 9, 'nb0_phase': 2.0398781256949468, 'doppler': 3735.6666666666633, 'doppler_phase': 5479.559263903624j, 'ts': 938101}\n",
      "LOST ACQUISITION >> srn= {'snr': 0.015092011825565521, 'ang_at': -0.18574093866233338, 'noise_db': 27.429534098503517, 'signal_db': 27.444626110329082, 'prob_detection': 0.9988573613523254, 'p': 0.0011426386476746098, 'phase': 13, 'nb0_phase': -0.18574093866233338, 'doppler': 3723.999999999997, 'doppler_phase': 5783.76068577848j, 'ts': 991301}\n",
      "<gr_block freq_xlating_fir_filter<IN_T,OUT_T,TAP_T> (35)>\n",
      "<gr_block mmse_resampler_cc (36)>\n",
      "START >>  1636800 5\n",
      "TRACK BEST  {'snr': 0.015638962971728176, 'noise_db': 27.45203952874695, 'signal_db': 27.46767849171868, 'data': [1, 1, 1, 1, 1], 'phase': 2071, 'doppler': 750, 'doppler_phase': 2.3849847454488495j, 'qmax': 4542.666589809216, 'correl_max': 7584.207203609786, 'typ2_sig': None, 'prob_detection': 0.9993377777190535, 'b0_phase': <chdrft.dsp.base.SimpleIIR object at 0x7f10f1c67160>}\n",
      "Start tracking at  0 22511\n",
      "LOST ACQUISITION >> srn= {'snr': 0.08597449701946758, 'ang_at': 2.337102122455652, 'noise_db': 27.45203952874695, 'signal_db': 27.53801402576642, 'prob_detection': 0.9984501293117609, 'p': 0.9984501293117609, 'phase': 16, 'nb0_phase': -0.8044905311341406, 'doppler': 736.6666666666666, 'doppler_phase': 151.97912853786985j, 'ts': 133011}\n",
      "LOST ACQUISITION >> srn= {'snr': -0.0015941575750382242, 'ang_at': 3.046358763632334, 'noise_db': 27.45203952874695, 'signal_db': 27.450445371171913, 'prob_detection': 0.9956276258851778, 'p': 0.004372374114822164, 'phase': 21, 'nb0_phase': -3.2368265435472523, 'doppler': 734.6666666666666, 'doppler_phase': 161.21419432721504j, 'ts': 141200}\n",
      "LOST ACQUISITION >> srn= {'snr': 0.005375011668647289, 'ang_at': 2.4284488374693662, 'noise_db': 27.45203952874695, 'signal_db': 27.4574145404156, 'prob_detection': 0.9972808756529983, 'p': 0.9972808756529983, 'phase': 23, 'nb0_phase': -0.7131438161204267, 'doppler': 732.6666666666666, 'doppler_phase': 188.89511063375076j, 'ts': 165754}\n",
      "LOST ACQUISITION >> srn= {'snr': -0.1080203113311562, 'ang_at': 2.6256556068520203, 'noise_db': 27.45203952874695, 'signal_db': 27.344019217415795, 'prob_detection': 0.9985238529168061, 'p': 0.9985238529168061, 'phase': 23, 'nb0_phase': -0.5159370467377731, 'doppler': 727.9999999999999, 'doppler_phase': 216.43916958289915j, 'ts': 190306}\n",
      "LOST ACQUISITION >> srn= {'snr': 0.07692854591494935, 'ang_at': -0.7987610834857654, 'noise_db': 27.45203952874695, 'signal_db': 27.5289680746619, 'prob_detection': 0.9954162541997067, 'p': 0.004583745800293304, 'phase': 17, 'nb0_phase': -0.7987610834857652, 'doppler': 715.6666666666665, 'doppler_phase': 320.5581409160548j, 'ts': 284416}\n",
      "LOST ACQUISITION >> srn= {'snr': -0.01937986897895172, 'ang_at': -1.2415902184498806, 'noise_db': 27.45203952874695, 'signal_db': 27.432659659768, 'prob_detection': 0.9987318073397073, 'p': 0.0012681926602926552, 'phase': 18, 'nb0_phase': -1.2415902184498806, 'doppler': 711.6666666666665, 'doppler_phase': 338.50916346348663j, 'ts': 300785}\n",
      "LOST ACQUISITION >> srn= {'snr': -0.08154432162593395, 'ang_at': -2.630729618979775, 'noise_db': 27.45203952874695, 'signal_db': 27.370495207121017, 'prob_detection': 0.9982089066557379, 'p': 0.0017910933442620847, 'phase': 18, 'nb0_phase': -2.630729618979775, 'doppler': 708.3333333333331, 'doppler_phase': 356.3518778383836j, 'ts': 317153}\n",
      "LOST ACQUISITION >> srn= {'snr': 0.18608058565202867, 'ang_at': -1.4960936012031736, 'noise_db': 27.45203952874695, 'signal_db': 27.63812011439898, 'prob_detection': 0.9989453623818145, 'p': 0.0010546376181854722, 'phase': 9, 'nb0_phase': -1.4960936012031736, 'doppler': 705.3333333333331, 'doppler_phase': 369.6673627052889j, 'ts': 329420}\n",
      "LOST ACQUISITION >> srn= {'snr': 0.16944621531342108, 'ang_at': 0.6628956889561685, 'noise_db': 27.45203952874695, 'signal_db': 27.621485744060372, 'prob_detection': 0.9962002620462693, 'p': 0.9962002620462693, 'phase': 34, 'nb0_phase': -2.478696964633625, 'doppler': 699.333333333333, 'doppler_phase': 405.00424152605837j, 'ts': 362181}\n",
      "LOST ACQUISITION >> srn= {'snr': 0.13658426623934616, 'ang_at': 1.82873807944514, 'noise_db': 27.45203952874695, 'signal_db': 27.588623794986297, 'prob_detection': 0.9972746085028149, 'p': 0.9972746085028149, 'phase': 38, 'nb0_phase': -1.312854574144653, 'doppler': 695.9999999999997, 'doppler_phase': 422.5500636231756j, 'ts': 378553}\n",
      "LOST ACQUISITION >> srn= {'snr': -0.019428448709021495, 'ang_at': -0.0787926335604031, 'noise_db': 27.45203952874695, 'signal_db': 27.43261108003793, 'prob_detection': 0.9967644722986186, 'p': 0.9967644722986186, 'phase': 26, 'nb0_phase': -3.220385287150196, 'doppler': 692.9999999999997, 'doppler_phase': 435.65039904050565j, 'ts': 390817}\n"
     ]
    },
    {
     "name": "stdout",
     "output_type": "stream",
     "text": [
      "LOST ACQUISITION >> srn= {'snr': -0.013059296324293257, 'ang_at': 1.7292485490752636, 'noise_db': 27.45203952874695, 'signal_db': 27.438980232422658, 'prob_detection': 0.9979464771637268, 'p': 0.9979464771637268, 'phase': 40, 'nb0_phase': -1.4123441045145295, 'doppler': 690.9999999999997, 'doppler_phase': 453.03891681299575j, 'ts': 407199}\n",
      "LOST ACQUISITION >> srn= {'snr': -0.06050056118125369, 'ang_at': 1.4958428414462133, 'noise_db': 27.45203952874695, 'signal_db': 27.391538967565698, 'prob_detection': 0.995331937345548, 'p': 0.995331937345548, 'phase': 17, 'nb0_phase': -1.6457498121435794, 'doppler': 690.9999999999997, 'doppler_phase': 461.7096342274093j, 'ts': 415360}\n",
      "LOST ACQUISITION >> srn= {'snr': -0.07818750155918863, 'ang_at': 0.6369130695830382, 'noise_db': 27.45203952874695, 'signal_db': 27.373852027187763, 'prob_detection': 0.9967316498634253, 'p': 0.9967316498634253, 'phase': 22, 'nb0_phase': -2.5046795840067553, 'doppler': 689.3333333333329, 'doppler_phase': 474.7071313647899j, 'ts': 427641}\n",
      "LOST ACQUISITION >> srn= {'snr': -0.017524286457380356, 'ang_at': 2.3672765150157233, 'noise_db': 27.45203952874695, 'signal_db': 27.43451524228957, 'prob_detection': 0.9983511228063793, 'p': 0.0016488771936207236, 'phase': 0, 'nb0_phase': -3.915908792163863, 'doppler': 679.6666666666662, 'doppler_phase': 539.0989423199085j, 'ts': 488999}\n",
      "LOST ACQUISITION >> srn= {'snr': -0.03931132825598027, 'ang_at': -0.2216658242124722, 'noise_db': 27.45203952874695, 'signal_db': 27.41272820049097, 'prob_detection': 0.9983668968512993, 'p': 0.9983668968512993, 'phase': 34, 'nb0_phase': -3.3632584778022654, 'doppler': 679.3333333333328, 'doppler_phase': 551.9092818132247j, 'ts': 501309}\n",
      "LOST ACQUISITION >> srn= {'snr': -0.233025007792655, 'ang_at': -2.6598527599980932, 'noise_db': 27.45203952874695, 'signal_db': 27.219014520954296, 'prob_detection': 0.9964051784443331, 'p': 0.003594821555666927, 'phase': 28, 'nb0_phase': -2.6598527599980932, 'doppler': 664.3333333333327, 'doppler_phase': 649.0743879666818j, 'ts': 595419}\n",
      "LOST ACQUISITION >> srn= {'snr': -0.022969400541910545, 'ang_at': -2.791699089201768, 'noise_db': 27.45203952874695, 'signal_db': 27.42907012820504, 'prob_detection': 0.993786415721976, 'p': 0.006213584278023987, 'phase': 23, 'nb0_phase': -2.791699089201768, 'doppler': 661.3333333333327, 'doppler_phase': 661.5839227784638j, 'ts': 607690}\n",
      "LOST ACQUISITION >> srn= {'snr': 0.18326038056993355, 'ang_at': -1.6427017541683573, 'noise_db': 27.45203952874695, 'signal_db': 27.635299909316885, 'prob_detection': 0.9944716414043404, 'p': 0.005528358595659588, 'phase': 14, 'nb0_phase': -1.6427017541683573, 'doppler': 657.3333333333326, 'doppler_phase': 694.7529470729214j, 'ts': 640417}\n",
      "LOST ACQUISITION >> srn= {'snr': -0.008119794112673162, 'ang_at': -2.8102992248211676, 'noise_db': 27.45203952874695, 'signal_db': 27.443919734634278, 'prob_detection': 0.9981234543268498, 'p': 0.0018765456731502095, 'phase': 2, 'nb0_phase': -2.8102992248211676, 'doppler': 656.666666666666, 'doppler_phase': 702.9921167308898j, 'ts': 648589}\n",
      "LOST ACQUISITION >> srn= {'snr': -0.15264361307714935, 'ang_at': 3.063255348673267, 'noise_db': 27.45203952874695, 'signal_db': 27.299395915669802, 'prob_detection': 0.9986983432411798, 'p': 0.0013016567588202133, 'phase': 1, 'nb0_phase': -3.2199299585063197, 'doppler': 647.666666666666, 'doppler_phase': 772.6509720661418j, 'ts': 718152}\n",
      "LOST ACQUISITION >> srn= {'snr': 0.13191135863900882, 'ang_at': -1.9422773266567808, 'noise_db': 27.45203952874695, 'signal_db': 27.58395088738596, 'prob_detection': 0.9986103739154931, 'p': 0.0013896260845068786, 'phase': 12, 'nb0_phase': -1.9422773266567808, 'doppler': 648.9999999999993, 'doppler_phase': 780.782167262623j, 'ts': 726347}\n",
      "LOST ACQUISITION >> srn= {'snr': -0.07990282911198676, 'ang_at': 0.3551846214653769, 'noise_db': 27.45203952874695, 'signal_db': 27.372136699634964, 'prob_detection': 0.9918796663408154, 'p': 0.9918796663408154, 'phase': 8, 'nb0_phase': -2.7864080321244162, 'doppler': 645.9999999999993, 'doppler_phase': 792.9687782876059j, 'ts': 738619}\n",
      "LOST ACQUISITION >> srn= {'snr': -0.06322021038504744, 'ang_at': 0.10631756108055739, 'noise_db': 27.45203952874695, 'signal_db': 27.388819318361904, 'prob_detection': 0.9944643692282964, 'p': 0.9944643692282964, 'phase': 17, 'nb0_phase': -3.0352750925092353, 'doppler': 641.3333333333327, 'doppler_phase': 841.5146855919638j, 'ts': 787732}\n",
      "LOST ACQUISITION >> srn= {'snr': 0.13509803567374234, 'ang_at': -0.4040608182615718, 'noise_db': 27.45203952874695, 'signal_db': 27.587137564420694, 'prob_detection': 0.9978088847242317, 'p': 0.9978088847242317, 'phase': 5, 'nb0_phase': -3.545653471851365, 'doppler': 635.3333333333326, 'doppler_phase': 881.5361243485169j, 'ts': 828640}\n",
      "LOST ACQUISITION >> srn= {'snr': -0.04153619790666596, 'ang_at': -2.4312256014056093, 'noise_db': 27.45203952874695, 'signal_db': 27.410503330840285, 'prob_detection': 0.9945533152048314, 'p': 0.005446684795168633, 'phase': 40, 'nb0_phase': -2.4312256014056093, 'doppler': 635.666666666666, 'doppler_phase': 885.5475727228443j, 'ts': 832767}\n",
      "LOST ACQUISITION >> srn= {'snr': -0.008106251395140873, 'ang_at': -1.4887648782855238, 'noise_db': 27.45203952874695, 'signal_db': 27.44393327735181, 'prob_detection': 0.9986499158736104, 'p': 0.9986499158736104, 'phase': 12, 'nb0_phase': -4.630357531875317, 'doppler': 633.3333333333326, 'doppler_phase': 905.4586179342022j, 'ts': 853199}\n",
      "LOST ACQUISITION >> srn= {'snr': 0.06833298309376801, 'ang_at': -0.8699522269274553, 'noise_db': 27.45203952874695, 'signal_db': 27.52037251184072, 'prob_detection': 0.9987788920714247, 'p': 0.9987788920714247, 'phase': 30, 'nb0_phase': -4.011544880517248, 'doppler': 632.3333333333326, 'doppler_phase': 933.2408564898237j, 'ts': 881861}\n",
      "LOST ACQUISITION >> srn= {'snr': 0.026411624316008186, 'ang_at': 2.9397715558696866, 'noise_db': 27.45203952874695, 'signal_db': 27.47845115306296, 'prob_detection': 0.9989135111861238, 'p': 0.0010864888138761852, 'phase': 14, 'nb0_phase': -3.343413751309899, 'doppler': 629.3333333333326, 'doppler_phase': 945.1188518450865j, 'ts': 894121}\n",
      "LOST ACQUISITION >> srn= {'snr': 0.0687528909374322, 'ang_at': 0.3902787854505218, 'noise_db': 27.45203952874695, 'signal_db': 27.520792419684383, 'prob_detection': 0.9983584730254655, 'p': 0.9983584730254655, 'phase': 12, 'nb0_phase': -2.751313868139271, 'doppler': 627.666666666666, 'doppler_phase': 956.9758249398311j, 'ts': 906395}\n",
      "LOST ACQUISITION >> srn= {'snr': 0.007578642480197573, 'ang_at': 2.466381300692237, 'noise_db': 27.45203952874695, 'signal_db': 27.45961817122715, 'prob_detection': 0.9986972005594058, 'p': 0.0013027994405941934, 'phase': 5, 'nb0_phase': -3.8168040064873487, 'doppler': 621.3333333333327, 'doppler_phase': 992.2131462901834j, 'ts': 943216}\n",
      "LOST ACQUISITION >> srn= {'snr': 0.057862920660355144, 'ang_at': 3.0980252251623095, 'noise_db': 27.45203952874695, 'signal_db': 27.509902449407306, 'prob_detection': 0.9974144586766879, 'p': 0.002585541323312124, 'phase': 11, 'nb0_phase': -3.1851600820172767, 'doppler': 622.9999999999993, 'doppler_phase': 1003.918080734009j, 'ts': 955498}\n",
      "LOST ACQUISITION >> srn= {'snr': 0.1082399710844939, 'ang_at': 2.871885768853257, 'noise_db': 27.45203952874695, 'signal_db': 27.560279499831445, 'prob_detection': 0.9973414796469504, 'p': 0.002658520353049587, 'phase': 19, 'nb0_phase': -3.4112995383263294, 'doppler': 622.9999999999993, 'doppler_phase': 1011.7445910902877j, 'ts': 963690}\n",
      "LOST ACQUISITION >> srn= {'snr': -0.20151576115483394, 'ang_at': -2.636705683635798, 'noise_db': 27.45203952874695, 'signal_db': 27.250523767592117, 'prob_detection': 0.9983344639237886, 'p': 0.001665536076211449, 'phase': 11, 'nb0_phase': -2.636705683635798, 'doppler': 620.3333333333326, 'doppler_phase': 1027.3542017280129j, 'ts': 980050}\n",
      "LOST ACQUISITION >> srn= {'snr': 0.09700059344758571, 'ang_at': 1.7802323142405028, 'noise_db': 27.45203952874695, 'signal_db': 27.549040122194537, 'prob_detection': 0.9974513605262875, 'p': 0.002548639473712533, 'phase': 31, 'nb0_phase': -4.5029529929390835, 'doppler': 608.3333333333326, 'doppler_phase': 1096.7947322404696j, 'ts': 1053726}\n",
      "LOST ACQUISITION >> srn= {'snr': -0.18115636575365457, 'ang_at': 2.3408746206381577, 'noise_db': 27.45203952874695, 'signal_db': 27.270883162993297, 'prob_detection': 0.9942279357957728, 'p': 0.005772064204227156, 'phase': 10, 'nb0_phase': -3.9423106865414286, 'doppler': 600.3333333333325, 'doppler_phase': 1142.257742160435j, 'ts': 1102809}\n",
      "LOST ACQUISITION >> srn= {'snr': 0.164773504350201, 'ang_at': 2.182482027275026, 'noise_db': 27.45203952874695, 'signal_db': 27.616813033097152, 'prob_detection': 0.9962105460626449, 'p': 0.0037894539373550806, 'phase': 7, 'nb0_phase': -4.10070327990456, 'doppler': 599.6666666666657, 'doppler_phase': 1164.8421946857952j, 'ts': 1127358}\n",
      "LOST ACQUISITION >> srn= {'snr': -0.047582486252757406, 'ang_at': 1.7679006460395679, 'noise_db': 27.45203952874695, 'signal_db': 27.404457042494194, 'prob_detection': 0.9989263108872206, 'p': 0.0010736891127793857, 'phase': 10, 'nb0_phase': -4.515284661140019, 'doppler': 599.3333333333323, 'doppler_phase': 1168.6007985933184j, 'ts': 1131453}\n",
      "LOST ACQUISITION >> srn= {'snr': -0.023988409893149765, 'ang_at': -1.621247283759468, 'noise_db': 27.45203952874695, 'signal_db': 27.4280511188538, 'prob_detection': 0.9971066819661074, 'p': 0.9971066819661074, 'phase': 0, 'nb0_phase': -4.762839937349261, 'doppler': 598.3333333333323, 'doppler_phase': 1172.3481156971275j, 'ts': 1135535}\n",
      "LOST ACQUISITION >> srn= {'snr': 0.12031353748077933, 'ang_at': -0.7452252922572322, 'noise_db': 27.45203952874695, 'signal_db': 27.57235306622773, 'prob_detection': 0.998698174672122, 'p': 0.998698174672122, 'phase': 16, 'nb0_phase': -3.8868179458470253, 'doppler': 595.3333333333322, 'doppler_phase': 1206.018587928658j, 'ts': 1172379}\n",
      "LOST ACQUISITION >> srn= {'snr': -0.039741413292432526, 'ang_at': -2.121590909352149, 'noise_db': 27.45203952874695, 'signal_db': 27.41229811545452, 'prob_detection': 0.9989924239188597, 'p': 0.9989924239188597, 'phase': 34, 'nb0_phase': -5.263183562941942, 'doppler': 592.9999999999989, 'doppler_phase': 1239.5767402895087j, 'ts': 1209225}\n"
     ]
    },
    {
     "name": "stdout",
     "output_type": "stream",
     "text": [
      "LOST ACQUISITION >> srn= {'snr': 0.26487408544269186, 'ang_at': -0.0973691260031353, 'noise_db': 27.45203952874695, 'signal_db': 27.716913614189643, 'prob_detection': 0.9918263003731893, 'p': 0.9918263003731893, 'phase': 9, 'nb0_phase': -3.2389617795929286, 'doppler': 591.9999999999989, 'doppler_phase': 1243.292639419475j, 'ts': 1213292}\n",
      "LOST ACQUISITION >> srn= {'snr': -0.11203371549297003, 'ang_at': -1.9960907196904343, 'noise_db': 27.45203952874695, 'signal_db': 27.34000581325398, 'prob_detection': 0.9974130666592707, 'p': 0.9974130666592707, 'phase': 11, 'nb0_phase': -5.137683373280227, 'doppler': 591.6666666666655, 'doppler_phase': 1254.426389018334j, 'ts': 1225570}\n",
      "LOST ACQUISITION >> srn= {'snr': -0.04472219208020789, 'ang_at': -1.8195047895893646, 'noise_db': 27.45203952874695, 'signal_db': 27.407317336666743, 'prob_detection': 0.9980593770825381, 'p': 0.9980593770825381, 'phase': 3, 'nb0_phase': -4.961097443179158, 'doppler': 584.3333333333321, 'doppler_phase': 1283.9706812771637j, 'ts': 1258298}\n",
      "LOST ACQUISITION >> srn= {'snr': -0.046640641527122995, 'ang_at': 2.453477002644828, 'noise_db': 27.45203952874695, 'signal_db': 27.405398887219828, 'prob_detection': 0.9981149181898106, 'p': 0.0018850818101894262, 'phase': 28, 'nb0_phase': -3.8297083045347584, 'doppler': 582.6666666666655, 'doppler_phase': 1302.262857856936j, 'ts': 1278783}\n",
      "LOST ACQUISITION >> srn= {'snr': 0.09342910788856784, 'ang_at': -0.4682974371212861, 'noise_db': 27.45203952874695, 'signal_db': 27.54546863663552, 'prob_detection': 0.9988466019426696, 'p': 0.9988466019426696, 'phase': 22, 'nb0_phase': -3.6098900907110796, 'doppler': 578.9999999999987, 'doppler_phase': 1320.4696233461143j, 'ts': 1299237}\n",
      "LOST ACQUISITION >> srn= {'snr': 0.06184493934421553, 'ang_at': -0.37267526630963727, 'noise_db': 27.45203952874695, 'signal_db': 27.513884468091167, 'prob_detection': 0.997853598211722, 'p': 0.997853598211722, 'phase': 9, 'nb0_phase': -3.5142679198994307, 'doppler': 577.6666666666655, 'doppler_phase': 1334.96626004022j, 'ts': 1315592}\n",
      "LOST ACQUISITION >> srn= {'snr': 0.09264762898715162, 'ang_at': 2.0767356107379165, 'noise_db': 27.45203952874695, 'signal_db': 27.544687157734103, 'prob_detection': 0.9988366262524044, 'p': 0.0011633737475955641, 'phase': 8, 'nb0_phase': -4.20644969644167, 'doppler': 575.9999999999987, 'doppler_phase': 1345.813762846083j, 'ts': 1327867}\n",
      "LOST ACQUISITION >> srn= {'snr': 0.06849239083632597, 'ang_at': 0.111041854278069, 'noise_db': 27.45203952874695, 'signal_db': 27.520531919583277, 'prob_detection': 0.990073387506818, 'p': 0.990073387506818, 'phase': 29, 'nb0_phase': -3.030550799311724, 'doppler': 575.3333333333321, 'doppler_phase': 1353.0430445645334j, 'ts': 1336072}\n",
      "LOST ACQUISITION >> srn= {'snr': 0.030288014969904964, 'ang_at': 2.6180499980689933, 'noise_db': 27.45203952874695, 'signal_db': 27.482327543716856, 'prob_detection': 0.9930723139017414, 'p': 0.006927686098258556, 'phase': 10, 'nb0_phase': -3.665135309110593, 'doppler': 571.9999999999987, 'doppler_phase': 1367.443158409083j, 'ts': 1352421}\n",
      "LOST ACQUISITION >> srn= {'snr': -0.0021485866446617763, 'ang_at': -2.540081324493763, 'noise_db': 27.45203952874695, 'signal_db': 27.44989094210229, 'prob_detection': 0.997846129680251, 'p': 0.0021538703197490072, 'phase': 6, 'nb0_phase': -2.540081324493763, 'doppler': 568.9999999999987, 'doppler_phase': 1378.1720320557934j, 'ts': 1364693}\n",
      "LOST ACQUISITION >> srn= {'snr': -0.09451545989407606, 'ang_at': 3.0440758166890687, 'noise_db': 27.45203952874695, 'signal_db': 27.357524068852875, 'prob_detection': 0.9969816558858868, 'p': 0.0030183441141131695, 'phase': 7, 'nb0_phase': -3.239109490490518, 'doppler': 568.6666666666654, 'doppler_phase': 1381.7358029651573j, 'ts': 1368786}\n",
      "LOST ACQUISITION >> srn= {'snr': 0.10225803984909021, 'ang_at': -1.7384597642662312, 'noise_db': 27.45203952874695, 'signal_db': 27.55429756859604, 'prob_detection': 0.997065641821109, 'p': 0.997065641821109, 'phase': 3, 'nb0_phase': -4.8800524178560245, 'doppler': 555.9999999999985, 'doppler_phase': 1452.2667481449546j, 'ts': 1450622}\n",
      "LOST ACQUISITION >> srn= {'snr': -0.0010410542210763651, 'ang_at': -2.96987928307063, 'noise_db': 27.45203952874695, 'signal_db': 27.450998474525875, 'prob_detection': 0.9981817358672167, 'p': 0.0018182641327832982, 'phase': 6, 'nb0_phase': -2.96987928307063, 'doppler': 551.3333333333318, 'doppler_phase': 1486.993147644903j, 'ts': 1491545}\n",
      "LOST ACQUISITION >> srn= {'snr': 0.1611096926893616, 'ang_at': -1.0245295168820232, 'noise_db': 27.45203952874695, 'signal_db': 27.613149221436313, 'prob_detection': 0.9902989706913132, 'p': 0.9902989706913132, 'phase': 1, 'nb0_phase': -4.166122170471817, 'doppler': 543.3333333333317, 'doppler_phase': 1521.3000953902279j, 'ts': 1532460}\n",
      "LOST ACQUISITION >> srn= {'snr': -0.005195159182544984, 'ang_at': -1.5160192606261744, 'noise_db': 27.45203952874695, 'signal_db': 27.446844369564406, 'prob_detection': 0.9989401307894585, 'p': 0.9989401307894585, 'phase': 7, 'nb0_phase': -4.657611914215968, 'doppler': 535.666666666665, 'doppler_phase': 1571.8134227906758j, 'ts': 1593846}\n",
      "LOST ACQUISITION >> srn= {'snr': 0.13268971088803028, 'ang_at': -2.947028335203782, 'noise_db': 27.45203952874695, 'signal_db': 27.58472923963498, 'prob_detection': 0.9983074632352753, 'p': 0.0016925367647246947, 'phase': 5, 'nb0_phase': -2.947028335203782, 'doppler': 534.666666666665, 'doppler_phase': 1575.1667704587676j, 'ts': 1597936}\n",
      "LOST ACQUISITION >> srn= {'snr': -0.07949290063326586, 'ang_at': 0.9490503378685077, 'noise_db': 27.45203952874695, 'signal_db': 27.372546628113685, 'prob_detection': 0.9971692242714418, 'p': 0.002830775728558166, 'phase': 34, 'nb0_phase': -5.334134969311078, 'doppler': 536.3333333333318, 'doppler_phase': 1598.7206141667311j, 'ts': 1626609}\n",
      "<gr_block freq_xlating_fir_filter<IN_T,OUT_T,TAP_T> (40)>\n",
      "<gr_block mmse_resampler_cc (41)>\n",
      "START >>  1636800 9\n",
      "TRACK BEST  {'snr': 0.0026421266366050133, 'noise_db': 27.46228607605348, 'signal_db': 27.464928202690086, 'data': [1, 1, 1, 1, 1], 'phase': 1820, 'doppler': 1187, 'doppler_phase': 3.3171594688446597j, 'qmax': 2227.112679256443, 'correl_max': 8474.487054967694, 'typ2_sig': None, 'prob_detection': 0.9648865662321755, 'b0_phase': <chdrft.dsp.base.SimpleIIR object at 0x7f10f1c67940>}\n",
      "TRACK BEST  {'snr': 0.005583547070440176, 'noise_db': 27.525437189921117, 'signal_db': 27.531020736991557, 'data': [1, 1, 1, 1, 1], 'phase': 20, 'doppler': 1187, 'doppler_phase': 0.03645230185543582j, 'qmax': 3193.1113113116844, 'correl_max': 8474.487054967689, 'typ2_sig': None, 'prob_detection': 0.9910119438418015, 'b0_phase': <chdrft.dsp.base.SimpleIIR object at 0x7f10f1c67198>}\n",
      "TRACK BEST  {'snr': 0.0027094309584327902, 'noise_db': 27.450490699648945, 'signal_db': 27.453200130607378, 'data': [1, 1, 1, 1, 1], 'phase': 19, 'doppler': 1187, 'doppler_phase': 0.03462968676266403j, 'qmax': 3372.2537349562544, 'correl_max': 7082.795893441149, 'typ2_sig': None, 'prob_detection': 0.9936469210645051, 'b0_phase': <chdrft.dsp.base.SimpleIIR object at 0x7f10f1c67390>}\n",
      "TRACK BEST  {'snr': 0.0015301338537554443, 'noise_db': 27.518235734379942, 'signal_db': 27.519765868233698, 'data': [1, 1, 1, 1, 1], 'phase': 19, 'doppler': 1187, 'doppler_phase': 0.03462968676266403j, 'qmax': 2286.5601388146097, 'correl_max': 7842.288561011249, 'typ2_sig': None, 'prob_detection': 0.9668499068204142, 'b0_phase': <chdrft.dsp.base.SimpleIIR object at 0x7f10f1c67898>}\n",
      "TRACK BEST  {'snr': 0.0021725913444008427, 'noise_db': 27.571504108981006, 'signal_db': 27.573676700325407, 'data': [1, 1, 1, 1, 1], 'phase': 2302, 'doppler': 1187, 'doppler_phase': 4.1956599435606625j, 'qmax': 1978.0595857809146, 'correl_max': 7842.288561011245, 'typ2_sig': None, 'prob_detection': 0.9509944543148836, 'b0_phase': <chdrft.dsp.base.SimpleIIR object at 0x7f10f1c675f8>}\n",
      "TRACK BEST  {'snr': 0.0009427228877925131, 'noise_db': 27.380942016589653, 'signal_db': 27.381884739477446, 'data': [1, 1, 1, 1, 1], 'phase': 850, 'doppler': 1187, 'doppler_phase': 1.5492228288560224j, 'qmax': 2138.5601221146367, 'correl_max': 7675.324070454975, 'typ2_sig': None, 'prob_detection': 0.961755369034452, 'b0_phase': <chdrft.dsp.base.SimpleIIR object at 0x7f10f1c70668>}\n"
     ]
    },
    {
     "name": "stdout",
     "output_type": "stream",
     "text": [
      "TRACK BEST  {'snr': 0.0023417507557645934, 'noise_db': 27.50820784016461, 'signal_db': 27.510549590920373, 'data': [1, 1, 1, 1, 1], 'phase': 1001, 'doppler': 1187, 'doppler_phase': 1.8244377078645628j, 'qmax': 2447.6223405771675, 'correl_max': 8544.418543910182, 'typ2_sig': None, 'prob_detection': 0.9732361025122996, 'b0_phase': <chdrft.dsp.base.SimpleIIR object at 0x7f10f1c70048>}\n",
      "TRACK BEST  {'snr': 0.001668433623706278, 'noise_db': 27.469710957238114, 'signal_db': 27.47137939086182, 'data': [1, 1, 1, 1, 1], 'phase': 20, 'doppler': 1187, 'doppler_phase': 0.03645230185543582j, 'qmax': 2231.8144113517474, 'correl_max': 8544.418543910171, 'typ2_sig': None, 'prob_detection': 0.9650219956586394, 'b0_phase': <chdrft.dsp.base.SimpleIIR object at 0x7f10f1c700f0>}\n",
      "TRACK BEST  {'snr': 0.0073938215717532785, 'noise_db': 27.442498979711758, 'signal_db': 27.44989280128351, 'data': [1, 1, 1, 1, 1], 'phase': 20, 'doppler': 1187, 'doppler_phase': 0.03645230185543582j, 'qmax': 2800.662943067894, 'correl_max': 8544.418543910175, 'typ2_sig': None, 'prob_detection': 0.9841701565415251, 'b0_phase': <chdrft.dsp.base.SimpleIIR object at 0x7f10f1c70cf8>}\n",
      "TRACK BEST  {'snr': 0.005224906623741532, 'noise_db': 27.45408927477174, 'signal_db': 27.45931418139548, 'data': [1, 1, -1, -1, -1], 'phase': 20, 'doppler': 1187, 'doppler_phase': 0.03645230185543582j, 'qmax': 2451.4315238209324, 'correl_max': 7609.58335075181, 'typ2_sig': None, 'prob_detection': 0.9738861361863194, 'b0_phase': <chdrft.dsp.base.SimpleIIR object at 0x7f10f1c70828>}\n",
      "TRACK BEST  {'snr': 0.002214834167965307, 'noise_db': 27.411023460670055, 'signal_db': 27.41323829483802, 'data': [1, 1, -1, 1, -1], 'phase': 703, 'doppler': 1187, 'doppler_phase': 1.2812984102185692j, 'qmax': 2200.0150166727017, 'correl_max': 7609.583350751808, 'typ2_sig': None, 'prob_detection': 0.9642601739746192, 'b0_phase': <chdrft.dsp.base.SimpleIIR object at 0x7f10f1c70860>}\n",
      "TRACK BEST  {'snr': 0.002396910478815073, 'noise_db': 27.523114698637094, 'signal_db': 27.52551160911591, 'data': [1, -1, -1, -1, 1], 'phase': 2059, 'doppler': 1187, 'doppler_phase': 3.7527644760171177j, 'qmax': 1967.1971200926087, 'correl_max': 8612.267098905964, 'typ2_sig': None, 'prob_detection': 0.9509987700289633, 'b0_phase': <chdrft.dsp.base.SimpleIIR object at 0x7f10f1c70b38>}\n",
      "TRACK BEST  {'snr': 0.000969432078999688, 'noise_db': 27.49095179678697, 'signal_db': 27.49192122886597, 'data': [1, 1, 1, 1, 1], 'phase': 1390, 'doppler': 1187, 'doppler_phase': 2.5334349789527892j, 'qmax': 2505.5640060710984, 'correl_max': 8612.267098905966, 'typ2_sig': None, 'prob_detection': 0.9754306008552525, 'b0_phase': <chdrft.dsp.base.SimpleIIR object at 0x7f1106303710>}\n",
      "TRACK BEST  {'snr': 0.0015282584032050295, 'noise_db': 27.4994869849062, 'signal_db': 27.501015243309404, 'data': [1, 1, 1, 1, 1], 'phase': 18, 'doppler': 1187, 'doppler_phase': 0.03280707166989224j, 'qmax': 2784.324431855012, 'correl_max': 7461.762502743713, 'typ2_sig': None, 'prob_detection': 0.9833837796322153, 'b0_phase': <chdrft.dsp.base.SimpleIIR object at 0x7f1106303e10>}\n",
      "TRACK BEST  {'snr': 0.009374433623083434, 'noise_db': 27.423770538752787, 'signal_db': 27.43314497237587, 'data': [1, -1, 1, 1, 1], 'phase': 20, 'doppler': 1187, 'doppler_phase': 0.03645230185543582j, 'qmax': 2784.3244318550082, 'correl_max': 7461.762502743707, 'typ2_sig': None, 'prob_detection': 0.9839097987872066, 'b0_phase': <chdrft.dsp.base.SimpleIIR object at 0x7f11063033c8>}\n",
      "TRACK BEST  {'snr': 0.0030767653333150236, 'noise_db': 27.556244260614573, 'signal_db': 27.559321025947888, 'data': [1, 1, 1, 1, 1], 'phase': 20, 'doppler': 1187, 'doppler_phase': 0.03645230185543582j, 'qmax': 2961.2535868999967, 'correl_max': 7381.773394900391, 'typ2_sig': None, 'prob_detection': 0.9868697620984792, 'b0_phase': <chdrft.dsp.base.SimpleIIR object at 0x7f11062fcdd8>}\n",
      "TRACK BEST  {'snr': 0.002138582970633962, 'noise_db': 27.391457081772796, 'signal_db': 27.39359566474343, 'data': [1, 1, 1, 1, 1], 'phase': 20, 'doppler': 1187, 'doppler_phase': 0.03645230185543582j, 'qmax': 2952.5553316112873, 'correl_max': 7381.773394900391, 'typ2_sig': None, 'prob_detection': 0.9878013505969139, 'b0_phase': <chdrft.dsp.base.SimpleIIR object at 0x7f10f1c5b470>}\n",
      "TRACK BEST  {'snr': 0.0028330009594554895, 'noise_db': 27.570429525639998, 'signal_db': 27.573262526599454, 'data': [1, 1, 1, 1, 1], 'phase': 20, 'doppler': 1187, 'doppler_phase': 0.03645230185543582j, 'qmax': 3349.239322661535, 'correl_max': 7492.9652151513865, 'typ2_sig': None, 'prob_detection': 0.9928571516118434, 'b0_phase': <chdrft.dsp.base.SimpleIIR object at 0x7f10f1c5b630>}\n",
      "TRACK BEST  {'snr': 0.0033280307031269274, 'noise_db': 27.516721976221454, 'signal_db': 27.52005000692458, 'data': [1, -1, -1, -1, -1], 'phase': 20, 'doppler': 1187, 'doppler_phase': 0.03645230185543582j, 'qmax': 2910.6042656800396, 'correl_max': 7492.965215151386, 'typ2_sig': None, 'prob_detection': 0.9861049423408639, 'b0_phase': <chdrft.dsp.base.SimpleIIR object at 0x7f10f1c5b048>}\n",
      "TRACK BEST  {'snr': 0.002142123134603935, 'noise_db': 27.45580129026743, 'signal_db': 27.457943413402035, 'data': [1, 1, 1, 1, 1], 'phase': 19, 'doppler': 1187, 'doppler_phase': 0.03462968676266403j, 'qmax': 2729.081275308178, 'correl_max': 7151.2058690397525, 'typ2_sig': None, 'prob_detection': 0.9823407704968774, 'b0_phase': <chdrft.dsp.base.SimpleIIR object at 0x7f10f1c5b3c8>}\n",
      "TRACK BEST  {'snr': 0.0023629055630820517, 'noise_db': 27.45342326700808, 'signal_db': 27.455786172571162, 'data': [1, 1, 1, 1, 1], 'phase': 20, 'doppler': 1187, 'doppler_phase': 0.03645230185543582j, 'qmax': 2574.789280079266, 'correl_max': 9801.748269820137, 'typ2_sig': None, 'prob_detection': 0.9779989938395568, 'b0_phase': <chdrft.dsp.base.SimpleIIR object at 0x7f10f1c5bc50>}\n",
      "TRACK BEST  {'snr': 0.002145431479576132, 'noise_db': 27.428213874820777, 'signal_db': 27.430359306300353, 'data': [1, 1, 1, 1, 1], 'phase': 21, 'doppler': 1187, 'doppler_phase': 0.03827491694820761j, 'qmax': 2501.2402162272524, 'correl_max': 9801.74826982013, 'typ2_sig': None, 'prob_detection': 0.9758792114518458, 'b0_phase': <chdrft.dsp.base.SimpleIIR object at 0x7f10f1c5b390>}\n",
      "TRACK BEST  {'snr': 0.00365314543360995, 'noise_db': 27.514767489607173, 'signal_db': 27.518420635040783, 'data': [1, -1, 1, -1, -1], 'phase': 20, 'doppler': 1187, 'doppler_phase': 0.03645230185543582j, 'qmax': 2267.8475030217696, 'correl_max': 8304.196415685625, 'typ2_sig': None, 'prob_detection': 0.9660653468931065, 'b0_phase': <chdrft.dsp.base.SimpleIIR object at 0x7f1106303198>}\n",
      "TRACK BEST  {'snr': 0.005281806832076796, 'noise_db': 27.417215165237074, 'signal_db': 27.42249697206915, 'data': [1, 1, 1, 1, 1], 'phase': 18, 'doppler': 1187, 'doppler_phase': 0.03280707166989224j, 'qmax': 2871.9495263268436, 'correl_max': 6989.136622280079, 'typ2_sig': None, 'prob_detection': 0.9859738834464853, 'b0_phase': <chdrft.dsp.base.SimpleIIR object at 0x7f11063036d8>}\n",
      "TRACK BEST  {'snr': 0.007484138467667378, 'noise_db': 27.46569882728192, 'signal_db': 27.473182965749587, 'data': [1, 1, -1, -1, -1], 'phase': 20, 'doppler': 1187, 'doppler_phase': 0.03645230185543582j, 'qmax': 2992.2942897271805, 'correl_max': 7978.3592416265055, 'typ2_sig': None, 'prob_detection': 0.9880372167434424, 'b0_phase': <chdrft.dsp.base.SimpleIIR object at 0x7f10f1c70240>}\n",
      "TRACK BEST  {'snr': 0.0009508680294416649, 'noise_db': 27.415118033263937, 'signal_db': 27.41606890129338, 'data': [1, 1, 1, 1, 1], 'phase': 20, 'doppler': 1187, 'doppler_phase': 0.03645230185543582j, 'qmax': 2711.6221140902226, 'correl_max': 7978.359241626507, 'typ2_sig': None, 'prob_detection': 0.9822281918142565, 'b0_phase': <chdrft.dsp.base.SimpleIIR object at 0x7f10f1c70a58>}\n",
      "TRACK BEST  {'snr': 0.0010592052705113986, 'noise_db': 27.51449875582676, 'signal_db': 27.515557961097272, 'data': [1, -1, -1, -1, -1], 'phase': 20, 'doppler': 1187, 'doppler_phase': 0.03645230185543582j, 'qmax': 2711.622114090228, 'correl_max': 8174.43134245593, 'typ2_sig': None, 'prob_detection': 0.9814088664251873, 'b0_phase': <chdrft.dsp.base.SimpleIIR object at 0x7f10f1c70b00>}\n",
      "TRACK BEST  {'snr': 0.007900883367732092, 'noise_db': 27.43643759055157, 'signal_db': 27.444338473919302, 'data': [1, 1, 1, 1, 1], 'phase': 20, 'doppler': 1187, 'doppler_phase': 0.03645230185543582j, 'qmax': 2848.71838115642, 'correl_max': 8174.431342455931, 'typ2_sig': None, 'prob_detection': 0.9853109432180178, 'b0_phase': <chdrft.dsp.base.SimpleIIR object at 0x7f10f1c70e80>}\n"
     ]
    },
    {
     "name": "stdout",
     "output_type": "stream",
     "text": [
      "TRACK BEST  {'snr': 0.0027209664753300444, 'noise_db': 27.44798085840212, 'signal_db': 27.45070182487745, 'data': [1, 1, 1, 1, 1], 'phase': 20, 'doppler': 1187, 'doppler_phase': 0.03645230185543582j, 'qmax': 3079.297807086009, 'correl_max': 7710.05131002918, 'typ2_sig': None, 'prob_detection': 0.9896996420638238, 'b0_phase': <chdrft.dsp.base.SimpleIIR object at 0x7f10f1c70b70>}\n",
      "TRACK BEST  {'snr': 0.005682047617192154, 'noise_db': 27.46333408636923, 'signal_db': 27.469016133986422, 'data': [1, 1, -1, -1, -1], 'phase': 19, 'doppler': 1187, 'doppler_phase': 0.03462968676266403j, 'qmax': 3196.288258677926, 'correl_max': 7191.0101214908145, 'typ2_sig': None, 'prob_detection': 0.9913838923377473, 'b0_phase': <chdrft.dsp.base.SimpleIIR object at 0x7f10f1c708d0>}\n",
      "TRACK BEST  {'snr': 0.006801595857467646, 'noise_db': 27.473888629127508, 'signal_db': 27.480690224984976, 'data': [1, 1, -1, -1, -1], 'phase': 20, 'doppler': 1187, 'doppler_phase': 0.03645230185543582j, 'qmax': 2821.063903067078, 'correl_max': 7323.663698263072, 'typ2_sig': None, 'prob_detection': 0.9844142530882218, 'b0_phase': <chdrft.dsp.base.SimpleIIR object at 0x7f10f1c67c18>}\n",
      "TRACK BEST  {'snr': 0.0057117245733984134, 'noise_db': 27.430421416776195, 'signal_db': 27.436133141349593, 'data': [1, 1, 1, 1, 1], 'phase': 21, 'doppler': 1187, 'doppler_phase': 0.03827491694820761j, 'qmax': 3213.8752856855417, 'correl_max': 8200.767725701928, 'typ2_sig': None, 'prob_detection': 0.9917953503170887, 'b0_phase': <chdrft.dsp.base.SimpleIIR object at 0x7f10f1c67780>}\n",
      "TRACK BEST  {'snr': 0.003103464085743468, 'noise_db': 27.506623281028688, 'signal_db': 27.50972674511443, 'data': [1, 1, 1, 1, 1], 'phase': 20, 'doppler': 1187, 'doppler_phase': 0.03645230185543582j, 'qmax': 2827.2024942797943, 'correl_max': 8200.767725701924, 'typ2_sig': None, 'prob_detection': 0.9843376049218047, 'b0_phase': <chdrft.dsp.base.SimpleIIR object at 0x7f10f1c67e48>}\n",
      "TRACK BEST  {'snr': 0.0032515157410379913, 'noise_db': 27.46742795273572, 'signal_db': 27.470679468476757, 'data': [1, 1, 1, 1, 1], 'phase': 19, 'doppler': 1187, 'doppler_phase': 0.03462968676266403j, 'qmax': 3650.1328982407767, 'correl_max': 7448.063416435168, 'typ2_sig': None, 'prob_detection': 0.9960595726277626, 'b0_phase': <chdrft.dsp.base.SimpleIIR object at 0x7f10f1c67860>}\n",
      "TRACK BEST  {'snr': 0.0024506182990151615, 'noise_db': 27.49597125419657, 'signal_db': 27.498421872495584, 'data': [1, 1, 1, -1, 1], 'phase': 3170, 'doppler': 1187, 'doppler_phase': 5.777689844086577j, 'qmax': 2051.711153278898, 'correl_max': 7634.577450558699, 'typ2_sig': None, 'prob_detection': 0.9559685536767996, 'b0_phase': <chdrft.dsp.base.SimpleIIR object at 0x7f10f1c67278>}\n",
      "TRACK BEST  {'snr': 0.0010087481331169101, 'noise_db': 27.426811281624936, 'signal_db': 27.427820029758053, 'data': [1, 1, 1, 1, -1], 'phase': 961, 'doppler': 1187, 'doppler_phase': 1.7515331041536912j, 'qmax': 2033.2260165831283, 'correl_max': 7634.5774505587015, 'typ2_sig': None, 'prob_detection': 0.9558688582397591, 'b0_phase': <chdrft.dsp.base.SimpleIIR object at 0x7f10ed069c88>}\n",
      "TRACK BEST  {'snr': 0.00562120253702858, 'noise_db': 27.523291975744606, 'signal_db': 27.528913178281634, 'data': [1, 1, 1, 1, 1], 'phase': 20, 'doppler': 1187, 'doppler_phase': 0.03645230185543582j, 'qmax': 2197.4581807696864, 'correl_max': 7090.831748809485, 'typ2_sig': None, 'prob_detection': 0.9628012152141854, 'b0_phase': <chdrft.dsp.base.SimpleIIR object at 0x7f10ed069668>}\n",
      "TRACK BEST  {'snr': 0.004300644023558675, 'noise_db': 27.52264997444521, 'signal_db': 27.526950618468767, 'data': [1, -1, -1, -1, -1], 'phase': 20, 'doppler': 1187, 'doppler_phase': 0.03645230185543582j, 'qmax': 2161.8088435552763, 'correl_max': 7090.831748809492, 'typ2_sig': None, 'prob_detection': 0.9611488984519586, 'b0_phase': <chdrft.dsp.base.SimpleIIR object at 0x7f10ed069550>}\n",
      "TRACK BEST  {'snr': 0.005501614289165957, 'noise_db': 27.52390504173873, 'signal_db': 27.529406656027895, 'data': [1, -1, -1, -1, -1], 'phase': 20, 'doppler': 1187, 'doppler_phase': 0.03645230185543582j, 'qmax': 2372.3488012600774, 'correl_max': 7385.146040676898, 'typ2_sig': None, 'prob_detection': 0.970228445817817, 'b0_phase': <chdrft.dsp.base.SimpleIIR object at 0x7f10f1c5b160>}\n",
      "TRACK BEST  {'snr': 0.005918285488263564, 'noise_db': 27.492445735674437, 'signal_db': 27.4983640211627, 'data': [1, -1, -1, -1, -1], 'phase': 19, 'doppler': 1187, 'doppler_phase': 0.03462968676266403j, 'qmax': 2638.8088936523404, 'correl_max': 7385.1460406769065, 'typ2_sig': None, 'prob_detection': 0.9795304397527074, 'b0_phase': <chdrft.dsp.base.SimpleIIR object at 0x7f10f1c5b898>}\n",
      "TRACK BEST  {'snr': 0.007644494634355681, 'noise_db': 27.49894575158342, 'signal_db': 27.506590246217776, 'data': [1, 1, -1, -1, -1], 'phase': 20, 'doppler': 1187, 'doppler_phase': 0.03645230185543582j, 'qmax': 2939.717177721518, 'correl_max': 7515.342517865484, 'typ2_sig': None, 'prob_detection': 0.9867971116044068, 'b0_phase': <chdrft.dsp.base.SimpleIIR object at 0x7f10f1c5b0b8>}\n",
      "TRACK BEST  {'snr': 0.0038976668387533664, 'noise_db': 27.48648750450753, 'signal_db': 27.490385171346283, 'data': [1, 1, 1, 1, 1], 'phase': 19, 'doppler': 1187, 'doppler_phase': 0.03462968676266403j, 'qmax': 3647.671243787032, 'correl_max': 7515.342517865485, 'typ2_sig': None, 'prob_detection': 0.9959821620519672, 'b0_phase': <chdrft.dsp.base.SimpleIIR object at 0x7f10f1c5ba58>}\n",
      "TRACK BEST  {'snr': 0.004680769246647287, 'noise_db': 27.40626999537092, 'signal_db': 27.410950764617567, 'data': [1, 1, 1, 1, 1], 'phase': 21, 'doppler': 1187, 'doppler_phase': 0.03827491694820761j, 'qmax': 2228.4974023588006, 'correl_max': 7236.985481603268, 'typ2_sig': None, 'prob_detection': 0.9655620191672851, 'b0_phase': <chdrft.dsp.base.SimpleIIR object at 0x7f10f1c5b940>}\n",
      "TRACK BEST  {'snr': 0.002356437466669803, 'noise_db': 27.51412674940649, 'signal_db': 27.51648318687316, 'data': [1, -1, -1, 1, -1], 'phase': 3971, 'doppler': 1187, 'doppler_phase': 7.237604533396782j, 'qmax': 1911.8084778032612, 'correl_max': 7131.904486977298, 'typ2_sig': None, 'prob_detection': 0.9478946675465091, 'b0_phase': <chdrft.dsp.base.SimpleIIR object at 0x7f10f1c5b4a8>}\n",
      "TRACK BEST  {'snr': 0.0021164541289309113, 'noise_db': 27.481746822592072, 'signal_db': 27.483863276721003, 'data': [1, 1, -1, -1, -1], 'phase': 2688, 'doppler': 1187, 'doppler_phase': 4.899189369370574j, 'qmax': 2080.900954254212, 'correl_max': 7877.212061021675, 'typ2_sig': None, 'prob_detection': 0.9576650400337747, 'b0_phase': <chdrft.dsp.base.SimpleIIR object at 0x7f11062f15f8>}\n",
      "TRACK BEST  {'snr': 0.0017882907968775896, 'noise_db': 27.50449272016979, 'signal_db': 27.506281010966667, 'data': [1, 1, -1, -1, -1], 'phase': 2522, 'doppler': 1187, 'doppler_phase': 4.596635263970456j, 'qmax': 1919.1093991913965, 'correl_max': 7877.212061021681, 'typ2_sig': None, 'prob_detection': 0.9484609813428422, 'b0_phase': <chdrft.dsp.base.SimpleIIR object at 0x7f11062f1ba8>}\n",
      "TRACK BEST  {'snr': 0.0027330838347801034, 'noise_db': 27.410409374913623, 'signal_db': 27.413142458748403, 'data': [1, 1, 1, 1, 1], 'phase': 3174, 'doppler': 1187, 'doppler_phase': 5.784980304457664j, 'qmax': 3086.1221855566646, 'correl_max': 8843.267638195375, 'typ2_sig': None, 'prob_detection': 0.9900275469326572, 'b0_phase': <chdrft.dsp.base.SimpleIIR object at 0x7f10f1c5bf98>}\n",
      "TRACK BEST  {'snr': 0.0028259120303211205, 'noise_db': 27.48115918473957, 'signal_db': 27.483985096769892, 'data': [1, -1, 1, 1, -1], 'phase': 3099, 'doppler': 1187, 'doppler_phase': 5.64828417249978j, 'qmax': 1941.7822713741657, 'correl_max': 8843.267638195377, 'typ2_sig': None, 'prob_detection': 0.95007698553171, 'b0_phase': <chdrft.dsp.base.SimpleIIR object at 0x7f10f1c5b208>}\n",
      "TRACK BEST  {'snr': 0.0027497376640681637, 'noise_db': 27.49743495162243, 'signal_db': 27.5001846892865, 'data': [1, 1, 1, 1, -1], 'phase': 2471, 'doppler': 1187, 'doppler_phase': 4.5036818942390955j, 'qmax': 2011.6978736862593, 'correl_max': 7116.365479992751, 'typ2_sig': None, 'prob_detection': 0.9538007412490552, 'b0_phase': <chdrft.dsp.base.SimpleIIR object at 0x7f10f1c5be48>}\n",
      "TRACK BEST  {'snr': 0.005132407977516351, 'noise_db': 27.510088990050072, 'signal_db': 27.515221398027588, 'data': [1, 1, 1, 1, 1], 'phase': 2673, 'doppler': 1187, 'doppler_phase': 4.871850142978997j, 'qmax': 2827.9118225134644, 'correl_max': 6851.9917374650895, 'typ2_sig': None, 'prob_detection': 0.9843125349328332, 'b0_phase': <chdrft.dsp.base.SimpleIIR object at 0x7f10ed069a58>}\n"
     ]
    },
    {
     "name": "stdout",
     "output_type": "stream",
     "text": [
      "TRACK BEST  {'snr': 0.002328721780497034, 'noise_db': 27.499765905256584, 'signal_db': 27.50209462703708, 'data': [1, 1, 1, 1, 1], 'phase': 21, 'doppler': 1187, 'doppler_phase': 0.03827491694820761j, 'qmax': 2004.6357814004207, 'correl_max': 7234.258384933622, 'typ2_sig': None, 'prob_detection': 0.9533899008345099, 'b0_phase': <chdrft.dsp.base.SimpleIIR object at 0x7f10ed069860>}\n",
      "TRACK BEST  {'snr': 0.0007787273055548383, 'noise_db': 27.455744001748563, 'signal_db': 27.456522729054118, 'data': [1, 1, -1, -1, 1], 'phase': 3032, 'doppler': 1187, 'doppler_phase': 5.526168961284069j, 'qmax': 2187.824487020866, 'correl_max': 8104.851288269597, 'typ2_sig': None, 'prob_detection': 0.9632005721369781, 'b0_phase': <chdrft.dsp.base.SimpleIIR object at 0x7f10ed069940>}\n",
      "TRACK BEST  {'snr': 0.0016588997006010686, 'noise_db': 27.50891556387399, 'signal_db': 27.510574463574592, 'data': [1, 1, -1, 1, 1], 'phase': 1097, 'doppler': 1187, 'doppler_phase': 1.9994087567706547j, 'qmax': 2151.3083080127567, 'correl_max': 8104.851288269592, 'typ2_sig': None, 'prob_detection': 0.9608402134695645, 'b0_phase': <chdrft.dsp.base.SimpleIIR object at 0x7f10f1c67da0>}\n",
      "TRACK BEST  {'snr': 0.005953081225595014, 'noise_db': 27.542785015648263, 'signal_db': 27.54873809687386, 'data': [1, 1, 1, -1, -1], 'phase': 20, 'doppler': 1187, 'doppler_phase': 0.03645230185543582j, 'qmax': 2701.624379329632, 'correl_max': 8104.851288269602, 'typ2_sig': None, 'prob_detection': 0.980860110757857, 'b0_phase': <chdrft.dsp.base.SimpleIIR object at 0x7f10f1c67b70>}\n",
      "TRACK BEST  {'snr': 0.004248603910657067, 'noise_db': 27.512437727349276, 'signal_db': 27.516686331259933, 'data': [1, 1, 1, -1, -1], 'phase': 20, 'doppler': 1187, 'doppler_phase': 0.03645230185543582j, 'qmax': 2448.865309217572, 'correl_max': 6980.409896515072, 'typ2_sig': None, 'prob_detection': 0.9732186566165337, 'b0_phase': <chdrft.dsp.base.SimpleIIR object at 0x7f10f1c67e10>}\n",
      "TRACK BEST  {'snr': 0.011727742858319345, 'noise_db': 27.467810150876012, 'signal_db': 27.47953789373433, 'data': [1, 1, -1, -1, -1], 'phase': 21, 'doppler': 1187, 'doppler_phase': 0.03827491694820761j, 'qmax': 3105.3248354163306, 'correl_max': 7560.558831780392, 'typ2_sig': None, 'prob_detection': 0.9899558592493298, 'b0_phase': <chdrft.dsp.base.SimpleIIR object at 0x7f10f1c67c50>}\n",
      "TRACK BEST  {'snr': 0.004662775415805953, 'noise_db': 27.583554758010195, 'signal_db': 27.588217533426, 'data': [1, 1, 1, 1, 1], 'phase': 20, 'doppler': 1187, 'doppler_phase': 0.03645230185543582j, 'qmax': 2301.067473460228, 'correl_max': 7560.558831780386, 'typ2_sig': None, 'prob_detection': 0.9666990860785043, 'b0_phase': <chdrft.dsp.base.SimpleIIR object at 0x7f10f1c67a90>}\n",
      "TRACK BEST  {'snr': 0.002324621728703846, 'noise_db': 27.510055920051734, 'signal_db': 27.512380541780438, 'data': [1, 1, 1, 1, 1], 'phase': 20, 'doppler': 1187, 'doppler_phase': 0.03645230185543582j, 'qmax': 2301.067473460229, 'correl_max': 6899.8301596715555, 'typ2_sig': None, 'prob_detection': 0.9675414112610534, 'b0_phase': <chdrft.dsp.base.SimpleIIR object at 0x7f10f1c70588>}\n",
      "TRACK BEST  {'snr': 0.006194931343330268, 'noise_db': 27.446296878283153, 'signal_db': 27.452491809626483, 'data': [1, 1, 1, -1, -1], 'phase': 20, 'doppler': 1187, 'doppler_phase': 0.03645230185543582j, 'qmax': 2632.6661815488537, 'correl_max': 7377.732615468075, 'typ2_sig': None, 'prob_detection': 0.9797551746232473, 'b0_phase': <chdrft.dsp.base.SimpleIIR object at 0x7f10f1c70940>}\n",
      "TRACK BEST  {'snr': 0.0032632716711411547, 'noise_db': 27.43093000348626, 'signal_db': 27.4341932751574, 'data': [1, 1, 1, 1, 1], 'phase': 20, 'doppler': 1187, 'doppler_phase': 0.03645230185543582j, 'qmax': 2632.6661815488515, 'correl_max': 7377.732615468079, 'typ2_sig': None, 'prob_detection': 0.9799148012184669, 'b0_phase': <chdrft.dsp.base.SimpleIIR object at 0x7f10f1c70a20>}\n",
      "TRACK BEST  {'snr': 0.0040722506627624, 'noise_db': 27.388111564103134, 'signal_db': 27.392183814765897, 'data': [1, -1, -1, -1, -1], 'phase': 19, 'doppler': 1187, 'doppler_phase': 0.03462968676266403j, 'qmax': 3030.017443092168, 'correl_max': 7516.609779010245, 'typ2_sig': None, 'prob_detection': 0.9892163671697823, 'b0_phase': <chdrft.dsp.base.SimpleIIR object at 0x7f10f1c70be0>}\n",
      "TRACK BEST  {'snr': 0.005189896517599379, 'noise_db': 27.482820868188192, 'signal_db': 27.48801076470579, 'data': [1, 1, 1, -1, -1], 'phase': 20, 'doppler': 1187, 'doppler_phase': 0.03645230185543582j, 'qmax': 3344.3481674586983, 'correl_max': 7516.6097790102385, 'typ2_sig': None, 'prob_detection': 0.9931839744229545, 'b0_phase': <chdrft.dsp.base.SimpleIIR object at 0x7f10f1c70080>}\n",
      "TRACK BEST  {'snr': 0.002976865186543165, 'noise_db': 27.518863681721378, 'signal_db': 27.52184054690792, 'data': [1, 1, 1, 1, 1], 'phase': 21, 'doppler': 1187, 'doppler_phase': 0.03827491694820761j, 'qmax': 3183.14698290387, 'correl_max': 7675.72809292375, 'typ2_sig': None, 'prob_detection': 0.9909156821245879, 'b0_phase': <chdrft.dsp.base.SimpleIIR object at 0x7f1106303278>}\n",
      "TRACK BEST  {'snr': 0.0028597812805344347, 'noise_db': 27.522015903113278, 'signal_db': 27.524875684393812, 'data': [1, 1, 1, 1, 1], 'phase': 20, 'doppler': 1187, 'doppler_phase': 0.03645230185543582j, 'qmax': 2773.786808769975, 'correl_max': 7675.728092923761, 'typ2_sig': None, 'prob_detection': 0.9829360406179375, 'b0_phase': <chdrft.dsp.base.SimpleIIR object at 0x7f1106303860>}\n",
      "TRACK BEST  {'snr': 0.004180226816465904, 'noise_db': 27.469263265223212, 'signal_db': 27.473443492039678, 'data': [1, 1, 1, 1, -1], 'phase': 19, 'doppler': 1187, 'doppler_phase': 0.03462968676266403j, 'qmax': 3918.092091926129, 'correl_max': 7675.7280929237495, 'typ2_sig': None, 'prob_detection': 0.9976062036556531, 'b0_phase': <chdrft.dsp.base.SimpleIIR object at 0x7f11062fc978>}\n",
      "TRACK BEST  {'snr': 0.002128172780917481, 'noise_db': 27.444090441072237, 'signal_db': 27.446218613853155, 'data': [1, 1, 1, 1, 1], 'phase': 19, 'doppler': 1187, 'doppler_phase': 0.03462968676266403j, 'qmax': 2589.0254988661404, 'correl_max': 7579.571146434962, 'typ2_sig': None, 'prob_detection': 0.9785209676119699, 'b0_phase': <chdrft.dsp.base.SimpleIIR object at 0x7f11062f10b8>}\n",
      "TRACK BEST  {'snr': 0.0017407013794468185, 'noise_db': 27.443641865812403, 'signal_db': 27.44538256719185, 'data': [1, 1, 1, 1, 1], 'phase': 20, 'doppler': 1187, 'doppler_phase': 0.03645230185543582j, 'qmax': 2588.141561540479, 'correl_max': 6877.504305141423, 'typ2_sig': None, 'prob_detection': 0.9785017378526317, 'b0_phase': <chdrft.dsp.base.SimpleIIR object at 0x7f11062f1e80>}\n",
      "TRACK BEST  {'snr': 0.0018826550997417257, 'noise_db': 27.343138822505075, 'signal_db': 27.345021477604817, 'data': [1, 1, 1, 1, 1], 'phase': 20, 'doppler': 1187, 'doppler_phase': 0.03645230185543582j, 'qmax': 2022.9429843944936, 'correl_max': 7455.693931761624, 'typ2_sig': None, 'prob_detection': 0.9563505843124278, 'b0_phase': <chdrft.dsp.base.SimpleIIR object at 0x7f110630eda0>}\n",
      "TRACK BEST  {'snr': 0.004200107764763317, 'noise_db': 27.45716920328985, 'signal_db': 27.461369311054614, 'data': [1, 1, 1, 1, -1], 'phase': 20, 'doppler': 1187, 'doppler_phase': 0.03645230185543582j, 'qmax': 2538.970135099655, 'correl_max': 7826.2372199120855, 'typ2_sig': None, 'prob_detection': 0.9768193448703422, 'b0_phase': <chdrft.dsp.base.SimpleIIR object at 0x7f110630e5c0>}\n",
      "TRACK BEST  {'snr': 0.0020306197795889602, 'noise_db': 27.501085835237504, 'signal_db': 27.503116455017093, 'data': [1, 1, 1, 1, 1], 'phase': 20, 'doppler': 1187, 'doppler_phase': 0.03645230185543582j, 'qmax': 2538.970135099658, 'correl_max': 7826.237219912078, 'typ2_sig': None, 'prob_detection': 0.9764253828641395, 'b0_phase': <chdrft.dsp.base.SimpleIIR object at 0x7f11062f1f98>}\n",
      "TRACK BEST  {'snr': 0.0017088982972310873, 'noise_db': 27.583367728310545, 'signal_db': 27.585076626607776, 'data': [1, 1, 1, 1, 1], 'phase': 20, 'doppler': 1187, 'doppler_phase': 0.03645230185543582j, 'qmax': 2434.946934859231, 'correl_max': 7461.699329703239, 'typ2_sig': None, 'prob_detection': 0.9720146234053202, 'b0_phase': <chdrft.dsp.base.SimpleIIR object at 0x7f1106303550>}\n",
      "TRACK BEST  {'snr': 0.0029049131468781297, 'noise_db': 27.468504965868853, 'signal_db': 27.47140987901573, 'data': [1, 1, -1, -1, 1], 'phase': 1562, 'doppler': 1187, 'doppler_phase': 2.8469247749095374j, 'qmax': 2188.530146163811, 'correl_max': 7992.3711225222405, 'typ2_sig': None, 'prob_detection': 0.9630597524653666, 'b0_phase': <chdrft.dsp.base.SimpleIIR object at 0x7f1106303fd0>}\n"
     ]
    },
    {
     "name": "stdout",
     "output_type": "stream",
     "text": [
      "TRACK BEST  {'snr': 0.003949783881996183, 'noise_db': 27.490966865469613, 'signal_db': 27.49491664935161, 'data': [1, 1, 1, -1, -1], 'phase': 2569, 'doppler': 1187, 'doppler_phase': 4.6822981733307305j, 'qmax': 2633.947721350104, 'correl_max': 7992.371122522235, 'typ2_sig': None, 'prob_detection': 0.9794197387835212, 'b0_phase': <chdrft.dsp.base.SimpleIIR object at 0x7f10f1c70cc0>}\n",
      "TRACK BEST  {'snr': 0.002424851090207625, 'noise_db': 27.422090136822483, 'signal_db': 27.42451498791269, 'data': [1, 1, 1, 1, 1], 'phase': 20, 'doppler': 1187, 'doppler_phase': 0.03645230185543582j, 'qmax': 3044.108182987209, 'correl_max': 7606.7581348830745, 'typ2_sig': None, 'prob_detection': 0.989264175485799, 'b0_phase': <chdrft.dsp.base.SimpleIIR object at 0x7f10f1c709e8>}\n",
      "TRACK BEST  {'snr': 0.0039746298770353405, 'noise_db': 27.554298784630255, 'signal_db': 27.55827341450729, 'data': [1, 1, 1, 1, 1], 'phase': 19, 'doppler': 1187, 'doppler_phase': 0.03462968676266403j, 'qmax': 2812.070080903196, 'correl_max': 8037.801312979138, 'typ2_sig': None, 'prob_detection': 0.9836087187600062, 'b0_phase': <chdrft.dsp.base.SimpleIIR object at 0x7f10f1c70ef0>}\n",
      "TRACK BEST  {'snr': 0.004892024953605301, 'noise_db': 27.465402289193, 'signal_db': 27.470294314146606, 'data': [1, 1, 1, 1, 1], 'phase': 20, 'doppler': 1187, 'doppler_phase': 0.03645230185543582j, 'qmax': 3043.05267969501, 'correl_max': 9161.892581567943, 'typ2_sig': None, 'prob_detection': 0.9889692905806524, 'b0_phase': <chdrft.dsp.base.SimpleIIR object at 0x7f10f1c70da0>}\n",
      "<gr_block freq_xlating_fir_filter<IN_T,OUT_T,TAP_T> (45)>\n",
      "<gr_block mmse_resampler_cc (46)>\n",
      "START >>  1636800 29\n",
      "TRACK BEST  {'snr': 0.03227846930178657, 'noise_db': 27.434397378709345, 'signal_db': 27.466675848011132, 'data': [1, 1, 1, 1, 1], 'phase': 2428, 'doppler': 1437, 'doppler_phase': 5.357345975420487j, 'qmax': 7559.259090057203, 'correl_max': 10424.397809845499, 'typ2_sig': None, 'prob_detection': 0.9999998584409324, 'b0_phase': <chdrft.dsp.base.SimpleIIR object at 0x7f10f1c677f0>}\n",
      "Start tracking at  0 22868\n",
      "LOST ACQUISITION >> srn= {'snr': 0.02992030931158496, 'ang_at': 2.0196919895208705, 'noise_db': 27.434397378709345, 'signal_db': 27.46431768802093, 'prob_detection': 0.9975577117427642, 'p': 0.9975577117427642, 'phase': 14, 'nb0_phase': -1.121900664068923, 'doppler': 1339.3333333333346, 'doppler_phase': 1603.5865951922542j, 'ts': 751258}\n"
     ]
    }
   ],
   "source": [
    "res = opa_gps.test_gps_4msps()"
   ]
  },
  {
   "cell_type": "code",
   "execution_count": 75,
   "metadata": {
    "ExecuteTime": {
     "end_time": "2019-09-01T21:15:11.010391Z",
     "start_time": "2019-09-01T21:15:10.999041Z"
    }
   },
   "outputs": [
    {
     "name": "stdout",
     "output_type": "stream",
     "text": [
      "la\n"
     ]
    }
   ],
   "source": [
    "print('la')\n",
    "target = res.lst[1]\n",
    "df = Z.pd.DataFrame.from_records(target.output)\n",
    "\n",
    "\n"
   ]
  },
  {
   "cell_type": "code",
   "execution_count": 18,
   "metadata": {
    "ExecuteTime": {
     "end_time": "2019-09-01T22:35:50.250106Z",
     "start_time": "2019-09-01T22:35:50.242950Z"
    }
   },
   "outputs": [],
   "source": [
    "df = Z.pd.DataFrame.from_records(tmp.p.output)"
   ]
  },
  {
   "cell_type": "code",
   "execution_count": 29,
   "metadata": {
    "ExecuteTime": {
     "end_time": "2019-09-01T23:18:35.559662Z",
     "start_time": "2019-09-01T23:18:35.548355Z"
    }
   },
   "outputs": [],
   "source": [
    "\n",
    "x = df['ts'] / tmp.p.conf.sample_rate\n",
    "Z.plt.plot(x, df['doppler'])\n",
    "y = np.log(df['prob_detection'])\n",
    "#Z.plt.plot(x, y)"
   ]
  },
  {
   "cell_type": "code",
   "execution_count": 20,
   "metadata": {
    "ExecuteTime": {
     "end_time": "2019-09-01T22:36:48.704288Z",
     "start_time": "2019-09-01T22:36:48.647406Z"
    }
   },
   "outputs": [
    {
     "data": {
      "text/plain": [
       "[<matplotlib.lines.Line2D at 0x7fd24a2c8048>]"
      ]
     },
     "execution_count": 20,
     "metadata": {},
     "output_type": "execute_result"
    }
   ],
   "source": [
    "%matplotlib qt\n",
    "x = df.index\n",
    "x = df['ts'] / tmp.p.conf.sample_rate\n",
    "y = df['doppler']\n",
    "y = np.log(df['prob_detection'])\n",
    "y = df['phase_diff']\n",
    "y = np.unwrap(df['ang_at'])\n",
    "Z.plt.plot(x, y)\n",
    "Z.plt.plot(x, df['ang_at'])\n",
    "Z.plt.plot(x, df['b0_phase'])\n",
    "Z.plt.plot(x, df['nb0_phase'])"
   ]
  },
  {
   "cell_type": "code",
   "execution_count": 19,
   "metadata": {
    "ExecuteTime": {
     "end_time": "2019-09-01T19:10:04.137219Z",
     "start_time": "2019-09-01T19:10:04.130002Z"
    }
   },
   "outputs": [
    {
     "data": {
      "text/plain": [
       "ang_at              (1.3233034852498284+0j)\n",
       "doppler             (1318.0000000000023+0j)\n",
       "doppler_phase             1828.55697408139j\n",
       "nb0_phase          (-1.8182891683399642+0j)\n",
       "noise_db            (27.434397378709345+0j)\n",
       "p                   (0.9756805960850965+0j)\n",
       "phase                                    0j\n",
       "prob_detection      (0.9756805960850965+0j)\n",
       "signal_db           (27.350437721837846+0j)\n",
       "snr               (-0.08395965687149953+0j)\n",
       "ts                              (865835+0j)\n",
       "Name: 206, dtype: complex128"
      ]
     },
     "execution_count": 19,
     "metadata": {},
     "output_type": "execute_result"
    }
   ],
   "source": [
    "idx = df['ts'].searchsorted(low)\n",
    "df.iloc[idx]"
   ]
  },
  {
   "cell_type": "code",
   "execution_count": 37,
   "metadata": {
    "ExecuteTime": {
     "end_time": "2019-09-01T20:13:43.756820Z",
     "start_time": "2019-09-01T20:12:38.545036Z"
    }
   },
   "outputs": [
    {
     "name": "stdout",
     "output_type": "stream",
     "text": [
      "160\n",
      "{'by_prob': {'b0_phase': <chdrft.dsp.base.SimpleIIR object at 0x7f10f199f208>,\n",
      "             'correl_max': 8018.3085552003095,\n",
      "             'data': [1, 1],\n",
      "             'doppler': 625.0,\n",
      "             'doppler_phase': 1.988446963049258j,\n",
      "             'noise_db': 27.476901158471932,\n",
      "             'phase': 2072,\n",
      "             'prob_detection': 0.9997269613609894,\n",
      "             'qmax': 4945.963349791086,\n",
      "             'signal_db': 27.486284821662483,\n",
      "             'snr': 0.009383663190551061,\n",
      "             'typ2_sig': None},\n",
      " 'by_snr': {'b0_phase': <chdrft.dsp.base.SimpleIIR object at 0x7f10f199f5c0>,\n",
      "            'correl_max': 7584.207203609786,\n",
      "            'data': [1, 1],\n",
      "            'doppler': 750.0,\n",
      "            'doppler_phase': 2.3861363556591098j,\n",
      "            'noise_db': 27.475101111125685,\n",
      "            'phase': 2072,\n",
      "            'prob_detection': 0.9990607254831769,\n",
      "            'qmax': 4388.948773040344,\n",
      "            'signal_db': 27.486284821662483,\n",
      "            'snr': 0.01118371053679823,\n",
      "            'typ2_sig': None}}\n"
     ]
    }
   ],
   "source": [
    "low = 0\n",
    "tds = res.ds.y[low:]\n",
    "p = get_p(target.sat_num, acq_sym=2, l1ca_repeat=1)\n",
    "sig = tds[:p.acq_proc_size]\n",
    "doppler_space =  np.arange(-10000, 10000, p.conf.doppler_step)\n",
    "Z.pprint(analyse1(p, doppler_space, sig[:p.acq_proc_size]))"
   ]
  },
  {
   "cell_type": "code",
   "execution_count": 15,
   "metadata": {
    "ExecuteTime": {
     "end_time": "2019-09-01T19:05:54.310343Z",
     "start_time": "2019-09-01T19:05:54.290845Z"
    }
   },
   "outputs": [
    {
     "ename": "AttributeError",
     "evalue": "'DataSet' object has no attribute 'shape'",
     "output_type": "error",
     "traceback": [
      "\u001b[0;31m---------------------------------------------------------------------------\u001b[0m",
      "\u001b[0;31mAttributeError\u001b[0m                            Traceback (most recent call last)",
      "\u001b[0;32m<ipython-input-15-cdb4b984ea11>\u001b[0m in \u001b[0;36m<module>\u001b[0;34m\u001b[0m\n\u001b[0;32m----> 1\u001b[0;31m \u001b[0msig\u001b[0m\u001b[0;34m.\u001b[0m\u001b[0mshape\u001b[0m\u001b[0;34m\u001b[0m\u001b[0;34m\u001b[0m\u001b[0m\n\u001b[0m",
      "\u001b[0;31mAttributeError\u001b[0m: 'DataSet' object has no attribute 'shape'"
     ]
    }
   ],
   "source": [
    "sig.shape"
   ]
  },
  {
   "cell_type": "code",
   "execution_count": null,
   "metadata": {},
   "outputs": [],
   "source": []
  },
  {
   "cell_type": "code",
   "execution_count": 13,
   "metadata": {
    "ExecuteTime": {
     "end_time": "2019-09-01T18:46:42.708000Z",
     "start_time": "2019-09-01T18:46:42.703384Z"
    }
   },
   "outputs": [
    {
     "data": {
      "text/plain": [
       "29"
      ]
     },
     "execution_count": 13,
     "metadata": {},
     "output_type": "execute_result"
    }
   ],
   "source": [
    "res.lst[4].sat_num"
   ]
  },
  {
   "cell_type": "code",
   "execution_count": 12,
   "metadata": {
    "ExecuteTime": {
     "end_time": "2019-09-01T18:46:03.273419Z",
     "start_time": "2019-09-01T18:46:03.226166Z"
    }
   },
   "outputs": [
    {
     "data": {
      "text/html": [
       "<div>\n",
       "<style scoped>\n",
       "    .dataframe tbody tr th:only-of-type {\n",
       "        vertical-align: middle;\n",
       "    }\n",
       "\n",
       "    .dataframe tbody tr th {\n",
       "        vertical-align: top;\n",
       "    }\n",
       "\n",
       "    .dataframe thead th {\n",
       "        text-align: right;\n",
       "    }\n",
       "</style>\n",
       "<table border=\"1\" class=\"dataframe\">\n",
       "  <thead>\n",
       "    <tr style=\"text-align: right;\">\n",
       "      <th></th>\n",
       "      <th>ang_at</th>\n",
       "      <th>doppler</th>\n",
       "      <th>doppler_phase</th>\n",
       "      <th>nb0_phase</th>\n",
       "      <th>noise_db</th>\n",
       "      <th>p</th>\n",
       "      <th>phase</th>\n",
       "      <th>prob_detection</th>\n",
       "      <th>signal_db</th>\n",
       "      <th>snr</th>\n",
       "      <th>ts</th>\n",
       "    </tr>\n",
       "  </thead>\n",
       "  <tbody>\n",
       "    <tr>\n",
       "      <th>0</th>\n",
       "      <td>0.946864</td>\n",
       "      <td>1437.333333</td>\n",
       "      <td>50.50203496663961j</td>\n",
       "      <td>0.946864</td>\n",
       "      <td>27.434397</td>\n",
       "      <td>6.681011e-11</td>\n",
       "      <td>5</td>\n",
       "      <td>1.000000</td>\n",
       "      <td>27.616532</td>\n",
       "      <td>0.182135</td>\n",
       "      <td>22888</td>\n",
       "    </tr>\n",
       "    <tr>\n",
       "      <th>1</th>\n",
       "      <td>0.864713</td>\n",
       "      <td>1436.333333</td>\n",
       "      <td>59.53305897075767j</td>\n",
       "      <td>0.864713</td>\n",
       "      <td>27.434397</td>\n",
       "      <td>2.121925e-11</td>\n",
       "      <td>5</td>\n",
       "      <td>1.000000</td>\n",
       "      <td>27.624383</td>\n",
       "      <td>0.189986</td>\n",
       "      <td>26980</td>\n",
       "    </tr>\n",
       "    <tr>\n",
       "      <th>2</th>\n",
       "      <td>0.711948</td>\n",
       "      <td>1435.333333</td>\n",
       "      <td>68.5555958635395j</td>\n",
       "      <td>0.711948</td>\n",
       "      <td>27.434397</td>\n",
       "      <td>7.875967e-09</td>\n",
       "      <td>4</td>\n",
       "      <td>1.000000</td>\n",
       "      <td>27.371046</td>\n",
       "      <td>-0.063351</td>\n",
       "      <td>31071</td>\n",
       "    </tr>\n",
       "    <tr>\n",
       "      <th>3</th>\n",
       "      <td>0.535582</td>\n",
       "      <td>1435.666667</td>\n",
       "      <td>77.57185929572258j</td>\n",
       "      <td>0.535582</td>\n",
       "      <td>27.434397</td>\n",
       "      <td>1.486438e-07</td>\n",
       "      <td>4</td>\n",
       "      <td>1.000000</td>\n",
       "      <td>27.570216</td>\n",
       "      <td>0.135818</td>\n",
       "      <td>35163</td>\n",
       "    </tr>\n",
       "    <tr>\n",
       "      <th>4</th>\n",
       "      <td>0.203123</td>\n",
       "      <td>1434.666667</td>\n",
       "      <td>86.59241132432867j</td>\n",
       "      <td>0.203123</td>\n",
       "      <td>27.434397</td>\n",
       "      <td>1.072364e-12</td>\n",
       "      <td>5</td>\n",
       "      <td>1.000000</td>\n",
       "      <td>27.433373</td>\n",
       "      <td>-0.001024</td>\n",
       "      <td>39256</td>\n",
       "    </tr>\n",
       "    <tr>\n",
       "      <th>5</th>\n",
       "      <td>-0.148585</td>\n",
       "      <td>1434.333333</td>\n",
       "      <td>95.60448289534641j</td>\n",
       "      <td>-0.148585</td>\n",
       "      <td>27.434397</td>\n",
       "      <td>3.198427e-09</td>\n",
       "      <td>4</td>\n",
       "      <td>1.000000</td>\n",
       "      <td>27.404113</td>\n",
       "      <td>-0.030284</td>\n",
       "      <td>43347</td>\n",
       "    </tr>\n",
       "    <tr>\n",
       "      <th>6</th>\n",
       "      <td>-0.154640</td>\n",
       "      <td>1433.333333</td>\n",
       "      <td>104.61445648847443j</td>\n",
       "      <td>-0.154640</td>\n",
       "      <td>27.434397</td>\n",
       "      <td>3.190299e-10</td>\n",
       "      <td>4</td>\n",
       "      <td>1.000000</td>\n",
       "      <td>27.586621</td>\n",
       "      <td>0.152223</td>\n",
       "      <td>47439</td>\n",
       "    </tr>\n",
       "    <tr>\n",
       "      <th>7</th>\n",
       "      <td>-0.204376</td>\n",
       "      <td>1433.000000</td>\n",
       "      <td>113.62035286963136j</td>\n",
       "      <td>-0.204376</td>\n",
       "      <td>27.434397</td>\n",
       "      <td>1.236520e-08</td>\n",
       "      <td>5</td>\n",
       "      <td>1.000000</td>\n",
       "      <td>27.564642</td>\n",
       "      <td>0.130245</td>\n",
       "      <td>51532</td>\n",
       "    </tr>\n",
       "    <tr>\n",
       "      <th>8</th>\n",
       "      <td>-0.570740</td>\n",
       "      <td>1432.666667</td>\n",
       "      <td>122.62415485568592j</td>\n",
       "      <td>-0.570740</td>\n",
       "      <td>27.434397</td>\n",
       "      <td>1.588884e-07</td>\n",
       "      <td>5</td>\n",
       "      <td>1.000000</td>\n",
       "      <td>27.296573</td>\n",
       "      <td>-0.137825</td>\n",
       "      <td>55624</td>\n",
       "    </tr>\n",
       "    <tr>\n",
       "      <th>9</th>\n",
       "      <td>-0.656274</td>\n",
       "      <td>1433.666667</td>\n",
       "      <td>131.623671316278j</td>\n",
       "      <td>-0.656274</td>\n",
       "      <td>27.434397</td>\n",
       "      <td>4.658972e-09</td>\n",
       "      <td>4</td>\n",
       "      <td>1.000000</td>\n",
       "      <td>27.454276</td>\n",
       "      <td>0.019879</td>\n",
       "      <td>59715</td>\n",
       "    </tr>\n",
       "    <tr>\n",
       "      <th>10</th>\n",
       "      <td>-0.714107</td>\n",
       "      <td>1432.666667</td>\n",
       "      <td>140.63165697426973j</td>\n",
       "      <td>-0.714107</td>\n",
       "      <td>27.434397</td>\n",
       "      <td>1.196409e-10</td>\n",
       "      <td>5</td>\n",
       "      <td>1.000000</td>\n",
       "      <td>27.362145</td>\n",
       "      <td>-0.072253</td>\n",
       "      <td>63808</td>\n",
       "    </tr>\n",
       "    <tr>\n",
       "      <th>11</th>\n",
       "      <td>-1.269200</td>\n",
       "      <td>1431.666667</td>\n",
       "      <td>149.6311611510196j</td>\n",
       "      <td>1.872392</td>\n",
       "      <td>27.434397</td>\n",
       "      <td>1.000000e+00</td>\n",
       "      <td>4</td>\n",
       "      <td>1.000000</td>\n",
       "      <td>27.575494</td>\n",
       "      <td>0.141096</td>\n",
       "      <td>67899</td>\n",
       "    </tr>\n",
       "    <tr>\n",
       "      <th>12</th>\n",
       "      <td>-1.235242</td>\n",
       "      <td>1430.666667</td>\n",
       "      <td>158.62438367794255j</td>\n",
       "      <td>1.906350</td>\n",
       "      <td>27.434397</td>\n",
       "      <td>1.000000e+00</td>\n",
       "      <td>4</td>\n",
       "      <td>1.000000</td>\n",
       "      <td>27.562278</td>\n",
       "      <td>0.127881</td>\n",
       "      <td>71991</td>\n",
       "    </tr>\n",
       "    <tr>\n",
       "      <th>13</th>\n",
       "      <td>-1.386326</td>\n",
       "      <td>1429.666667</td>\n",
       "      <td>167.6113245550386j</td>\n",
       "      <td>1.755266</td>\n",
       "      <td>27.434397</td>\n",
       "      <td>9.999904e-01</td>\n",
       "      <td>4</td>\n",
       "      <td>0.999990</td>\n",
       "      <td>27.540859</td>\n",
       "      <td>0.106462</td>\n",
       "      <td>76083</td>\n",
       "    </tr>\n",
       "    <tr>\n",
       "      <th>14</th>\n",
       "      <td>-1.411445</td>\n",
       "      <td>1428.666667</td>\n",
       "      <td>176.59417747180163j</td>\n",
       "      <td>1.730148</td>\n",
       "      <td>27.434397</td>\n",
       "      <td>1.000000e+00</td>\n",
       "      <td>5</td>\n",
       "      <td>1.000000</td>\n",
       "      <td>27.559065</td>\n",
       "      <td>0.124668</td>\n",
       "      <td>80176</td>\n",
       "    </tr>\n",
       "    <tr>\n",
       "      <th>15</th>\n",
       "      <td>-1.594037</td>\n",
       "      <td>1427.666667</td>\n",
       "      <td>185.57074720325744j</td>\n",
       "      <td>1.547556</td>\n",
       "      <td>27.434397</td>\n",
       "      <td>1.000000e+00</td>\n",
       "      <td>5</td>\n",
       "      <td>1.000000</td>\n",
       "      <td>27.450955</td>\n",
       "      <td>0.016557</td>\n",
       "      <td>84268</td>\n",
       "    </tr>\n",
       "    <tr>\n",
       "      <th>16</th>\n",
       "      <td>-1.783425</td>\n",
       "      <td>1426.666667</td>\n",
       "      <td>194.5410337494061j</td>\n",
       "      <td>1.358168</td>\n",
       "      <td>27.434397</td>\n",
       "      <td>9.999993e-01</td>\n",
       "      <td>5</td>\n",
       "      <td>0.999999</td>\n",
       "      <td>27.651668</td>\n",
       "      <td>0.217271</td>\n",
       "      <td>88360</td>\n",
       "    </tr>\n",
       "    <tr>\n",
       "      <th>17</th>\n",
       "      <td>-2.131430</td>\n",
       "      <td>1425.666667</td>\n",
       "      <td>203.50503711024757j</td>\n",
       "      <td>1.010163</td>\n",
       "      <td>27.434397</td>\n",
       "      <td>1.000000e+00</td>\n",
       "      <td>5</td>\n",
       "      <td>1.000000</td>\n",
       "      <td>27.567000</td>\n",
       "      <td>0.132603</td>\n",
       "      <td>92452</td>\n",
       "    </tr>\n",
       "    <tr>\n",
       "      <th>18</th>\n",
       "      <td>-2.165015</td>\n",
       "      <td>1424.666667</td>\n",
       "      <td>212.46056973820913j</td>\n",
       "      <td>0.976578</td>\n",
       "      <td>27.434397</td>\n",
       "      <td>1.000000e+00</td>\n",
       "      <td>4</td>\n",
       "      <td>1.000000</td>\n",
       "      <td>27.635177</td>\n",
       "      <td>0.200779</td>\n",
       "      <td>96543</td>\n",
       "    </tr>\n",
       "    <tr>\n",
       "      <th>19</th>\n",
       "      <td>-2.448696</td>\n",
       "      <td>1423.666667</td>\n",
       "      <td>221.40982071634377j</td>\n",
       "      <td>0.692897</td>\n",
       "      <td>27.434397</td>\n",
       "      <td>1.000000e+00</td>\n",
       "      <td>4</td>\n",
       "      <td>1.000000</td>\n",
       "      <td>27.547378</td>\n",
       "      <td>0.112981</td>\n",
       "      <td>100635</td>\n",
       "    </tr>\n",
       "    <tr>\n",
       "      <th>20</th>\n",
       "      <td>-3.065929</td>\n",
       "      <td>1422.666667</td>\n",
       "      <td>230.3549745212637j</td>\n",
       "      <td>0.075663</td>\n",
       "      <td>27.434397</td>\n",
       "      <td>1.000000e+00</td>\n",
       "      <td>5</td>\n",
       "      <td>1.000000</td>\n",
       "      <td>27.331452</td>\n",
       "      <td>-0.102945</td>\n",
       "      <td>104728</td>\n",
       "    </tr>\n",
       "    <tr>\n",
       "      <th>21</th>\n",
       "      <td>-2.716366</td>\n",
       "      <td>1421.666667</td>\n",
       "      <td>239.29166219974456j</td>\n",
       "      <td>0.425226</td>\n",
       "      <td>27.434397</td>\n",
       "      <td>9.999999e-01</td>\n",
       "      <td>4</td>\n",
       "      <td>1.000000</td>\n",
       "      <td>27.360366</td>\n",
       "      <td>-0.074031</td>\n",
       "      <td>108819</td>\n",
       "    </tr>\n",
       "    <tr>\n",
       "      <th>22</th>\n",
       "      <td>2.905505</td>\n",
       "      <td>1421.333333</td>\n",
       "      <td>248.22207232301258j</td>\n",
       "      <td>-0.236087</td>\n",
       "      <td>27.434397</td>\n",
       "      <td>1.000000e+00</td>\n",
       "      <td>4</td>\n",
       "      <td>1.000000</td>\n",
       "      <td>27.386390</td>\n",
       "      <td>-0.048007</td>\n",
       "      <td>112911</td>\n",
       "    </tr>\n",
       "    <tr>\n",
       "      <th>23</th>\n",
       "      <td>2.986754</td>\n",
       "      <td>1420.333333</td>\n",
       "      <td>257.15038446839094j</td>\n",
       "      <td>-0.154839</td>\n",
       "      <td>27.434397</td>\n",
       "      <td>1.000000e+00</td>\n",
       "      <td>4</td>\n",
       "      <td>1.000000</td>\n",
       "      <td>27.440532</td>\n",
       "      <td>0.006135</td>\n",
       "      <td>117003</td>\n",
       "    </tr>\n",
       "    <tr>\n",
       "      <th>24</th>\n",
       "      <td>2.800197</td>\n",
       "      <td>1419.333333</td>\n",
       "      <td>266.0724149639424j</td>\n",
       "      <td>-0.341395</td>\n",
       "      <td>27.434397</td>\n",
       "      <td>1.000000e+00</td>\n",
       "      <td>4</td>\n",
       "      <td>1.000000</td>\n",
       "      <td>27.352660</td>\n",
       "      <td>-0.081737</td>\n",
       "      <td>121095</td>\n",
       "    </tr>\n",
       "    <tr>\n",
       "      <th>25</th>\n",
       "      <td>2.333800</td>\n",
       "      <td>1418.333333</td>\n",
       "      <td>274.9903416325312j</td>\n",
       "      <td>-0.807792</td>\n",
       "      <td>27.434397</td>\n",
       "      <td>1.000000e+00</td>\n",
       "      <td>5</td>\n",
       "      <td>1.000000</td>\n",
       "      <td>27.400308</td>\n",
       "      <td>-0.034089</td>\n",
       "      <td>125188</td>\n",
       "    </tr>\n",
       "    <tr>\n",
       "      <th>26</th>\n",
       "      <td>2.227684</td>\n",
       "      <td>1419.333333</td>\n",
       "      <td>283.8998211122711j</td>\n",
       "      <td>-0.913909</td>\n",
       "      <td>27.434397</td>\n",
       "      <td>1.000000e+00</td>\n",
       "      <td>4</td>\n",
       "      <td>1.000000</td>\n",
       "      <td>27.513391</td>\n",
       "      <td>0.078994</td>\n",
       "      <td>129279</td>\n",
       "    </tr>\n",
       "    <tr>\n",
       "      <th>27</th>\n",
       "      <td>1.521170</td>\n",
       "      <td>1418.333333</td>\n",
       "      <td>292.8155699579957j</td>\n",
       "      <td>1.521170</td>\n",
       "      <td>27.434397</td>\n",
       "      <td>6.861178e-14</td>\n",
       "      <td>4</td>\n",
       "      <td>1.000000</td>\n",
       "      <td>27.503276</td>\n",
       "      <td>0.068879</td>\n",
       "      <td>133371</td>\n",
       "    </tr>\n",
       "    <tr>\n",
       "      <th>28</th>\n",
       "      <td>1.317291</td>\n",
       "      <td>1417.333333</td>\n",
       "      <td>301.72503715389337j</td>\n",
       "      <td>1.317291</td>\n",
       "      <td>27.434397</td>\n",
       "      <td>7.344980e-09</td>\n",
       "      <td>4</td>\n",
       "      <td>1.000000</td>\n",
       "      <td>27.557977</td>\n",
       "      <td>0.123579</td>\n",
       "      <td>137463</td>\n",
       "    </tr>\n",
       "    <tr>\n",
       "      <th>29</th>\n",
       "      <td>1.162547</td>\n",
       "      <td>1416.333333</td>\n",
       "      <td>310.6282226999641j</td>\n",
       "      <td>1.162547</td>\n",
       "      <td>27.434397</td>\n",
       "      <td>1.554206e-08</td>\n",
       "      <td>4</td>\n",
       "      <td>1.000000</td>\n",
       "      <td>27.471964</td>\n",
       "      <td>0.037567</td>\n",
       "      <td>141555</td>\n",
       "    </tr>\n",
       "    <tr>\n",
       "      <th>...</th>\n",
       "      <td>...</td>\n",
       "      <td>...</td>\n",
       "      <td>...</td>\n",
       "      <td>...</td>\n",
       "      <td>...</td>\n",
       "      <td>...</td>\n",
       "      <td>...</td>\n",
       "      <td>...</td>\n",
       "      <td>...</td>\n",
       "      <td>...</td>\n",
       "      <td>...</td>\n",
       "    </tr>\n",
       "    <tr>\n",
       "      <th>364</th>\n",
       "      <td>2.926762</td>\n",
       "      <td>1243.333333</td>\n",
       "      <td>3099.7688670565217j</td>\n",
       "      <td>-3.356423</td>\n",
       "      <td>27.434397</td>\n",
       "      <td>6.324340e-04</td>\n",
       "      <td>4</td>\n",
       "      <td>0.999368</td>\n",
       "      <td>27.376944</td>\n",
       "      <td>-0.057454</td>\n",
       "      <td>1512375</td>\n",
       "    </tr>\n",
       "    <tr>\n",
       "      <th>365</th>\n",
       "      <td>-2.554922</td>\n",
       "      <td>1244.333333</td>\n",
       "      <td>3107.5714152193723j</td>\n",
       "      <td>-2.554922</td>\n",
       "      <td>27.434397</td>\n",
       "      <td>7.456056e-03</td>\n",
       "      <td>0</td>\n",
       "      <td>0.992544</td>\n",
       "      <td>27.512620</td>\n",
       "      <td>0.078223</td>\n",
       "      <td>1516463</td>\n",
       "    </tr>\n",
       "    <tr>\n",
       "      <th>366</th>\n",
       "      <td>0.366065</td>\n",
       "      <td>1243.333333</td>\n",
       "      <td>3115.3821480039437j</td>\n",
       "      <td>-2.775527</td>\n",
       "      <td>27.434397</td>\n",
       "      <td>9.966843e-01</td>\n",
       "      <td>1</td>\n",
       "      <td>0.996684</td>\n",
       "      <td>27.451345</td>\n",
       "      <td>0.016948</td>\n",
       "      <td>1520556</td>\n",
       "    </tr>\n",
       "    <tr>\n",
       "      <th>367</th>\n",
       "      <td>3.028117</td>\n",
       "      <td>1242.333333</td>\n",
       "      <td>3123.2037719501436j</td>\n",
       "      <td>-3.255068</td>\n",
       "      <td>27.434397</td>\n",
       "      <td>6.559789e-03</td>\n",
       "      <td>10</td>\n",
       "      <td>0.993440</td>\n",
       "      <td>27.489731</td>\n",
       "      <td>0.055333</td>\n",
       "      <td>1524657</td>\n",
       "    </tr>\n",
       "    <tr>\n",
       "      <th>368</th>\n",
       "      <td>0.303210</td>\n",
       "      <td>1241.333333</td>\n",
       "      <td>3131.001950647943j</td>\n",
       "      <td>-2.838382</td>\n",
       "      <td>27.434397</td>\n",
       "      <td>9.976771e-01</td>\n",
       "      <td>1</td>\n",
       "      <td>0.997677</td>\n",
       "      <td>27.365746</td>\n",
       "      <td>-0.068651</td>\n",
       "      <td>1528740</td>\n",
       "    </tr>\n",
       "    <tr>\n",
       "      <th>369</th>\n",
       "      <td>-1.512858</td>\n",
       "      <td>1240.333333</td>\n",
       "      <td>3138.797661317105j</td>\n",
       "      <td>-1.512858</td>\n",
       "      <td>27.434397</td>\n",
       "      <td>5.324239e-07</td>\n",
       "      <td>3</td>\n",
       "      <td>0.999999</td>\n",
       "      <td>27.628896</td>\n",
       "      <td>0.194499</td>\n",
       "      <td>1532834</td>\n",
       "    </tr>\n",
       "    <tr>\n",
       "      <th>370</th>\n",
       "      <td>0.720491</td>\n",
       "      <td>1239.333333</td>\n",
       "      <td>3146.5908978157086j</td>\n",
       "      <td>-2.421102</td>\n",
       "      <td>27.434397</td>\n",
       "      <td>9.964224e-01</td>\n",
       "      <td>5</td>\n",
       "      <td>0.996422</td>\n",
       "      <td>27.578439</td>\n",
       "      <td>0.144042</td>\n",
       "      <td>1536928</td>\n",
       "    </tr>\n",
       "    <tr>\n",
       "      <th>371</th>\n",
       "      <td>2.709249</td>\n",
       "      <td>1239.000000</td>\n",
       "      <td>3154.385466087542j</td>\n",
       "      <td>-3.573936</td>\n",
       "      <td>27.434397</td>\n",
       "      <td>9.827017e-03</td>\n",
       "      <td>9</td>\n",
       "      <td>0.990173</td>\n",
       "      <td>27.432936</td>\n",
       "      <td>-0.001462</td>\n",
       "      <td>1541024</td>\n",
       "    </tr>\n",
       "    <tr>\n",
       "      <th>372</th>\n",
       "      <td>0.139493</td>\n",
       "      <td>1238.000000</td>\n",
       "      <td>3162.1703250057362j</td>\n",
       "      <td>-3.002100</td>\n",
       "      <td>27.434397</td>\n",
       "      <td>9.995228e-01</td>\n",
       "      <td>5</td>\n",
       "      <td>0.999523</td>\n",
       "      <td>27.396518</td>\n",
       "      <td>-0.037880</td>\n",
       "      <td>1545112</td>\n",
       "    </tr>\n",
       "    <tr>\n",
       "      <th>373</th>\n",
       "      <td>0.707344</td>\n",
       "      <td>1237.000000</td>\n",
       "      <td>3169.94510196041j</td>\n",
       "      <td>-2.434248</td>\n",
       "      <td>27.434397</td>\n",
       "      <td>9.935393e-01</td>\n",
       "      <td>3</td>\n",
       "      <td>0.993539</td>\n",
       "      <td>27.459054</td>\n",
       "      <td>0.024656</td>\n",
       "      <td>1549202</td>\n",
       "    </tr>\n",
       "    <tr>\n",
       "      <th>374</th>\n",
       "      <td>-1.567336</td>\n",
       "      <td>1236.666667</td>\n",
       "      <td>3177.7155007489773j</td>\n",
       "      <td>-1.567336</td>\n",
       "      <td>27.434397</td>\n",
       "      <td>7.156343e-03</td>\n",
       "      <td>4</td>\n",
       "      <td>0.992844</td>\n",
       "      <td>27.267649</td>\n",
       "      <td>-0.166748</td>\n",
       "      <td>1553295</td>\n",
       "    </tr>\n",
       "    <tr>\n",
       "      <th>375</th>\n",
       "      <td>-2.278402</td>\n",
       "      <td>1235.666667</td>\n",
       "      <td>3185.4856989014547j</td>\n",
       "      <td>-2.278402</td>\n",
       "      <td>27.434397</td>\n",
       "      <td>5.113885e-04</td>\n",
       "      <td>5</td>\n",
       "      <td>0.999489</td>\n",
       "      <td>27.540032</td>\n",
       "      <td>0.105635</td>\n",
       "      <td>1557388</td>\n",
       "    </tr>\n",
       "    <tr>\n",
       "      <th>376</th>\n",
       "      <td>-2.288538</td>\n",
       "      <td>1235.333333</td>\n",
       "      <td>3193.2572063067846j</td>\n",
       "      <td>-2.288538</td>\n",
       "      <td>27.434397</td>\n",
       "      <td>7.773283e-03</td>\n",
       "      <td>9</td>\n",
       "      <td>0.992227</td>\n",
       "      <td>27.588779</td>\n",
       "      <td>0.154381</td>\n",
       "      <td>1561484</td>\n",
       "    </tr>\n",
       "    <tr>\n",
       "      <th>377</th>\n",
       "      <td>0.793153</td>\n",
       "      <td>1234.333333</td>\n",
       "      <td>3201.009550406389j</td>\n",
       "      <td>-2.348440</td>\n",
       "      <td>27.434397</td>\n",
       "      <td>9.985662e-01</td>\n",
       "      <td>0</td>\n",
       "      <td>0.998566</td>\n",
       "      <td>27.503278</td>\n",
       "      <td>0.068881</td>\n",
       "      <td>1565567</td>\n",
       "    </tr>\n",
       "    <tr>\n",
       "      <th>378</th>\n",
       "      <td>1.987325</td>\n",
       "      <td>1234.000000</td>\n",
       "      <td>3208.765092911417j</td>\n",
       "      <td>-1.154268</td>\n",
       "      <td>27.434397</td>\n",
       "      <td>9.899525e-01</td>\n",
       "      <td>5</td>\n",
       "      <td>0.989952</td>\n",
       "      <td>27.514262</td>\n",
       "      <td>0.079865</td>\n",
       "      <td>1569664</td>\n",
       "    </tr>\n",
       "    <tr>\n",
       "      <th>379</th>\n",
       "      <td>-1.358083</td>\n",
       "      <td>1234.333333</td>\n",
       "      <td>3216.5204414341033j</td>\n",
       "      <td>-1.358083</td>\n",
       "      <td>27.434397</td>\n",
       "      <td>2.765485e-03</td>\n",
       "      <td>6</td>\n",
       "      <td>0.997235</td>\n",
       "      <td>27.667765</td>\n",
       "      <td>0.233368</td>\n",
       "      <td>1573757</td>\n",
       "    </tr>\n",
       "    <tr>\n",
       "      <th>380</th>\n",
       "      <td>-1.283540</td>\n",
       "      <td>1233.333333</td>\n",
       "      <td>3224.2684037848144j</td>\n",
       "      <td>-1.283540</td>\n",
       "      <td>27.434397</td>\n",
       "      <td>5.514912e-02</td>\n",
       "      <td>1</td>\n",
       "      <td>0.944851</td>\n",
       "      <td>27.603478</td>\n",
       "      <td>0.169080</td>\n",
       "      <td>1577844</td>\n",
       "    </tr>\n",
       "    <tr>\n",
       "      <th>381</th>\n",
       "      <td>0.749049</td>\n",
       "      <td>1232.333333</td>\n",
       "      <td>3232.0195502098j</td>\n",
       "      <td>-2.392543</td>\n",
       "      <td>27.434397</td>\n",
       "      <td>9.560329e-01</td>\n",
       "      <td>6</td>\n",
       "      <td>0.956033</td>\n",
       "      <td>27.485800</td>\n",
       "      <td>0.051403</td>\n",
       "      <td>1581941</td>\n",
       "    </tr>\n",
       "    <tr>\n",
       "      <th>382</th>\n",
       "      <td>0.214334</td>\n",
       "      <td>1231.333333</td>\n",
       "      <td>3239.760630537894j</td>\n",
       "      <td>-2.927259</td>\n",
       "      <td>27.434397</td>\n",
       "      <td>9.741722e-01</td>\n",
       "      <td>4</td>\n",
       "      <td>0.974172</td>\n",
       "      <td>27.483747</td>\n",
       "      <td>0.049350</td>\n",
       "      <td>1586031</td>\n",
       "    </tr>\n",
       "    <tr>\n",
       "      <th>383</th>\n",
       "      <td>2.041339</td>\n",
       "      <td>1231.000000</td>\n",
       "      <td>3247.501103839451j</td>\n",
       "      <td>-1.100254</td>\n",
       "      <td>27.434397</td>\n",
       "      <td>9.943950e-01</td>\n",
       "      <td>7</td>\n",
       "      <td>0.994395</td>\n",
       "      <td>27.335043</td>\n",
       "      <td>-0.099354</td>\n",
       "      <td>1590126</td>\n",
       "    </tr>\n",
       "    <tr>\n",
       "      <th>384</th>\n",
       "      <td>-1.872041</td>\n",
       "      <td>1230.000000</td>\n",
       "      <td>3255.233808634443j</td>\n",
       "      <td>-1.872041</td>\n",
       "      <td>27.434397</td>\n",
       "      <td>6.431499e-04</td>\n",
       "      <td>4</td>\n",
       "      <td>0.999357</td>\n",
       "      <td>27.429544</td>\n",
       "      <td>-0.004854</td>\n",
       "      <td>1594215</td>\n",
       "    </tr>\n",
       "    <tr>\n",
       "      <th>385</th>\n",
       "      <td>-0.488072</td>\n",
       "      <td>1229.666667</td>\n",
       "      <td>3262.965900260976j</td>\n",
       "      <td>-0.488072</td>\n",
       "      <td>27.434397</td>\n",
       "      <td>1.413589e-04</td>\n",
       "      <td>7</td>\n",
       "      <td>0.999859</td>\n",
       "      <td>27.573750</td>\n",
       "      <td>0.139353</td>\n",
       "      <td>1598310</td>\n",
       "    </tr>\n",
       "    <tr>\n",
       "      <th>386</th>\n",
       "      <td>-0.702586</td>\n",
       "      <td>1228.666667</td>\n",
       "      <td>3270.6883429294276j</td>\n",
       "      <td>-0.702586</td>\n",
       "      <td>27.434397</td>\n",
       "      <td>2.785618e-02</td>\n",
       "      <td>3</td>\n",
       "      <td>0.972144</td>\n",
       "      <td>27.355361</td>\n",
       "      <td>-0.079037</td>\n",
       "      <td>1602398</td>\n",
       "    </tr>\n",
       "    <tr>\n",
       "      <th>387</th>\n",
       "      <td>1.190508</td>\n",
       "      <td>1227.666667</td>\n",
       "      <td>3278.4082755994473j</td>\n",
       "      <td>-1.951085</td>\n",
       "      <td>27.434397</td>\n",
       "      <td>9.880949e-01</td>\n",
       "      <td>5</td>\n",
       "      <td>0.988095</td>\n",
       "      <td>27.684878</td>\n",
       "      <td>0.250481</td>\n",
       "      <td>1606492</td>\n",
       "    </tr>\n",
       "    <tr>\n",
       "      <th>388</th>\n",
       "      <td>-0.096370</td>\n",
       "      <td>1226.666667</td>\n",
       "      <td>3286.1238086066373j</td>\n",
       "      <td>-3.237963</td>\n",
       "      <td>27.434397</td>\n",
       "      <td>9.988329e-01</td>\n",
       "      <td>6</td>\n",
       "      <td>0.998833</td>\n",
       "      <td>27.616444</td>\n",
       "      <td>0.182046</td>\n",
       "      <td>1610585</td>\n",
       "    </tr>\n",
       "    <tr>\n",
       "      <th>389</th>\n",
       "      <td>-1.881314</td>\n",
       "      <td>1226.333333</td>\n",
       "      <td>3293.836829056262j</td>\n",
       "      <td>-1.881314</td>\n",
       "      <td>27.434397</td>\n",
       "      <td>8.480154e-03</td>\n",
       "      <td>8</td>\n",
       "      <td>0.991520</td>\n",
       "      <td>27.464138</td>\n",
       "      <td>0.029741</td>\n",
       "      <td>1614679</td>\n",
       "    </tr>\n",
       "    <tr>\n",
       "      <th>390</th>\n",
       "      <td>0.533877</td>\n",
       "      <td>1225.333333</td>\n",
       "      <td>3301.5326935847143j</td>\n",
       "      <td>-2.607716</td>\n",
       "      <td>27.434397</td>\n",
       "      <td>9.911963e-01</td>\n",
       "      <td>0</td>\n",
       "      <td>0.991196</td>\n",
       "      <td>27.519543</td>\n",
       "      <td>0.085145</td>\n",
       "      <td>1618763</td>\n",
       "    </tr>\n",
       "    <tr>\n",
       "      <th>391</th>\n",
       "      <td>2.515810</td>\n",
       "      <td>1224.333333</td>\n",
       "      <td>3309.2316823037104j</td>\n",
       "      <td>-0.625783</td>\n",
       "      <td>27.434397</td>\n",
       "      <td>9.968030e-01</td>\n",
       "      <td>5</td>\n",
       "      <td>0.996803</td>\n",
       "      <td>27.478102</td>\n",
       "      <td>0.043705</td>\n",
       "      <td>1622860</td>\n",
       "    </tr>\n",
       "    <tr>\n",
       "      <th>392</th>\n",
       "      <td>1.311335</td>\n",
       "      <td>1224.000000</td>\n",
       "      <td>3316.9337900949827j</td>\n",
       "      <td>-1.830258</td>\n",
       "      <td>27.434397</td>\n",
       "      <td>9.885510e-01</td>\n",
       "      <td>10</td>\n",
       "      <td>0.988551</td>\n",
       "      <td>27.426701</td>\n",
       "      <td>-0.007697</td>\n",
       "      <td>1626957</td>\n",
       "    </tr>\n",
       "    <tr>\n",
       "      <th>393</th>\n",
       "      <td>-2.214981</td>\n",
       "      <td>1223.000000</td>\n",
       "      <td>3324.6168896640374j</td>\n",
       "      <td>-2.214981</td>\n",
       "      <td>27.434397</td>\n",
       "      <td>6.254875e-03</td>\n",
       "      <td>1</td>\n",
       "      <td>0.993745</td>\n",
       "      <td>27.393588</td>\n",
       "      <td>-0.040809</td>\n",
       "      <td>1631040</td>\n",
       "    </tr>\n",
       "  </tbody>\n",
       "</table>\n",
       "<p>394 rows × 11 columns</p>\n",
       "</div>"
      ],
      "text/plain": [
       "       ang_at      doppler        doppler_phase  nb0_phase   noise_db  \\\n",
       "0    0.946864  1437.333333   50.50203496663961j   0.946864  27.434397   \n",
       "1    0.864713  1436.333333   59.53305897075767j   0.864713  27.434397   \n",
       "2    0.711948  1435.333333    68.5555958635395j   0.711948  27.434397   \n",
       "3    0.535582  1435.666667   77.57185929572258j   0.535582  27.434397   \n",
       "4    0.203123  1434.666667   86.59241132432867j   0.203123  27.434397   \n",
       "5   -0.148585  1434.333333   95.60448289534641j  -0.148585  27.434397   \n",
       "6   -0.154640  1433.333333  104.61445648847443j  -0.154640  27.434397   \n",
       "7   -0.204376  1433.000000  113.62035286963136j  -0.204376  27.434397   \n",
       "8   -0.570740  1432.666667  122.62415485568592j  -0.570740  27.434397   \n",
       "9   -0.656274  1433.666667    131.623671316278j  -0.656274  27.434397   \n",
       "10  -0.714107  1432.666667  140.63165697426973j  -0.714107  27.434397   \n",
       "11  -1.269200  1431.666667   149.6311611510196j   1.872392  27.434397   \n",
       "12  -1.235242  1430.666667  158.62438367794255j   1.906350  27.434397   \n",
       "13  -1.386326  1429.666667   167.6113245550386j   1.755266  27.434397   \n",
       "14  -1.411445  1428.666667  176.59417747180163j   1.730148  27.434397   \n",
       "15  -1.594037  1427.666667  185.57074720325744j   1.547556  27.434397   \n",
       "16  -1.783425  1426.666667   194.5410337494061j   1.358168  27.434397   \n",
       "17  -2.131430  1425.666667  203.50503711024757j   1.010163  27.434397   \n",
       "18  -2.165015  1424.666667  212.46056973820913j   0.976578  27.434397   \n",
       "19  -2.448696  1423.666667  221.40982071634377j   0.692897  27.434397   \n",
       "20  -3.065929  1422.666667   230.3549745212637j   0.075663  27.434397   \n",
       "21  -2.716366  1421.666667  239.29166219974456j   0.425226  27.434397   \n",
       "22   2.905505  1421.333333  248.22207232301258j  -0.236087  27.434397   \n",
       "23   2.986754  1420.333333  257.15038446839094j  -0.154839  27.434397   \n",
       "24   2.800197  1419.333333   266.0724149639424j  -0.341395  27.434397   \n",
       "25   2.333800  1418.333333   274.9903416325312j  -0.807792  27.434397   \n",
       "26   2.227684  1419.333333   283.8998211122711j  -0.913909  27.434397   \n",
       "27   1.521170  1418.333333   292.8155699579957j   1.521170  27.434397   \n",
       "28   1.317291  1417.333333  301.72503715389337j   1.317291  27.434397   \n",
       "29   1.162547  1416.333333   310.6282226999641j   1.162547  27.434397   \n",
       "..        ...          ...                  ...        ...        ...   \n",
       "364  2.926762  1243.333333  3099.7688670565217j  -3.356423  27.434397   \n",
       "365 -2.554922  1244.333333  3107.5714152193723j  -2.554922  27.434397   \n",
       "366  0.366065  1243.333333  3115.3821480039437j  -2.775527  27.434397   \n",
       "367  3.028117  1242.333333  3123.2037719501436j  -3.255068  27.434397   \n",
       "368  0.303210  1241.333333   3131.001950647943j  -2.838382  27.434397   \n",
       "369 -1.512858  1240.333333   3138.797661317105j  -1.512858  27.434397   \n",
       "370  0.720491  1239.333333  3146.5908978157086j  -2.421102  27.434397   \n",
       "371  2.709249  1239.000000   3154.385466087542j  -3.573936  27.434397   \n",
       "372  0.139493  1238.000000  3162.1703250057362j  -3.002100  27.434397   \n",
       "373  0.707344  1237.000000    3169.94510196041j  -2.434248  27.434397   \n",
       "374 -1.567336  1236.666667  3177.7155007489773j  -1.567336  27.434397   \n",
       "375 -2.278402  1235.666667  3185.4856989014547j  -2.278402  27.434397   \n",
       "376 -2.288538  1235.333333  3193.2572063067846j  -2.288538  27.434397   \n",
       "377  0.793153  1234.333333   3201.009550406389j  -2.348440  27.434397   \n",
       "378  1.987325  1234.000000   3208.765092911417j  -1.154268  27.434397   \n",
       "379 -1.358083  1234.333333  3216.5204414341033j  -1.358083  27.434397   \n",
       "380 -1.283540  1233.333333  3224.2684037848144j  -1.283540  27.434397   \n",
       "381  0.749049  1232.333333     3232.0195502098j  -2.392543  27.434397   \n",
       "382  0.214334  1231.333333   3239.760630537894j  -2.927259  27.434397   \n",
       "383  2.041339  1231.000000   3247.501103839451j  -1.100254  27.434397   \n",
       "384 -1.872041  1230.000000   3255.233808634443j  -1.872041  27.434397   \n",
       "385 -0.488072  1229.666667   3262.965900260976j  -0.488072  27.434397   \n",
       "386 -0.702586  1228.666667  3270.6883429294276j  -0.702586  27.434397   \n",
       "387  1.190508  1227.666667  3278.4082755994473j  -1.951085  27.434397   \n",
       "388 -0.096370  1226.666667  3286.1238086066373j  -3.237963  27.434397   \n",
       "389 -1.881314  1226.333333   3293.836829056262j  -1.881314  27.434397   \n",
       "390  0.533877  1225.333333  3301.5326935847143j  -2.607716  27.434397   \n",
       "391  2.515810  1224.333333  3309.2316823037104j  -0.625783  27.434397   \n",
       "392  1.311335  1224.000000  3316.9337900949827j  -1.830258  27.434397   \n",
       "393 -2.214981  1223.000000  3324.6168896640374j  -2.214981  27.434397   \n",
       "\n",
       "                p  phase  prob_detection  signal_db       snr       ts  \n",
       "0    6.681011e-11      5        1.000000  27.616532  0.182135    22888  \n",
       "1    2.121925e-11      5        1.000000  27.624383  0.189986    26980  \n",
       "2    7.875967e-09      4        1.000000  27.371046 -0.063351    31071  \n",
       "3    1.486438e-07      4        1.000000  27.570216  0.135818    35163  \n",
       "4    1.072364e-12      5        1.000000  27.433373 -0.001024    39256  \n",
       "5    3.198427e-09      4        1.000000  27.404113 -0.030284    43347  \n",
       "6    3.190299e-10      4        1.000000  27.586621  0.152223    47439  \n",
       "7    1.236520e-08      5        1.000000  27.564642  0.130245    51532  \n",
       "8    1.588884e-07      5        1.000000  27.296573 -0.137825    55624  \n",
       "9    4.658972e-09      4        1.000000  27.454276  0.019879    59715  \n",
       "10   1.196409e-10      5        1.000000  27.362145 -0.072253    63808  \n",
       "11   1.000000e+00      4        1.000000  27.575494  0.141096    67899  \n",
       "12   1.000000e+00      4        1.000000  27.562278  0.127881    71991  \n",
       "13   9.999904e-01      4        0.999990  27.540859  0.106462    76083  \n",
       "14   1.000000e+00      5        1.000000  27.559065  0.124668    80176  \n",
       "15   1.000000e+00      5        1.000000  27.450955  0.016557    84268  \n",
       "16   9.999993e-01      5        0.999999  27.651668  0.217271    88360  \n",
       "17   1.000000e+00      5        1.000000  27.567000  0.132603    92452  \n",
       "18   1.000000e+00      4        1.000000  27.635177  0.200779    96543  \n",
       "19   1.000000e+00      4        1.000000  27.547378  0.112981   100635  \n",
       "20   1.000000e+00      5        1.000000  27.331452 -0.102945   104728  \n",
       "21   9.999999e-01      4        1.000000  27.360366 -0.074031   108819  \n",
       "22   1.000000e+00      4        1.000000  27.386390 -0.048007   112911  \n",
       "23   1.000000e+00      4        1.000000  27.440532  0.006135   117003  \n",
       "24   1.000000e+00      4        1.000000  27.352660 -0.081737   121095  \n",
       "25   1.000000e+00      5        1.000000  27.400308 -0.034089   125188  \n",
       "26   1.000000e+00      4        1.000000  27.513391  0.078994   129279  \n",
       "27   6.861178e-14      4        1.000000  27.503276  0.068879   133371  \n",
       "28   7.344980e-09      4        1.000000  27.557977  0.123579   137463  \n",
       "29   1.554206e-08      4        1.000000  27.471964  0.037567   141555  \n",
       "..            ...    ...             ...        ...       ...      ...  \n",
       "364  6.324340e-04      4        0.999368  27.376944 -0.057454  1512375  \n",
       "365  7.456056e-03      0        0.992544  27.512620  0.078223  1516463  \n",
       "366  9.966843e-01      1        0.996684  27.451345  0.016948  1520556  \n",
       "367  6.559789e-03     10        0.993440  27.489731  0.055333  1524657  \n",
       "368  9.976771e-01      1        0.997677  27.365746 -0.068651  1528740  \n",
       "369  5.324239e-07      3        0.999999  27.628896  0.194499  1532834  \n",
       "370  9.964224e-01      5        0.996422  27.578439  0.144042  1536928  \n",
       "371  9.827017e-03      9        0.990173  27.432936 -0.001462  1541024  \n",
       "372  9.995228e-01      5        0.999523  27.396518 -0.037880  1545112  \n",
       "373  9.935393e-01      3        0.993539  27.459054  0.024656  1549202  \n",
       "374  7.156343e-03      4        0.992844  27.267649 -0.166748  1553295  \n",
       "375  5.113885e-04      5        0.999489  27.540032  0.105635  1557388  \n",
       "376  7.773283e-03      9        0.992227  27.588779  0.154381  1561484  \n",
       "377  9.985662e-01      0        0.998566  27.503278  0.068881  1565567  \n",
       "378  9.899525e-01      5        0.989952  27.514262  0.079865  1569664  \n",
       "379  2.765485e-03      6        0.997235  27.667765  0.233368  1573757  \n",
       "380  5.514912e-02      1        0.944851  27.603478  0.169080  1577844  \n",
       "381  9.560329e-01      6        0.956033  27.485800  0.051403  1581941  \n",
       "382  9.741722e-01      4        0.974172  27.483747  0.049350  1586031  \n",
       "383  9.943950e-01      7        0.994395  27.335043 -0.099354  1590126  \n",
       "384  6.431499e-04      4        0.999357  27.429544 -0.004854  1594215  \n",
       "385  1.413589e-04      7        0.999859  27.573750  0.139353  1598310  \n",
       "386  2.785618e-02      3        0.972144  27.355361 -0.079037  1602398  \n",
       "387  9.880949e-01      5        0.988095  27.684878  0.250481  1606492  \n",
       "388  9.988329e-01      6        0.998833  27.616444  0.182046  1610585  \n",
       "389  8.480154e-03      8        0.991520  27.464138  0.029741  1614679  \n",
       "390  9.911963e-01      0        0.991196  27.519543  0.085145  1618763  \n",
       "391  9.968030e-01      5        0.996803  27.478102  0.043705  1622860  \n",
       "392  9.885510e-01     10        0.988551  27.426701 -0.007697  1626957  \n",
       "393  6.254875e-03      1        0.993745  27.393588 -0.040809  1631040  \n",
       "\n",
       "[394 rows x 11 columns]"
      ]
     },
     "execution_count": 12,
     "metadata": {},
     "output_type": "execute_result"
    }
   ],
   "source": [
    "df"
   ]
  },
  {
   "cell_type": "code",
   "execution_count": 15,
   "metadata": {
    "ExecuteTime": {
     "end_time": "2019-09-01T18:47:01.213795Z",
     "start_time": "2019-09-01T18:47:01.034609Z"
    }
   },
   "outputs": [
    {
     "ename": "AttributeError",
     "evalue": "Shit attribute chip_start",
     "output_type": "error",
     "traceback": [
      "\u001b[0;31m---------------------------------------------------------------------------\u001b[0m",
      "\u001b[0;31mKeyError\u001b[0m                                  Traceback (most recent call last)",
      "\u001b[0;32m~/programmation/hack/chdrft/utils/misc.py\u001b[0m in \u001b[0;36m__getattr__\u001b[0;34m(self, name)\u001b[0m\n\u001b[1;32m    569\u001b[0m     \u001b[0;32mtry\u001b[0m\u001b[0;34m:\u001b[0m\u001b[0;34m\u001b[0m\u001b[0;34m\u001b[0m\u001b[0m\n\u001b[0;32m--> 570\u001b[0;31m       \u001b[0;32mreturn\u001b[0m \u001b[0mself\u001b[0m\u001b[0;34m.\u001b[0m\u001b[0m_elem\u001b[0m\u001b[0;34m[\u001b[0m\u001b[0mname\u001b[0m\u001b[0;34m]\u001b[0m\u001b[0;34m\u001b[0m\u001b[0;34m\u001b[0m\u001b[0m\n\u001b[0m\u001b[1;32m    571\u001b[0m     \u001b[0;32mexcept\u001b[0m \u001b[0mKeyError\u001b[0m\u001b[0;34m:\u001b[0m\u001b[0;34m\u001b[0m\u001b[0;34m\u001b[0m\u001b[0m\n",
      "\u001b[0;31mKeyError\u001b[0m: 'chip_start'",
      "\nDuring handling of the above exception, another exception occurred:\n",
      "\u001b[0;31mAttributeError\u001b[0m                            Traceback (most recent call last)",
      "\u001b[0;32m<ipython-input-15-a19f656d0f32>\u001b[0m in \u001b[0;36m<module>\u001b[0;34m\u001b[0m\n\u001b[1;32m      4\u001b[0m   \u001b[0mdx\u001b[0m \u001b[0;34m=\u001b[0m \u001b[0mlist\u001b[0m\u001b[0;34m(\u001b[0m\u001b[0;34m[\u001b[0m\u001b[0my\u001b[0m\u001b[0;34m.\u001b[0m\u001b[0mprob_detection\u001b[0m \u001b[0;32mfor\u001b[0m \u001b[0my\u001b[0m \u001b[0;32min\u001b[0m \u001b[0mx\u001b[0m\u001b[0;34m.\u001b[0m\u001b[0moutput\u001b[0m\u001b[0;34m]\u001b[0m\u001b[0;34m)\u001b[0m\u001b[0;34m\u001b[0m\u001b[0;34m\u001b[0m\u001b[0m\n\u001b[1;32m      5\u001b[0m   \u001b[0mdoppler\u001b[0m \u001b[0;34m=\u001b[0m \u001b[0mlist\u001b[0m\u001b[0;34m(\u001b[0m\u001b[0;34m[\u001b[0m\u001b[0my\u001b[0m\u001b[0;34m.\u001b[0m\u001b[0mdoppler\u001b[0m \u001b[0;32mfor\u001b[0m \u001b[0my\u001b[0m \u001b[0;32min\u001b[0m \u001b[0mx\u001b[0m\u001b[0;34m.\u001b[0m\u001b[0moutput\u001b[0m\u001b[0;34m]\u001b[0m\u001b[0;34m)\u001b[0m\u001b[0;34m\u001b[0m\u001b[0;34m\u001b[0m\u001b[0m\n\u001b[0;32m----> 6\u001b[0;31m   \u001b[0mts\u001b[0m \u001b[0;34m=\u001b[0m \u001b[0mnp\u001b[0m\u001b[0;34m.\u001b[0m\u001b[0marray\u001b[0m\u001b[0;34m(\u001b[0m\u001b[0;34m[\u001b[0m\u001b[0my\u001b[0m\u001b[0;34m.\u001b[0m\u001b[0mchip_start\u001b[0m \u001b[0;32mfor\u001b[0m \u001b[0my\u001b[0m \u001b[0;32min\u001b[0m \u001b[0mx\u001b[0m\u001b[0;34m.\u001b[0m\u001b[0moutput\u001b[0m\u001b[0;34m]\u001b[0m\u001b[0;34m)\u001b[0m \u001b[0;34m/\u001b[0m \u001b[0mx\u001b[0m\u001b[0;34m.\u001b[0m\u001b[0mconf\u001b[0m\u001b[0;34m.\u001b[0m\u001b[0msample_rate\u001b[0m\u001b[0;34m\u001b[0m\u001b[0;34m\u001b[0m\u001b[0m\n\u001b[0m\u001b[1;32m      7\u001b[0m   \u001b[0;31m#Z.plt.plot(doppler)\u001b[0m\u001b[0;34m\u001b[0m\u001b[0;34m\u001b[0m\u001b[0;34m\u001b[0m\u001b[0m\n\u001b[1;32m      8\u001b[0m   \u001b[0mZ\u001b[0m\u001b[0;34m.\u001b[0m\u001b[0mplt\u001b[0m\u001b[0;34m.\u001b[0m\u001b[0mplot\u001b[0m\u001b[0;34m(\u001b[0m\u001b[0mdx\u001b[0m\u001b[0;34m)\u001b[0m\u001b[0;34m\u001b[0m\u001b[0;34m\u001b[0m\u001b[0m\n",
      "\u001b[0;32m<ipython-input-15-a19f656d0f32>\u001b[0m in \u001b[0;36m<listcomp>\u001b[0;34m(.0)\u001b[0m\n\u001b[1;32m      4\u001b[0m   \u001b[0mdx\u001b[0m \u001b[0;34m=\u001b[0m \u001b[0mlist\u001b[0m\u001b[0;34m(\u001b[0m\u001b[0;34m[\u001b[0m\u001b[0my\u001b[0m\u001b[0;34m.\u001b[0m\u001b[0mprob_detection\u001b[0m \u001b[0;32mfor\u001b[0m \u001b[0my\u001b[0m \u001b[0;32min\u001b[0m \u001b[0mx\u001b[0m\u001b[0;34m.\u001b[0m\u001b[0moutput\u001b[0m\u001b[0;34m]\u001b[0m\u001b[0;34m)\u001b[0m\u001b[0;34m\u001b[0m\u001b[0;34m\u001b[0m\u001b[0m\n\u001b[1;32m      5\u001b[0m   \u001b[0mdoppler\u001b[0m \u001b[0;34m=\u001b[0m \u001b[0mlist\u001b[0m\u001b[0;34m(\u001b[0m\u001b[0;34m[\u001b[0m\u001b[0my\u001b[0m\u001b[0;34m.\u001b[0m\u001b[0mdoppler\u001b[0m \u001b[0;32mfor\u001b[0m \u001b[0my\u001b[0m \u001b[0;32min\u001b[0m \u001b[0mx\u001b[0m\u001b[0;34m.\u001b[0m\u001b[0moutput\u001b[0m\u001b[0;34m]\u001b[0m\u001b[0;34m)\u001b[0m\u001b[0;34m\u001b[0m\u001b[0;34m\u001b[0m\u001b[0m\n\u001b[0;32m----> 6\u001b[0;31m   \u001b[0mts\u001b[0m \u001b[0;34m=\u001b[0m \u001b[0mnp\u001b[0m\u001b[0;34m.\u001b[0m\u001b[0marray\u001b[0m\u001b[0;34m(\u001b[0m\u001b[0;34m[\u001b[0m\u001b[0my\u001b[0m\u001b[0;34m.\u001b[0m\u001b[0mchip_start\u001b[0m \u001b[0;32mfor\u001b[0m \u001b[0my\u001b[0m \u001b[0;32min\u001b[0m \u001b[0mx\u001b[0m\u001b[0;34m.\u001b[0m\u001b[0moutput\u001b[0m\u001b[0;34m]\u001b[0m\u001b[0;34m)\u001b[0m \u001b[0;34m/\u001b[0m \u001b[0mx\u001b[0m\u001b[0;34m.\u001b[0m\u001b[0mconf\u001b[0m\u001b[0;34m.\u001b[0m\u001b[0msample_rate\u001b[0m\u001b[0;34m\u001b[0m\u001b[0;34m\u001b[0m\u001b[0m\n\u001b[0m\u001b[1;32m      7\u001b[0m   \u001b[0;31m#Z.plt.plot(doppler)\u001b[0m\u001b[0;34m\u001b[0m\u001b[0;34m\u001b[0m\u001b[0;34m\u001b[0m\u001b[0m\n\u001b[1;32m      8\u001b[0m   \u001b[0mZ\u001b[0m\u001b[0;34m.\u001b[0m\u001b[0mplt\u001b[0m\u001b[0;34m.\u001b[0m\u001b[0mplot\u001b[0m\u001b[0;34m(\u001b[0m\u001b[0mdx\u001b[0m\u001b[0;34m)\u001b[0m\u001b[0;34m\u001b[0m\u001b[0;34m\u001b[0m\u001b[0m\n",
      "\u001b[0;32m~/programmation/hack/chdrft/utils/misc.py\u001b[0m in \u001b[0;36m__getattr__\u001b[0;34m(self, name)\u001b[0m\n\u001b[1;32m    576\u001b[0m             \u001b[0mself\u001b[0m\u001b[0;34m.\u001b[0m\u001b[0m_elem\u001b[0m\u001b[0;34m[\u001b[0m\u001b[0mname\u001b[0m\u001b[0;34m]\u001b[0m \u001b[0;34m=\u001b[0m \u001b[0mres\u001b[0m\u001b[0;34m[\u001b[0m\u001b[0;36m0\u001b[0m\u001b[0;34m]\u001b[0m\u001b[0;34m\u001b[0m\u001b[0;34m\u001b[0m\u001b[0m\n\u001b[1;32m    577\u001b[0m           \u001b[0;32mreturn\u001b[0m \u001b[0mres\u001b[0m\u001b[0;34m[\u001b[0m\u001b[0;36m0\u001b[0m\u001b[0;34m]\u001b[0m\u001b[0;34m\u001b[0m\u001b[0;34m\u001b[0m\u001b[0m\n\u001b[0;32m--> 578\u001b[0;31m       \u001b[0;32mraise\u001b[0m \u001b[0mAttributeError\u001b[0m\u001b[0;34m(\u001b[0m\u001b[0;34m'Shit attribute %s'\u001b[0m \u001b[0;34m%\u001b[0m \u001b[0mname\u001b[0m\u001b[0;34m)\u001b[0m\u001b[0;34m\u001b[0m\u001b[0;34m\u001b[0m\u001b[0m\n\u001b[0m\u001b[1;32m    579\u001b[0m \u001b[0;34m\u001b[0m\u001b[0m\n\u001b[1;32m    580\u001b[0m   \u001b[0;32mdef\u001b[0m \u001b[0m__setattr__\u001b[0m\u001b[0;34m(\u001b[0m\u001b[0mself\u001b[0m\u001b[0;34m,\u001b[0m \u001b[0mname\u001b[0m\u001b[0;34m,\u001b[0m \u001b[0mval\u001b[0m\u001b[0;34m)\u001b[0m\u001b[0;34m:\u001b[0m\u001b[0;34m\u001b[0m\u001b[0;34m\u001b[0m\u001b[0m\n",
      "\u001b[0;31mAttributeError\u001b[0m: Shit attribute chip_start"
     ]
    }
   ],
   "source": [
    "%matplotlib qt\n",
    "for x in res.lst:\n",
    "  if x.sat_num != 29: continue\n",
    "  dx = list([y.prob_detection for y in x.output])\n",
    "  doppler = list([y.doppler for y in x.output])\n",
    "  ts = np.array([y.chip_start for y in x.output]) / x.conf.sample_rate\n",
    "  #Z.plt.plot(doppler)\n",
    "  Z.plt.plot(dx)\n",
    "  break\n",
    "    \n",
    "    "
   ]
  },
  {
   "cell_type": "code",
   "execution_count": 27,
   "metadata": {
    "ExecuteTime": {
     "end_time": "2019-08-29T20:29:32.199414Z",
     "start_time": "2019-08-29T20:29:30.959369Z"
    }
   },
   "outputs": [],
   "source": [
    "\n",
    "data = Z.DataFile('/home/benoit/programmation/dsp/data/test.dat', typ='complex8')\n",
    "ds = data.to_ds()[:8000000]\n",
    "\n",
    "orig_center_freq = 1575e6\n",
    "orig_sample_rate = 8.7381e6\n",
    "samples_per_chip = 8\n",
    "\n",
    "\n"
   ]
  },
  {
   "cell_type": "code",
   "execution_count": 4,
   "metadata": {
    "ExecuteTime": {
     "end_time": "2019-09-01T16:14:19.563261Z",
     "start_time": "2019-09-01T16:14:19.472115Z"
    }
   },
   "outputs": [],
   "source": [
    "data = Z.DataFile('/home/benoit/programmation/dsp/data/gps/gps_4msps_complex.12Sep2005_1575.42_c64.dat', typ=np.complex64)"
   ]
  },
  {
   "cell_type": "code",
   "execution_count": 11,
   "metadata": {
    "ExecuteTime": {
     "end_time": "2019-09-01T15:50:26.500989Z",
     "start_time": "2019-09-01T15:50:26.496625Z"
    }
   },
   "outputs": [
    {
     "data": {
      "text/plain": [
       "513.1964809384165"
      ]
     },
     "execution_count": 11,
     "metadata": {},
     "output_type": "execute_result"
    }
   ],
   "source": [
    "42e6/4092/20"
   ]
  },
  {
   "cell_type": "code",
   "execution_count": null,
   "metadata": {
    "ExecuteTime": {
     "end_time": "2019-09-01T16:17:31.149864Z",
     "start_time": "2019-09-01T16:17:30.995986Z"
    }
   },
   "outputs": [],
   "source": [
    "ds = data.to_ds()[:2000000]\n",
    "ds.y = ds.y[1000:]"
   ]
  },
  {
   "cell_type": "code",
   "execution_count": 12,
   "metadata": {
    "ExecuteTime": {
     "end_time": "2019-09-01T19:03:48.504133Z",
     "start_time": "2019-09-01T19:03:48.500072Z"
    }
   },
   "outputs": [],
   "source": [
    "orig_center_freq = 1575.42e6\n",
    "orig_sample_rate = 4e6\n",
    "samples_per_chip = 4"
   ]
  },
  {
   "cell_type": "code",
   "execution_count": 13,
   "metadata": {
    "ExecuteTime": {
     "end_time": "2019-09-01T19:03:49.109492Z",
     "start_time": "2019-09-01T19:03:49.105469Z"
    }
   },
   "outputs": [],
   "source": [
    "\n",
    "chips_per_prn = opa_gps.kGPS_CHIPS_PER_PRN\n",
    "prn_freq = opa_gps.kGPS_PRN_FREQ\n",
    "bpsk_rate = opa_gps.kGPS_CHIP_FREQ\n",
    "sample_rate = samples_per_chip * chips_per_prn * prn_freq\n",
    "center_freq = opa_gps.kGPS_CENTER_FREQ\n"
   ]
  },
  {
   "cell_type": "code",
   "execution_count": 5,
   "metadata": {
    "ExecuteTime": {
     "end_time": "2019-08-28T20:35:53.888441Z",
     "start_time": "2019-08-28T20:35:53.524555Z"
    }
   },
   "outputs": [
    {
     "ename": "NameError",
     "evalue": "name 'get_p' is not defined",
     "output_type": "error",
     "traceback": [
      "\u001b[0;31m---------------------------------------------------------------------------\u001b[0m",
      "\u001b[0;31mNameError\u001b[0m                                 Traceback (most recent call last)",
      "\u001b[0;32m<ipython-input-5-cff534f503fe>\u001b[0m in \u001b[0;36m<module>\u001b[0;34m\u001b[0m\n\u001b[1;32m      6\u001b[0m \u001b[0;32melse\u001b[0m\u001b[0;34m:\u001b[0m\u001b[0;34m\u001b[0m\u001b[0;34m\u001b[0m\u001b[0m\n\u001b[1;32m      7\u001b[0m   \u001b[0mdoppler\u001b[0m \u001b[0;34m=\u001b[0m \u001b[0;36m500\u001b[0m\u001b[0;34m\u001b[0m\u001b[0;34m\u001b[0m\u001b[0m\n\u001b[0;32m----> 8\u001b[0;31m   \u001b[0mp\u001b[0m \u001b[0;34m=\u001b[0m \u001b[0mget_p\u001b[0m\u001b[0;34m(\u001b[0m\u001b[0;36m26\u001b[0m\u001b[0;34m,\u001b[0m \u001b[0;36m1\u001b[0m\u001b[0;34m,\u001b[0m \u001b[0ml1ca_repeat\u001b[0m\u001b[0;34m=\u001b[0m\u001b[0;36m1\u001b[0m\u001b[0;34m)\u001b[0m\u001b[0;34m\u001b[0m\u001b[0;34m\u001b[0m\u001b[0m\n\u001b[0m\u001b[1;32m      9\u001b[0m   \u001b[0minterval\u001b[0m \u001b[0;34m=\u001b[0m \u001b[0mp\u001b[0m\u001b[0;34m.\u001b[0m\u001b[0mconf\u001b[0m\u001b[0;34m.\u001b[0m\u001b[0mpulse_shape\u001b[0m\u001b[0;34m\u001b[0m\u001b[0;34m\u001b[0m\u001b[0m\n\u001b[1;32m     10\u001b[0m   \u001b[0mix\u001b[0m \u001b[0;34m=\u001b[0m \u001b[0mp\u001b[0m\u001b[0;34m.\u001b[0m\u001b[0mget_doppler_shift\u001b[0m\u001b[0;34m(\u001b[0m\u001b[0minterval\u001b[0m\u001b[0;34m,\u001b[0m \u001b[0mdoppler\u001b[0m\u001b[0;34m)\u001b[0m\u001b[0;34m\u001b[0m\u001b[0;34m\u001b[0m\u001b[0m\n",
      "\u001b[0;31mNameError\u001b[0m: name 'get_p' is not defined"
     ]
    }
   ],
   "source": [
    "g = K.GraphHelper(run_in_jupyter=1)\n",
    "if 0:\n",
    "  water = Z.DataOp.FreqWaterfall_DS(nds, 2**10)\n",
    "  resx = water.new_y(Z.dsp_utils.g_fft_helper.map(water.y, quant=0.01))\n",
    "  g.create_plot(images=[resx.transpose()])\n",
    "else:\n",
    "  doppler = 500\n",
    "  p = get_p(26, 1, l1ca_repeat=1)\n",
    "  interval = p.conf.pulse_shape\n",
    "  ix = p.get_doppler_shift(interval, doppler)\n",
    "  \n",
    "  dy = np.abs(Z.signal.correlate(r.dbg.noise, ix, mode='valid'))\n",
    "  g.create_plot(plots=[dy])\n",
    "g.run()"
   ]
  },
  {
   "cell_type": "code",
   "execution_count": 21,
   "metadata": {
    "ExecuteTime": {
     "end_time": "2019-09-01T16:17:40.689844Z",
     "start_time": "2019-09-01T16:17:33.767677Z"
    }
   },
   "outputs": [
    {
     "name": "stdout",
     "output_type": "stream",
     "text": [
      "<gr_block freq_xlating_fir_filter<IN_T,OUT_T,TAP_T> (20)>\n",
      "<gr_block mmse_resampler_cc (21)>\n"
     ]
    }
   ],
   "source": [
    "from gnuradio.filter import firdes\n",
    "from gnuradio import gr, blocks, filter\n",
    "\n",
    "\n",
    "taps = firdes.low_pass(1.0, orig_sample_rate, bpsk_rate * 1.1, bpsk_rate * 0.5, firdes.WIN_HAMMING, 6.76)\n",
    "fil = filter.freq_xlating_fir_filter_ccc(1, taps, (center_freq - orig_center_freq), orig_sample_rate)\n",
    "\n",
    "resampler = filter.mmse_resampler_cc(0, orig_sample_rate / sample_rate)\n",
    "tmp = ds.y.astype(np.complex64)\n",
    "#tmp = list(map(complex, ds.y))\n",
    "\n",
    "if 1:\n",
    "  ny = opa_dsp_base.run_block(opa_dsp_base.make_graph(chain=[tuple(ds.y), fil, resampler]), out_type=np.complex64)\n",
    "else:\n",
    "  ny = opa_dsp_base.run_block(opa_dsp_base.make_graph(chain=[tuple(ds.y), resampler]), out_type=np.complex64)\n",
    "nds = ds.make_new('prepare', y=ny, samp_rate=sample_rate)\n"
   ]
  },
  {
   "cell_type": "code",
   "execution_count": 29,
   "metadata": {
    "ExecuteTime": {
     "end_time": "2019-08-29T20:29:47.366670Z",
     "start_time": "2019-08-29T20:29:47.317329Z"
    }
   },
   "outputs": [],
   "source": [
    "nds.to_file('/tmp/test.dat', typ=np.complex64)"
   ]
  },
  {
   "cell_type": "code",
   "execution_count": 9,
   "metadata": {
    "ExecuteTime": {
     "end_time": "2019-09-01T19:02:30.904911Z",
     "start_time": "2019-09-01T19:02:30.898204Z"
    }
   },
   "outputs": [],
   "source": [
    "\n",
    "def get_p(sat_num, acq_sym=1, l1ca_repeat=20):\n",
    "  symbol_rate=prn_freq // l1ca_repeat\n",
    "  doppler_max_step  =  symbol_rate / 2\n",
    "  conf = cmisc.Attributize(\n",
    "      sample_rate=sample_rate,\n",
    "      sps=samples_per_chip * chips_per_prn * l1ca_repeat,\n",
    "      symbol_rate=symbol_rate,\n",
    "      n_acq_symbol=acq_sym,\n",
    "      max_doppler_shift=0,\n",
    "      doppler_space_size=1,\n",
    "      SNR_THRESH=10,\n",
    "      skip_ratio=0,\n",
    "      jitter=0,\n",
    "      pulse_shape = list(opa_gps.get_l1ca_pulse(sat_num, samples_per_chip)) * l1ca_repeat,\n",
    "      doppler_step = doppler_max_step / 4,\n",
    "    track_doppler=None, acq_doppler=None,\n",
    "  )\n",
    "  p = opa_gps.OpaXpsk(conf)\n",
    "  return p"
   ]
  },
  {
   "cell_type": "code",
   "execution_count": 10,
   "metadata": {
    "ExecuteTime": {
     "end_time": "2019-09-01T19:02:31.857116Z",
     "start_time": "2019-09-01T19:02:31.848843Z"
    }
   },
   "outputs": [],
   "source": [
    "def analyse1(p, doppler_space, sig):\n",
    "  tb=[]\n",
    "  print(len(doppler_space))\n",
    "  for doppler in doppler_space:\n",
    "    r = p.analyse_chip(doppler, sig)\n",
    "    tb.append(r)\n",
    "  mx = max(tb, key=lambda x: x.snr)\n",
    "  mx2 = max(tb, key=lambda x: x.prob_detection)\n",
    "  return cmisc.Attr(by_snr=mx, by_prob=mx2)"
   ]
  },
  {
   "cell_type": "code",
   "execution_count": 15,
   "metadata": {
    "ExecuteTime": {
     "end_time": "2019-08-29T20:01:53.507529Z",
     "start_time": "2019-08-29T20:01:52.685530Z"
    }
   },
   "outputs": [
    {
     "name": "stdout",
     "output_type": "stream",
     "text": [
      "1872169 188232\n",
      "81840 4092\n"
     ]
    }
   ],
   "source": [
    "doppler_space =  np.arange(1040, 1070, 1)\n",
    "doppler_space = (1057,)\n",
    "#doppler_space = np.arange(-2000, 2000, 300)\n",
    "p = get_p(26, 10, l1ca_repeat=1)\n",
    "print(len(nds.y), p.acq_proc_size)\n",
    "sig = nds.y[p.acq_proc_size:p.acq_proc_size*2]\n",
    "r = p.analyse_chip(doppler_space[0], sig ,dbg=1, clear_sig_type2=1)"
   ]
  },
  {
   "cell_type": "code",
   "execution_count": 26,
   "metadata": {
    "ExecuteTime": {
     "end_time": "2019-08-28T21:10:05.922064Z",
     "start_time": "2019-08-28T21:10:05.899410Z"
    }
   },
   "outputs": [
    {
     "name": "stdout",
     "output_type": "stream",
     "text": [
      "22.101371417657226\n",
      "22.102871253774\n",
      "8184\n",
      "8184\n",
      "6.955148583979909\n"
     ]
    }
   ],
   "source": [
    "print(opa_dsp_base.DbHelper.sig_power(r.typ2_sig))\n",
    "print(opa_dsp_base.DbHelper.sig_power(r.dbg.noise))\n",
    "print(len(p.conf.pulse_shape))\n",
    "print(p.conf.sps)\n",
    "print(r.snr)\n"
   ]
  },
  {
   "cell_type": "code",
   "execution_count": 21,
   "metadata": {
    "ExecuteTime": {
     "end_time": "2019-08-28T21:08:33.717619Z",
     "start_time": "2019-08-28T21:08:33.604525Z"
    }
   },
   "outputs": [],
   "source": [
    "\n",
    "g = K.GraphHelper(run_in_jupyter=1)\n",
    "g.create_plot(plots=[np.abs(r.typ2_sig)])\n",
    "g.create_plot(plots=[np.abs(r.dbg.noise)])\n",
    "#g.create_plot(plots=[np.abs(Z.signal.correlate(r.dbg.noise, , mode='valid'))])\n",
    "\n",
    "g.run()"
   ]
  },
  {
   "cell_type": "code",
   "execution_count": 21,
   "metadata": {
    "ExecuteTime": {
     "end_time": "2019-08-29T20:18:01.283684Z",
     "start_time": "2019-08-29T20:15:54.646876Z"
    }
   },
   "outputs": [
    {
     "name": "stdout",
     "output_type": "stream",
     "text": [
      "160\n",
      "160\n",
      "{'by_prob': {'b0_phase': <chdrft.dsp.base.SimpleIIR object at 0x7f2c1be905c0>,\n",
      "             'correl_max': 5698.687768762933,\n",
      "             'data': [1, 1],\n",
      "             'doppler': -875.0,\n",
      "             'doppler_phase': (-0-4.18245634862996j),\n",
      "             'noise_db': 21.839169395822047,\n",
      "             'phase': 6226,\n",
      "             'prob_detection': 0.9975769317818941,\n",
      "             'qmax': 2892.966902456853,\n",
      "             'signal_db': 21.842564213964497,\n",
      "             'snr': 0.003394818142449907,\n",
      "             'typ2_sig': None},\n",
      " 'by_snr': {'b0_phase': <chdrft.dsp.base.SimpleIIR object at 0x7f2c1be90470>,\n",
      "            'correl_max': 5390.366021419675,\n",
      "            'data': [1, 1],\n",
      "            'doppler': -5125.0,\n",
      "            'doppler_phase': (-0-15.652110172751346j),\n",
      "            'noise_db': 21.853377392066516,\n",
      "            'phase': 3978,\n",
      "            'prob_detection': 0.9921110905531384,\n",
      "            'qmax': 2409.352371292411,\n",
      "            'signal_db': 21.859602615948283,\n",
      "            'snr': 0.00622522388176705,\n",
      "            'typ2_sig': None}}\n"
     ]
    }
   ],
   "source": [
    "sig = r.typ2_sig\n",
    "#sig = nds.y\n",
    "mp = {\n",
    "  8:np.arange(-10000, 10000, p.conf.doppler_step),\n",
    "  3:np.linspace(-500, 500, 40),\n",
    "  1:np.linspace(1000, 1900, 40),\n",
    "  26:np.linspace(1040, 1070, 10),\n",
    "}\n",
    "\n",
    "sid = 8\n",
    "p = get_p(sid, 2, l1ca_repeat=1)\n",
    "doppler_space=mp[sid]\n",
    "print(len(doppler_space))\n",
    "sig = sig[p.acq_proc_size//3:]\n",
    "Z.pprint(analyse1(p, doppler_space, sig[:p.acq_proc_size]))\n"
   ]
  },
  {
   "cell_type": "code",
   "execution_count": 17,
   "metadata": {
    "ExecuteTime": {
     "end_time": "2019-08-27T18:38:54.191865Z",
     "start_time": "2019-08-27T18:38:34.254686Z"
    },
    "collapsed": true
   },
   "outputs": [
    {
     "name": "stdout",
     "output_type": "stream",
     "text": [
      "320\n"
     ]
    },
    {
     "ename": "KeyboardInterrupt",
     "evalue": "",
     "output_type": "error",
     "traceback": [
      "\u001b[0;31m---------------------------------------------------------------------------\u001b[0m",
      "\u001b[0;31mKeyboardInterrupt\u001b[0m                         Traceback (most recent call last)",
      "\u001b[0;32m<ipython-input-17-320a1c480bba>\u001b[0m in \u001b[0;36m<module>\u001b[0;34m\u001b[0m\n\u001b[1;32m      3\u001b[0m \u001b[0msig\u001b[0m \u001b[0;34m=\u001b[0m \u001b[0mnds\u001b[0m\u001b[0;34m.\u001b[0m\u001b[0my\u001b[0m\u001b[0;34m[\u001b[0m\u001b[0;34m:\u001b[0m\u001b[0mp\u001b[0m\u001b[0;34m.\u001b[0m\u001b[0macq_proc_size\u001b[0m\u001b[0;34m]\u001b[0m\u001b[0;34m\u001b[0m\u001b[0;34m\u001b[0m\u001b[0m\n\u001b[1;32m      4\u001b[0m \u001b[0mdoppler_space\u001b[0m \u001b[0;34m=\u001b[0m  \u001b[0mnp\u001b[0m\u001b[0;34m.\u001b[0m\u001b[0marange\u001b[0m\u001b[0;34m(\u001b[0m\u001b[0;34m-\u001b[0m\u001b[0;36m10000\u001b[0m\u001b[0;34m,\u001b[0m \u001b[0;36m10000\u001b[0m\u001b[0;34m,\u001b[0m \u001b[0mp\u001b[0m\u001b[0;34m.\u001b[0m\u001b[0mconf\u001b[0m\u001b[0;34m.\u001b[0m\u001b[0mdoppler_step\u001b[0m\u001b[0;34m)\u001b[0m\u001b[0;34m\u001b[0m\u001b[0;34m\u001b[0m\u001b[0m\n\u001b[0;32m----> 5\u001b[0;31m \u001b[0mZ\u001b[0m\u001b[0;34m.\u001b[0m\u001b[0mpprint\u001b[0m\u001b[0;34m(\u001b[0m\u001b[0manalyse1\u001b[0m\u001b[0;34m(\u001b[0m\u001b[0mp\u001b[0m\u001b[0;34m,\u001b[0m \u001b[0mdoppler_space\u001b[0m\u001b[0;34m,\u001b[0m \u001b[0msig\u001b[0m\u001b[0;34m[\u001b[0m\u001b[0;34m:\u001b[0m\u001b[0mp\u001b[0m\u001b[0;34m.\u001b[0m\u001b[0macq_proc_size\u001b[0m\u001b[0;34m]\u001b[0m\u001b[0;34m)\u001b[0m\u001b[0;34m)\u001b[0m\u001b[0;34m\u001b[0m\u001b[0;34m\u001b[0m\u001b[0m\n\u001b[0m\u001b[1;32m      6\u001b[0m \u001b[0;34m\u001b[0m\u001b[0m\n",
      "\u001b[0;32m<ipython-input-12-5a502ca3cc0d>\u001b[0m in \u001b[0;36manalyse1\u001b[0;34m(p, doppler_space, sig)\u001b[0m\n\u001b[1;32m      3\u001b[0m   \u001b[0mprint\u001b[0m\u001b[0;34m(\u001b[0m\u001b[0mlen\u001b[0m\u001b[0;34m(\u001b[0m\u001b[0mdoppler_space\u001b[0m\u001b[0;34m)\u001b[0m\u001b[0;34m)\u001b[0m\u001b[0;34m\u001b[0m\u001b[0;34m\u001b[0m\u001b[0m\n\u001b[1;32m      4\u001b[0m   \u001b[0;32mfor\u001b[0m \u001b[0mdoppler\u001b[0m \u001b[0;32min\u001b[0m \u001b[0mdoppler_space\u001b[0m\u001b[0;34m:\u001b[0m\u001b[0;34m\u001b[0m\u001b[0;34m\u001b[0m\u001b[0m\n\u001b[0;32m----> 5\u001b[0;31m     \u001b[0mr\u001b[0m \u001b[0;34m=\u001b[0m \u001b[0mp\u001b[0m\u001b[0;34m.\u001b[0m\u001b[0manalyse_chip\u001b[0m\u001b[0;34m(\u001b[0m\u001b[0mdoppler\u001b[0m\u001b[0;34m,\u001b[0m \u001b[0msig\u001b[0m\u001b[0;34m)\u001b[0m\u001b[0;34m\u001b[0m\u001b[0;34m\u001b[0m\u001b[0m\n\u001b[0m\u001b[1;32m      6\u001b[0m     \u001b[0mtb\u001b[0m\u001b[0;34m.\u001b[0m\u001b[0mappend\u001b[0m\u001b[0;34m(\u001b[0m\u001b[0mr\u001b[0m\u001b[0;34m)\u001b[0m\u001b[0;34m\u001b[0m\u001b[0;34m\u001b[0m\u001b[0m\n\u001b[1;32m      7\u001b[0m   \u001b[0mmx\u001b[0m \u001b[0;34m=\u001b[0m \u001b[0mmax\u001b[0m\u001b[0;34m(\u001b[0m\u001b[0mtb\u001b[0m\u001b[0;34m,\u001b[0m \u001b[0mkey\u001b[0m\u001b[0;34m=\u001b[0m\u001b[0;32mlambda\u001b[0m \u001b[0mx\u001b[0m\u001b[0;34m:\u001b[0m \u001b[0mx\u001b[0m\u001b[0;34m.\u001b[0m\u001b[0msnr\u001b[0m\u001b[0;34m)\u001b[0m\u001b[0;34m\u001b[0m\u001b[0;34m\u001b[0m\u001b[0m\n",
      "\u001b[0;32m~/programmation/hack/chdrft/dsp/base.py\u001b[0m in \u001b[0;36manalyse_chip\u001b[0;34m(self, freq, data, acq, dbg)\u001b[0m\n\u001b[1;32m    861\u001b[0m       \u001b[0mcorrel_max\u001b[0m  \u001b[0;34m=\u001b[0m \u001b[0mnp\u001b[0m\u001b[0;34m.\u001b[0m\u001b[0mmax\u001b[0m\u001b[0;34m(\u001b[0m\u001b[0mcorrel_abs\u001b[0m\u001b[0;34m)\u001b[0m\u001b[0;34m\u001b[0m\u001b[0;34m\u001b[0m\u001b[0m\n\u001b[1;32m    862\u001b[0m       \u001b[0mm\u001b[0m \u001b[0;34m=\u001b[0m \u001b[0mnp\u001b[0m\u001b[0;34m.\u001b[0m\u001b[0mreshape\u001b[0m\u001b[0;34m(\u001b[0m\u001b[0mcorrel_abs\u001b[0m\u001b[0;34m,\u001b[0m \u001b[0;34m(\u001b[0m\u001b[0;34m-\u001b[0m\u001b[0;36m1\u001b[0m\u001b[0;34m,\u001b[0m \u001b[0mself\u001b[0m\u001b[0;34m.\u001b[0m\u001b[0mconf\u001b[0m\u001b[0;34m.\u001b[0m\u001b[0msps\u001b[0m\u001b[0;34m)\u001b[0m\u001b[0;34m)\u001b[0m\u001b[0;34m\u001b[0m\u001b[0;34m\u001b[0m\u001b[0m\n\u001b[0;32m--> 863\u001b[0;31m       \u001b[0mmquant\u001b[0m\u001b[0;34m,\u001b[0m \u001b[0;34m=\u001b[0m \u001b[0mZ\u001b[0m\u001b[0;34m.\u001b[0m\u001b[0mmquantiles\u001b[0m\u001b[0;34m(\u001b[0m\u001b[0mm\u001b[0m\u001b[0;34m,\u001b[0m \u001b[0mprob\u001b[0m\u001b[0;34m=\u001b[0m\u001b[0;34m[\u001b[0m\u001b[0;36m0.1\u001b[0m\u001b[0;34m]\u001b[0m\u001b[0;34m,\u001b[0m \u001b[0maxis\u001b[0m\u001b[0;34m=\u001b[0m\u001b[0;36m0\u001b[0m\u001b[0;34m)\u001b[0m\u001b[0;34m\u001b[0m\u001b[0;34m\u001b[0m\u001b[0m\n\u001b[0m\u001b[1;32m    864\u001b[0m \u001b[0;34m\u001b[0m\u001b[0m\n\u001b[1;32m    865\u001b[0m       \u001b[0mphase0\u001b[0m \u001b[0;34m=\u001b[0m \u001b[0mnp\u001b[0m\u001b[0;34m.\u001b[0m\u001b[0margmax\u001b[0m\u001b[0;34m(\u001b[0m\u001b[0mmquant\u001b[0m\u001b[0;34m)\u001b[0m\u001b[0;34m\u001b[0m\u001b[0;34m\u001b[0m\u001b[0m\n",
      "\u001b[0;32m/usr/lib/python3.7/site-packages/scipy/stats/mstats_basic.py\u001b[0m in \u001b[0;36mmquantiles\u001b[0;34m(a, prob, alphap, betap, axis, limit)\u001b[0m\n\u001b[1;32m   2594\u001b[0m         \u001b[0;32mreturn\u001b[0m \u001b[0m_quantiles1D\u001b[0m\u001b[0;34m(\u001b[0m\u001b[0mdata\u001b[0m\u001b[0;34m,\u001b[0m \u001b[0mm\u001b[0m\u001b[0;34m,\u001b[0m \u001b[0mp\u001b[0m\u001b[0;34m)\u001b[0m\u001b[0;34m\u001b[0m\u001b[0;34m\u001b[0m\u001b[0m\n\u001b[1;32m   2595\u001b[0m \u001b[0;34m\u001b[0m\u001b[0m\n\u001b[0;32m-> 2596\u001b[0;31m     \u001b[0;32mreturn\u001b[0m \u001b[0mma\u001b[0m\u001b[0;34m.\u001b[0m\u001b[0mapply_along_axis\u001b[0m\u001b[0;34m(\u001b[0m\u001b[0m_quantiles1D\u001b[0m\u001b[0;34m,\u001b[0m \u001b[0maxis\u001b[0m\u001b[0;34m,\u001b[0m \u001b[0mdata\u001b[0m\u001b[0;34m,\u001b[0m \u001b[0mm\u001b[0m\u001b[0;34m,\u001b[0m \u001b[0mp\u001b[0m\u001b[0;34m)\u001b[0m\u001b[0;34m\u001b[0m\u001b[0;34m\u001b[0m\u001b[0m\n\u001b[0m\u001b[1;32m   2597\u001b[0m \u001b[0;34m\u001b[0m\u001b[0m\n\u001b[1;32m   2598\u001b[0m \u001b[0;34m\u001b[0m\u001b[0m\n",
      "\u001b[0;32m/usr/lib/python3.7/site-packages/numpy/ma/extras.py\u001b[0m in \u001b[0;36mapply_along_axis\u001b[0;34m(func1d, axis, arr, *args, **kwargs)\u001b[0m\n\u001b[1;32m    448\u001b[0m             \u001b[0mi\u001b[0m\u001b[0;34m.\u001b[0m\u001b[0mput\u001b[0m\u001b[0;34m(\u001b[0m\u001b[0mindlist\u001b[0m\u001b[0;34m,\u001b[0m \u001b[0mind\u001b[0m\u001b[0;34m)\u001b[0m\u001b[0;34m\u001b[0m\u001b[0;34m\u001b[0m\u001b[0m\n\u001b[1;32m    449\u001b[0m             \u001b[0mj\u001b[0m\u001b[0;34m.\u001b[0m\u001b[0mput\u001b[0m\u001b[0;34m(\u001b[0m\u001b[0mindlist\u001b[0m\u001b[0;34m,\u001b[0m \u001b[0mind\u001b[0m\u001b[0;34m)\u001b[0m\u001b[0;34m\u001b[0m\u001b[0;34m\u001b[0m\u001b[0m\n\u001b[0;32m--> 450\u001b[0;31m             \u001b[0mres\u001b[0m \u001b[0;34m=\u001b[0m \u001b[0mfunc1d\u001b[0m\u001b[0;34m(\u001b[0m\u001b[0marr\u001b[0m\u001b[0;34m[\u001b[0m\u001b[0mtuple\u001b[0m\u001b[0;34m(\u001b[0m\u001b[0mi\u001b[0m\u001b[0;34m.\u001b[0m\u001b[0mtolist\u001b[0m\u001b[0;34m(\u001b[0m\u001b[0;34m)\u001b[0m\u001b[0;34m)\u001b[0m\u001b[0;34m]\u001b[0m\u001b[0;34m,\u001b[0m \u001b[0;34m*\u001b[0m\u001b[0margs\u001b[0m\u001b[0;34m,\u001b[0m \u001b[0;34m**\u001b[0m\u001b[0mkwargs\u001b[0m\u001b[0;34m)\u001b[0m\u001b[0;34m\u001b[0m\u001b[0;34m\u001b[0m\u001b[0m\n\u001b[0m\u001b[1;32m    451\u001b[0m             \u001b[0moutarr\u001b[0m\u001b[0;34m[\u001b[0m\u001b[0mtuple\u001b[0m\u001b[0;34m(\u001b[0m\u001b[0mflatten_inplace\u001b[0m\u001b[0;34m(\u001b[0m\u001b[0mj\u001b[0m\u001b[0;34m.\u001b[0m\u001b[0mtolist\u001b[0m\u001b[0;34m(\u001b[0m\u001b[0;34m)\u001b[0m\u001b[0;34m)\u001b[0m\u001b[0;34m)\u001b[0m\u001b[0;34m]\u001b[0m \u001b[0;34m=\u001b[0m \u001b[0mres\u001b[0m\u001b[0;34m\u001b[0m\u001b[0;34m\u001b[0m\u001b[0m\n\u001b[1;32m    452\u001b[0m             \u001b[0mdtypes\u001b[0m\u001b[0;34m.\u001b[0m\u001b[0mappend\u001b[0m\u001b[0;34m(\u001b[0m\u001b[0masarray\u001b[0m\u001b[0;34m(\u001b[0m\u001b[0mres\u001b[0m\u001b[0;34m)\u001b[0m\u001b[0;34m.\u001b[0m\u001b[0mdtype\u001b[0m\u001b[0;34m)\u001b[0m\u001b[0;34m\u001b[0m\u001b[0;34m\u001b[0m\u001b[0m\n",
      "\u001b[0;32m/usr/lib/python3.7/site-packages/scipy/stats/mstats_basic.py\u001b[0m in \u001b[0;36m_quantiles1D\u001b[0;34m(data, m, p)\u001b[0m\n\u001b[1;32m   2569\u001b[0m     \"\"\"\n\u001b[1;32m   2570\u001b[0m     \u001b[0;32mdef\u001b[0m \u001b[0m_quantiles1D\u001b[0m\u001b[0;34m(\u001b[0m\u001b[0mdata\u001b[0m\u001b[0;34m,\u001b[0m\u001b[0mm\u001b[0m\u001b[0;34m,\u001b[0m\u001b[0mp\u001b[0m\u001b[0;34m)\u001b[0m\u001b[0;34m:\u001b[0m\u001b[0;34m\u001b[0m\u001b[0;34m\u001b[0m\u001b[0m\n\u001b[0;32m-> 2571\u001b[0;31m         \u001b[0mx\u001b[0m \u001b[0;34m=\u001b[0m \u001b[0mnp\u001b[0m\u001b[0;34m.\u001b[0m\u001b[0msort\u001b[0m\u001b[0;34m(\u001b[0m\u001b[0mdata\u001b[0m\u001b[0;34m.\u001b[0m\u001b[0mcompressed\u001b[0m\u001b[0;34m(\u001b[0m\u001b[0;34m)\u001b[0m\u001b[0;34m)\u001b[0m\u001b[0;34m\u001b[0m\u001b[0;34m\u001b[0m\u001b[0m\n\u001b[0m\u001b[1;32m   2572\u001b[0m         \u001b[0mn\u001b[0m \u001b[0;34m=\u001b[0m \u001b[0mlen\u001b[0m\u001b[0;34m(\u001b[0m\u001b[0mx\u001b[0m\u001b[0;34m)\u001b[0m\u001b[0;34m\u001b[0m\u001b[0;34m\u001b[0m\u001b[0m\n\u001b[1;32m   2573\u001b[0m         \u001b[0;32mif\u001b[0m \u001b[0mn\u001b[0m \u001b[0;34m==\u001b[0m \u001b[0;36m0\u001b[0m\u001b[0;34m:\u001b[0m\u001b[0;34m\u001b[0m\u001b[0;34m\u001b[0m\u001b[0m\n",
      "\u001b[0;32m/usr/lib/python3.7/site-packages/numpy/core/fromnumeric.py\u001b[0m in \u001b[0;36msort\u001b[0;34m(a, axis, kind, order)\u001b[0m\n\u001b[1;32m    931\u001b[0m         \u001b[0maxis\u001b[0m \u001b[0;34m=\u001b[0m \u001b[0;34m-\u001b[0m\u001b[0;36m1\u001b[0m\u001b[0;34m\u001b[0m\u001b[0;34m\u001b[0m\u001b[0m\n\u001b[1;32m    932\u001b[0m     \u001b[0;32melse\u001b[0m\u001b[0;34m:\u001b[0m\u001b[0;34m\u001b[0m\u001b[0;34m\u001b[0m\u001b[0m\n\u001b[0;32m--> 933\u001b[0;31m         \u001b[0ma\u001b[0m \u001b[0;34m=\u001b[0m \u001b[0masanyarray\u001b[0m\u001b[0;34m(\u001b[0m\u001b[0ma\u001b[0m\u001b[0;34m)\u001b[0m\u001b[0;34m.\u001b[0m\u001b[0mcopy\u001b[0m\u001b[0;34m(\u001b[0m\u001b[0morder\u001b[0m\u001b[0;34m=\u001b[0m\u001b[0;34m\"K\"\u001b[0m\u001b[0;34m)\u001b[0m\u001b[0;34m\u001b[0m\u001b[0;34m\u001b[0m\u001b[0m\n\u001b[0m\u001b[1;32m    934\u001b[0m     \u001b[0ma\u001b[0m\u001b[0;34m.\u001b[0m\u001b[0msort\u001b[0m\u001b[0;34m(\u001b[0m\u001b[0maxis\u001b[0m\u001b[0;34m=\u001b[0m\u001b[0maxis\u001b[0m\u001b[0;34m,\u001b[0m \u001b[0mkind\u001b[0m\u001b[0;34m=\u001b[0m\u001b[0mkind\u001b[0m\u001b[0;34m,\u001b[0m \u001b[0morder\u001b[0m\u001b[0;34m=\u001b[0m\u001b[0morder\u001b[0m\u001b[0;34m)\u001b[0m\u001b[0;34m\u001b[0m\u001b[0;34m\u001b[0m\u001b[0m\n\u001b[1;32m    935\u001b[0m     \u001b[0;32mreturn\u001b[0m \u001b[0ma\u001b[0m\u001b[0;34m\u001b[0m\u001b[0;34m\u001b[0m\u001b[0m\n",
      "\u001b[0;32m/usr/lib/python3.7/site-packages/numpy/core/numeric.py\u001b[0m in \u001b[0;36masanyarray\u001b[0;34m(a, dtype, order)\u001b[0m\n\u001b[1;32m    589\u001b[0m \u001b[0;34m\u001b[0m\u001b[0m\n\u001b[1;32m    590\u001b[0m     \"\"\"\n\u001b[0;32m--> 591\u001b[0;31m     \u001b[0;32mreturn\u001b[0m \u001b[0marray\u001b[0m\u001b[0;34m(\u001b[0m\u001b[0ma\u001b[0m\u001b[0;34m,\u001b[0m \u001b[0mdtype\u001b[0m\u001b[0;34m,\u001b[0m \u001b[0mcopy\u001b[0m\u001b[0;34m=\u001b[0m\u001b[0;32mFalse\u001b[0m\u001b[0;34m,\u001b[0m \u001b[0morder\u001b[0m\u001b[0;34m=\u001b[0m\u001b[0morder\u001b[0m\u001b[0;34m,\u001b[0m \u001b[0msubok\u001b[0m\u001b[0;34m=\u001b[0m\u001b[0;32mTrue\u001b[0m\u001b[0;34m)\u001b[0m\u001b[0;34m\u001b[0m\u001b[0;34m\u001b[0m\u001b[0m\n\u001b[0m\u001b[1;32m    592\u001b[0m \u001b[0;34m\u001b[0m\u001b[0m\n\u001b[1;32m    593\u001b[0m \u001b[0;34m\u001b[0m\u001b[0m\n",
      "\u001b[0;31mKeyboardInterrupt\u001b[0m: "
     ]
    }
   ],
   "source": [
    "sid = 4\n",
    "p = get_p(sid, acq_sym=2, l1ca_repeat=2)\n",
    "sig = nds.y[:p.acq_proc_size]\n",
    "doppler_space =  np.arange(-10000, 10000, p.conf.doppler_step)\n",
    "Z.pprint(analyse1(p, doppler_space, sig[:p.acq_proc_size]))\n",
    "\n"
   ]
  },
  {
   "cell_type": "code",
   "execution_count": 53,
   "metadata": {
    "ExecuteTime": {
     "end_time": "2019-08-25T16:38:34.788598Z",
     "start_time": "2019-08-25T16:38:34.783300Z"
    }
   },
   "outputs": [
    {
     "name": "stdout",
     "output_type": "stream",
     "text": [
      "32736 81840\n"
     ]
    }
   ],
   "source": [
    "doppler_space =  np.arange(-2000, 2000, doppler_step)\n",
    "sig = RMX.dbg.noise[p.acq_proc_size: p.acq_proc_size*2]\n",
    "print(p.acq_proc_size, len(mx.dbg.noise))"
   ]
  },
  {
   "cell_type": "code",
   "execution_count": 34,
   "metadata": {
    "ExecuteTime": {
     "end_time": "2019-08-25T17:54:16.450082Z",
     "start_time": "2019-08-25T17:54:16.183683Z"
    }
   },
   "outputs": [],
   "source": [
    "\n",
    "g = K.GraphHelper(run_in_jupyter=1)\n",
    "#g.create_plot(plots=[np.abs(sig)])\n",
    "g.create_plot(plots=[np.abs(nds.y[p.acq_proc_size:p.acq_proc_size*2])])\n",
    "g.run()\n"
   ]
  },
  {
   "cell_type": "code",
   "execution_count": 22,
   "metadata": {
    "ExecuteTime": {
     "end_time": "2019-09-01T16:18:02.297320Z",
     "start_time": "2019-09-01T16:18:02.291158Z"
    }
   },
   "outputs": [],
   "source": [
    "\n",
    "sats = (1,4,5,9,29)\n",
    "sats_mp = {\n",
    "  1 : (5062,),\n",
    "  4 : (3874,),\n",
    "  5 : (750,),\n",
    "  9 : (1187,),\n",
    "  29 : (1437,),\n",
    "}\n",
    "#1 6.982685490120044e-05 5062.5\n",
    "#4 7.495027931625486e-10 3875.0\n",
    "#5 3.018314105318609e-07 750.0\n",
    "#9 0.00013229216830179524 1187.5\n",
    "#29 4.773959005888173e-14 1437.5"
   ]
  },
  {
   "cell_type": "code",
   "execution_count": null,
   "metadata": {},
   "outputs": [],
   "source": [
    "sats = range(opa_gps.Satellites.nsats())"
   ]
  },
  {
   "cell_type": "code",
   "execution_count": 30,
   "metadata": {
    "ExecuteTime": {
     "end_time": "2019-09-01T16:19:11.243086Z",
     "start_time": "2019-09-01T16:19:10.819103Z"
    }
   },
   "outputs": [
    {
     "name": "stdout",
     "output_type": "stream",
     "text": [
      "53196 53196\n",
      "1\n",
      "1 0.013654321159744853 0.9936751543458759 5062\n"
     ]
    }
   ],
   "source": [
    "nsyms = 5\n",
    "l1ca_repeat=1\n",
    "p0 = get_p(0, nsyms, l1ca_repeat=l1ca_repeat)\n",
    "sig = nds.y\n",
    "sig = sig[:p0.acq_proc_size]\n",
    "doppler_space =  np.arange(-10000, 10000, p0.conf.doppler_step)\n",
    "print(len(sig), p0.acq_proc_size)\n",
    "\n",
    "tb = []\n",
    "#sats = (1, 3, 8, 26)\n",
    "for sid, doppler_space in sats_mp.items():\n",
    "  if sid != 1: continue\n",
    "  p = get_p(sid, nsyms, l1ca_repeat=l1ca_repeat)\n",
    "  d0 = doppler_space[0]\n",
    "  #doppler_space = np.linspace(d0-200, d0+200, 20)\n",
    "  mx = analyse1(p, doppler_space, sig)\n",
    "  tb.append(cmisc.Attr(sid=sid, res=mx))\n",
    "  print(sid, mx.by_snr.snr, mx.by_prob.prob_detection, mx.by_prob.doppler)"
   ]
  },
  {
   "cell_type": "code",
   "execution_count": 21,
   "metadata": {
    "ExecuteTime": {
     "end_time": "2019-08-28T21:25:36.171299Z",
     "start_time": "2019-08-28T21:25:36.165297Z"
    }
   },
   "outputs": [
    {
     "name": "stdout",
     "output_type": "stream",
     "text": [
      "1 0.00043633581976809666 5093.578947368421\n",
      "4 2.2209919681159818e-08 3926.6315789473683\n",
      "5 0.0002523985240325821 634.2105263157895\n",
      "29 3.229264011750388e-08 1426.4736842105262\n"
     ]
    }
   ],
   "source": [
    "for e in tb:\n",
    "  px =  1 - e.res.by_prob.prob_detection\n",
    "  if px < 1e-3:\n",
    "    print(e.sid, px, e.res.by_prob.doppler)"
   ]
  },
  {
   "cell_type": "code",
   "execution_count": null,
   "metadata": {},
   "outputs": [],
   "source": [
    "#1 6.982685490120044e-05 5062.5\n",
    "#4 7.495027931625486e-10 3875.0\n",
    "#5 3.018314105318609e-07 750.0\n",
    "#9 0.00013229216830179524 1187.5\n",
    "#29 4.773959005888173e-14 1437.5\n"
   ]
  },
  {
   "cell_type": "code",
   "execution_count": 52,
   "metadata": {
    "ExecuteTime": {
     "end_time": "2019-08-25T16:38:31.791776Z",
     "start_time": "2019-08-25T16:38:31.788701Z"
    }
   },
   "outputs": [],
   "source": [
    "RMX = mx"
   ]
  },
  {
   "cell_type": "code",
   "execution_count": 70,
   "metadata": {
    "ExecuteTime": {
     "end_time": "2019-08-25T17:15:44.973280Z",
     "start_time": "2019-08-25T17:15:44.928092Z"
    }
   },
   "outputs": [
    {
     "ename": "ValueError",
     "evalue": "operands could not be broadcast together with shapes (24552,) (14,) ",
     "output_type": "error",
     "traceback": [
      "\u001b[0;31m---------------------------------------------------------------------------\u001b[0m",
      "\u001b[0;31mValueError\u001b[0m                                Traceback (most recent call last)",
      "\u001b[0;32m<ipython-input-70-d0f0acabacea>\u001b[0m in \u001b[0;36m<module>\u001b[0;34m\u001b[0m\n\u001b[1;32m      1\u001b[0m \u001b[0mtarget_doppler\u001b[0m \u001b[0;34m=\u001b[0m \u001b[0mnp\u001b[0m\u001b[0;34m.\u001b[0m\u001b[0marange\u001b[0m\u001b[0;34m(\u001b[0m\u001b[0;34m-\u001b[0m\u001b[0;36m2000\u001b[0m\u001b[0;34m,\u001b[0m \u001b[0;36m2000\u001b[0m\u001b[0;34m,\u001b[0m \u001b[0;36m300\u001b[0m\u001b[0;34m)\u001b[0m\u001b[0;34m\u001b[0m\u001b[0;34m\u001b[0m\u001b[0m\n\u001b[0;32m----> 2\u001b[0;31m \u001b[0mr\u001b[0m \u001b[0;34m=\u001b[0m \u001b[0mp\u001b[0m\u001b[0;34m.\u001b[0m\u001b[0manalyse_chip\u001b[0m\u001b[0;34m(\u001b[0m\u001b[0mtarget_doppler\u001b[0m\u001b[0;34m,\u001b[0m \u001b[0msig\u001b[0m\u001b[0;34m,\u001b[0m \u001b[0mdbg\u001b[0m\u001b[0;34m=\u001b[0m\u001b[0;36m0\u001b[0m\u001b[0;34m)\u001b[0m\u001b[0;34m\u001b[0m\u001b[0;34m\u001b[0m\u001b[0m\n\u001b[0m\u001b[1;32m      3\u001b[0m \u001b[0mr\u001b[0m\u001b[0;34m\u001b[0m\u001b[0;34m\u001b[0m\u001b[0m\n",
      "\u001b[0;32m~/programmation/hack/chdrft/dsp/base.py\u001b[0m in \u001b[0;36manalyse_chip\u001b[0;34m(self, freq, data, acq, dbg)\u001b[0m\n\u001b[1;32m    834\u001b[0m   \u001b[0;32mdef\u001b[0m \u001b[0manalyse_chip\u001b[0m\u001b[0;34m(\u001b[0m\u001b[0mself\u001b[0m\u001b[0;34m,\u001b[0m \u001b[0mfreq\u001b[0m\u001b[0;34m,\u001b[0m \u001b[0mdata\u001b[0m\u001b[0;34m,\u001b[0m \u001b[0macq\u001b[0m\u001b[0;34m=\u001b[0m\u001b[0;36m1\u001b[0m\u001b[0;34m,\u001b[0m \u001b[0mdbg\u001b[0m\u001b[0;34m=\u001b[0m\u001b[0;36m0\u001b[0m\u001b[0;34m)\u001b[0m\u001b[0;34m:\u001b[0m\u001b[0;34m\u001b[0m\u001b[0;34m\u001b[0m\u001b[0m\n\u001b[1;32m    835\u001b[0m     \u001b[0;32mif\u001b[0m \u001b[0macq\u001b[0m\u001b[0;34m:\u001b[0m\u001b[0;34m\u001b[0m\u001b[0;34m\u001b[0m\u001b[0m\n\u001b[0;32m--> 836\u001b[0;31m       \u001b[0mshift_seq\u001b[0m \u001b[0;34m=\u001b[0m \u001b[0mnp\u001b[0m\u001b[0;34m.\u001b[0m\u001b[0mexp\u001b[0m\u001b[0;34m(\u001b[0m\u001b[0mself\u001b[0m\u001b[0;34m.\u001b[0m\u001b[0mpulse_t_acq\u001b[0m \u001b[0;34m*\u001b[0m \u001b[0mfreq\u001b[0m\u001b[0;34m)\u001b[0m \u001b[0;34m*\u001b[0m \u001b[0mdata\u001b[0m\u001b[0;34m\u001b[0m\u001b[0;34m\u001b[0m\u001b[0m\n\u001b[0m\u001b[1;32m    837\u001b[0m       \u001b[0mcorrel\u001b[0m \u001b[0;34m=\u001b[0m \u001b[0mZ\u001b[0m\u001b[0;34m.\u001b[0m\u001b[0msignal\u001b[0m\u001b[0;34m.\u001b[0m\u001b[0mcorrelate\u001b[0m\u001b[0;34m(\u001b[0m\u001b[0mshift_seq\u001b[0m\u001b[0;34m,\u001b[0m \u001b[0mself\u001b[0m\u001b[0;34m.\u001b[0m\u001b[0mpulse_shape\u001b[0m\u001b[0;34m,\u001b[0m \u001b[0mmode\u001b[0m\u001b[0;34m=\u001b[0m\u001b[0;34m'valid'\u001b[0m\u001b[0;34m)\u001b[0m\u001b[0;34m\u001b[0m\u001b[0;34m\u001b[0m\u001b[0m\n\u001b[1;32m    838\u001b[0m       \u001b[0mmod\u001b[0m \u001b[0;34m=\u001b[0m \u001b[0mlen\u001b[0m\u001b[0;34m(\u001b[0m\u001b[0mcorrel\u001b[0m\u001b[0;34m)\u001b[0m \u001b[0;34m%\u001b[0m \u001b[0mself\u001b[0m\u001b[0;34m.\u001b[0m\u001b[0mconf\u001b[0m\u001b[0;34m.\u001b[0m\u001b[0msps\u001b[0m\u001b[0;34m\u001b[0m\u001b[0;34m\u001b[0m\u001b[0m\n",
      "\u001b[0;31mValueError\u001b[0m: operands could not be broadcast together with shapes (24552,) (14,) "
     ]
    }
   ],
   "source": [
    "target_doppler = 1000\n",
    "r = p.analyse_chip(target_doppler, sig, dbg=0)\n",
    "r"
   ]
  },
  {
   "cell_type": "code",
   "execution_count": 75,
   "metadata": {
    "ExecuteTime": {
     "end_time": "2019-08-25T14:46:50.845760Z",
     "start_time": "2019-08-25T14:46:50.781840Z"
    }
   },
   "outputs": [
    {
     "ename": "ValueError",
     "evalue": "in1 and in2 should have the same dimensionality",
     "output_type": "error",
     "traceback": [
      "\u001b[0;31m---------------------------------------------------------------------------\u001b[0m",
      "\u001b[0;31mValueError\u001b[0m                                Traceback (most recent call last)",
      "\u001b[0;32m<ipython-input-75-c3f49431cbee>\u001b[0m in \u001b[0;36m<module>\u001b[0;34m\u001b[0m\n\u001b[1;32m      3\u001b[0m \u001b[0msat_num\u001b[0m  \u001b[0;34m=\u001b[0m \u001b[0;36m27\u001b[0m\u001b[0;34m\u001b[0m\u001b[0;34m\u001b[0m\u001b[0m\n\u001b[1;32m      4\u001b[0m \u001b[0minterval\u001b[0m \u001b[0;34m=\u001b[0m \u001b[0mopa_gps\u001b[0m\u001b[0;34m.\u001b[0m\u001b[0mget_l1ca_pulse\u001b[0m\u001b[0;34m(\u001b[0m\u001b[0msat_num\u001b[0m\u001b[0;34m,\u001b[0m \u001b[0msamples_per_chip\u001b[0m\u001b[0;34m)\u001b[0m\u001b[0;34m,\u001b[0m\u001b[0;34m\u001b[0m\u001b[0;34m\u001b[0m\u001b[0m\n\u001b[0;32m----> 5\u001b[0;31m \u001b[0mdy\u001b[0m \u001b[0;34m=\u001b[0m \u001b[0mnp\u001b[0m\u001b[0;34m.\u001b[0m\u001b[0mabs\u001b[0m\u001b[0;34m(\u001b[0m\u001b[0mZ\u001b[0m\u001b[0;34m.\u001b[0m\u001b[0msignal\u001b[0m\u001b[0;34m.\u001b[0m\u001b[0mcorrelate\u001b[0m\u001b[0;34m(\u001b[0m\u001b[0minterval\u001b[0m\u001b[0;34m,\u001b[0m \u001b[0mnds\u001b[0m\u001b[0;34m.\u001b[0m\u001b[0my\u001b[0m\u001b[0;34m[\u001b[0m\u001b[0;34m:\u001b[0m\u001b[0;36m3\u001b[0m\u001b[0;34m*\u001b[0m\u001b[0mconf\u001b[0m\u001b[0;34m.\u001b[0m\u001b[0msps\u001b[0m\u001b[0;34m]\u001b[0m\u001b[0;34m,\u001b[0m \u001b[0mmode\u001b[0m\u001b[0;34m=\u001b[0m\u001b[0;34m'full'\u001b[0m\u001b[0;34m)\u001b[0m\u001b[0;34m)\u001b[0m\u001b[0;34m\u001b[0m\u001b[0;34m\u001b[0m\u001b[0m\n\u001b[0m\u001b[1;32m      6\u001b[0m \u001b[0mdx\u001b[0m \u001b[0;34m=\u001b[0m \u001b[0mnp\u001b[0m\u001b[0;34m.\u001b[0m\u001b[0marray\u001b[0m\u001b[0;34m(\u001b[0m\u001b[0mrange\u001b[0m\u001b[0;34m(\u001b[0m\u001b[0mlen\u001b[0m\u001b[0;34m(\u001b[0m\u001b[0mdy\u001b[0m\u001b[0;34m)\u001b[0m\u001b[0;34m)\u001b[0m\u001b[0;34m)\u001b[0m\u001b[0;34m\u001b[0m\u001b[0;34m\u001b[0m\u001b[0m\n\u001b[1;32m      7\u001b[0m \u001b[0;34m\u001b[0m\u001b[0m\n",
      "\u001b[0;32m/usr/lib/python3.7/site-packages/scipy/signal/signaltools.py\u001b[0m in \u001b[0;36mcorrelate\u001b[0;34m(in1, in2, mode, method)\u001b[0m\n\u001b[1;32m    210\u001b[0m         \u001b[0;32mreturn\u001b[0m \u001b[0min1\u001b[0m \u001b[0;34m*\u001b[0m \u001b[0min2\u001b[0m\u001b[0;34m.\u001b[0m\u001b[0mconj\u001b[0m\u001b[0;34m(\u001b[0m\u001b[0;34m)\u001b[0m\u001b[0;34m\u001b[0m\u001b[0;34m\u001b[0m\u001b[0m\n\u001b[1;32m    211\u001b[0m     \u001b[0;32melif\u001b[0m \u001b[0min1\u001b[0m\u001b[0;34m.\u001b[0m\u001b[0mndim\u001b[0m \u001b[0;34m!=\u001b[0m \u001b[0min2\u001b[0m\u001b[0;34m.\u001b[0m\u001b[0mndim\u001b[0m\u001b[0;34m:\u001b[0m\u001b[0;34m\u001b[0m\u001b[0;34m\u001b[0m\u001b[0m\n\u001b[0;32m--> 212\u001b[0;31m         \u001b[0;32mraise\u001b[0m \u001b[0mValueError\u001b[0m\u001b[0;34m(\u001b[0m\u001b[0;34m\"in1 and in2 should have the same dimensionality\"\u001b[0m\u001b[0;34m)\u001b[0m\u001b[0;34m\u001b[0m\u001b[0;34m\u001b[0m\u001b[0m\n\u001b[0m\u001b[1;32m    213\u001b[0m \u001b[0;34m\u001b[0m\u001b[0m\n\u001b[1;32m    214\u001b[0m     \u001b[0;31m# Don't use _valfrommode, since correlate should not accept numeric modes\u001b[0m\u001b[0;34m\u001b[0m\u001b[0;34m\u001b[0m\u001b[0;34m\u001b[0m\u001b[0m\n",
      "\u001b[0;31mValueError\u001b[0m: in1 and in2 should have the same dimensionality"
     ]
    }
   ],
   "source": [
    "%matplotlib qt\n",
    "Z.plt.figure()\n",
    "interval = nds.y[:conf.sps]\n",
    "dy = np.abs(Z.signal.correlate(interval, nds.y[:3*conf.sps], mode='full'))\n",
    "dx = np.array(range(len(dy)))\n",
    "\n",
    "Z.plt.plot(dx, dy)\n",
    "  \n",
    "8738133"
   ]
  },
  {
   "cell_type": "code",
   "execution_count": 114,
   "metadata": {
    "ExecuteTime": {
     "end_time": "2019-08-25T15:01:27.826955Z",
     "start_time": "2019-08-25T15:01:27.818694Z"
    }
   },
   "outputs": [],
   "source": [
    "\n",
    "sat_num  = 26\n",
    "prn = opa_gps.get_l1ca_pulse(sat_num, samples_per_chip)\n",
    "prn = list(prn) + list(prn)\n",
    "t = 2*np.pi * 1j * np.arange(len(prn)) / conf.sample_rate\n"
   ]
  },
  {
   "cell_type": "code",
   "execution_count": 128,
   "metadata": {
    "ExecuteTime": {
     "end_time": "2019-08-25T15:37:25.941391Z",
     "start_time": "2019-08-25T15:37:25.842614Z"
    }
   },
   "outputs": [
    {
     "data": {
      "text/plain": [
       "[<matplotlib.lines.Line2D at 0x7f5d5eb88d68>]"
      ]
     },
     "execution_count": 128,
     "metadata": {},
     "output_type": "execute_result"
    }
   ],
   "source": [
    "\n",
    "shift_seq = np.exp(p.pulse_t_acq * target_doppler) * dx\n",
    "correl = Z.signal.correlate(shift_seq, conf.pulse_shape, mode='valid')\n",
    "Z.plt.plot(np.abs(correl))\n"
   ]
  },
  {
   "cell_type": "code",
   "execution_count": 27,
   "metadata": {
    "ExecuteTime": {
     "end_time": "2019-08-25T10:05:08.833232Z",
     "start_time": "2019-08-25T10:05:08.792384Z"
    }
   },
   "outputs": [],
   "source": [
    "Z.FileFormatHelper.Write('/tmp/test.pickle', cmisc.Attr(conf=conf, ds=ds))"
   ]
  },
  {
   "cell_type": "code",
   "execution_count": 3,
   "metadata": {
    "ExecuteTime": {
     "end_time": "2019-08-25T10:15:59.058670Z",
     "start_time": "2019-08-25T10:15:59.020644Z"
    }
   },
   "outputs": [],
   "source": [
    "\n",
    "dd = Z.FileFormatHelper.Read('/tmp/test.pickle')\n",
    "conf = dd.conf\n",
    "ds = dd.ds"
   ]
  },
  {
   "cell_type": "code",
   "execution_count": 4,
   "metadata": {
    "ExecuteTime": {
     "end_time": "2019-08-27T13:57:14.558950Z",
     "start_time": "2019-08-27T13:57:14.264150Z"
    }
   },
   "outputs": [
    {
     "ename": "NotImplementedError",
     "evalue": "Please use HDF reader for matlab v7.3 files",
     "output_type": "error",
     "traceback": [
      "\u001b[0;31m---------------------------------------------------------------------------\u001b[0m",
      "\u001b[0;31mNotImplementedError\u001b[0m                       Traceback (most recent call last)",
      "\u001b[0;32m<ipython-input-4-dc51107d1f5c>\u001b[0m in \u001b[0;36m<module>\u001b[0;34m\u001b[0m\n\u001b[1;32m      1\u001b[0m \u001b[0;32mimport\u001b[0m \u001b[0mscipy\u001b[0m\u001b[0;34m.\u001b[0m\u001b[0mio\u001b[0m \u001b[0;32mas\u001b[0m \u001b[0msio\u001b[0m\u001b[0;34m\u001b[0m\u001b[0;34m\u001b[0m\u001b[0m\n\u001b[0;32m----> 2\u001b[0;31m \u001b[0msio\u001b[0m\u001b[0;34m.\u001b[0m\u001b[0mloadmat\u001b[0m\u001b[0;34m(\u001b[0m\u001b[0;34m'/home/benoit/programmation/dsp/data/tmp/observables.mat'\u001b[0m\u001b[0;34m)\u001b[0m\u001b[0;34m\u001b[0m\u001b[0;34m\u001b[0m\u001b[0m\n\u001b[0m",
      "\u001b[0;32m/usr/lib/python3.7/site-packages/scipy/io/matlab/mio.py\u001b[0m in \u001b[0;36mloadmat\u001b[0;34m(file_name, mdict, appendmat, **kwargs)\u001b[0m\n\u001b[1;32m    215\u001b[0m     \u001b[0mvariable_names\u001b[0m \u001b[0;34m=\u001b[0m \u001b[0mkwargs\u001b[0m\u001b[0;34m.\u001b[0m\u001b[0mpop\u001b[0m\u001b[0;34m(\u001b[0m\u001b[0;34m'variable_names'\u001b[0m\u001b[0;34m,\u001b[0m \u001b[0;32mNone\u001b[0m\u001b[0;34m)\u001b[0m\u001b[0;34m\u001b[0m\u001b[0;34m\u001b[0m\u001b[0m\n\u001b[1;32m    216\u001b[0m     \u001b[0;32mwith\u001b[0m \u001b[0m_open_file_context\u001b[0m\u001b[0;34m(\u001b[0m\u001b[0mfile_name\u001b[0m\u001b[0;34m,\u001b[0m \u001b[0mappendmat\u001b[0m\u001b[0;34m)\u001b[0m \u001b[0;32mas\u001b[0m \u001b[0mf\u001b[0m\u001b[0;34m:\u001b[0m\u001b[0;34m\u001b[0m\u001b[0;34m\u001b[0m\u001b[0m\n\u001b[0;32m--> 217\u001b[0;31m         \u001b[0mMR\u001b[0m\u001b[0;34m,\u001b[0m \u001b[0m_\u001b[0m \u001b[0;34m=\u001b[0m \u001b[0mmat_reader_factory\u001b[0m\u001b[0;34m(\u001b[0m\u001b[0mf\u001b[0m\u001b[0;34m,\u001b[0m \u001b[0;34m**\u001b[0m\u001b[0mkwargs\u001b[0m\u001b[0;34m)\u001b[0m\u001b[0;34m\u001b[0m\u001b[0;34m\u001b[0m\u001b[0m\n\u001b[0m\u001b[1;32m    218\u001b[0m         \u001b[0mmatfile_dict\u001b[0m \u001b[0;34m=\u001b[0m \u001b[0mMR\u001b[0m\u001b[0;34m.\u001b[0m\u001b[0mget_variables\u001b[0m\u001b[0;34m(\u001b[0m\u001b[0mvariable_names\u001b[0m\u001b[0;34m)\u001b[0m\u001b[0;34m\u001b[0m\u001b[0;34m\u001b[0m\u001b[0m\n\u001b[1;32m    219\u001b[0m \u001b[0;34m\u001b[0m\u001b[0m\n",
      "\u001b[0;32m/usr/lib/python3.7/site-packages/scipy/io/matlab/mio.py\u001b[0m in \u001b[0;36mmat_reader_factory\u001b[0;34m(file_name, appendmat, **kwargs)\u001b[0m\n\u001b[1;32m     76\u001b[0m         \u001b[0;32mreturn\u001b[0m \u001b[0mMatFile5Reader\u001b[0m\u001b[0;34m(\u001b[0m\u001b[0mbyte_stream\u001b[0m\u001b[0;34m,\u001b[0m \u001b[0;34m**\u001b[0m\u001b[0mkwargs\u001b[0m\u001b[0;34m)\u001b[0m\u001b[0;34m,\u001b[0m \u001b[0mfile_opened\u001b[0m\u001b[0;34m\u001b[0m\u001b[0;34m\u001b[0m\u001b[0m\n\u001b[1;32m     77\u001b[0m     \u001b[0;32melif\u001b[0m \u001b[0mmjv\u001b[0m \u001b[0;34m==\u001b[0m \u001b[0;36m2\u001b[0m\u001b[0;34m:\u001b[0m\u001b[0;34m\u001b[0m\u001b[0;34m\u001b[0m\u001b[0m\n\u001b[0;32m---> 78\u001b[0;31m         \u001b[0;32mraise\u001b[0m \u001b[0mNotImplementedError\u001b[0m\u001b[0;34m(\u001b[0m\u001b[0;34m'Please use HDF reader for matlab v7.3 files'\u001b[0m\u001b[0;34m)\u001b[0m\u001b[0;34m\u001b[0m\u001b[0;34m\u001b[0m\u001b[0m\n\u001b[0m\u001b[1;32m     79\u001b[0m     \u001b[0;32melse\u001b[0m\u001b[0;34m:\u001b[0m\u001b[0;34m\u001b[0m\u001b[0;34m\u001b[0m\u001b[0m\n\u001b[1;32m     80\u001b[0m         \u001b[0;32mraise\u001b[0m \u001b[0mTypeError\u001b[0m\u001b[0;34m(\u001b[0m\u001b[0;34m'Did not recognize version %s'\u001b[0m \u001b[0;34m%\u001b[0m \u001b[0mmjv\u001b[0m\u001b[0;34m)\u001b[0m\u001b[0;34m\u001b[0m\u001b[0;34m\u001b[0m\u001b[0m\n",
      "\u001b[0;31mNotImplementedError\u001b[0m: Please use HDF reader for matlab v7.3 files"
     ]
    }
   ],
   "source": [
    "import scipy.io as sio\n",
    "#r = sio.loadmat('/home/benoit/programmation/dsp/data/tmp/observables.mat')\n",
    "r = sio.loadmat()"
   ]
  },
  {
   "cell_type": "code",
   "execution_count": 24,
   "metadata": {
    "ExecuteTime": {
     "end_time": "2019-08-27T14:56:05.323626Z",
     "start_time": "2019-08-27T14:56:05.310914Z"
    }
   },
   "outputs": [
    {
     "name": "stdout",
     "output_type": "stream",
     "text": [
      "<KeysViewHDF5 ['CN0_SNV_dB_Hz', 'PRN', 'PRN_start_sample_count', 'Prompt_I', 'Prompt_Q', 'abs_E', 'abs_L', 'abs_P', 'abs_VE', 'abs_VL', 'acc_carrier_phase_rad', 'aux1', 'aux2', 'carr_error_filt_hz', 'carr_error_hz', 'carrier_doppler_hz', 'carrier_doppler_rate_hz', 'carrier_lock_test', 'code_error_chips', 'code_error_filt_chips', 'code_freq_chips', 'code_freq_rate_chips']>\n",
      "[[-1486.146]\n",
      " [-1490.603]\n",
      " [-1477.928]\n",
      " [-1474.770]\n",
      " [-1476.927]\n",
      " [-1469.936]\n",
      " [-1469.907]\n",
      " [-1479.435]\n",
      " [-1480.396]\n",
      " [-1528.075]\n",
      " [-1522.504]\n",
      " [-1515.716]\n",
      " [-1505.911]\n",
      " [-1526.662]\n",
      " [-1494.118]\n",
      " [-1478.981]\n",
      " [-1477.152]\n",
      " [-1471.510]\n",
      " [-1479.681]\n",
      " [-1484.434]\n",
      " [-1478.041]\n",
      " [-1473.522]\n",
      " [-1469.405]\n",
      " [-1474.015]\n",
      " [-1467.231]\n",
      " [-1471.507]\n",
      " [-1474.170]\n",
      " [-1474.599]\n",
      " [-1464.972]\n",
      " [-1468.246]\n",
      " ...\n",
      " [2260.410]\n",
      " [2222.274]\n",
      " [2273.485]\n",
      " [2252.396]\n",
      " [2232.929]\n",
      " [2237.142]\n",
      " [2259.297]\n",
      " [2234.911]\n",
      " [2237.392]\n",
      " [2279.511]\n",
      " [2232.897]\n",
      " [2257.349]\n",
      " [2251.295]\n",
      " [2237.575]\n",
      " [2278.115]\n",
      " [2259.134]\n",
      " [2254.962]\n",
      " [2254.863]\n",
      " [2263.910]\n",
      " [2256.412]\n",
      " [2279.780]\n",
      " [2253.356]\n",
      " [2281.452]\n",
      " [2248.329]\n",
      " [2284.203]\n",
      " [2254.837]\n",
      " [2240.123]\n",
      " [2266.600]\n",
      " [2286.626]\n",
      " [2276.707]]\n",
      "[[30]\n",
      " [30]\n",
      " [30]\n",
      " [30]\n",
      " [30]\n",
      " [30]\n",
      " [30]\n",
      " [30]\n",
      " [30]\n",
      " [30]\n",
      " [30]\n",
      " [30]\n",
      " [30]\n",
      " [30]\n",
      " [30]\n",
      " [30]\n",
      " [30]\n",
      " [30]\n",
      " [30]\n",
      " [30]\n",
      " [30]\n",
      " [30]\n",
      " [30]\n",
      " [30]\n",
      " [30]\n",
      " [30]\n",
      " [30]\n",
      " [30]\n",
      " [30]\n",
      " [30]\n",
      " ...\n",
      " [30]\n",
      " [30]\n",
      " [30]\n",
      " [30]\n",
      " [30]\n",
      " [30]\n",
      " [30]\n",
      " [30]\n",
      " [30]\n",
      " [30]\n",
      " [30]\n",
      " [30]\n",
      " [30]\n",
      " [30]\n",
      " [30]\n",
      " [30]\n",
      " [30]\n",
      " [30]\n",
      " [30]\n",
      " [30]\n",
      " [30]\n",
      " [30]\n",
      " [30]\n",
      " [30]\n",
      " [30]\n",
      " [30]\n",
      " [30]\n",
      " [30]\n",
      " [30]\n",
      " [30]]\n",
      "[[-4858.516]\n",
      " [-2614.452]\n",
      " [-3532.425]\n",
      " [-1784.915]\n",
      " [2054.286]\n",
      " [271.764]\n",
      " [592.708]\n",
      " [3846.510]\n",
      " [3142.129]\n",
      " [-142.929]\n",
      " [-1410.263]\n",
      " [-2902.040]\n",
      " [-3599.064]\n",
      " [-248.440]\n",
      " [-4841.996]\n",
      " [-842.109]\n",
      " [-2263.989]\n",
      " [-1102.387]\n",
      " [-1963.558]\n",
      " [-3240.658]\n",
      " [-2858.314]\n",
      " [-1478.752]\n",
      " [-878.696]\n",
      " [-809.698]\n",
      " [410.793]\n",
      " [639.640]\n",
      " [1916.661]\n",
      " [2984.072]\n",
      " [228.482]\n",
      " [620.528]\n",
      " ...\n",
      " [1146.518]\n",
      " [-243.392]\n",
      " [447.562]\n",
      " [461.585]\n",
      " [-1616.195]\n",
      " [-2023.204]\n",
      " [2610.503]\n",
      " [-660.158]\n",
      " [-2233.021]\n",
      " [244.868]\n",
      " [-1856.570]\n",
      " [-2598.466]\n",
      " [-1775.423]\n",
      " [1873.996]\n",
      " [1733.056]\n",
      " [-1931.609]\n",
      " [-1468.111]\n",
      " [1992.486]\n",
      " [-560.676]\n",
      " [987.425]\n",
      " [728.091]\n",
      " [1703.521]\n",
      " [1447.608]\n",
      " [-1326.307]\n",
      " [-885.852]\n",
      " [-1936.168]\n",
      " [-97.352]\n",
      " [-3811.143]\n",
      " [1009.816]\n",
      " [2598.920]]\n"
     ]
    }
   ],
   "source": [
    "import h5py\n",
    "fname = '/home/benoit/programmation/dsp/data/tmp/acq_dump_G_1C_ch_0_18_sat_5.mat'\n",
    "fname = '/home/benoit/programmation/dsp/data/tmp/acq_dump_G_1C_ch_0_10_sat_11.mat'\n",
    "fname = '/home/benoit/programmation/dsp/data/tmp/epl_tracking_ch_0.mat'\n",
    "with h5py.File(fname, 'r') as f:\n",
    "  print(f.keys())\n",
    "  print(np.array(f['carrier_doppler_hz']))\n",
    "  #print(np.array(f['code_error_chips']))\n",
    "  #print(np.array(f['PRN_start_sample_count']))\n",
    "  print(np.array(f['PRN']))\n",
    "  print(np.array(f['Prompt_I']))\n"
   ]
  },
  {
   "cell_type": "code",
   "execution_count": 21,
   "metadata": {
    "ExecuteTime": {
     "end_time": "2019-08-27T18:39:29.859092Z",
     "start_time": "2019-08-27T18:39:29.709571Z"
    }
   },
   "outputs": [
    {
     "name": "stdout",
     "output_type": "stream",
     "text": [
      "<KeysViewHDF5 ['CN0_SNV_dB_Hz', 'PRN', 'PRN_start_sample_count', 'Prompt_I', 'Prompt_Q', 'abs_E', 'abs_L', 'abs_P', 'abs_VE', 'abs_VL', 'acc_carrier_phase_rad', 'aux1', 'aux2', 'carr_error_filt_hz', 'carr_error_hz', 'carrier_doppler_hz', 'carrier_doppler_rate_hz', 'carrier_lock_test', 'code_error_chips', 'code_error_filt_chips', 'code_freq_chips', 'code_freq_rate_chips']>\n",
      "[5]\n"
     ]
    }
   ],
   "source": [
    "%matplotlib qt\n",
    "import h5py\n",
    "fname = '/home/benoit/programmation/dsp/data/tmp/epl_tracking_ch_1.mat'\n",
    "with h5py.File(fname, 'r') as f:\n",
    "  print(f.keys())\n",
    "  x = np.array(f['carrier_doppler_hz'])\n",
    "  print(f['PRN'][0])\n",
    "  Z.plt.plot(x[:,0])\n",
    "  #print(np.array(f['code_error_chips']))\n",
    "  #print(np.array(f['PRN_start_sample_count']))\n",
    "  #print(np.array(f['Prompt_I']))"
   ]
  },
  {
   "cell_type": "code",
   "execution_count": null,
   "metadata": {},
   "outputs": [],
   "source": []
  }
 ],
 "metadata": {
  "celltoolbar": "Initialization Cell",
  "kernelspec": {
   "display_name": "env3",
   "language": "python",
   "name": "env3"
  },
  "language_info": {
   "codemirror_mode": {
    "name": "ipython",
    "version": 3
   },
   "file_extension": ".py",
   "mimetype": "text/x-python",
   "name": "python",
   "nbconvert_exporter": "python",
   "pygments_lexer": "ipython3",
   "version": "3.7.3"
  }
 },
 "nbformat": 4,
 "nbformat_minor": 2
}
